{
 "cells": [
  {
   "cell_type": "markdown",
   "metadata": {},
   "source": [
    "# 뉴스 요약"
   ]
  },
  {
   "cell_type": "markdown",
   "metadata": {},
   "source": [
    "# 1. 노드 구현하기"
   ]
  },
  {
   "cell_type": "markdown",
   "metadata": {},
   "source": [
    "### 1. 데이터 보기"
   ]
  },
  {
   "cell_type": "code",
   "execution_count": 1,
   "metadata": {},
   "outputs": [
    {
     "name": "stderr",
     "output_type": "stream",
     "text": [
      "[nltk_data] Downloading package stopwords to\n",
      "[nltk_data]     /home/aiffel0038/nltk_data...\n",
      "[nltk_data]   Package stopwords is already up-to-date!\n"
     ]
    }
   ],
   "source": [
    "import nltk\n",
    "nltk.download('stopwords')\n",
    "\n",
    "import numpy as np\n",
    "import pandas as pd\n",
    "import os\n",
    "import re\n",
    "import matplotlib.pyplot as plt\n",
    "from nltk.corpus import stopwords\n",
    "from bs4 import BeautifulSoup \n",
    "from tensorflow.keras.preprocessing.text import Tokenizer \n",
    "from tensorflow.keras.preprocessing.sequence import pad_sequences\n",
    "import urllib.request"
   ]
  },
  {
   "cell_type": "code",
   "execution_count": 2,
   "metadata": {},
   "outputs": [
    {
     "name": "stdout",
     "output_type": "stream",
     "text": [
      "전체 샘플수 : 100000\n"
     ]
    }
   ],
   "source": [
    "data = pd.read_csv(os.getenv(\"HOME\")+\"/aiffel/news_summarization/data/Reviews.csv\", nrows = 100000)\n",
    "print('전체 샘플수 :',(len(data)))"
   ]
  },
  {
   "cell_type": "code",
   "execution_count": 3,
   "metadata": {},
   "outputs": [
    {
     "data": {
      "text/html": [
       "<div>\n",
       "<style scoped>\n",
       "    .dataframe tbody tr th:only-of-type {\n",
       "        vertical-align: middle;\n",
       "    }\n",
       "\n",
       "    .dataframe tbody tr th {\n",
       "        vertical-align: top;\n",
       "    }\n",
       "\n",
       "    .dataframe thead th {\n",
       "        text-align: right;\n",
       "    }\n",
       "</style>\n",
       "<table border=\"1\" class=\"dataframe\">\n",
       "  <thead>\n",
       "    <tr style=\"text-align: right;\">\n",
       "      <th></th>\n",
       "      <th>Id</th>\n",
       "      <th>ProductId</th>\n",
       "      <th>UserId</th>\n",
       "      <th>ProfileName</th>\n",
       "      <th>HelpfulnessNumerator</th>\n",
       "      <th>HelpfulnessDenominator</th>\n",
       "      <th>Score</th>\n",
       "      <th>Time</th>\n",
       "      <th>Summary</th>\n",
       "      <th>Text</th>\n",
       "    </tr>\n",
       "  </thead>\n",
       "  <tbody>\n",
       "    <tr>\n",
       "      <th>0</th>\n",
       "      <td>1</td>\n",
       "      <td>B001E4KFG0</td>\n",
       "      <td>A3SGXH7AUHU8GW</td>\n",
       "      <td>delmartian</td>\n",
       "      <td>1</td>\n",
       "      <td>1</td>\n",
       "      <td>5</td>\n",
       "      <td>1303862400</td>\n",
       "      <td>Good Quality Dog Food</td>\n",
       "      <td>I have bought several of the Vitality canned d...</td>\n",
       "    </tr>\n",
       "    <tr>\n",
       "      <th>1</th>\n",
       "      <td>2</td>\n",
       "      <td>B00813GRG4</td>\n",
       "      <td>A1D87F6ZCVE5NK</td>\n",
       "      <td>dll pa</td>\n",
       "      <td>0</td>\n",
       "      <td>0</td>\n",
       "      <td>1</td>\n",
       "      <td>1346976000</td>\n",
       "      <td>Not as Advertised</td>\n",
       "      <td>Product arrived labeled as Jumbo Salted Peanut...</td>\n",
       "    </tr>\n",
       "    <tr>\n",
       "      <th>2</th>\n",
       "      <td>3</td>\n",
       "      <td>B000LQOCH0</td>\n",
       "      <td>ABXLMWJIXXAIN</td>\n",
       "      <td>Natalia Corres \"Natalia Corres\"</td>\n",
       "      <td>1</td>\n",
       "      <td>1</td>\n",
       "      <td>4</td>\n",
       "      <td>1219017600</td>\n",
       "      <td>\"Delight\" says it all</td>\n",
       "      <td>This is a confection that has been around a fe...</td>\n",
       "    </tr>\n",
       "    <tr>\n",
       "      <th>3</th>\n",
       "      <td>4</td>\n",
       "      <td>B000UA0QIQ</td>\n",
       "      <td>A395BORC6FGVXV</td>\n",
       "      <td>Karl</td>\n",
       "      <td>3</td>\n",
       "      <td>3</td>\n",
       "      <td>2</td>\n",
       "      <td>1307923200</td>\n",
       "      <td>Cough Medicine</td>\n",
       "      <td>If you are looking for the secret ingredient i...</td>\n",
       "    </tr>\n",
       "    <tr>\n",
       "      <th>4</th>\n",
       "      <td>5</td>\n",
       "      <td>B006K2ZZ7K</td>\n",
       "      <td>A1UQRSCLF8GW1T</td>\n",
       "      <td>Michael D. Bigham \"M. Wassir\"</td>\n",
       "      <td>0</td>\n",
       "      <td>0</td>\n",
       "      <td>5</td>\n",
       "      <td>1350777600</td>\n",
       "      <td>Great taffy</td>\n",
       "      <td>Great taffy at a great price.  There was a wid...</td>\n",
       "    </tr>\n",
       "  </tbody>\n",
       "</table>\n",
       "</div>"
      ],
      "text/plain": [
       "   Id   ProductId          UserId                      ProfileName  \\\n",
       "0   1  B001E4KFG0  A3SGXH7AUHU8GW                       delmartian   \n",
       "1   2  B00813GRG4  A1D87F6ZCVE5NK                           dll pa   \n",
       "2   3  B000LQOCH0   ABXLMWJIXXAIN  Natalia Corres \"Natalia Corres\"   \n",
       "3   4  B000UA0QIQ  A395BORC6FGVXV                             Karl   \n",
       "4   5  B006K2ZZ7K  A1UQRSCLF8GW1T    Michael D. Bigham \"M. Wassir\"   \n",
       "\n",
       "   HelpfulnessNumerator  HelpfulnessDenominator  Score        Time  \\\n",
       "0                     1                       1      5  1303862400   \n",
       "1                     0                       0      1  1346976000   \n",
       "2                     1                       1      4  1219017600   \n",
       "3                     3                       3      2  1307923200   \n",
       "4                     0                       0      5  1350777600   \n",
       "\n",
       "                 Summary                                               Text  \n",
       "0  Good Quality Dog Food  I have bought several of the Vitality canned d...  \n",
       "1      Not as Advertised  Product arrived labeled as Jumbo Salted Peanut...  \n",
       "2  \"Delight\" says it all  This is a confection that has been around a fe...  \n",
       "3         Cough Medicine  If you are looking for the secret ingredient i...  \n",
       "4            Great taffy  Great taffy at a great price.  There was a wid...  "
      ]
     },
     "execution_count": 3,
     "metadata": {},
     "output_type": "execute_result"
    }
   ],
   "source": [
    "data.head()"
   ]
  },
  {
   "cell_type": "code",
   "execution_count": 4,
   "metadata": {},
   "outputs": [
    {
     "data": {
      "text/html": [
       "<div>\n",
       "<style scoped>\n",
       "    .dataframe tbody tr th:only-of-type {\n",
       "        vertical-align: middle;\n",
       "    }\n",
       "\n",
       "    .dataframe tbody tr th {\n",
       "        vertical-align: top;\n",
       "    }\n",
       "\n",
       "    .dataframe thead th {\n",
       "        text-align: right;\n",
       "    }\n",
       "</style>\n",
       "<table border=\"1\" class=\"dataframe\">\n",
       "  <thead>\n",
       "    <tr style=\"text-align: right;\">\n",
       "      <th></th>\n",
       "      <th>Text</th>\n",
       "      <th>Summary</th>\n",
       "    </tr>\n",
       "  </thead>\n",
       "  <tbody>\n",
       "    <tr>\n",
       "      <th>28911</th>\n",
       "      <td>Most of these seeds sprouted. We thought the p...</td>\n",
       "      <td>good percentage</td>\n",
       "    </tr>\n",
       "    <tr>\n",
       "      <th>46750</th>\n",
       "      <td>I reviewed this already, but apparently I need...</td>\n",
       "      <td>Anisette toast</td>\n",
       "    </tr>\n",
       "    <tr>\n",
       "      <th>23196</th>\n",
       "      <td>Puroast Low Acid Coffee Low Acid Coffee French...</td>\n",
       "      <td>Low Acid Coffee</td>\n",
       "    </tr>\n",
       "    <tr>\n",
       "      <th>49050</th>\n",
       "      <td>my dog destroys &amp; devours most everything in n...</td>\n",
       "      <td>good treat for destructive dog</td>\n",
       "    </tr>\n",
       "    <tr>\n",
       "      <th>13245</th>\n",
       "      <td>I have to say the new offerings are great. the...</td>\n",
       "      <td>i really like it</td>\n",
       "    </tr>\n",
       "    <tr>\n",
       "      <th>58029</th>\n",
       "      <td>My two Cavaliers were constantly scratching, s...</td>\n",
       "      <td>Anti itch aide</td>\n",
       "    </tr>\n",
       "    <tr>\n",
       "      <th>36237</th>\n",
       "      <td>We go through cereal pretty quickly so orderin...</td>\n",
       "      <td>Great price for this grownup cereal</td>\n",
       "    </tr>\n",
       "    <tr>\n",
       "      <th>49628</th>\n",
       "      <td>I first tasted this tea when my daughter broug...</td>\n",
       "      <td>orange cinammon tea</td>\n",
       "    </tr>\n",
       "    <tr>\n",
       "      <th>23763</th>\n",
       "      <td>Our family has liked every other flavored we h...</td>\n",
       "      <td>Not a fan of the Sweet Potato Pop Chips</td>\n",
       "    </tr>\n",
       "    <tr>\n",
       "      <th>34469</th>\n",
       "      <td>This brew is not bitter or too strong, it make...</td>\n",
       "      <td>One of the better cups</td>\n",
       "    </tr>\n",
       "    <tr>\n",
       "      <th>53751</th>\n",
       "      <td>I have been using this soap for over 1 year.  ...</td>\n",
       "      <td>Olivella Soap</td>\n",
       "    </tr>\n",
       "    <tr>\n",
       "      <th>6930</th>\n",
       "      <td>Ouch, this stuff is sweet, as in REALLY sweet....</td>\n",
       "      <td>Way, way, WAY too sweet - 29g of suger in a 8....</td>\n",
       "    </tr>\n",
       "    <tr>\n",
       "      <th>84645</th>\n",
       "      <td>I bought this thinking it would be nice to eat...</td>\n",
       "      <td>Not even close!</td>\n",
       "    </tr>\n",
       "    <tr>\n",
       "      <th>21828</th>\n",
       "      <td>As other people have noticed this isn't someth...</td>\n",
       "      <td>My dog's favorite way to eat!</td>\n",
       "    </tr>\n",
       "    <tr>\n",
       "      <th>62502</th>\n",
       "      <td>I used to be able to buy this in the grocery s...</td>\n",
       "      <td>fantastic</td>\n",
       "    </tr>\n",
       "  </tbody>\n",
       "</table>\n",
       "</div>"
      ],
      "text/plain": [
       "                                                    Text  \\\n",
       "28911  Most of these seeds sprouted. We thought the p...   \n",
       "46750  I reviewed this already, but apparently I need...   \n",
       "23196  Puroast Low Acid Coffee Low Acid Coffee French...   \n",
       "49050  my dog destroys & devours most everything in n...   \n",
       "13245  I have to say the new offerings are great. the...   \n",
       "58029  My two Cavaliers were constantly scratching, s...   \n",
       "36237  We go through cereal pretty quickly so orderin...   \n",
       "49628  I first tasted this tea when my daughter broug...   \n",
       "23763  Our family has liked every other flavored we h...   \n",
       "34469  This brew is not bitter or too strong, it make...   \n",
       "53751  I have been using this soap for over 1 year.  ...   \n",
       "6930   Ouch, this stuff is sweet, as in REALLY sweet....   \n",
       "84645  I bought this thinking it would be nice to eat...   \n",
       "21828  As other people have noticed this isn't someth...   \n",
       "62502  I used to be able to buy this in the grocery s...   \n",
       "\n",
       "                                                 Summary  \n",
       "28911                                    good percentage  \n",
       "46750                                     Anisette toast  \n",
       "23196                                    Low Acid Coffee  \n",
       "49050                     good treat for destructive dog  \n",
       "13245                                   i really like it  \n",
       "58029                                     Anti itch aide  \n",
       "36237                Great price for this grownup cereal  \n",
       "49628                                orange cinammon tea  \n",
       "23763            Not a fan of the Sweet Potato Pop Chips  \n",
       "34469                             One of the better cups  \n",
       "53751                                      Olivella Soap  \n",
       "6930   Way, way, WAY too sweet - 29g of suger in a 8....  \n",
       "84645                                    Not even close!  \n",
       "21828                      My dog's favorite way to eat!  \n",
       "62502                                          fantastic  "
      ]
     },
     "execution_count": 4,
     "metadata": {},
     "output_type": "execute_result"
    }
   ],
   "source": [
    "data = data[['Text','Summary']]\n",
    "data.head()\n",
    "\n",
    "#랜덤한 3개 샘플 출력\n",
    "data.sample(15)"
   ]
  },
  {
   "cell_type": "markdown",
   "metadata": {},
   "source": [
    "### 2. 데이터 전처리하기"
   ]
  },
  {
   "cell_type": "code",
   "execution_count": 5,
   "metadata": {},
   "outputs": [
    {
     "name": "stdout",
     "output_type": "stream",
     "text": [
      "Text 열에서 중복을 배제한 유일한 샘플의 수 : 88426\n",
      "Summary 열에서 중복을 배제한 유일한 샘플의 수 : 72348\n"
     ]
    }
   ],
   "source": [
    "print('Text 열에서 중복을 배제한 유일한 샘플의 수 :', data['Text'].nunique())\n",
    "print('Summary 열에서 중복을 배제한 유일한 샘플의 수 :', data['Summary'].nunique())"
   ]
  },
  {
   "cell_type": "code",
   "execution_count": 6,
   "metadata": {},
   "outputs": [
    {
     "name": "stdout",
     "output_type": "stream",
     "text": [
      "전체 샘플수 : 88426\n"
     ]
    }
   ],
   "source": [
    "data.drop_duplicates(subset = ['Text'], inplace = True)\n",
    "print('전체 샘플수 :',(len(data)))"
   ]
  },
  {
   "cell_type": "code",
   "execution_count": 7,
   "metadata": {},
   "outputs": [
    {
     "name": "stdout",
     "output_type": "stream",
     "text": [
      "Text       0\n",
      "Summary    1\n",
      "dtype: int64\n"
     ]
    }
   ],
   "source": [
    "print(data.isnull().sum())"
   ]
  },
  {
   "cell_type": "code",
   "execution_count": 8,
   "metadata": {},
   "outputs": [
    {
     "name": "stdout",
     "output_type": "stream",
     "text": [
      "전체 샘플수 : 88425\n"
     ]
    }
   ],
   "source": [
    "data.dropna(axis = 0, inplace = True)\n",
    "print('전체 샘플수 :',(len(data)))"
   ]
  },
  {
   "cell_type": "code",
   "execution_count": 9,
   "metadata": {},
   "outputs": [
    {
     "name": "stdout",
     "output_type": "stream",
     "text": [
      "정규화 사전의 수:  120\n"
     ]
    }
   ],
   "source": [
    "contractions = {\"ain't\": \"is not\", \"aren't\": \"are not\",\"can't\": \"cannot\", \"'cause\": \"because\", \"could've\": \"could have\", \"couldn't\": \"could not\",\n",
    "                           \"didn't\": \"did not\",  \"doesn't\": \"does not\", \"don't\": \"do not\", \"hadn't\": \"had not\", \"hasn't\": \"has not\", \"haven't\": \"have not\",\n",
    "                           \"he'd\": \"he would\",\"he'll\": \"he will\", \"he's\": \"he is\", \"how'd\": \"how did\", \"how'd'y\": \"how do you\", \"how'll\": \"how will\", \"how's\": \"how is\",\n",
    "                           \"I'd\": \"I would\", \"I'd've\": \"I would have\", \"I'll\": \"I will\", \"I'll've\": \"I will have\",\"I'm\": \"I am\", \"I've\": \"I have\", \"i'd\": \"i would\",\n",
    "                           \"i'd've\": \"i would have\", \"i'll\": \"i will\",  \"i'll've\": \"i will have\",\"i'm\": \"i am\", \"i've\": \"i have\", \"isn't\": \"is not\", \"it'd\": \"it would\",\n",
    "                           \"it'd've\": \"it would have\", \"it'll\": \"it will\", \"it'll've\": \"it will have\",\"it's\": \"it is\", \"let's\": \"let us\", \"ma'am\": \"madam\",\n",
    "                           \"mayn't\": \"may not\", \"might've\": \"might have\",\"mightn't\": \"might not\",\"mightn't've\": \"might not have\", \"must've\": \"must have\",\n",
    "                           \"mustn't\": \"must not\", \"mustn't've\": \"must not have\", \"needn't\": \"need not\", \"needn't've\": \"need not have\",\"o'clock\": \"of the clock\",\n",
    "                           \"oughtn't\": \"ought not\", \"oughtn't've\": \"ought not have\", \"shan't\": \"shall not\", \"sha'n't\": \"shall not\", \"shan't've\": \"shall not have\",\n",
    "                           \"she'd\": \"she would\", \"she'd've\": \"she would have\", \"she'll\": \"she will\", \"she'll've\": \"she will have\", \"she's\": \"she is\",\n",
    "                           \"should've\": \"should have\", \"shouldn't\": \"should not\", \"shouldn't've\": \"should not have\", \"so've\": \"so have\",\"so's\": \"so as\",\n",
    "                           \"this's\": \"this is\",\"that'd\": \"that would\", \"that'd've\": \"that would have\", \"that's\": \"that is\", \"there'd\": \"there would\",\n",
    "                           \"there'd've\": \"there would have\", \"there's\": \"there is\", \"here's\": \"here is\",\"they'd\": \"they would\", \"they'd've\": \"they would have\",\n",
    "                           \"they'll\": \"they will\", \"they'll've\": \"they will have\", \"they're\": \"they are\", \"they've\": \"they have\", \"to've\": \"to have\",\n",
    "                           \"wasn't\": \"was not\", \"we'd\": \"we would\", \"we'd've\": \"we would have\", \"we'll\": \"we will\", \"we'll've\": \"we will have\", \"we're\": \"we are\",\n",
    "                           \"we've\": \"we have\", \"weren't\": \"were not\", \"what'll\": \"what will\", \"what'll've\": \"what will have\", \"what're\": \"what are\",\n",
    "                           \"what's\": \"what is\", \"what've\": \"what have\", \"when's\": \"when is\", \"when've\": \"when have\", \"where'd\": \"where did\", \"where's\": \"where is\",\n",
    "                           \"where've\": \"where have\", \"who'll\": \"who will\", \"who'll've\": \"who will have\", \"who's\": \"who is\", \"who've\": \"who have\",\n",
    "                           \"why's\": \"why is\", \"why've\": \"why have\", \"will've\": \"will have\", \"won't\": \"will not\", \"won't've\": \"will not have\",\n",
    "                           \"would've\": \"would have\", \"wouldn't\": \"would not\", \"wouldn't've\": \"would not have\", \"y'all\": \"you all\",\n",
    "                           \"y'all'd\": \"you all would\",\"y'all'd've\": \"you all would have\",\"y'all're\": \"you all are\",\"y'all've\": \"you all have\",\n",
    "                           \"you'd\": \"you would\", \"you'd've\": \"you would have\", \"you'll\": \"you will\", \"you'll've\": \"you will have\",\n",
    "                           \"you're\": \"you are\", \"you've\": \"you have\"}\n",
    "\n",
    "print(\"정규화 사전의 수: \",len(contractions))"
   ]
  },
  {
   "cell_type": "code",
   "execution_count": 10,
   "metadata": {},
   "outputs": [
    {
     "name": "stdout",
     "output_type": "stream",
     "text": [
      "불용어 개수 : 179\n",
      "['i', 'me', 'my', 'myself', 'we', 'our', 'ours', 'ourselves', 'you', \"you're\", \"you've\", \"you'll\", \"you'd\", 'your', 'yours', 'yourself', 'yourselves', 'he', 'him', 'his', 'himself', 'she', \"she's\", 'her', 'hers', 'herself', 'it', \"it's\", 'its', 'itself', 'they', 'them', 'their', 'theirs', 'themselves', 'what', 'which', 'who', 'whom', 'this', 'that', \"that'll\", 'these', 'those', 'am', 'is', 'are', 'was', 'were', 'be', 'been', 'being', 'have', 'has', 'had', 'having', 'do', 'does', 'did', 'doing', 'a', 'an', 'the', 'and', 'but', 'if', 'or', 'because', 'as', 'until', 'while', 'of', 'at', 'by', 'for', 'with', 'about', 'against', 'between', 'into', 'through', 'during', 'before', 'after', 'above', 'below', 'to', 'from', 'up', 'down', 'in', 'out', 'on', 'off', 'over', 'under', 'again', 'further', 'then', 'once', 'here', 'there', 'when', 'where', 'why', 'how', 'all', 'any', 'both', 'each', 'few', 'more', 'most', 'other', 'some', 'such', 'no', 'nor', 'not', 'only', 'own', 'same', 'so', 'than', 'too', 'very', 's', 't', 'can', 'will', 'just', 'don', \"don't\", 'should', \"should've\", 'now', 'd', 'll', 'm', 'o', 're', 've', 'y', 'ain', 'aren', \"aren't\", 'couldn', \"couldn't\", 'didn', \"didn't\", 'doesn', \"doesn't\", 'hadn', \"hadn't\", 'hasn', \"hasn't\", 'haven', \"haven't\", 'isn', \"isn't\", 'ma', 'mightn', \"mightn't\", 'mustn', \"mustn't\", 'needn', \"needn't\", 'shan', \"shan't\", 'shouldn', \"shouldn't\", 'wasn', \"wasn't\", 'weren', \"weren't\", 'won', \"won't\", 'wouldn', \"wouldn't\"]\n"
     ]
    }
   ],
   "source": [
    "print('불용어 개수 :', len(stopwords.words('english') ))\n",
    "print(stopwords.words('english'))"
   ]
  },
  {
   "cell_type": "code",
   "execution_count": 11,
   "metadata": {},
   "outputs": [],
   "source": [
    "#데이터 전처리 함수\n",
    "def preprocess_sentence(sentence, remove_stopwords=True):\n",
    "    sentence = sentence.lower() # 텍스트 소문자화\n",
    "    sentence = BeautifulSoup(sentence, \"lxml\").text # <br />, <a href = ...> 등의 html 태그 제거\n",
    "    sentence = re.sub(r'\\([^)]*\\)', '', sentence) # 괄호로 닫힌 문자열 (...) 제거 Ex) my husband (and myself!) for => my husband for\n",
    "    sentence = re.sub('\"','', sentence) # 쌍따옴표 \" 제거\n",
    "    sentence = ' '.join([contractions[t] if t in contractions else t for t in sentence.split(\" \")]) # 약어 정규화\n",
    "    sentence = re.sub(r\"'s\\b\",\"\",sentence) # 소유격 제거. Ex) roland's -> roland\n",
    "    sentence = re.sub(\"[^a-zA-Z]\", \" \", sentence) # 영어 외 문자(숫자, 특수문자 등) 공백으로 변환\n",
    "    sentence = re.sub('[m]{2,}', 'mm', sentence) # m이 3개 이상이면 2개로 변경. Ex) ummmmmmm yeah -> umm yeah\n",
    "    \n",
    "    # 불용어 제거 (Text)\n",
    "    if remove_stopwords:\n",
    "        tokens = ' '.join(word for word in sentence.split() if not word in stopwords.words('english') if len(word) > 1)\n",
    "    # 불용어 미제거 (Summary)\n",
    "    else:\n",
    "        tokens = ' '.join(word for word in sentence.split() if len(word) > 1)\n",
    "    return tokens"
   ]
  },
  {
   "cell_type": "code",
   "execution_count": 12,
   "metadata": {},
   "outputs": [
    {
     "data": {
      "text/plain": [
       "['bought several vitality canned dog food products found good quality product looks like stew processed meat smells better labrador finicky appreciates product better',\n",
       " 'product arrived labeled jumbo salted peanuts peanuts actually small sized unsalted sure error vendor intended represent product jumbo',\n",
       " 'confection around centuries light pillowy citrus gelatin nuts case filberts cut tiny squares liberally coated powdered sugar tiny mouthful heaven chewy flavorful highly recommend yummy treat familiar story lewis lion witch wardrobe treat seduces edmund selling brother sisters witch',\n",
       " 'looking secret ingredient robitussin believe found got addition root beer extract ordered made cherry soda flavor medicinal',\n",
       " 'great taffy great price wide assortment yummy taffy delivery quick taffy lover deal']"
      ]
     },
     "execution_count": 12,
     "metadata": {},
     "output_type": "execute_result"
    }
   ],
   "source": [
    "clean_text = []\n",
    "\n",
    "# 전체 Text 데이터에 대한 전처리 : 10분 이상 시간이 걸릴 수 있습니다. \n",
    "for s in data['Text']:\n",
    "    clean_text.append(preprocess_sentence(s))\n",
    "\n",
    "# 전처리 후 출력\n",
    "clean_text[:5]"
   ]
  },
  {
   "cell_type": "code",
   "execution_count": 13,
   "metadata": {},
   "outputs": [
    {
     "name": "stderr",
     "output_type": "stream",
     "text": [
      "/home/aiffel0038/anaconda3/envs/aiffel/lib/python3.7/site-packages/bs4/__init__.py:421: MarkupResemblesLocatorWarning: \"http://www.amazon.com/gp/product/b007i7yygy/ref=cm_cr_rev_prod_title\" looks like a URL. Beautiful Soup is not an HTTP client. You should probably use an HTTP client like requests to get the document behind the URL, and feed that document to Beautiful Soup.\n",
      "  MarkupResemblesLocatorWarning\n"
     ]
    },
    {
     "data": {
      "text/plain": [
       "['good quality dog food',\n",
       " 'not as advertised',\n",
       " 'delight says it all',\n",
       " 'cough medicine',\n",
       " 'great taffy']"
      ]
     },
     "execution_count": 13,
     "metadata": {},
     "output_type": "execute_result"
    }
   ],
   "source": [
    "clean_summary = []\n",
    "\n",
    "# 전체 Summary 데이터에 대한 전처리 : 5분 이상 시간이 걸릴 수 있습니다. \n",
    "for s in data['Summary']:\n",
    "    clean_summary.append(preprocess_sentence(s, False))\n",
    "\n",
    "clean_summary[:5]"
   ]
  },
  {
   "cell_type": "code",
   "execution_count": 14,
   "metadata": {},
   "outputs": [],
   "source": [
    "data['Text'] = clean_text\n",
    "data['Summary'] = clean_summary\n",
    "\n",
    "# 빈 값을 Null 값으로 변환\n",
    "data.replace('', np.nan, inplace=True)"
   ]
  },
  {
   "cell_type": "code",
   "execution_count": 15,
   "metadata": {},
   "outputs": [
    {
     "data": {
      "text/plain": [
       "Text        0\n",
       "Summary    70\n",
       "dtype: int64"
      ]
     },
     "execution_count": 15,
     "metadata": {},
     "output_type": "execute_result"
    }
   ],
   "source": [
    "data.isnull().sum()"
   ]
  },
  {
   "cell_type": "code",
   "execution_count": 16,
   "metadata": {},
   "outputs": [
    {
     "name": "stdout",
     "output_type": "stream",
     "text": [
      "전체 샘플수 : 88355\n"
     ]
    }
   ],
   "source": [
    "data.dropna(axis=0, inplace=True)\n",
    "print('전체 샘플수 :',(len(data)))#데이터 전처리 함수"
   ]
  },
  {
   "cell_type": "code",
   "execution_count": 17,
   "metadata": {},
   "outputs": [
    {
     "name": "stdout",
     "output_type": "stream",
     "text": [
      "텍스트의 최소 길이 : 2\n",
      "텍스트의 최대 길이 : 1235\n",
      "텍스트의 평균 길이 : 38.792428272310566\n",
      "요약의 최소 길이 : 1\n",
      "요약의 최대 길이 : 28\n",
      "요약의 평균 길이 : 4.010729443721352\n"
     ]
    },
    {
     "data": {
      "image/png": "[encoded data removed]",
      "text/plain": [
       "<Figure size 432x288 with 2 Axes>"
      ]
     },
     "metadata": {
      "needs_background": "light"
     },
     "output_type": "display_data"
    },
    {
     "data": {
      "image/png": "[encoded data removed]",
      "text/plain": [
       "<Figure size 432x288 with 1 Axes>"
      ]
     },
     "metadata": {
      "needs_background": "light"
     },
     "output_type": "display_data"
    },
    {
     "data": {
      "image/png": "[encoded data removed]",
      "text/plain": [
       "<Figure size 432x288 with 1 Axes>"
      ]
     },
     "metadata": {
      "needs_background": "light"
     },
     "output_type": "display_data"
    }
   ],
   "source": [
    "# 길이 분포 출력\n",
    "import matplotlib.pyplot as plt\n",
    "\n",
    "text_len = [len(s.split()) for s in data['Text']]\n",
    "summary_len = [len(s.split()) for s in data['Summary']]\n",
    "\n",
    "print('텍스트의 최소 길이 : {}'.format(np.min(text_len)))\n",
    "print('텍스트의 최대 길이 : {}'.format(np.max(text_len)))\n",
    "print('텍스트의 평균 길이 : {}'.format(np.mean(text_len)))\n",
    "print('요약의 최소 길이 : {}'.format(np.min(summary_len)))\n",
    "print('요약의 최대 길이 : {}'.format(np.max(summary_len)))\n",
    "print('요약의 평균 길이 : {}'.format(np.mean(summary_len)))\n",
    "\n",
    "plt.subplot(1,2,1)\n",
    "plt.boxplot(summary_len)\n",
    "plt.title('Summary')\n",
    "plt.subplot(1,2,2)\n",
    "plt.boxplot(text_len)\n",
    "plt.title('Text')\n",
    "plt.tight_layout()\n",
    "plt.show()\n",
    "\n",
    "plt.title('Summary')\n",
    "plt.hist(summary_len, bins = 40)\n",
    "plt.xlabel('length of samples')\n",
    "plt.ylabel('number of samples')\n",
    "plt.show()\n",
    "\n",
    "plt.title('Text')\n",
    "plt.hist(text_len, bins = 40)\n",
    "plt.xlabel('length of samples')\n",
    "plt.ylabel('number of samples')\n",
    "plt.show()"
   ]
  },
  {
   "cell_type": "code",
   "execution_count": 18,
   "metadata": {},
   "outputs": [],
   "source": [
    "text_max_len = 50\n",
    "summary_max_len = 8"
   ]
  },
  {
   "cell_type": "code",
   "execution_count": 19,
   "metadata": {},
   "outputs": [],
   "source": [
    "def below_threshold_len(max_len, nested_list):\n",
    "  cnt = 0\n",
    "  for s in nested_list:\n",
    "    if(len(s.split()) <= max_len):\n",
    "        cnt = cnt + 1\n",
    "  print('전체 샘플 중 길이가 %s 이하인 샘플의 비율: %s'%(max_len, (cnt / len(nested_list))))"
   ]
  },
  {
   "cell_type": "code",
   "execution_count": 20,
   "metadata": {},
   "outputs": [
    {
     "name": "stdout",
     "output_type": "stream",
     "text": [
      "전체 샘플 중 길이가 50 이하인 샘플의 비율: 0.7745119121724859\n",
      "전체 샘플 중 길이가 8 이하인 샘플의 비율: 0.9424593967517402\n"
     ]
    }
   ],
   "source": [
    "below_threshold_len(text_max_len, data['Text'])\n",
    "below_threshold_len(summary_max_len,  data['Summary'])"
   ]
  },
  {
   "cell_type": "code",
   "execution_count": 21,
   "metadata": {},
   "outputs": [
    {
     "name": "stdout",
     "output_type": "stream",
     "text": [
      "전체 샘플수 : 65818\n"
     ]
    }
   ],
   "source": [
    "data = data[data['Text'].apply(lambda x: len(x.split()) <= text_max_len)]\n",
    "data = data[data['Summary'].apply(lambda x: len(x.split()) <= summary_max_len)]\n",
    "print('전체 샘플수 :',(len(data)))"
   ]
  },
  {
   "cell_type": "code",
   "execution_count": 22,
   "metadata": {},
   "outputs": [
    {
     "data": {
      "text/html": [
       "<div>\n",
       "<style scoped>\n",
       "    .dataframe tbody tr th:only-of-type {\n",
       "        vertical-align: middle;\n",
       "    }\n",
       "\n",
       "    .dataframe tbody tr th {\n",
       "        vertical-align: top;\n",
       "    }\n",
       "\n",
       "    .dataframe thead th {\n",
       "        text-align: right;\n",
       "    }\n",
       "</style>\n",
       "<table border=\"1\" class=\"dataframe\">\n",
       "  <thead>\n",
       "    <tr style=\"text-align: right;\">\n",
       "      <th></th>\n",
       "      <th>Text</th>\n",
       "      <th>Summary</th>\n",
       "      <th>decoder_input</th>\n",
       "      <th>decoder_target</th>\n",
       "    </tr>\n",
       "  </thead>\n",
       "  <tbody>\n",
       "    <tr>\n",
       "      <th>0</th>\n",
       "      <td>bought several vitality canned dog food produc...</td>\n",
       "      <td>good quality dog food</td>\n",
       "      <td>sostoken good quality dog food</td>\n",
       "      <td>good quality dog food eostoken</td>\n",
       "    </tr>\n",
       "    <tr>\n",
       "      <th>1</th>\n",
       "      <td>product arrived labeled jumbo salted peanuts p...</td>\n",
       "      <td>not as advertised</td>\n",
       "      <td>sostoken not as advertised</td>\n",
       "      <td>not as advertised eostoken</td>\n",
       "    </tr>\n",
       "    <tr>\n",
       "      <th>2</th>\n",
       "      <td>confection around centuries light pillowy citr...</td>\n",
       "      <td>delight says it all</td>\n",
       "      <td>sostoken delight says it all</td>\n",
       "      <td>delight says it all eostoken</td>\n",
       "    </tr>\n",
       "    <tr>\n",
       "      <th>3</th>\n",
       "      <td>looking secret ingredient robitussin believe f...</td>\n",
       "      <td>cough medicine</td>\n",
       "      <td>sostoken cough medicine</td>\n",
       "      <td>cough medicine eostoken</td>\n",
       "    </tr>\n",
       "    <tr>\n",
       "      <th>4</th>\n",
       "      <td>great taffy great price wide assortment yummy ...</td>\n",
       "      <td>great taffy</td>\n",
       "      <td>sostoken great taffy</td>\n",
       "      <td>great taffy eostoken</td>\n",
       "    </tr>\n",
       "  </tbody>\n",
       "</table>\n",
       "</div>"
      ],
      "text/plain": [
       "                                                Text                Summary  \\\n",
       "0  bought several vitality canned dog food produc...  good quality dog food   \n",
       "1  product arrived labeled jumbo salted peanuts p...      not as advertised   \n",
       "2  confection around centuries light pillowy citr...    delight says it all   \n",
       "3  looking secret ingredient robitussin believe f...         cough medicine   \n",
       "4  great taffy great price wide assortment yummy ...            great taffy   \n",
       "\n",
       "                    decoder_input                  decoder_target  \n",
       "0  sostoken good quality dog food  good quality dog food eostoken  \n",
       "1      sostoken not as advertised      not as advertised eostoken  \n",
       "2    sostoken delight says it all    delight says it all eostoken  \n",
       "3         sostoken cough medicine         cough medicine eostoken  \n",
       "4            sostoken great taffy            great taffy eostoken  "
      ]
     },
     "execution_count": 22,
     "metadata": {},
     "output_type": "execute_result"
    }
   ],
   "source": [
    "#요약 데이터에는 시작 토큰과 종료 토큰을 추가한다.\n",
    "data['decoder_input'] = data['Summary'].apply(lambda x : 'sostoken '+ x)\n",
    "data['decoder_target'] = data['Summary'].apply(lambda x : x + ' eostoken')\n",
    "data.head()"
   ]
  },
  {
   "cell_type": "code",
   "execution_count": 23,
   "metadata": {},
   "outputs": [],
   "source": [
    "encoder_input = np.array(data['Text']) # 인코더의 입력\n",
    "decoder_input = np.array(data['decoder_input']) # 디코더의 입력\n",
    "decoder_target = np.array(data['decoder_target']) # 디코더의 레이블"
   ]
  },
  {
   "cell_type": "code",
   "execution_count": 24,
   "metadata": {},
   "outputs": [
    {
     "name": "stdout",
     "output_type": "stream",
     "text": [
      "[39901 44038 41827 ...  7061 57242 13183]\n"
     ]
    }
   ],
   "source": [
    "indices = np.arange(encoder_input.shape[0])\n",
    "np.random.shuffle(indices)\n",
    "print(indices)"
   ]
  },
  {
   "cell_type": "code",
   "execution_count": 25,
   "metadata": {},
   "outputs": [],
   "source": [
    "encoder_input = encoder_input[indices]\n",
    "decoder_input = decoder_input[indices]\n",
    "decoder_target = decoder_target[indices]"
   ]
  },
  {
   "cell_type": "code",
   "execution_count": 26,
   "metadata": {},
   "outputs": [
    {
     "name": "stdout",
     "output_type": "stream",
     "text": [
      "테스트 데이터의 수 : 13163\n"
     ]
    }
   ],
   "source": [
    "n_of_val = int(len(encoder_input)*0.2)\n",
    "print('테스트 데이터의 수 :',n_of_val)"
   ]
  },
  {
   "cell_type": "code",
   "execution_count": 27,
   "metadata": {},
   "outputs": [
    {
     "name": "stdout",
     "output_type": "stream",
     "text": [
      "훈련 데이터의 개수 : 52655\n",
      "훈련 레이블의 개수 : 52655\n",
      "테스트 데이터의 개수 : 13163\n",
      "테스트 레이블의 개수 : 13163\n"
     ]
    }
   ],
   "source": [
    "encoder_input_train = encoder_input[:-n_of_val]\n",
    "decoder_input_train = decoder_input[:-n_of_val]\n",
    "decoder_target_train = decoder_target[:-n_of_val]\n",
    "\n",
    "encoder_input_test = encoder_input[-n_of_val:]\n",
    "decoder_input_test = decoder_input[-n_of_val:]\n",
    "decoder_target_test = decoder_target[-n_of_val:]\n",
    "\n",
    "print('훈련 데이터의 개수 :', len(encoder_input_train))\n",
    "print('훈련 레이블의 개수 :',len(decoder_input_train))\n",
    "print('테스트 데이터의 개수 :',len(encoder_input_test))\n",
    "print('테스트 레이블의 개수 :',len(decoder_input_test))"
   ]
  },
  {
   "cell_type": "code",
   "execution_count": 28,
   "metadata": {},
   "outputs": [],
   "source": [
    "src_tokenizer = Tokenizer() # 토크나이저 정의\n",
    "src_tokenizer.fit_on_texts(encoder_input_train) # 입력된 데이터로부터 단어 집합 생성"
   ]
  },
  {
   "cell_type": "code",
   "execution_count": 29,
   "metadata": {},
   "outputs": [
    {
     "name": "stdout",
     "output_type": "stream",
     "text": [
      "단어 집합(vocabulary)의 크기 : 32026\n",
      "등장 빈도가 6번 이하인 희귀 단어의 수: 23743\n",
      "단어 집합에서 희귀 단어를 제외시킬 경우의 단어 집합의 크기 8283\n",
      "단어 집합에서 희귀 단어의 비율: 74.13663898082807\n",
      "전체 등장 빈도에서 희귀 단어 등장 빈도 비율: 3.3691881622352238\n"
     ]
    }
   ],
   "source": [
    "threshold = 7\n",
    "total_cnt = len(src_tokenizer.word_index) # 단어의 수\n",
    "rare_cnt = 0 # 등장 빈도수가 threshold보다 작은 단어의 개수를 카운트\n",
    "total_freq = 0 # 훈련 데이터의 전체 단어 빈도수 총 합\n",
    "rare_freq = 0 # 등장 빈도수가 threshold보다 작은 단어의 등장 빈도수의 총 합\n",
    "\n",
    "# 단어와 빈도수의 쌍(pair)을 key와 value로 받는다.\n",
    "for key, value in src_tokenizer.word_counts.items():\n",
    "    total_freq = total_freq + value\n",
    "\n",
    "    # 단어의 등장 빈도수가 threshold보다 작으면\n",
    "    if(value < threshold):\n",
    "        rare_cnt = rare_cnt + 1\n",
    "        rare_freq = rare_freq + value\n",
    "\n",
    "print('단어 집합(vocabulary)의 크기 :',total_cnt)\n",
    "print('등장 빈도가 %s번 이하인 희귀 단어의 수: %s'%(threshold - 1, rare_cnt))\n",
    "print('단어 집합에서 희귀 단어를 제외시킬 경우의 단어 집합의 크기 %s'%(total_cnt - rare_cnt))\n",
    "print(\"단어 집합에서 희귀 단어의 비율:\", (rare_cnt / total_cnt)*100)\n",
    "print(\"전체 등장 빈도에서 희귀 단어 등장 빈도 비율:\", (rare_freq / total_freq)*100)"
   ]
  },
  {
   "cell_type": "code",
   "execution_count": 30,
   "metadata": {},
   "outputs": [],
   "source": [
    "src_vocab = 8000\n",
    "src_tokenizer = Tokenizer(num_words = src_vocab) # 단어 집합의 크기를 8,000으로 제한\n",
    "src_tokenizer.fit_on_texts(encoder_input_train) # 단어 집합 재생성."
   ]
  },
  {
   "cell_type": "code",
   "execution_count": 31,
   "metadata": {},
   "outputs": [
    {
     "name": "stdout",
     "output_type": "stream",
     "text": [
      "[[82, 912, 740, 314, 45, 252, 4269, 2577, 489, 83, 385, 12, 257], [1116, 8, 2, 463, 2161, 24, 1060, 871, 405, 334, 100, 347, 2928, 142, 624, 480, 294, 3, 8], [24, 176, 77, 288, 44, 147, 426, 2227, 716, 702, 584, 19, 288, 380, 79, 7208, 5473, 4514, 24, 716, 288, 140, 73, 64, 683, 422, 5, 120, 126, 2335, 288, 1547, 29, 184, 774, 6832, 716, 68, 702, 5]]\n"
     ]
    }
   ],
   "source": [
    "# 텍스트 시퀀스를 정수 시퀀스로 변환\n",
    "encoder_input_train = src_tokenizer.texts_to_sequences(encoder_input_train) \n",
    "encoder_input_test = src_tokenizer.texts_to_sequences(encoder_input_test)\n",
    "\n",
    "#잘 진행되었는지 샘플 출력\n",
    "print(encoder_input_train[:3])"
   ]
  },
  {
   "cell_type": "code",
   "execution_count": 32,
   "metadata": {},
   "outputs": [],
   "source": [
    "tar_tokenizer = Tokenizer()\n",
    "tar_tokenizer.fit_on_texts(decoder_input_train)"
   ]
  },
  {
   "cell_type": "code",
   "execution_count": 33,
   "metadata": {},
   "outputs": [
    {
     "name": "stdout",
     "output_type": "stream",
     "text": [
      "단어 집합(vocabulary)의 크기 : 10491\n",
      "등장 빈도가 5번 이하인 희귀 단어의 수: 8104\n",
      "단어 집합에서 희귀 단어를 제외시킬 경우의 단어 집합의 크기 2387\n",
      "단어 집합에서 희귀 단어의 비율: 77.24716423601183\n",
      "전체 등장 빈도에서 희귀 단어 등장 빈도 비율: 5.88430221548949\n"
     ]
    }
   ],
   "source": [
    "threshold = 6\n",
    "total_cnt = len(tar_tokenizer.word_index) # 단어의 수\n",
    "rare_cnt = 0 # 등장 빈도수가 threshold보다 작은 단어의 개수를 카운트\n",
    "total_freq = 0 # 훈련 데이터의 전체 단어 빈도수 총 합\n",
    "rare_freq = 0 # 등장 빈도수가 threshold보다 작은 단어의 등장 빈도수의 총 합\n",
    "\n",
    "# 단어와 빈도수의 쌍(pair)을 key와 value로 받는다.\n",
    "for key, value in tar_tokenizer.word_counts.items():\n",
    "    total_freq = total_freq + value\n",
    "\n",
    "    # 단어의 등장 빈도수가 threshold보다 작으면\n",
    "    if(value < threshold):\n",
    "        rare_cnt = rare_cnt + 1\n",
    "        rare_freq = rare_freq + value\n",
    "\n",
    "print('단어 집합(vocabulary)의 크기 :',total_cnt)\n",
    "print('등장 빈도가 %s번 이하인 희귀 단어의 수: %s'%(threshold - 1, rare_cnt))\n",
    "print('단어 집합에서 희귀 단어를 제외시킬 경우의 단어 집합의 크기 %s'%(total_cnt - rare_cnt))\n",
    "print(\"단어 집합에서 희귀 단어의 비율:\", (rare_cnt / total_cnt)*100)\n",
    "print(\"전체 등장 빈도에서 희귀 단어 등장 빈도 비율:\", (rare_freq / total_freq)*100)"
   ]
  },
  {
   "cell_type": "code",
   "execution_count": 34,
   "metadata": {},
   "outputs": [
    {
     "name": "stdout",
     "output_type": "stream",
     "text": [
      "input\n",
      "input  [[1, 6, 519, 229], [1, 4, 27, 55, 153], [1, 45, 415], [1, 4, 17], [1, 3, 74]]\n",
      "target\n",
      "decoder  [[6, 519, 229, 2], [4, 27, 55, 153, 2], [45, 415, 2], [4, 17, 2], [3, 74, 2]]\n"
     ]
    }
   ],
   "source": [
    "tar_vocab = 2000\n",
    "tar_tokenizer = Tokenizer(num_words = tar_vocab) \n",
    "tar_tokenizer.fit_on_texts(decoder_input_train)\n",
    "tar_tokenizer.fit_on_texts(decoder_target_train)\n",
    "\n",
    "# 텍스트 시퀀스를 정수 시퀀스로 변환\n",
    "decoder_input_train = tar_tokenizer.texts_to_sequences(decoder_input_train) \n",
    "decoder_target_train = tar_tokenizer.texts_to_sequences(decoder_target_train)\n",
    "decoder_input_test = tar_tokenizer.texts_to_sequences(decoder_input_test)\n",
    "decoder_target_test = tar_tokenizer.texts_to_sequences(decoder_target_test)\n",
    "\n",
    "#잘 변환되었는지 확인\n",
    "print('input')\n",
    "print('input ',decoder_input_train[:5])\n",
    "print('target')\n",
    "print('decoder ',decoder_target_train[:5])"
   ]
  },
  {
   "cell_type": "code",
   "execution_count": 35,
   "metadata": {},
   "outputs": [
    {
     "name": "stdout",
     "output_type": "stream",
     "text": [
      "삭제할 훈련 데이터의 개수 : 1266\n",
      "삭제할 테스트 데이터의 개수 : 328\n",
      "훈련 데이터의 개수 : 51389\n",
      "훈련 레이블의 개수 : 51389\n",
      "테스트 데이터의 개수 : 12835\n",
      "테스트 레이블의 개수 : 12835\n"
     ]
    }
   ],
   "source": [
    "drop_train = [index for index, sentence in enumerate(decoder_input_train) if len(sentence) == 1]\n",
    "drop_test = [index for index, sentence in enumerate(decoder_input_test) if len(sentence) == 1]\n",
    "\n",
    "print('삭제할 훈련 데이터의 개수 :',len(drop_train))\n",
    "print('삭제할 테스트 데이터의 개수 :',len(drop_test))\n",
    "\n",
    "encoder_input_train = np.delete(encoder_input_train, drop_train, axis=0)\n",
    "decoder_input_train = np.delete(decoder_input_train, drop_train, axis=0)\n",
    "decoder_target_train = np.delete(decoder_target_train, drop_train, axis=0)\n",
    "\n",
    "encoder_input_test = np.delete(encoder_input_test, drop_test, axis=0)\n",
    "decoder_input_test = np.delete(decoder_input_test, drop_test, axis=0)\n",
    "decoder_target_test = np.delete(decoder_target_test, drop_test, axis=0)\n",
    "\n",
    "print('훈련 데이터의 개수 :', len(encoder_input_train))\n",
    "print('훈련 레이블의 개수 :',len(decoder_input_train))\n",
    "print('테스트 데이터의 개수 :',len(encoder_input_test))\n",
    "print('테스트 레이블의 개수 :',len(decoder_input_test))"
   ]
  },
  {
   "cell_type": "code",
   "execution_count": 36,
   "metadata": {},
   "outputs": [],
   "source": [
    "encoder_input_train = pad_sequences(encoder_input_train, maxlen = text_max_len, padding='post')\n",
    "encoder_input_test = pad_sequences(encoder_input_test, maxlen = text_max_len, padding='post')\n",
    "decoder_input_train = pad_sequences(decoder_input_train, maxlen = summary_max_len, padding='post')\n",
    "decoder_target_train = pad_sequences(decoder_target_train, maxlen = summary_max_len, padding='post')\n",
    "decoder_input_test = pad_sequences(decoder_input_test, maxlen = summary_max_len, padding='post')\n",
    "decoder_target_test = pad_sequences(decoder_target_test, maxlen = summary_max_len, padding='post')"
   ]
  },
  {
   "cell_type": "markdown",
   "metadata": {},
   "source": [
    "### 3. 모델 설계하기"
   ]
  },
  {
   "cell_type": "code",
   "execution_count": 37,
   "metadata": {},
   "outputs": [
    {
     "name": "stdout",
     "output_type": "stream",
     "text": [
      "WARNING:tensorflow:Layer lstm will not use cuDNN kernel since it doesn't meet the cuDNN kernel criteria. It will use generic GPU kernel as fallback when running on GPU\n",
      "WARNING:tensorflow:Layer lstm_1 will not use cuDNN kernel since it doesn't meet the cuDNN kernel criteria. It will use generic GPU kernel as fallback when running on GPU\n",
      "WARNING:tensorflow:Layer lstm_2 will not use cuDNN kernel since it doesn't meet the cuDNN kernel criteria. It will use generic GPU kernel as fallback when running on GPU\n"
     ]
    }
   ],
   "source": [
    "from tensorflow.keras.layers import Input, LSTM, Embedding, Dense, Concatenate\n",
    "from tensorflow.keras.models import Model\n",
    "from tensorflow.keras.callbacks import EarlyStopping, ModelCheckpoint\n",
    "\n",
    "\n",
    "# 인코더 설계 시작\n",
    "embedding_dim = 128\n",
    "hidden_size = 256\n",
    "\n",
    "# 인코더\n",
    "encoder_inputs = Input(shape=(text_max_len,))\n",
    "\n",
    "# 인코더의 임베딩 층\n",
    "enc_emb = Embedding(src_vocab, embedding_dim)(encoder_inputs)\n",
    "\n",
    "# 인코더의 LSTM 1\n",
    "encoder_lstm1 = LSTM(hidden_size, return_sequences=True, return_state=True ,dropout = 0.4, recurrent_dropout = 0.4)\n",
    "encoder_output1, state_h1, state_c1 = encoder_lstm1(enc_emb)\n",
    "\n",
    "# 인코더의 LSTM 2\n",
    "encoder_lstm2 = LSTM(hidden_size, return_sequences=True, return_state=True, dropout=0.4, recurrent_dropout=0.4)\n",
    "encoder_output2, state_h2, state_c2 = encoder_lstm2(encoder_output1)\n",
    "\n",
    "# 인코더의 LSTM 3\n",
    "encoder_lstm3 = LSTM(hidden_size, return_state=True, return_sequences=True, dropout=0.4, recurrent_dropout=0.4)\n",
    "encoder_outputs, state_h, state_c= encoder_lstm3(encoder_output2)"
   ]
  },
  {
   "cell_type": "code",
   "execution_count": 38,
   "metadata": {},
   "outputs": [
    {
     "name": "stdout",
     "output_type": "stream",
     "text": [
      "WARNING:tensorflow:Layer lstm_3 will not use cuDNN kernel since it doesn't meet the cuDNN kernel criteria. It will use generic GPU kernel as fallback when running on GPU\n"
     ]
    }
   ],
   "source": [
    "# 디코더 설계\n",
    "\n",
    "decoder_inputs = Input(shape=(None,))\n",
    "\n",
    "# 디코더의 임베딩 층\n",
    "dec_emb_layer = Embedding(tar_vocab, embedding_dim)\n",
    "dec_emb = dec_emb_layer(decoder_inputs)\n",
    "\n",
    "# 디코더의 LSTM\n",
    "decoder_lstm = LSTM(hidden_size, return_sequences = True, return_state = True, dropout = 0.4, recurrent_dropout=0.2)\n",
    "decoder_outputs, _, _ = decoder_lstm(dec_emb, initial_state = [state_h, state_c])"
   ]
  },
  {
   "cell_type": "code",
   "execution_count": 39,
   "metadata": {},
   "outputs": [
    {
     "name": "stdout",
     "output_type": "stream",
     "text": [
      "Model: \"model\"\n",
      "__________________________________________________________________________________________________\n",
      "Layer (type)                    Output Shape         Param #     Connected to                     \n",
      "==================================================================================================\n",
      "input_1 (InputLayer)            [(None, 50)]         0                                            \n",
      "__________________________________________________________________________________________________\n",
      "embedding (Embedding)           (None, 50, 128)      1024000     input_1[0][0]                    \n",
      "__________________________________________________________________________________________________\n",
      "lstm (LSTM)                     [(None, 50, 256), (N 394240      embedding[0][0]                  \n",
      "__________________________________________________________________________________________________\n",
      "input_2 (InputLayer)            [(None, None)]       0                                            \n",
      "__________________________________________________________________________________________________\n",
      "lstm_1 (LSTM)                   [(None, 50, 256), (N 525312      lstm[0][0]                       \n",
      "__________________________________________________________________________________________________\n",
      "embedding_1 (Embedding)         (None, None, 128)    256000      input_2[0][0]                    \n",
      "__________________________________________________________________________________________________\n",
      "lstm_2 (LSTM)                   [(None, 50, 256), (N 525312      lstm_1[0][0]                     \n",
      "__________________________________________________________________________________________________\n",
      "lstm_3 (LSTM)                   [(None, None, 256),  394240      embedding_1[0][0]                \n",
      "                                                                 lstm_2[0][1]                     \n",
      "                                                                 lstm_2[0][2]                     \n",
      "__________________________________________________________________________________________________\n",
      "dense (Dense)                   (None, None, 2000)   514000      lstm_3[0][0]                     \n",
      "==================================================================================================\n",
      "Total params: 3,633,104\n",
      "Trainable params: 3,633,104\n",
      "Non-trainable params: 0\n",
      "__________________________________________________________________________________________________\n"
     ]
    }
   ],
   "source": [
    "# 디코더의 출력층\n",
    "decoder_softmax_layer = Dense(tar_vocab, activation = 'softmax')\n",
    "decoder_softmax_outputs = decoder_softmax_layer(decoder_outputs) \n",
    "\n",
    "# 모델 정의\n",
    "model = Model([encoder_inputs, decoder_inputs], decoder_softmax_outputs)\n",
    "model.summary()"
   ]
  },
  {
   "cell_type": "code",
   "execution_count": 40,
   "metadata": {},
   "outputs": [],
   "source": [
    "urllib.request.urlretrieve(\"https://raw.githubusercontent.com/thushv89/attention_keras/master/src/layers/attention.py\", filename=\"attention.py\")\n",
    "from attention import AttentionLayer"
   ]
  },
  {
   "cell_type": "code",
   "execution_count": 41,
   "metadata": {},
   "outputs": [
    {
     "name": "stdout",
     "output_type": "stream",
     "text": [
      "Model: \"model_1\"\n",
      "__________________________________________________________________________________________________\n",
      "Layer (type)                    Output Shape         Param #     Connected to                     \n",
      "==================================================================================================\n",
      "input_1 (InputLayer)            [(None, 50)]         0                                            \n",
      "__________________________________________________________________________________________________\n",
      "embedding (Embedding)           (None, 50, 128)      1024000     input_1[0][0]                    \n",
      "__________________________________________________________________________________________________\n",
      "lstm (LSTM)                     [(None, 50, 256), (N 394240      embedding[0][0]                  \n",
      "__________________________________________________________________________________________________\n",
      "input_2 (InputLayer)            [(None, None)]       0                                            \n",
      "__________________________________________________________________________________________________\n",
      "lstm_1 (LSTM)                   [(None, 50, 256), (N 525312      lstm[0][0]                       \n",
      "__________________________________________________________________________________________________\n",
      "embedding_1 (Embedding)         (None, None, 128)    256000      input_2[0][0]                    \n",
      "__________________________________________________________________________________________________\n",
      "lstm_2 (LSTM)                   [(None, 50, 256), (N 525312      lstm_1[0][0]                     \n",
      "__________________________________________________________________________________________________\n",
      "lstm_3 (LSTM)                   [(None, None, 256),  394240      embedding_1[0][0]                \n",
      "                                                                 lstm_2[0][1]                     \n",
      "                                                                 lstm_2[0][2]                     \n",
      "__________________________________________________________________________________________________\n",
      "attention_layer (AttentionLayer ((None, None, 256),  131328      lstm_2[0][0]                     \n",
      "                                                                 lstm_3[0][0]                     \n",
      "__________________________________________________________________________________________________\n",
      "concat_layer (Concatenate)      (None, None, 512)    0           lstm_3[0][0]                     \n",
      "                                                                 attention_layer[0][0]            \n",
      "__________________________________________________________________________________________________\n",
      "dense_1 (Dense)                 (None, None, 2000)   1026000     concat_layer[0][0]               \n",
      "==================================================================================================\n",
      "Total params: 4,276,432\n",
      "Trainable params: 4,276,432\n",
      "Non-trainable params: 0\n",
      "__________________________________________________________________________________________________\n"
     ]
    }
   ],
   "source": [
    "# 어텐션 층(어텐션 함수)\n",
    "attn_layer = AttentionLayer(name='attention_layer')\n",
    "# 인코더와 디코더의 모든 time step의 hidden state를 어텐션 층에 전달하고 결과를 리턴\n",
    "attn_out, attn_states = attn_layer([encoder_outputs, decoder_outputs])\n",
    "\n",
    "# 어텐션의 결과와 디코더의 hidden state들을 연결\n",
    "decoder_concat_input = Concatenate(axis = -1, name='concat_layer')([decoder_outputs, attn_out])\n",
    "\n",
    "# 디코더의 출력층\n",
    "decoder_softmax_layer = Dense(tar_vocab, activation='softmax')\n",
    "decoder_softmax_outputs = decoder_softmax_layer(decoder_concat_input)\n",
    "\n",
    "# 모델 정의\n",
    "model = Model([encoder_inputs, decoder_inputs], decoder_softmax_outputs)\n",
    "model.summary()"
   ]
  },
  {
   "cell_type": "markdown",
   "metadata": {},
   "source": [
    "### 4. 모델 훈련하기"
   ]
  },
  {
   "cell_type": "code",
   "execution_count": 42,
   "metadata": {},
   "outputs": [
    {
     "name": "stdout",
     "output_type": "stream",
     "text": [
      "Epoch 1/50\n",
      "201/201 [==============================] - 59s 292ms/step - loss: 2.7115 - val_loss: 2.4191\n",
      "Epoch 2/50\n",
      "201/201 [==============================] - 58s 289ms/step - loss: 2.3873 - val_loss: 2.2756\n",
      "Epoch 3/50\n",
      "201/201 [==============================] - 58s 288ms/step - loss: 2.2341 - val_loss: 2.1433\n",
      "Epoch 4/50\n",
      "201/201 [==============================] - 58s 289ms/step - loss: 2.1183 - val_loss: 2.0706\n",
      "Epoch 5/50\n",
      "201/201 [==============================] - 59s 292ms/step - loss: 2.0377 - val_loss: 2.0112\n",
      "Epoch 6/50\n",
      "201/201 [==============================] - 58s 290ms/step - loss: 1.9746 - val_loss: 1.9769\n",
      "Epoch 7/50\n",
      "201/201 [==============================] - 58s 290ms/step - loss: 1.9216 - val_loss: 1.9431\n",
      "Epoch 8/50\n",
      "201/201 [==============================] - 58s 290ms/step - loss: 1.8750 - val_loss: 1.9289\n",
      "Epoch 9/50\n",
      "201/201 [==============================] - 58s 290ms/step - loss: 1.8330 - val_loss: 1.9057\n",
      "Epoch 10/50\n",
      "201/201 [==============================] - 58s 290ms/step - loss: 1.7960 - val_loss: 1.8883\n",
      "Epoch 11/50\n",
      "201/201 [==============================] - 58s 290ms/step - loss: 1.7626 - val_loss: 1.8784\n",
      "Epoch 12/50\n",
      "201/201 [==============================] - 58s 291ms/step - loss: 1.7305 - val_loss: 1.8692\n",
      "Epoch 13/50\n",
      "201/201 [==============================] - 58s 290ms/step - loss: 1.7022 - val_loss: 1.8619\n",
      "Epoch 14/50\n",
      "201/201 [==============================] - 59s 296ms/step - loss: 1.6734 - val_loss: 1.8576\n",
      "Epoch 15/50\n",
      "201/201 [==============================] - 57s 285ms/step - loss: 1.6494 - val_loss: 1.8540\n",
      "Epoch 16/50\n",
      "201/201 [==============================] - 58s 288ms/step - loss: 1.6226 - val_loss: 1.8511\n",
      "Epoch 17/50\n",
      "201/201 [==============================] - 57s 283ms/step - loss: 1.5984 - val_loss: 1.8468\n",
      "Epoch 18/50\n",
      "201/201 [==============================] - 60s 298ms/step - loss: 1.5770 - val_loss: 1.8473\n",
      "Epoch 19/50\n",
      "201/201 [==============================] - 57s 285ms/step - loss: 1.5543 - val_loss: 1.8498\n",
      "Epoch 00019: early stopping\n"
     ]
    }
   ],
   "source": [
    "model.compile(optimizer='rmsprop', loss='sparse_categorical_crossentropy')\n",
    "es = EarlyStopping(monitor='val_loss', mode='min', verbose=1, patience = 2)\n",
    "history = model.fit(x = [encoder_input_train, decoder_input_train], y = decoder_target_train, \\\n",
    "          validation_data = ([encoder_input_test, decoder_input_test], decoder_target_test),\n",
    "          batch_size = 256, callbacks=[es], epochs = 50)"
   ]
  },
  {
   "cell_type": "code",
   "execution_count": 43,
   "metadata": {},
   "outputs": [
    {
     "data": {
      "image/png": "[encoded data removed]",
      "text/plain": [
       "<Figure size 432x288 with 1 Axes>"
      ]
     },
     "metadata": {
      "needs_background": "light"
     },
     "output_type": "display_data"
    }
   ],
   "source": [
    "plt.plot(history.history['loss'], label='train')\n",
    "plt.plot(history.history['val_loss'], label='test')\n",
    "plt.legend()\n",
    "plt.show()"
   ]
  },
  {
   "cell_type": "markdown",
   "metadata": {},
   "source": [
    "### 5. 인퍼런스 모델 구현하기"
   ]
  },
  {
   "cell_type": "code",
   "execution_count": 44,
   "metadata": {},
   "outputs": [],
   "source": [
    "src_index_to_word = src_tokenizer.index_word # 원문 단어 집합에서 정수 -> 단어를 얻음\n",
    "tar_word_to_index = tar_tokenizer.word_index # 요약 단어 집합에서 단어 -> 정수를 얻음\n",
    "tar_index_to_word = tar_tokenizer.index_word # 요약 단어 집합에서 정수 -> 단어를 얻음"
   ]
  },
  {
   "cell_type": "code",
   "execution_count": 45,
   "metadata": {},
   "outputs": [],
   "source": [
    "# 인코더 설계\n",
    "encoder_model = Model(inputs=encoder_inputs, outputs=[encoder_outputs, state_h, state_c])\n",
    "\n",
    "# 이전 시점의 상태들을 저장하는 텐서\n",
    "decoder_state_input_h = Input(shape=(hidden_size,))\n",
    "decoder_state_input_c = Input(shape=(hidden_size,))\n",
    "\n",
    "dec_emb2 = dec_emb_layer(decoder_inputs)\n",
    "# 문장의 다음 단어를 예측하기 위해서 초기 상태(initial_state)를 이전 시점의 상태로 사용. 이는 뒤의 함수 decode_sequence()에 구현\n",
    "# 훈련 과정에서와 달리 LSTM의 리턴하는 은닉 상태와 셀 상태인 state_h와 state_c를 버리지 않음.\n",
    "decoder_outputs2, state_h2, state_c2 = decoder_lstm(dec_emb2, initial_state=[decoder_state_input_h, decoder_state_input_c])"
   ]
  },
  {
   "cell_type": "code",
   "execution_count": 46,
   "metadata": {},
   "outputs": [],
   "source": [
    "# 어텐션 함수\n",
    "decoder_hidden_state_input = Input(shape=(text_max_len, hidden_size))\n",
    "attn_out_inf, attn_states_inf = attn_layer([decoder_hidden_state_input, decoder_outputs2])\n",
    "decoder_inf_concat = Concatenate(axis=-1, name='concat')([decoder_outputs2, attn_out_inf])\n",
    "\n",
    "# 디코더의 출력층\n",
    "decoder_outputs2 = decoder_softmax_layer(decoder_inf_concat) \n",
    "\n",
    "# 최종 디코더 모델\n",
    "decoder_model = Model(\n",
    "    [decoder_inputs] + [decoder_hidden_state_input,decoder_state_input_h, decoder_state_input_c],\n",
    "    [decoder_outputs2] + [state_h2, state_c2])"
   ]
  },
  {
   "cell_type": "code",
   "execution_count": 47,
   "metadata": {},
   "outputs": [],
   "source": [
    "def decode_sequence(input_seq):\n",
    "    # 입력으로부터 인코더의 상태를 얻음\n",
    "    e_out, e_h, e_c = encoder_model.predict(input_seq)\n",
    "\n",
    "     # <SOS>에 해당하는 토큰 생성\n",
    "    target_seq = np.zeros((1,1))\n",
    "    target_seq[0, 0] = tar_word_to_index['sostoken']\n",
    "\n",
    "    stop_condition = False\n",
    "    decoded_sentence = ''\n",
    "    while not stop_condition: # stop_condition이 True가 될 때까지 루프 반복\n",
    "\n",
    "        output_tokens, h, c = decoder_model.predict([target_seq] + [e_out, e_h, e_c])\n",
    "        sampled_token_index = np.argmax(output_tokens[0, -1, :])\n",
    "        sampled_token = tar_index_to_word[sampled_token_index]\n",
    "\n",
    "        if(sampled_token!='eostoken'):\n",
    "            decoded_sentence += ' '+sampled_token\n",
    "\n",
    "        #  <eos>에 도달하거나 최대 길이를 넘으면 중단.\n",
    "        if (sampled_token == 'eostoken'  or len(decoded_sentence.split()) >= (summary_max_len-1)):\n",
    "            stop_condition = True\n",
    "\n",
    "        # 길이가 1인 타겟 시퀀스를 업데이트\n",
    "        target_seq = np.zeros((1,1))\n",
    "        target_seq[0, 0] = sampled_token_index\n",
    "\n",
    "        # 상태를 업데이트 합니다.\n",
    "        e_h, e_c = h, c\n",
    "\n",
    "    return decoded_sentence"
   ]
  },
  {
   "cell_type": "markdown",
   "metadata": {},
   "source": [
    "### 6. 모델 테스트하기"
   ]
  },
  {
   "cell_type": "code",
   "execution_count": 48,
   "metadata": {},
   "outputs": [],
   "source": [
    "# 원문의 정수 시퀀스를 텍스트 시퀀스로 변환\n",
    "def seq2text(input_seq):\n",
    "    temp=''\n",
    "    for i in input_seq:\n",
    "        if(i!=0):\n",
    "            temp = temp + src_index_to_word[i]+' '\n",
    "    return temp\n",
    "\n",
    "# 요약문의 정수 시퀀스를 텍스트 시퀀스로 변환\n",
    "def seq2summary(input_seq):\n",
    "    temp=''\n",
    "    for i in input_seq:\n",
    "        if((i!=0 and i!=tar_word_to_index['sostoken']) and i!=tar_word_to_index['eostoken']):\n",
    "            temp = temp + tar_index_to_word[i] + ' '\n",
    "    return temp"
   ]
  },
  {
   "cell_type": "code",
   "execution_count": 49,
   "metadata": {},
   "outputs": [
    {
     "name": "stdout",
     "output_type": "stream",
     "text": [
      "원문 : bought brand chai years love satisfying different decaf coffee drinking like special treat \n",
      "실제 요약 : vanilla decaf sugar free chai \n",
      "예측 요약 :  best decaf\n",
      "\n",
      "\n",
      "원문 : great lower sugar high fiber granola option loved eating handful also sprinkling plain greek yogurt bag last long feel guilty eating \n",
      "실제 요약 : by the \n",
      "예측 요약 :  great taste\n",
      "\n",
      "\n",
      "원문 : fair one twins got gas horrible night gas pains garbanzo beans ideal food young babies \n",
      "실제 요약 : the beans in it give horrible gas \n",
      "예측 요약 :  great product\n",
      "\n",
      "\n",
      "원문 : carbonation flavor tasted watered calories per soft drink would taste lot better pretty expensive also might consider mixer course defeats purpose healthy rather disappointing \n",
      "실제 요약 : better with of \n",
      "예측 요약 :  not as good as the cherry\n",
      "\n",
      "\n",
      "원문 : taste awesome pain unwrap every single one like better sour belts wrapped though \n",
      "실제 요약 : delicious but is \n",
      "예측 요약 :  great\n",
      "\n",
      "\n",
      "원문 : anyone explain none adults staff happily gobble meetings eat green ones understand kids people please add pineapple life savers package win staff hearts say life savers \n",
      "실제 요약 : why will not anyone eat the green ones \n",
      "예측 요약 :  my cat loves it\n",
      "\n",
      "\n",
      "원문 : got toy yo german shepherd big chewer true breed looking something keep occupied leave house put hand full training treats keeps occupied hour slightly worried durability far stood full grown gsd true test toy mind well worth money smart curious dog \n",
      "실제 요약 : amazing \n",
      "예측 요약 :  my dog loves these\n",
      "\n",
      "\n",
      "원문 : dogs really enjoyed chews anything \n",
      "실제 요약 : dogs like them \n",
      "예측 요약 :  dogs love them\n",
      "\n",
      "\n",
      "원문 : wanted buy whole nutmeg ever since saw ray using never even knew nutmeg came like seeing bulk health store per pound decided going grinding fresh nutmeg amazon rescue product half cost happy consumer \n",
      "실제 요약 : terrific bargain \n",
      "예측 요약 :  great product\n",
      "\n",
      "\n",
      "원문 : hoping find decent tasting low carb dark chocolate bar unfortunately taste terrible bitter texture seems little brittle compared better chocolate also leaves aftertaste good dark chocolate bars certainly worth per bar charged \n",
      "실제 요약 : very \n",
      "예측 요약 :  not as good as the original\n",
      "\n",
      "\n",
      "원문 : ordered partly wanted cute paint shipper slow ship arrive gum cheap plastic container wanted would gone sam club \n",
      "실제 요약 : not as pictured \n",
      "예측 요약 :  not as pictured\n",
      "\n",
      "\n",
      "원문 : pleased find product fantastic purchase anyone uses pumpkin pie spice large quantities reasonably priced creek spices list future orders products via amazon definitely order needed \n",
      "실제 요약 : pumpkin pie spice packed in large jars \n",
      "예측 요약 :  great product\n",
      "\n",
      "\n",
      "원문 : noodles great put chopped peanuts sauce cooked noodles vegetables everything right texture soggy noodles soggy peanuts great lunch \n",
      "실제 요약 : surprisingly delicious \n",
      "예측 요약 :  great noodles\n",
      "\n",
      "\n",
      "원문 : really wanted like first cookies size half dollar thick like fudge cookies look ingredients nut flour held together honey need egg something gooey sticky extremely sweet pack carbs yes counting fiber sorry appreciate effort guys option expensive non functional serious part regular diet \n",
      "실제 요약 : the must have been \n",
      "예측 요약 :  good but not great\n",
      "\n",
      "\n",
      "원문 : really notice package kids adults nothing wrong flavor priced kids alot \n",
      "실제 요약 : well \n",
      "예측 요약 :  good\n",
      "\n",
      "\n",
      "원문 : feeding dog totw couple years last bag purchased weeks ago dog started throwing day feeding poop runny blood red color research online production code bag one recalled called amazon immediately stopped selling item happened \n",
      "실제 요약 : this food got my pet sick \n",
      "예측 요약 :  great product\n",
      "\n",
      "\n",
      "원문 : got best chili make mix husband loves eat soups always trying new ones stumbled upon one one buy available even say better mother home made chili recipe put wrote women hunting guide people make sample tell mother \n",
      "실제 요약 : the best darn good chili \n",
      "예측 요약 :  delicious\n",
      "\n",
      "\n",
      "원문 : noticed coffee supposed shake wondered taste sweet despite good deal sugar tasted decent sure would buy store saw \n",
      "실제 요약 : good coffee could be \n",
      "예측 요약 :  not bad\n",
      "\n",
      "\n",
      "원문 : believe real strawberries think product made strawberry pulp sugar knows seem like slightly healthy strawberry gummy bears candy \n",
      "실제 요약 : warning its candy \n",
      "예측 요약 :  good but not great\n",
      "\n",
      "\n",
      "원문 : picked tin italian market salt lake city ingredients best pure licorice natural anise flavor sugar fake sugar flavor reminds think smoother stays long time pleasant lingering aftertaste since cleaned diet perfect replacement little occasionally want keep mouth entertained \n",
      "실제 요약 : wonderful \n",
      "예측 요약 :  best licorice ever\n",
      "\n",
      "\n",
      "원문 : one great basic food whatever cats really go mine exception current cat really like ground variety eat occasionally buy twice year previous cat often really enjoyed hard judge cat eat cat likes ground give one go really seems big favorite \n",
      "실제 요약 : what is in this \n",
      "예측 요약 :  my cat loves it\n",
      "\n",
      "\n",
      "원문 : love coffee complex tastes got trade kept putting ordering would say light medium roast really hate dark chocolate coffee amazing raspberry dark chocolate true taste use sugar cream creamer like dessert without calories want without cupboard wish subscribe save program amazon \n",
      "실제 요약 : just the best \n",
      "예측 요약 :  great coffee\n",
      "\n",
      "\n",
      "원문 : love happy baby happy tot food pouches lifesaver son eats one every day know getting good healthy fruits veggies brand favorite various pouches also antioxidants omega well fiber protein days eat much feel like still getting lot nutrition one pouch stock pantry \n",
      "실제 요약 : best \n",
      "예측 요약 :  my son loves these\n",
      "\n",
      "\n",
      "원문 : gave stars soft pieces majority treats loved dogs \n",
      "실제 요약 : great treat for your special pet \n",
      "예측 요약 :  my dogs love these\n",
      "\n",
      "\n",
      "원문 : item delicious fish ultimate flavor best ever purposes sent case mother recently diagnosed diabetes loves main entree cooking patties \n",
      "실제 요약 : fantastic healthy product \n",
      "예측 요약 :  delicious\n",
      "\n",
      "\n",
      "원문 : purchased syrup master cleanse diet great tried using pancakes taste satisfaction fine lemonade diet \n",
      "실제 요약 : it is ok \n",
      "예측 요약 :  great syrup\n",
      "\n",
      "\n",
      "원문 : like dressing vegetable salads marinade chicken pork etc great even stir fry vegetables taste better spinach salad mushrooms marinade mushrooms dressing hours add washed baby cranberries cheese added desired fresh delicious healthy meal \n",
      "실제 요약 : fabulous marinade makes flavors pop \n",
      "예측 요약 :  great for cooking\n",
      "\n",
      "\n",
      "원문 : juice lot better another one tried one slightly bitter one bit sweet tastes really good seller health great seller ship quickly highly recommended \n",
      "실제 요약 : delicious juice \n",
      "예측 요약 :  great taste\n",
      "\n",
      "\n",
      "원문 : according constantly brings kongs trying get stuff liver paste \n",
      "실제 요약 : loves it \n",
      "예측 요약 :  quick and easy\n",
      "\n",
      "\n",
      "원문 : wow favorite creamer three years drink cups coffee morning may day serving two tablespoons coffee like white sweet learned basically dosage trans fat every single day gram every cup coffee drink idea way go fda wonder got paid make minor thanks nestle system attempted \n",
      "실제 요약 : creamer \n",
      "예측 요약 :  love it\n",
      "\n",
      "\n",
      "원문 : indoor potted turning yellow regularly would lose leaves years within week watering miracle grow turned green looks likes thriving miracle grow easy mix water use \n",
      "실제 요약 : product works great \n",
      "예측 요약 :  great product\n",
      "\n",
      "\n",
      "원문 : made box dinner impressed taste cheesy rice appetizing probably try hope dinner kits good though \n",
      "실제 요약 : not that good \n",
      "예측 요약 :  good but not the best\n",
      "\n",
      "\n",
      "원문 : key points probably vacuum packing extremely fine grind fine grind results stronger cup coffee fewer grounds meaning bag lasts longer regular bag ground beans really cannot say finely ground almost like powder packing also means bit fresh first open bag overall complaints great tasting strong want coffee \n",
      "실제 요약 : excellent coffee \n",
      "예측 요약 :  good quality coffee\n",
      "\n",
      "\n",
      "원문 : cats love call oreos buying target awhile stopped carrying ordered subscription basis amazon even get discount love \n",
      "실제 요약 : winner winner dairy dinner \n",
      "예측 요약 :  cat food\n",
      "\n",
      "\n",
      "원문 : without beating death like full bodied mellow brew might hearty bitter holds nice full body even keurig set setting favorite blend \n",
      "실제 요약 : full bodied \n",
      "예측 요약 :  great coffee\n",
      "\n",
      "\n",
      "원문 : dogs absolutely crazy like crack dogs last purchased fall decided take break awhile ease addiction feeling soft thought purchase less year later june almost outrageous price increase short amount time yes us dogs love dogs feel like love taken advantage imagine profit \n",
      "실제 요약 : expensive huge increase in price \n",
      "예측 요약 :  my dogs love these\n",
      "\n",
      "\n",
      "원문 : using home getting fantastic results really make lot new things possible meat get creative shrimp noodles couple recipes david cookbook suprised reviews people seem really clue stuff \n",
      "실제 요약 : amazing product \n",
      "예측 요약 :  great product\n",
      "\n",
      "\n",
      "원문 : hi think good ones brand \n",
      "실제 요약 : tea bags \n",
      "예측 요약 :  good but not great\n",
      "\n",
      "\n",
      "원문 : caviar good mild taste popped ate would buy product without problem \n",
      "실제 요약 : caviar \n",
      "예측 요약 :  good flavor\n",
      "\n",
      "\n",
      "원문 : could find grocery store wanted long plane trip worry mixing bottles airplane life saver seem much thicker darker color powder formula baby seem mind able get states japan planning trip back states find item cannot shipped disappointed \n",
      "실제 요약 : so convenient \n",
      "예측 요약 :  good but not great\n",
      "\n",
      "\n",
      "원문 : wonderful light taste need whole lot salt season food cut daily salt intake \n",
      "실제 요약 : great \n",
      "예측 요약 :  great salt\n",
      "\n",
      "\n",
      "원문 : awesome snack super easy make disappoint whatsoever flavor totally come perfectly hot crispy light stays fresh throughout week mood something salty ideal snack love addictive \n",
      "실제 요약 : brilliant snack \n",
      "예측 요약 :  delicious\n",
      "\n",
      "\n",
      "원문 : bars right balance flavor coconut sweetness rice syrup unfortunately although expiration date third mine went bad perhaps started life way funny metallic taste one even black substance may may mold wondering would prevented highly recommend bars beware keeping quality \n",
      "실제 요약 : wonderful but better \n",
      "예측 요약 :  not as good as the original\n",
      "\n",
      "\n",
      "원문 : wow husband said tasted wolfgang puck jamaica crazy coffee keurig fan strong coffees really liked one highly recommend one put subscribe save wolfgang puck coffee jamaica crazy count cups keurig brewers \n",
      "실제 요약 : this is the best \n",
      "예측 요약 :  my favorite\n",
      "\n",
      "\n",
      "원문 : like salt vinegar chips looking healthier alternative got try absolutely addicting \n",
      "실제 요약 : excellent \n",
      "예측 요약 :  great chips\n",
      "\n",
      "\n",
      "원문 : cinnamon oil fantastic nice spicy hot hot hot enjoy making cinnamon toothpicks best oil \n",
      "실제 요약 : delicious and hot \n",
      "예측 요약 :  hot sauce\n",
      "\n",
      "\n",
      "원문 : expected flavor great right amount spicy heat together fantastic price easy open buy sorry buying \n",
      "실제 요약 : jack beef stick hot spicy wow \n",
      "예측 요약 :  great tasting\n",
      "\n",
      "\n",
      "원문 : like plant much different easy take care would recommend plant anyone looking another different kind plant \n",
      "실제 요약 : olive tea tree \n",
      "예측 요약 :  not happy\n",
      "\n",
      "\n",
      "원문 : good quality actually use much kernels get volume three varities really good would buy \n",
      "실제 요약 : love popcorn \n",
      "예측 요약 :  good product\n",
      "\n",
      "\n"
     ]
    }
   ],
   "source": [
    "for i in range(1, 50):\n",
    "    print(\"원문 :\", seq2text(encoder_input_test[i]))\n",
    "    print(\"실제 요약 :\", seq2summary(decoder_input_test[i]))\n",
    "    print(\"예측 요약 :\", decode_sequence(encoder_input_test[i].reshape(1, text_max_len)))\n",
    "    print(\"\\n\")"
   ]
  },
  {
   "cell_type": "markdown",
   "metadata": {},
   "source": [
    "## 7. 추출요약"
   ]
  },
  {
   "cell_type": "code",
   "execution_count": 50,
   "metadata": {},
   "outputs": [],
   "source": [
    "import requests\n",
    "from summa.summarizer import summarize"
   ]
  },
  {
   "cell_type": "code",
   "execution_count": 51,
   "metadata": {},
   "outputs": [],
   "source": [
    "text = requests.get('http://rare-technologies.com/the_matrix_synopsis.txt').text"
   ]
  },
  {
   "cell_type": "code",
   "execution_count": 52,
   "metadata": {},
   "outputs": [
    {
     "name": "stdout",
     "output_type": "stream",
     "text": [
      "The screen is filled with green, cascading code which gives way to the title, The Matrix.\n",
      "\n",
      "A phone rings and text appears on the screen: \"Call trans opt: received. 2-19-98 13:24:18 REC: Log>\" As a conversation takes place between Trinity (Carrie-Anne Moss) and Cypher (Joe Pantoliano), two free humans, a table of random green numbers are being scanned and individual numbers selected, creating a series of digits not unlike an ordinary phone number, as if a code is being deciphered or a call is being traced.\n",
      "\n",
      "Trinity discusses some unknown person. Cypher taunts Trinity, suggesting she enjoys watching him. Trinity counters that \"Morpheus (Laurence Fishburne) says he may be 'the One',\" just as the sound of a number being selected alerts Trinity that someone may be tracing their call. She ends the call.\n",
      "\n",
      "Armed policemen move down a darkened, decrepit hallway in the Heart O' the City Hotel, their flashlight beam bouncing just ahead of them. They come to room 303, kick down the door and find a woman dressed in black, facing away from them. It's Trinity. She brings her hands up from the laptop she's working on at their command.\n",
      "\n",
      "Outside the hotel a car drives up and three agents appear in neatly pressed black suits. They are Agent Smith (Hugo Weaving), Agent Brown (Paul Goddard), and Agent Jones (Robert Taylor). Agent Smith and the presiding police lieutenant argue. Agent Smith admonishes the policeman that they were given specific orders to contact the agents first, for their\n"
     ]
    }
   ],
   "source": [
    "print(text[:1500])"
   ]
  },
  {
   "cell_type": "code",
   "execution_count": 53,
   "metadata": {},
   "outputs": [
    {
     "name": "stdout",
     "output_type": "stream",
     "text": [
      "Summary:\n",
      "Morpheus, Trinity, Neo, Apoc, Switch, Mouse and Cypher are jacked into the Matrix.\n",
      "Trinity brings the helicopter down to the floor that Morpheus is on and Neo opens fire on the three Agents.\n"
     ]
    }
   ],
   "source": [
    "print('Summary:')\n",
    "print(summarize(text, ratio=0.005))"
   ]
  },
  {
   "cell_type": "code",
   "execution_count": 54,
   "metadata": {},
   "outputs": [
    {
     "name": "stdout",
     "output_type": "stream",
     "text": [
      "Summary:\n",
      "['Morpheus, Trinity, Neo, Apoc, Switch, Mouse and Cypher are jacked into the Matrix.', 'Trinity brings the helicopter down to the floor that Morpheus is on and Neo opens fire on the three Agents.']\n"
     ]
    }
   ],
   "source": [
    "print('Summary:')\n",
    "print(summarize(text, ratio=0.005, split=True))"
   ]
  },
  {
   "cell_type": "code",
   "execution_count": 55,
   "metadata": {},
   "outputs": [
    {
     "name": "stdout",
     "output_type": "stream",
     "text": [
      "Summary:\n",
      "Trinity takes Neo to Morpheus.\n",
      "Morpheus, Trinity, Neo, Apoc, Switch, Mouse and Cypher are jacked into the Matrix.\n",
      "Trinity brings the helicopter down to the floor that Morpheus is on and Neo opens fire on the three Agents.\n"
     ]
    }
   ],
   "source": [
    "print('Summary:')\n",
    "print(summarize(text, words=50))"
   ]
  },
  {
   "cell_type": "markdown",
   "metadata": {},
   "source": [
    "## 2. news_summary_more 데이터 요약해보기"
   ]
  },
  {
   "cell_type": "markdown",
   "metadata": {},
   "source": [
    "### 1. 데이터 보기"
   ]
  },
  {
   "cell_type": "code",
   "execution_count": 61,
   "metadata": {},
   "outputs": [
    {
     "name": "stdout",
     "output_type": "stream",
     "text": [
      "(98401, 2)\n"
     ]
    }
   ],
   "source": [
    "news_path = os.getenv(\"HOME\") + '/aiffel/news_summarization/data/news_summary_more.csv'\n",
    "news = pd.read_csv(news_path)\n",
    "news.head()\n",
    "print(news.shape)"
   ]
  },
  {
   "cell_type": "markdown",
   "metadata": {},
   "source": [
    "### 2. 데이터 전처리하기"
   ]
  },
  {
   "cell_type": "code",
   "execution_count": 60,
   "metadata": {},
   "outputs": [
    {
     "name": "stdout",
     "output_type": "stream",
     "text": [
      "Text 열에서 중복을 배제한 유일한 샘플의 수 : 98280\n",
      "Summary 열에서 중복을 배제한 유일한 샘플의 수 : 98360\n"
     ]
    }
   ],
   "source": [
    "print('Text 열에서 중복을 배제한 유일한 샘플의 수 :', news['headlines'].nunique())\n",
    "print('Summary 열에서 중복을 배제한 유일한 샘플의 수 :', news['text'].nunique())"
   ]
  },
  {
   "cell_type": "code",
   "execution_count": 64,
   "metadata": {},
   "outputs": [
    {
     "name": "stdout",
     "output_type": "stream",
     "text": [
      "전체 샘플수 : 98360\n"
     ]
    }
   ],
   "source": [
    "news.drop_duplicates(subset = ['text'], inplace = True)\n",
    "print('전체 샘플수 :',(len(news)))"
   ]
  },
  {
   "cell_type": "code",
   "execution_count": 65,
   "metadata": {},
   "outputs": [
    {
     "name": "stdout",
     "output_type": "stream",
     "text": [
      "headlines    0\n",
      "text         0\n",
      "dtype: int64\n"
     ]
    }
   ],
   "source": [
    "print(news.isnull().sum())"
   ]
  },
  {
   "cell_type": "code",
   "execution_count": 66,
   "metadata": {},
   "outputs": [
    {
     "data": {
      "text/plain": [
       "['saurav kant alumnus upgrad iiit pg program machine learning artificial intelligence sr systems engineer infosys almost years work experience program upgrad degree career support helped transition data scientist tech mahindra salary hike upgrad online power learning powered lakh careers',\n",
       " 'kunal shah credit card bill payment platform cred gave users chance win free food swiggy one year pranav kaushik delhi techie bagged reward spending cred coins users get one cred coin per rupee bill paid used avail rewards brands like ixigo bookmyshow ubereats cult fit',\n",
       " 'new zealand defeated india wickets fourth odi hamilton thursday win first match five match odi series india lost international match rohit sharma captaincy consecutive victories dating back march match witnessed india getting seventh lowest total odi cricket history',\n",
       " 'aegon life iterm insurance plan customers enjoy tax benefits premiums paid save taxes plan provides life cover age years also customers options insure critical illnesses disability accidental death benefit rider life cover age years',\n",
       " 'speaking sexual harassment allegations rajkumar hirani sonam kapoor said known hirani many years true metoo movement get derailed metoo movement always believe woman case need reserve judgment added hirani accused assistant worked sanju']"
      ]
     },
     "execution_count": 66,
     "metadata": {},
     "output_type": "execute_result"
    }
   ],
   "source": [
    "clean_news_text = []\n",
    "\n",
    "# 전체 Text 데이터에 대한 전처리 : 10분 이상 시간이 걸릴 수 있습니다. \n",
    "for s in news['text']:\n",
    "    clean_news_text.append(preprocess_sentence(s))\n",
    "\n",
    "# 전처리 후 출력\n",
    "clean_news_text[:5]"
   ]
  },
  {
   "cell_type": "code",
   "execution_count": 67,
   "metadata": {},
   "outputs": [
    {
     "data": {
      "text/plain": [
       "['upgrad learner switches to career in ml al with salary hike',\n",
       " 'delhi techie wins free food from swiggy for one year on cred',\n",
       " 'new zealand end rohit sharma led india match winning streak',\n",
       " 'aegon life iterm insurance plan helps customers save tax',\n",
       " 'have known hirani for yrs what if metoo claims are not true sonam']"
      ]
     },
     "execution_count": 67,
     "metadata": {},
     "output_type": "execute_result"
    }
   ],
   "source": [
    "clean_news_summary = []\n",
    "\n",
    "# 전체 Summary 데이터에 대한 전처리 : 5분 이상 시간이 걸릴 수 있습니다. \n",
    "for s in news['headlines']:\n",
    "    clean_news_summary.append(preprocess_sentence(s, False))\n",
    "\n",
    "clean_news_summary[:5]"
   ]
  },
  {
   "cell_type": "code",
   "execution_count": 68,
   "metadata": {},
   "outputs": [],
   "source": [
    "news['text'] = clean_news_text\n",
    "news['headlines'] = clean_news_summary\n",
    "\n",
    "# 빈 값을 Null 값으로 변환\n",
    "news.replace('', np.nan, inplace=True)"
   ]
  },
  {
   "cell_type": "code",
   "execution_count": 70,
   "metadata": {},
   "outputs": [
    {
     "data": {
      "text/plain": [
       "headlines    0\n",
       "text         0\n",
       "dtype: int64"
      ]
     },
     "execution_count": 70,
     "metadata": {},
     "output_type": "execute_result"
    }
   ],
   "source": [
    "news.isnull().sum()"
   ]
  },
  {
   "cell_type": "code",
   "execution_count": 74,
   "metadata": {},
   "outputs": [
    {
     "name": "stdout",
     "output_type": "stream",
     "text": [
      "텍스트의 최소 길이 : 1\n",
      "텍스트의 최대 길이 : 60\n",
      "텍스트의 평균 길이 : 35.09968483123221\n",
      "헤드라인의 최소 길이 : 1\n",
      "헤드라인의 최대 길이 : 16\n",
      "헤드라인의 평균 길이 : 9.299532330215534\n"
     ]
    },
    {
     "data": {
      "image/png": "[encoded data removed]",
      "text/plain": [
       "<Figure size 432x288 with 2 Axes>"
      ]
     },
     "metadata": {
      "needs_background": "light"
     },
     "output_type": "display_data"
    },
    {
     "data": {
      "image/png": "[encoded data removed]",
      "text/plain": [
       "<Figure size 432x288 with 1 Axes>"
      ]
     },
     "metadata": {
      "needs_background": "light"
     },
     "output_type": "display_data"
    },
    {
     "data": {
      "image/png": "[encoded data removed]",
      "text/plain": [
       "<Figure size 432x288 with 1 Axes>"
      ]
     },
     "metadata": {
      "needs_background": "light"
     },
     "output_type": "display_data"
    }
   ],
   "source": [
    "import matplotlib.pyplot as plt\n",
    "\n",
    "text_len = [len(s.split()) for s in news['text']]\n",
    "summary_len = [len(s.split()) for s in news['headlines']]\n",
    "\n",
    "print('텍스트의 최소 길이 : {}'.format(np.min(text_len)))\n",
    "print('텍스트의 최대 길이 : {}'.format(np.max(text_len)))\n",
    "print('텍스트의 평균 길이 : {}'.format(np.mean(text_len)))\n",
    "print('헤드라인의 최소 길이 : {}'.format(np.min(summary_len)))\n",
    "print('헤드라인의 최대 길이 : {}'.format(np.max(summary_len)))\n",
    "print('헤드라인의 평균 길이 : {}'.format(np.mean(summary_len)))\n",
    "\n",
    "plt.subplot(1,2,1)\n",
    "plt.boxplot(summary_len)\n",
    "plt.title('headlines')\n",
    "plt.subplot(1,2,2)\n",
    "plt.boxplot(text_len)\n",
    "plt.title('Text')\n",
    "plt.tight_layout()\n",
    "plt.show()\n",
    "\n",
    "plt.title('headlines')\n",
    "plt.hist(summary_len, bins = 40)\n",
    "plt.xlabel('length of samples')\n",
    "plt.ylabel('number of samples')\n",
    "plt.show()\n",
    "\n",
    "plt.title('Text')\n",
    "plt.hist(text_len, bins = 40)\n",
    "plt.xlabel('length of samples')\n",
    "plt.ylabel('number of samples')\n",
    "plt.show()"
   ]
  },
  {
   "cell_type": "code",
   "execution_count": 75,
   "metadata": {},
   "outputs": [],
   "source": [
    "text_max_len = 45\n",
    "summary_max_len = 13"
   ]
  },
  {
   "cell_type": "code",
   "execution_count": 76,
   "metadata": {},
   "outputs": [
    {
     "name": "stdout",
     "output_type": "stream",
     "text": [
      "전체 샘플 중 길이가 45 이하인 샘플의 비율: 0.9967771451809678\n",
      "전체 샘플 중 길이가 13 이하인 샘플의 비율: 0.9981699877999186\n"
     ]
    }
   ],
   "source": [
    "below_threshold_len(text_max_len, news['text'])\n",
    "below_threshold_len(summary_max_len,  news['headlines'])"
   ]
  },
  {
   "cell_type": "code",
   "execution_count": 77,
   "metadata": {},
   "outputs": [
    {
     "name": "stdout",
     "output_type": "stream",
     "text": [
      "전체 샘플수 : 97863\n"
     ]
    }
   ],
   "source": [
    "news = news[news['text'].apply(lambda x: len(x.split()) <= text_max_len)]\n",
    "news = news[news['headlines'].apply(lambda x: len(x.split()) <= summary_max_len)]\n",
    "print('전체 샘플수 :',(len(news)))"
   ]
  },
  {
   "cell_type": "code",
   "execution_count": 78,
   "metadata": {},
   "outputs": [
    {
     "data": {
      "text/html": [
       "<div>\n",
       "<style scoped>\n",
       "    .dataframe tbody tr th:only-of-type {\n",
       "        vertical-align: middle;\n",
       "    }\n",
       "\n",
       "    .dataframe tbody tr th {\n",
       "        vertical-align: top;\n",
       "    }\n",
       "\n",
       "    .dataframe thead th {\n",
       "        text-align: right;\n",
       "    }\n",
       "</style>\n",
       "<table border=\"1\" class=\"dataframe\">\n",
       "  <thead>\n",
       "    <tr style=\"text-align: right;\">\n",
       "      <th></th>\n",
       "      <th>headlines</th>\n",
       "      <th>text</th>\n",
       "      <th>decoder_input</th>\n",
       "      <th>decoder_target</th>\n",
       "    </tr>\n",
       "  </thead>\n",
       "  <tbody>\n",
       "    <tr>\n",
       "      <th>0</th>\n",
       "      <td>upgrad learner switches to career in ml al wit...</td>\n",
       "      <td>saurav kant alumnus upgrad iiit pg program mac...</td>\n",
       "      <td>sos upgrad learner switches to career in ml al...</td>\n",
       "      <td>upgrad learner switches to career in ml al wit...</td>\n",
       "    </tr>\n",
       "    <tr>\n",
       "      <th>1</th>\n",
       "      <td>delhi techie wins free food from swiggy for on...</td>\n",
       "      <td>kunal shah credit card bill payment platform c...</td>\n",
       "      <td>sos delhi techie wins free food from swiggy fo...</td>\n",
       "      <td>delhi techie wins free food from swiggy for on...</td>\n",
       "    </tr>\n",
       "    <tr>\n",
       "      <th>2</th>\n",
       "      <td>new zealand end rohit sharma led india match w...</td>\n",
       "      <td>new zealand defeated india wickets fourth odi ...</td>\n",
       "      <td>sos new zealand end rohit sharma led india mat...</td>\n",
       "      <td>new zealand end rohit sharma led india match w...</td>\n",
       "    </tr>\n",
       "    <tr>\n",
       "      <th>3</th>\n",
       "      <td>aegon life iterm insurance plan helps customer...</td>\n",
       "      <td>aegon life iterm insurance plan customers enjo...</td>\n",
       "      <td>sos aegon life iterm insurance plan helps cust...</td>\n",
       "      <td>aegon life iterm insurance plan helps customer...</td>\n",
       "    </tr>\n",
       "    <tr>\n",
       "      <th>4</th>\n",
       "      <td>have known hirani for yrs what if metoo claims...</td>\n",
       "      <td>speaking sexual harassment allegations rajkuma...</td>\n",
       "      <td>sos have known hirani for yrs what if metoo cl...</td>\n",
       "      <td>have known hirani for yrs what if metoo claims...</td>\n",
       "    </tr>\n",
       "  </tbody>\n",
       "</table>\n",
       "</div>"
      ],
      "text/plain": [
       "                                           headlines  \\\n",
       "0  upgrad learner switches to career in ml al wit...   \n",
       "1  delhi techie wins free food from swiggy for on...   \n",
       "2  new zealand end rohit sharma led india match w...   \n",
       "3  aegon life iterm insurance plan helps customer...   \n",
       "4  have known hirani for yrs what if metoo claims...   \n",
       "\n",
       "                                                text  \\\n",
       "0  saurav kant alumnus upgrad iiit pg program mac...   \n",
       "1  kunal shah credit card bill payment platform c...   \n",
       "2  new zealand defeated india wickets fourth odi ...   \n",
       "3  aegon life iterm insurance plan customers enjo...   \n",
       "4  speaking sexual harassment allegations rajkuma...   \n",
       "\n",
       "                                       decoder_input  \\\n",
       "0  sos upgrad learner switches to career in ml al...   \n",
       "1  sos delhi techie wins free food from swiggy fo...   \n",
       "2  sos new zealand end rohit sharma led india mat...   \n",
       "3  sos aegon life iterm insurance plan helps cust...   \n",
       "4  sos have known hirani for yrs what if metoo cl...   \n",
       "\n",
       "                                      decoder_target  \n",
       "0  upgrad learner switches to career in ml al wit...  \n",
       "1  delhi techie wins free food from swiggy for on...  \n",
       "2  new zealand end rohit sharma led india match w...  \n",
       "3  aegon life iterm insurance plan helps customer...  \n",
       "4  have known hirani for yrs what if metoo claims...  "
      ]
     },
     "execution_count": 78,
     "metadata": {},
     "output_type": "execute_result"
    }
   ],
   "source": [
    "news['decoder_input'] = news['headlines'].apply(lambda x : 'sos '+ x)\n",
    "news['decoder_target'] = news['headlines'].apply(lambda x : x + ' eos')\n",
    "news.head()"
   ]
  },
  {
   "cell_type": "code",
   "execution_count": 79,
   "metadata": {},
   "outputs": [],
   "source": [
    "encoder_input = np.array(news['text'])\n",
    "decoder_input = np.array(news['decoder_input']) \n",
    "decoder_target = np.array(news['decoder_target'])"
   ]
  },
  {
   "cell_type": "code",
   "execution_count": 80,
   "metadata": {},
   "outputs": [
    {
     "name": "stdout",
     "output_type": "stream",
     "text": [
      "[20712  1579 50968 ... 69618  1272 83828]\n"
     ]
    }
   ],
   "source": [
    "indices = np.arange(encoder_input.shape[0])\n",
    "np.random.shuffle(indices)\n",
    "print(indices)"
   ]
  },
  {
   "cell_type": "code",
   "execution_count": 81,
   "metadata": {},
   "outputs": [],
   "source": [
    "encoder_input = encoder_input[indices]\n",
    "decoder_input = decoder_input[indices]\n",
    "decoder_target = decoder_target[indices]"
   ]
  },
  {
   "cell_type": "code",
   "execution_count": 82,
   "metadata": {},
   "outputs": [
    {
     "name": "stdout",
     "output_type": "stream",
     "text": [
      "테스트 데이터의 수 : 19572\n"
     ]
    }
   ],
   "source": [
    "n_of_val = int(len(encoder_input)*0.2)\n",
    "print('테스트 데이터의 수 :',n_of_val)"
   ]
  },
  {
   "cell_type": "code",
   "execution_count": 83,
   "metadata": {},
   "outputs": [
    {
     "name": "stdout",
     "output_type": "stream",
     "text": [
      "훈련 데이터의 개수 : 78291\n",
      "훈련 레이블의 개수 : 78291\n",
      "테스트 데이터의 개수 : 19572\n",
      "테스트 레이블의 개수 : 19572\n"
     ]
    }
   ],
   "source": [
    "encoder_input_train = encoder_input[:-n_of_val]\n",
    "decoder_input_train = decoder_input[:-n_of_val]\n",
    "decoder_target_train = decoder_target[:-n_of_val]\n",
    "\n",
    "encoder_input_test = encoder_input[-n_of_val:]\n",
    "decoder_input_test = decoder_input[-n_of_val:]\n",
    "decoder_target_test = decoder_target[-n_of_val:]\n",
    "\n",
    "print('훈련 데이터의 개수 :', len(encoder_input_train))\n",
    "print('훈련 레이블의 개수 :',len(decoder_input_train))\n",
    "print('테스트 데이터의 개수 :',len(encoder_input_test))\n",
    "print('테스트 레이블의 개수 :',len(decoder_input_test))"
   ]
  },
  {
   "cell_type": "code",
   "execution_count": 84,
   "metadata": {},
   "outputs": [],
   "source": [
    "src_tokenizer = Tokenizer() # 토크나이저 정의\n",
    "src_tokenizer.fit_on_texts(encoder_input_train) # 입력된 데이터로부터 단어 집합 생성"
   ]
  },
  {
   "cell_type": "code",
   "execution_count": 85,
   "metadata": {},
   "outputs": [
    {
     "name": "stdout",
     "output_type": "stream",
     "text": [
      "단어 집합(vocabulary)의 크기 : 69219\n",
      "등장 빈도가 6번 이하인 희귀 단어의 수: 47086\n",
      "단어 집합에서 희귀 단어를 제외시킬 경우의 단어 집합의 크기 22133\n",
      "단어 집합에서 희귀 단어의 비율: 68.02467530591312\n",
      "전체 등장 빈도에서 희귀 단어 등장 빈도 비율: 3.481656396035911\n"
     ]
    }
   ],
   "source": [
    "threshold = 7\n",
    "total_cnt = len(src_tokenizer.word_index) # 단어의 수\n",
    "rare_cnt = 0 # 등장 빈도수가 threshold보다 작은 단어의 개수를 카운트\n",
    "total_freq = 0 # 훈련 데이터의 전체 단어 빈도수 총 합\n",
    "rare_freq = 0 # 등장 빈도수가 threshold보다 작은 단어의 등장 빈도수의 총 합\n",
    "\n",
    "# 단어와 빈도수의 쌍(pair)을 key와 value로 받는다.\n",
    "for key, value in src_tokenizer.word_counts.items():\n",
    "    total_freq = total_freq + value\n",
    "\n",
    "    # 단어의 등장 빈도수가 threshold보다 작으면\n",
    "    if(value < threshold):\n",
    "        rare_cnt = rare_cnt + 1\n",
    "        rare_freq = rare_freq + value\n",
    "\n",
    "print('단어 집합(vocabulary)의 크기 :',total_cnt)\n",
    "print('등장 빈도가 %s번 이하인 희귀 단어의 수: %s'%(threshold - 1, rare_cnt))\n",
    "print('단어 집합에서 희귀 단어를 제외시킬 경우의 단어 집합의 크기 %s'%(total_cnt - rare_cnt))\n",
    "print(\"단어 집합에서 희귀 단어의 비율:\", (rare_cnt / total_cnt)*100)\n",
    "print(\"전체 등장 빈도에서 희귀 단어 등장 빈도 비율:\", (rare_freq / total_freq)*100)"
   ]
  },
  {
   "cell_type": "code",
   "execution_count": 86,
   "metadata": {},
   "outputs": [],
   "source": [
    "src_vocab = 20000 # 단어집합의 크기 * (1- 희귀단어의 비율)의 근사값\n",
    "src_tokenizer = Tokenizer(num_words = src_vocab)\n",
    "src_tokenizer.fit_on_texts(encoder_input_train)"
   ]
  },
  {
   "cell_type": "code",
   "execution_count": 87,
   "metadata": {},
   "outputs": [
    {
     "name": "stdout",
     "output_type": "stream",
     "text": [
      "[[79, 824, 1281, 198, 149, 1143, 143, 1177, 20, 44, 88, 149, 498, 15, 6, 29, 15, 543, 824, 5506, 1143, 33, 363, 2764, 1037, 818, 48, 1143, 1375, 1235, 1277], [37, 482, 2142, 104, 9, 1773, 18, 126, 2153, 1242, 182, 14, 2833, 2999, 1, 232, 2153, 378, 462, 4610, 6151, 171, 985, 985, 173, 19, 335, 389, 450, 14, 4534, 8390, 775, 3728, 4], [127, 194, 4816, 926, 1034, 99, 1406, 307, 237, 3978, 2740, 2328, 2885, 2, 99, 1406, 1249, 5913, 1491, 77, 897, 34, 649, 1271, 2023, 1698, 429, 6, 1249, 4633, 439, 897, 34, 1437, 1250, 5109, 7308, 27, 2230]]\n"
     ]
    }
   ],
   "source": [
    "encoder_input_train = src_tokenizer.texts_to_sequences(encoder_input_train) \n",
    "encoder_input_test = src_tokenizer.texts_to_sequences(encoder_input_test)\n",
    "\n",
    "print(encoder_input_train[:3])"
   ]
  },
  {
   "cell_type": "code",
   "execution_count": 88,
   "metadata": {},
   "outputs": [],
   "source": [
    "tar_tokenizer = Tokenizer()\n",
    "tar_tokenizer.fit_on_texts(decoder_input_train)"
   ]
  },
  {
   "cell_type": "code",
   "execution_count": 89,
   "metadata": {},
   "outputs": [
    {
     "name": "stdout",
     "output_type": "stream",
     "text": [
      "단어 집합(vocabulary)의 크기 : 30045\n",
      "등장 빈도가 5번 이하인 희귀 단어의 수: 19635\n",
      "단어 집합에서 희귀 단어를 제외시킬 경우의 단어 집합의 크기 10410\n",
      "단어 집합에서 희귀 단어의 비율: 65.35197204193709\n",
      "전체 등장 빈도에서 희귀 단어 등장 빈도 비율: 4.657062393833133\n"
     ]
    }
   ],
   "source": [
    "threshold = 6\n",
    "total_cnt = len(tar_tokenizer.word_index) # 단어의 수\n",
    "rare_cnt = 0 # 등장 빈도수가 threshold보다 작은 단어의 개수를 카운트\n",
    "total_freq = 0 # 훈련 데이터의 전체 단어 빈도수 총 합\n",
    "rare_freq = 0 # 등장 빈도수가 threshold보다 작은 단어의 등장 빈도수의 총 합\n",
    "\n",
    "# 단어와 빈도수의 쌍(pair)을 key와 value로 받는다.\n",
    "for key, value in tar_tokenizer.word_counts.items():\n",
    "    total_freq = total_freq + value\n",
    "\n",
    "    # 단어의 등장 빈도수가 threshold보다 작으면\n",
    "    if(value < threshold):\n",
    "        rare_cnt = rare_cnt + 1\n",
    "        rare_freq = rare_freq + value\n",
    "\n",
    "print('단어 집합(vocabulary)의 크기 :',total_cnt)\n",
    "print('등장 빈도가 %s번 이하인 희귀 단어의 수: %s'%(threshold - 1, rare_cnt))\n",
    "print('단어 집합에서 희귀 단어를 제외시킬 경우의 단어 집합의 크기 %s'%(total_cnt - rare_cnt))\n",
    "print(\"단어 집합에서 희귀 단어의 비율:\", (rare_cnt / total_cnt)*100)\n",
    "print(\"전체 등장 빈도에서 희귀 단어 등장 빈도 비율:\", (rare_freq / total_freq)*100)"
   ]
  },
  {
   "cell_type": "code",
   "execution_count": 90,
   "metadata": {},
   "outputs": [
    {
     "name": "stdout",
     "output_type": "stream",
     "text": [
      "input\n",
      "input  [[1, 361, 110, 6495, 164, 9, 502, 14], [1, 5624, 410, 730, 730, 2162, 7, 1044, 1009, 769], [1, 159, 199, 7210, 3, 370, 515, 2390, 4, 8], [1, 730, 1729, 464, 166, 715], [1, 628, 2211, 3691, 746, 9, 58, 152]]\n",
      "target\n",
      "decoder  [[361, 110, 6495, 164, 9, 502, 14, 2], [5624, 410, 730, 730, 2162, 7, 1044, 1009, 769, 2], [159, 199, 7210, 3, 370, 515, 2390, 4, 8, 2], [730, 1729, 464, 166, 715, 2], [628, 2211, 3691, 746, 9, 58, 152, 2]]\n"
     ]
    }
   ],
   "source": [
    "tar_vocab = 10000\n",
    "tar_tokenizer = Tokenizer(num_words = tar_vocab) \n",
    "tar_tokenizer.fit_on_texts(decoder_input_train)\n",
    "tar_tokenizer.fit_on_texts(decoder_target_train)\n",
    "\n",
    "# 텍스트 시퀀스를 정수 시퀀스로 변환\n",
    "decoder_input_train = tar_tokenizer.texts_to_sequences(decoder_input_train) \n",
    "decoder_target_train = tar_tokenizer.texts_to_sequences(decoder_target_train)\n",
    "decoder_input_test = tar_tokenizer.texts_to_sequences(decoder_input_test)\n",
    "decoder_target_test = tar_tokenizer.texts_to_sequences(decoder_target_test)\n",
    "\n",
    "#잘 변환되었는지 확인\n",
    "print('input')\n",
    "print('input ',decoder_input_train[:5])\n",
    "print('target')\n",
    "print('decoder ',decoder_target_train[:5])"
   ]
  },
  {
   "cell_type": "code",
   "execution_count": 91,
   "metadata": {},
   "outputs": [
    {
     "name": "stdout",
     "output_type": "stream",
     "text": [
      "삭제할 훈련 데이터의 개수 : 0\n",
      "삭제할 테스트 데이터의 개수 : 1\n",
      "훈련 데이터의 개수 : 78291\n",
      "훈련 레이블의 개수 : 78291\n",
      "테스트 데이터의 개수 : 19571\n",
      "테스트 레이블의 개수 : 19571\n"
     ]
    }
   ],
   "source": [
    "drop_train = [index for index, sentence in enumerate(decoder_input_train) if len(sentence) == 1]\n",
    "drop_test = [index for index, sentence in enumerate(decoder_input_test) if len(sentence) == 1]\n",
    "\n",
    "print('삭제할 훈련 데이터의 개수 :',len(drop_train))\n",
    "print('삭제할 테스트 데이터의 개수 :',len(drop_test))\n",
    "\n",
    "encoder_input_train = np.delete(encoder_input_train, drop_train, axis=0)\n",
    "decoder_input_train = np.delete(decoder_input_train, drop_train, axis=0)\n",
    "decoder_target_train = np.delete(decoder_target_train, drop_train, axis=0)\n",
    "\n",
    "encoder_input_test = np.delete(encoder_input_test, drop_test, axis=0)\n",
    "decoder_input_test = np.delete(decoder_input_test, drop_test, axis=0)\n",
    "decoder_target_test = np.delete(decoder_target_test, drop_test, axis=0)\n",
    "\n",
    "print('훈련 데이터의 개수 :', len(encoder_input_train))\n",
    "print('훈련 레이블의 개수 :',len(decoder_input_train))\n",
    "print('테스트 데이터의 개수 :',len(encoder_input_test))\n",
    "print('테스트 레이블의 개수 :',len(decoder_input_test))"
   ]
  },
  {
   "cell_type": "code",
   "execution_count": 92,
   "metadata": {},
   "outputs": [],
   "source": [
    "encoder_input_train = pad_sequences(encoder_input_train, maxlen = text_max_len, padding='pre')\n",
    "encoder_input_test = pad_sequences(encoder_input_test, maxlen = text_max_len, padding='pre')\n",
    "decoder_input_train = pad_sequences(decoder_input_train, maxlen = summary_max_len, padding='pre')\n",
    "decoder_target_train = pad_sequences(decoder_target_train, maxlen = summary_max_len, padding='pre')\n",
    "decoder_input_test = pad_sequences(decoder_input_test, maxlen = summary_max_len, padding='pre')\n",
    "decoder_target_test = pad_sequences(decoder_target_test, maxlen = summary_max_len, padding='pre')"
   ]
  },
  {
   "cell_type": "markdown",
   "metadata": {},
   "source": [
    "### 3. 데이터 설계하기"
   ]
  },
  {
   "cell_type": "code",
   "execution_count": 93,
   "metadata": {},
   "outputs": [
    {
     "name": "stdout",
     "output_type": "stream",
     "text": [
      "WARNING:tensorflow:Layer lstm_4 will not use cuDNN kernel since it doesn't meet the cuDNN kernel criteria. It will use generic GPU kernel as fallback when running on GPU\n",
      "WARNING:tensorflow:Layer lstm_5 will not use cuDNN kernel since it doesn't meet the cuDNN kernel criteria. It will use generic GPU kernel as fallback when running on GPU\n",
      "WARNING:tensorflow:Layer lstm_6 will not use cuDNN kernel since it doesn't meet the cuDNN kernel criteria. It will use generic GPU kernel as fallback when running on GPU\n"
     ]
    }
   ],
   "source": [
    "\n",
    "embedding_dim = 128\n",
    "hidden_size = 256\n",
    "\n",
    "\n",
    "encoder_inputs = Input(shape=(text_max_len,))\n",
    "\n",
    "\n",
    "enc_emb = Embedding(src_vocab, embedding_dim)(encoder_inputs)\n",
    "\n",
    "\n",
    "encoder_lstm1 = LSTM(hidden_size, return_sequences=True, return_state=True ,dropout = 0.4, recurrent_dropout = 0.4)\n",
    "encoder_output1, state_h1, state_c1 = encoder_lstm1(enc_emb)\n",
    "\n",
    "\n",
    "encoder_lstm2 = LSTM(hidden_size, return_sequences=True, return_state=True, dropout=0.4, recurrent_dropout=0.4)\n",
    "encoder_output2, state_h2, state_c2 = encoder_lstm2(encoder_output1)\n",
    "\n",
    "\n",
    "encoder_lstm3 = LSTM(hidden_size, return_state=True, return_sequences=True, dropout=0.4, recurrent_dropout=0.4)\n",
    "encoder_outputs, state_h, state_c= encoder_lstm3(encoder_output2)"
   ]
  },
  {
   "cell_type": "code",
   "execution_count": 94,
   "metadata": {},
   "outputs": [
    {
     "name": "stdout",
     "output_type": "stream",
     "text": [
      "WARNING:tensorflow:Layer lstm_7 will not use cuDNN kernel since it doesn't meet the cuDNN kernel criteria. It will use generic GPU kernel as fallback when running on GPU\n"
     ]
    }
   ],
   "source": [
    "decoder_inputs = Input(shape=(None,))\n",
    "\n",
    "\n",
    "dec_emb_layer = Embedding(tar_vocab, embedding_dim)\n",
    "dec_emb = dec_emb_layer(decoder_inputs)\n",
    "\n",
    "\n",
    "decoder_lstm = LSTM(hidden_size, return_sequences = True, return_state = True, dropout = 0.4, recurrent_dropout=0.2)\n",
    "decoder_outputs, _, _ = decoder_lstm(dec_emb, initial_state = [state_h, state_c])"
   ]
  },
  {
   "cell_type": "code",
   "execution_count": 95,
   "metadata": {},
   "outputs": [
    {
     "name": "stdout",
     "output_type": "stream",
     "text": [
      "Model: \"model_4\"\n",
      "__________________________________________________________________________________________________\n",
      "Layer (type)                    Output Shape         Param #     Connected to                     \n",
      "==================================================================================================\n",
      "input_6 (InputLayer)            [(None, 45)]         0                                            \n",
      "__________________________________________________________________________________________________\n",
      "embedding_2 (Embedding)         (None, 45, 128)      1280000     input_6[0][0]                    \n",
      "__________________________________________________________________________________________________\n",
      "lstm_4 (LSTM)                   [(None, 45, 256), (N 394240      embedding_2[0][0]                \n",
      "__________________________________________________________________________________________________\n",
      "input_7 (InputLayer)            [(None, None)]       0                                            \n",
      "__________________________________________________________________________________________________\n",
      "lstm_5 (LSTM)                   [(None, 45, 256), (N 525312      lstm_4[0][0]                     \n",
      "__________________________________________________________________________________________________\n",
      "embedding_3 (Embedding)         (None, None, 128)    1280000     input_7[0][0]                    \n",
      "__________________________________________________________________________________________________\n",
      "lstm_6 (LSTM)                   [(None, 45, 256), (N 525312      lstm_5[0][0]                     \n",
      "__________________________________________________________________________________________________\n",
      "lstm_7 (LSTM)                   [(None, None, 256),  394240      embedding_3[0][0]                \n",
      "                                                                 lstm_6[0][1]                     \n",
      "                                                                 lstm_6[0][2]                     \n",
      "__________________________________________________________________________________________________\n",
      "dense_2 (Dense)                 (None, None, 10000)  2570000     lstm_7[0][0]                     \n",
      "==================================================================================================\n",
      "Total params: 6,969,104\n",
      "Trainable params: 6,969,104\n",
      "Non-trainable params: 0\n",
      "__________________________________________________________________________________________________\n"
     ]
    }
   ],
   "source": [
    "decoder_softmax_layer = Dense(tar_vocab, activation = 'softmax')\n",
    "decoder_softmax_outputs = decoder_softmax_layer(decoder_outputs) \n",
    "\n",
    "\n",
    "model = Model([encoder_inputs, decoder_inputs], decoder_softmax_outputs)\n",
    "model.summary()"
   ]
  },
  {
   "cell_type": "code",
   "execution_count": 96,
   "metadata": {},
   "outputs": [
    {
     "name": "stdout",
     "output_type": "stream",
     "text": [
      "Model: \"model_5\"\n",
      "__________________________________________________________________________________________________\n",
      "Layer (type)                    Output Shape         Param #     Connected to                     \n",
      "==================================================================================================\n",
      "input_6 (InputLayer)            [(None, 45)]         0                                            \n",
      "__________________________________________________________________________________________________\n",
      "embedding_2 (Embedding)         (None, 45, 128)      1280000     input_6[0][0]                    \n",
      "__________________________________________________________________________________________________\n",
      "lstm_4 (LSTM)                   [(None, 45, 256), (N 394240      embedding_2[0][0]                \n",
      "__________________________________________________________________________________________________\n",
      "input_7 (InputLayer)            [(None, None)]       0                                            \n",
      "__________________________________________________________________________________________________\n",
      "lstm_5 (LSTM)                   [(None, 45, 256), (N 525312      lstm_4[0][0]                     \n",
      "__________________________________________________________________________________________________\n",
      "embedding_3 (Embedding)         (None, None, 128)    1280000     input_7[0][0]                    \n",
      "__________________________________________________________________________________________________\n",
      "lstm_6 (LSTM)                   [(None, 45, 256), (N 525312      lstm_5[0][0]                     \n",
      "__________________________________________________________________________________________________\n",
      "lstm_7 (LSTM)                   [(None, None, 256),  394240      embedding_3[0][0]                \n",
      "                                                                 lstm_6[0][1]                     \n",
      "                                                                 lstm_6[0][2]                     \n",
      "__________________________________________________________________________________________________\n",
      "attention_layer (AttentionLayer ((None, None, 256),  131328      lstm_6[0][0]                     \n",
      "                                                                 lstm_7[0][0]                     \n",
      "__________________________________________________________________________________________________\n",
      "concat_layer (Concatenate)      (None, None, 512)    0           lstm_7[0][0]                     \n",
      "                                                                 attention_layer[0][0]            \n",
      "__________________________________________________________________________________________________\n",
      "dense_3 (Dense)                 (None, None, 10000)  5130000     concat_layer[0][0]               \n",
      "==================================================================================================\n",
      "Total params: 9,660,432\n",
      "Trainable params: 9,660,432\n",
      "Non-trainable params: 0\n",
      "__________________________________________________________________________________________________\n"
     ]
    }
   ],
   "source": [
    "attn_layer = AttentionLayer(name='attention_layer')\n",
    "\n",
    "attn_out, attn_states = attn_layer([encoder_outputs, decoder_outputs])\n",
    "\n",
    "\n",
    "decoder_concat_input = Concatenate(axis = -1, name='concat_layer')([decoder_outputs, attn_out])\n",
    "\n",
    "\n",
    "decoder_softmax_layer = Dense(tar_vocab, activation='softmax')\n",
    "decoder_softmax_outputs = decoder_softmax_layer(decoder_concat_input)\n",
    "\n",
    "\n",
    "model = Model([encoder_inputs, decoder_inputs], decoder_softmax_outputs)\n",
    "model.summary()"
   ]
  },
  {
   "cell_type": "markdown",
   "metadata": {},
   "source": [
    "### 4. 모델 훈련하기"
   ]
  },
  {
   "cell_type": "code",
   "execution_count": 97,
   "metadata": {},
   "outputs": [
    {
     "name": "stdout",
     "output_type": "stream",
     "text": [
      "Epoch 1/50\n",
      "306/306 [==============================] - 104s 340ms/step - loss: 5.1873 - val_loss: 4.8571\n",
      "Epoch 2/50\n",
      "306/306 [==============================] - 102s 334ms/step - loss: 4.8522 - val_loss: 4.7388\n",
      "Epoch 3/50\n",
      "306/306 [==============================] - 102s 332ms/step - loss: 4.7315 - val_loss: 4.6365\n",
      "Epoch 4/50\n",
      "306/306 [==============================] - 102s 333ms/step - loss: 4.6051 - val_loss: 4.5176\n",
      "Epoch 5/50\n",
      "306/306 [==============================] - 102s 334ms/step - loss: 4.4806 - val_loss: 4.4495\n",
      "Epoch 6/50\n",
      "306/306 [==============================] - 103s 337ms/step - loss: 4.3736 - val_loss: 4.3339\n",
      "Epoch 7/50\n",
      "306/306 [==============================] - 104s 340ms/step - loss: 4.2853 - val_loss: 4.2889\n",
      "Epoch 8/50\n",
      "306/306 [==============================] - 104s 339ms/step - loss: 4.2134 - val_loss: 4.2231\n",
      "Epoch 9/50\n",
      "306/306 [==============================] - 102s 333ms/step - loss: 4.1495 - val_loss: 4.1824\n",
      "Epoch 10/50\n",
      "306/306 [==============================] - 102s 333ms/step - loss: 4.0936 - val_loss: 4.1461\n",
      "Epoch 11/50\n",
      "306/306 [==============================] - 102s 333ms/step - loss: 4.0434 - val_loss: 4.1908\n",
      "Epoch 12/50\n",
      "306/306 [==============================] - 112s 366ms/step - loss: 4.0014 - val_loss: 4.0980\n",
      "Epoch 13/50\n",
      "306/306 [==============================] - 112s 365ms/step - loss: 3.9609 - val_loss: 4.0732\n",
      "Epoch 14/50\n",
      "306/306 [==============================] - 109s 355ms/step - loss: 3.9261 - val_loss: 4.0588\n",
      "Epoch 15/50\n",
      "306/306 [==============================] - 108s 351ms/step - loss: 3.8909 - val_loss: 4.0400\n",
      "Epoch 16/50\n",
      "306/306 [==============================] - 100s 327ms/step - loss: 3.8583 - val_loss: 4.0250\n",
      "Epoch 17/50\n",
      "306/306 [==============================] - 100s 328ms/step - loss: 3.8290 - val_loss: 4.0125\n",
      "Epoch 18/50\n",
      "306/306 [==============================] - 100s 327ms/step - loss: 3.8017 - val_loss: 4.0018\n",
      "Epoch 19/50\n",
      "306/306 [==============================] - 100s 328ms/step - loss: 3.7753 - val_loss: 3.9952\n",
      "Epoch 20/50\n",
      "306/306 [==============================] - 100s 328ms/step - loss: 3.7459 - val_loss: 3.9611\n",
      "Epoch 21/50\n",
      "306/306 [==============================] - 100s 327ms/step - loss: 3.7008 - val_loss: 3.9333\n",
      "Epoch 22/50\n",
      "306/306 [==============================] - 101s 329ms/step - loss: 3.6531 - val_loss: 3.8862\n",
      "Epoch 23/50\n",
      "306/306 [==============================] - 105s 342ms/step - loss: 3.6026 - val_loss: 3.8617\n",
      "Epoch 24/50\n",
      "306/306 [==============================] - 111s 362ms/step - loss: 3.5532 - val_loss: 3.8123\n",
      "Epoch 25/50\n",
      "306/306 [==============================] - 107s 350ms/step - loss: 3.5025 - val_loss: 3.7820\n",
      "Epoch 26/50\n",
      "306/306 [==============================] - 105s 342ms/step - loss: 3.4557 - val_loss: 3.7466\n",
      "Epoch 27/50\n",
      "306/306 [==============================] - 106s 347ms/step - loss: 3.4050 - val_loss: 3.7038\n",
      "Epoch 28/50\n",
      "306/306 [==============================] - 106s 345ms/step - loss: 3.3565 - val_loss: 3.6789\n",
      "Epoch 29/50\n",
      "306/306 [==============================] - 107s 350ms/step - loss: 3.3068 - val_loss: 3.6440\n",
      "Epoch 30/50\n",
      "306/306 [==============================] - 107s 349ms/step - loss: 3.2587 - val_loss: 3.6136\n",
      "Epoch 31/50\n",
      "306/306 [==============================] - 105s 344ms/step - loss: 3.2109 - val_loss: 3.5907\n",
      "Epoch 32/50\n",
      "306/306 [==============================] - 107s 349ms/step - loss: 3.1646 - val_loss: 3.5563\n",
      "Epoch 33/50\n",
      "306/306 [==============================] - 106s 346ms/step - loss: 3.1193 - val_loss: 3.5355\n",
      "Epoch 34/50\n",
      "306/306 [==============================] - 107s 349ms/step - loss: 3.0764 - val_loss: 3.5158\n",
      "Epoch 35/50\n",
      "306/306 [==============================] - 105s 343ms/step - loss: 3.0351 - val_loss: 3.4985\n",
      "Epoch 36/50\n",
      "306/306 [==============================] - 105s 343ms/step - loss: 2.9915 - val_loss: 3.4734\n",
      "Epoch 37/50\n",
      "306/306 [==============================] - 105s 343ms/step - loss: 2.9530 - val_loss: 3.4811\n",
      "Epoch 38/50\n",
      "306/306 [==============================] - 106s 345ms/step - loss: 2.9165 - val_loss: 3.4358\n",
      "Epoch 39/50\n",
      "306/306 [==============================] - 106s 347ms/step - loss: 2.8808 - val_loss: 3.4247\n",
      "Epoch 40/50\n",
      "306/306 [==============================] - 106s 346ms/step - loss: 2.8466 - val_loss: 3.4118\n",
      "Epoch 41/50\n",
      "306/306 [==============================] - 104s 340ms/step - loss: 2.8141 - val_loss: 3.3957\n",
      "Epoch 42/50\n",
      "306/306 [==============================] - 104s 340ms/step - loss: 2.7764 - val_loss: 3.3839\n",
      "Epoch 43/50\n",
      "306/306 [==============================] - 104s 340ms/step - loss: 2.7447 - val_loss: 3.3728\n",
      "Epoch 44/50\n",
      "306/306 [==============================] - 109s 355ms/step - loss: 2.7124 - val_loss: 3.3837\n",
      "Epoch 45/50\n",
      "306/306 [==============================] - 110s 360ms/step - loss: 2.6815 - val_loss: 3.3621\n",
      "Epoch 46/50\n",
      "306/306 [==============================] - 108s 354ms/step - loss: 2.6530 - val_loss: 3.3708\n",
      "Epoch 47/50\n",
      "306/306 [==============================] - 106s 346ms/step - loss: 2.6265 - val_loss: 3.3486\n",
      "Epoch 48/50\n",
      "306/306 [==============================] - 106s 345ms/step - loss: 2.6005 - val_loss: 3.3500\n",
      "Epoch 49/50\n",
      "306/306 [==============================] - 106s 346ms/step - loss: 2.5724 - val_loss: 3.3405\n",
      "Epoch 50/50\n",
      "306/306 [==============================] - 105s 345ms/step - loss: 2.5456 - val_loss: 3.3277\n"
     ]
    }
   ],
   "source": [
    "model.compile(optimizer='rmsprop', loss='sparse_categorical_crossentropy')\n",
    "es = EarlyStopping(monitor='val_loss', mode='min', verbose=1, patience = 2)\n",
    "history = model.fit(x = [encoder_input_train, decoder_input_train], y = decoder_target_train, \\\n",
    "          validation_data = ([encoder_input_test, decoder_input_test], decoder_target_test),\n",
    "          batch_size = 256, callbacks=[es], epochs = 50)"
   ]
  },
  {
   "cell_type": "code",
   "execution_count": 98,
   "metadata": {},
   "outputs": [
    {
     "data": {
      "image/png": "[encoded data removed]",
      "text/plain": [
       "<Figure size 432x288 with 1 Axes>"
      ]
     },
     "metadata": {
      "needs_background": "light"
     },
     "output_type": "display_data"
    }
   ],
   "source": [
    "plt.plot(history.history['loss'], label='train')\n",
    "plt.plot(history.history['val_loss'], label='test')\n",
    "plt.legend()\n",
    "plt.show()"
   ]
  },
  {
   "cell_type": "markdown",
   "metadata": {},
   "source": [
    "### 조금만 더 돌려보자."
   ]
  },
  {
   "cell_type": "code",
   "execution_count": 99,
   "metadata": {},
   "outputs": [
    {
     "name": "stdout",
     "output_type": "stream",
     "text": [
      "Epoch 1/20\n",
      "306/306 [==============================] - 107s 349ms/step - loss: 2.5233 - val_loss: 3.3614\n",
      "Epoch 2/20\n",
      "306/306 [==============================] - 110s 359ms/step - loss: 2.5010 - val_loss: 3.3298\n",
      "Epoch 3/20\n",
      "306/306 [==============================] - 111s 364ms/step - loss: 2.4788 - val_loss: 3.3395\n",
      "Epoch 4/20\n",
      "306/306 [==============================] - 114s 374ms/step - loss: 2.4565 - val_loss: 3.3311\n",
      "Epoch 00004: early stopping\n"
     ]
    }
   ],
   "source": [
    "history = model.fit(x = [encoder_input_train, decoder_input_train], y = decoder_target_train, \\\n",
    "          validation_data = ([encoder_input_test, decoder_input_test], decoder_target_test),\n",
    "          batch_size = 256, callbacks=[es], epochs = 20)"
   ]
  },
  {
   "cell_type": "markdown",
   "metadata": {},
   "source": [
    "### 5. 인퍼런스모델 구현하기"
   ]
  },
  {
   "cell_type": "code",
   "execution_count": 101,
   "metadata": {},
   "outputs": [],
   "source": [
    "src_index_to_word = src_tokenizer.index_word # 원문 단어 집합에서 정수 -> 단어를 얻음\n",
    "tar_word_to_index = tar_tokenizer.word_index # 요약 단어 집합에서 단어 -> 정수를 얻음\n",
    "tar_index_to_word = tar_tokenizer.index_word # 요약 단어 집합에서 정수 -> 단어를 얻음"
   ]
  },
  {
   "cell_type": "code",
   "execution_count": 102,
   "metadata": {},
   "outputs": [],
   "source": [
    "# 인코더 설계\n",
    "encoder_model = Model(inputs=encoder_inputs, outputs=[encoder_outputs, state_h, state_c])\n",
    "\n",
    "# 이전 시점의 상태들을 저장하는 텐서\n",
    "decoder_state_input_h = Input(shape=(hidden_size,))\n",
    "decoder_state_input_c = Input(shape=(hidden_size,))\n",
    "\n",
    "dec_emb2 = dec_emb_layer(decoder_inputs)\n",
    "# 문장의 다음 단어를 예측하기 위해서 초기 상태(initial_state)를 이전 시점의 상태로 사용. 이는 뒤의 함수 decode_sequence()에 구현\n",
    "# 훈련 과정에서와 달리 LSTM의 리턴하는 은닉 상태와 셀 상태인 state_h와 state_c를 버리지 않음.\n",
    "decoder_outputs2, state_h2, state_c2 = decoder_lstm(dec_emb2, initial_state=[decoder_state_input_h, decoder_state_input_c])"
   ]
  },
  {
   "cell_type": "code",
   "execution_count": 103,
   "metadata": {},
   "outputs": [],
   "source": [
    "# 어텐션 함수\n",
    "decoder_hidden_state_input = Input(shape=(text_max_len, hidden_size))\n",
    "attn_out_inf, attn_states_inf = attn_layer([decoder_hidden_state_input, decoder_outputs2])\n",
    "decoder_inf_concat = Concatenate(axis=-1, name='concat')([decoder_outputs2, attn_out_inf])\n",
    "\n",
    "# 디코더의 출력층\n",
    "decoder_outputs2 = decoder_softmax_layer(decoder_inf_concat) \n",
    "\n",
    "# 최종 디코더 모델\n",
    "decoder_model = Model(\n",
    "    [decoder_inputs] + [decoder_hidden_state_input,decoder_state_input_h, decoder_state_input_c],\n",
    "    [decoder_outputs2] + [state_h2, state_c2])"
   ]
  },
  {
   "cell_type": "code",
   "execution_count": 105,
   "metadata": {},
   "outputs": [],
   "source": [
    "def decode_sequence(input_seq):\n",
    "    # 입력으로부터 인코더의 상태를 얻음\n",
    "    e_out, e_h, e_c = encoder_model.predict(input_seq)\n",
    "\n",
    "     # <SOS>에 해당하는 토큰 생성\n",
    "    target_seq = np.zeros((1,1))\n",
    "    target_seq[0, 0] = tar_word_to_index['sos']\n",
    "\n",
    "    stop_condition = False\n",
    "    decoded_sentence = ''\n",
    "    while not stop_condition: # stop_condition이 True가 될 때까지 루프 반복\n",
    "\n",
    "        output_tokens, h, c = decoder_model.predict([target_seq] + [e_out, e_h, e_c])\n",
    "        sampled_token_index = np.argmax(output_tokens[0, -1, :])\n",
    "        sampled_token = tar_index_to_word[sampled_token_index]\n",
    "\n",
    "        if(sampled_token!='eos'):\n",
    "            decoded_sentence += ' '+sampled_token\n",
    "\n",
    "        #  <eos>에 도달하거나 최대 길이를 넘으면 중단.\n",
    "        if (sampled_token == 'eos'  or len(decoded_sentence.split()) >= (summary_max_len-1)):\n",
    "            stop_condition = True\n",
    "\n",
    "        # 길이가 1인 타겟 시퀀스를 업데이트\n",
    "        target_seq = np.zeros((1,1))\n",
    "        target_seq[0, 0] = sampled_token_index\n",
    "\n",
    "        # 상태를 업데이트 합니다.\n",
    "        e_h, e_c = h, c\n",
    "\n",
    "    return decoded_sentence"
   ]
  },
  {
   "cell_type": "markdown",
   "metadata": {},
   "source": [
    "### 6. 모델 테스트하기"
   ]
  },
  {
   "cell_type": "code",
   "execution_count": 106,
   "metadata": {},
   "outputs": [],
   "source": [
    "# 원문의 정수 시퀀스를 텍스트 시퀀스로 변환\n",
    "def seq2text(input_seq):\n",
    "    temp=''\n",
    "    for i in input_seq:\n",
    "        if(i!=0):\n",
    "            temp = temp + src_index_to_word[i]+' '\n",
    "    return temp\n",
    "\n",
    "# 요약문의 정수 시퀀스를 텍스트 시퀀스로 변환\n",
    "def seq2summary(input_seq):\n",
    "    temp=''\n",
    "    for i in input_seq:\n",
    "        if((i!=0 and i!=tar_word_to_index['sos']) and i!=tar_word_to_index['eos']):\n",
    "            temp = temp + tar_index_to_word[i] + ' '\n",
    "    return temp"
   ]
  },
  {
   "cell_type": "code",
   "execution_count": 108,
   "metadata": {},
   "outputs": [
    {
     "name": "stdout",
     "output_type": "stream",
     "text": [
      "원문 : hollywood actor mark accidentally live streamed portion world premiere upcoming superhero film forgot turn instagram live audio film kept playing live streamed video mark kept phone inside pocket shared live video fans event \n",
      "실제 요약 : mark accidentally part of thor \n",
      "예측 요약 :  releases pic of actor from sets of his own game in thrones\n",
      "\n",
      "\n",
      "원문 : market regulator sebi friday rejected india largest engineering construction company crore share buyback regulator rejected proposal citing sharp rise debt equity ratio company buyback went government holds stake looking participate buyback raise funds \n",
      "실제 요약 : market regulator rejects crore share buyback \n",
      "예측 요약 :  pnb shares rise in last year low of profit of bn fraud\n",
      "\n",
      "\n",
      "원문 : reference people criticising akshay kumar recent national award win suniel shetty said completely wrong akshay given many hits deserves honour shetty added maybe given honour looking growth years akshay first national award best actor year \n",
      "실제 요약 : akshay kumar to win national award suniel shetty \n",
      "예측 요약 :  akshay kumar to be part of the first lady in wood film\n",
      "\n",
      "\n",
      "원문 : sbi said research report banks may lose crore annually due investment card machines costs revenues demonetisation number point sale increased lakh march lakh july average banks installing per day \n",
      "실제 요약 : card payment push may cause loss of cr to banks sbi \n",
      "예측 요약 :  rbi to set up to banks in sbi for first time notes\n",
      "\n",
      "\n",
      "원문 : installed barcelona spain pure liquid built recognise earlier considered world greatest source later studies suggested harmful effects glass installed around protect visitors breathing \n",
      "실제 요약 : in spain pure liquid mercury \n",
      "예측 요약 :  what is the of the world has the most of the world\n",
      "\n",
      "\n",
      "원문 : islamic state militant group claimed responsibility attack kabul afghanistan killed least people injured others thursday attack targeted news agency office neighbouring cultural centre president ashraf ghani spokesman called attack crime humanity pledged destroy terrorist groups \n",
      "실제 요약 : islamic state claims afghanistan attack that killed \n",
      "예측 요약 :  isis claims to kill isis in afghanistan in afghanistan over terror attack\n",
      "\n",
      "\n",
      "원문 : lucknow based startup developed drone gps tracking device deliver tea customers taking order food delivery app drone carry kilograms range startup founded iit kanpur alumnus vikram singh \n",
      "실제 요약 : iitian startup develops drone to deliver tea \n",
      "예측 요약 :  device that can detect any phone in car made by gps made\n",
      "\n",
      "\n",
      "원문 : chief justice india saturday said become mere piece paper political parties made accountable said none political parties indicated link electoral reforms constitutional goal ensuring economic social justice section \n",
      "실제 요약 : parties must be held for promises \n",
      "예측 요약 :  if we do not want to be ready for any party prez\n",
      "\n",
      "\n",
      "원문 : plastic us army centre successfully new ear year old soldier lost left ear car accident two years ago total ear reconstruction first kind army involved patient ear placed skin grow \n",
      "실제 요약 : soldier receives ear transplant from ear grown on her arm \n",
      "예측 요약 :  us man builds car to get water from plane with it is\n",
      "\n",
      "\n",
      "원문 : new poster john abraham starrer house unveiled sharing poster john tweeted everything achieved could wiped one moment based real life incident delhi spot shootout took place film release august along alia bhatt starrer \n",
      "실제 요약 : new poster of john abraham starrer house unveiled \n",
      "예측 요약 :  big shares pic with fans from race poster on his th anniversary\n",
      "\n",
      "\n",
      "원문 : many police personnel recently injured stone pelting mob yatra bareilly uttar pradesh alleged attack happened played loud music passing muslim dominated police resort charge crowd \n",
      "실제 요약 : security personnel injured in stone pelting \n",
      "예측 요약 :  cops kill me in bulandshahr was hit by mob in naxal attack\n",
      "\n",
      "\n",
      "원문 : japan supreme court monday rejected suit filed survivors atomic bombing sought official recognition victims within kilometres ground zero attack took place outside affected zone recognised government recognised survivors entitled full compensation including medical assistance japan \n",
      "실제 요약 : japan sc rejects recognition to nagasaki survivors \n",
      "예측 요약 :  japan sc asks ex china to ban on sale of spy poisoning\n",
      "\n",
      "\n",
      "원문 : canada based scientists developed technique map cell components similar study earth structure technology called cell uses high speed camera study cells scale technology applications cancer infections tissue engineering said researchers \n",
      "실제 요약 : scientists study of cells using their \n",
      "예측 요약 :  study claims to find how to see the sun like in humans\n",
      "\n",
      "\n",
      "원문 : russian president vladimir putin blamed mall fire killed least people sunday city criminal negligence also blamed mayor lack safety checks building putin pointed checks past two years though necessary ensure safety \n",
      "실제 요약 : russian prez blames mall fire that killed on negligence \n",
      "예측 요약 :  putin asks putin to give away to fire at fire at home\n",
      "\n",
      "\n",
      "원문 : election commission ordered police protection congress mlas gujarat reports bjp trying bribe join party nine mlas gujarat given security addition party took bengaluru comes six party mlas resigned joined bjp \n",
      "실제 요약 : guj congress mlas get police protection after quit party \n",
      "예측 요약 :  bjp to give gujarat seat to bjp mla who died in gujarat\n",
      "\n",
      "\n",
      "원문 : iit delhi administration decided make students next batch sign undertaking admissions drink alcohol smoke cigarettes use drugs campus institute said earlier approach inform parents students violated ban drinking smoking failed students found violating undertaking penalised expelled \n",
      "실제 요약 : iit delhi asks for against drinking smoking \n",
      "예측 요약 :  delhi civic body to be held for using plastic food in delhi\n",
      "\n",
      "\n",
      "원문 : video showing policeman dancing bollywood songs throwing money uttar pradesh recently went viral social media two policemen constable officer deployed ensure security visitors local fair suspended police began probe incident \n",
      "실제 요약 : video shows policeman throwing money at in up \n",
      "예측 요약 :  video shows cop who called up home over video of his car\n",
      "\n",
      "\n",
      "원문 : special screening akshay kumar sonam kapoor radhika apte starrer pad man held information broadcasting minister smriti irani tuesday screening attended film actors director producer twinkle khanna social activist whose life film based pad man scheduled release february \n",
      "실제 요약 : special screening of akshay pad man held for smriti irani \n",
      "예측 요약 :  akshay kumar to play pad man in pad man of pad man\n",
      "\n",
      "\n",
      "원문 : body man tamil nadu met accident near house found kilometres away andhra pradesh riding motorcycle allegedly hit car due collision impact fell passing truck truck driver unaware accident kept driving \n",
      "실제 요약 : man falls in truck after accident unaware driver takes body km \n",
      "예측 요약 :  man in tn man dies in car while being hit by truck\n",
      "\n",
      "\n",
      "원문 : pakistan media regulator thursday released notification banning broadcast news channel interview former taliban spokesperson terrorist cannot allowed use channel platform interview would efforts pakistani soldiers notification said added interview would deeply disturbing \n",
      "실제 요약 : pak bans airing of interview with ex taliban spokesperson \n",
      "예측 요약 :  pak removes pak tv anchor who slammed for not on tv channel\n",
      "\n",
      "\n",
      "원문 : batsman shubman gill become th cricketer represent india odi cricket achieving feat new zealand fourth odi hamilton thursday year old received maiden odi cap former captain ms dhoni notably shubman named player world cup new zealand last year \n",
      "실제 요약 : year old shubman gill becomes india th odi cricketer \n",
      "예측 요약 :  india odi odi series in odi series win for st time ever\n",
      "\n",
      "\n",
      "원문 : actress alia bhatt mother soni set return television industry show titled na interested television lot hard work subject took offer said earlier featured television shows including \n",
      "실제 요약 : alia bhatt mother soni to appear on tv after yrs \n",
      "예측 요약 :  alia bhatt shares pic of herself with her her st film at\n",
      "\n",
      "\n",
      "원문 : san francisco american airlines flight made emergency monday flyers could use toilet four onboard airline said maintenance team pushed system using air flight landed meanwhile flyers boarded another aircraft reached destination nearly two hour delay \n",
      "실제 요약 : flight makes emergency diversion so flyers can use toilet \n",
      "예측 요약 :  passengers stuck in flight delayed by flyers to take off plane door\n",
      "\n",
      "\n",
      "원문 : google co founder larry page questioned company ongoing lawsuit uber said sure authorised according reports said phrase recall uber lawyers least times testimony google self driving car spinoff waymo sued uber february accusing ride hailing startup stealing trade secrets \n",
      "실제 요약 : not sure lawsuit against uber google founder \n",
      "예측 요약 :  google ceo tim cook to be shut down after being fired report\n",
      "\n",
      "\n",
      "원문 : australian cricketers lost million salaries first going contract due ongoing pay dispute cricket australia funds declared sport governing body earlier pushed game notably around australian cricketers became unemployed contracts expired june \n",
      "실제 요약 : aus players lose over crore in over pay dispute \n",
      "예측 요약 :  australia to pay lakh to aus players who lost money from diamond\n",
      "\n",
      "\n",
      "원문 : defamation case filed actress tanushree dutta comments maharashtra navnirman sena chief raj thackeray case filed mns district unit president alleged dutta party chief dutta recently said raj thackeray wanted succeed late bal thackeray sena chief could \n",
      "실제 요약 : defamation case against tanushree for comments on thackeray \n",
      "예측 요약 :  jaya to be jaya as jaya was denied bail in law raj\n",
      "\n",
      "\n",
      "원문 : pm narendra modi receive canadian counterpart justin trudeau delhi indira gandhi international airport arrived seven day trip pm modi invitation saturday meeting trudeau world economic forum session switzerland january pm modi tweeted looking forward welcoming india next month \n",
      "실제 요약 : pm modi did not receive canada pm despite earlier tweet \n",
      "예측 요약 :  pm modi to visit india to meet pm modi at taj mahal\n",
      "\n",
      "\n",
      "원문 : india year old shooter nation youngest medalist commonwealth games following men rapid fire pistol finals gold hails haryana whose class exams cbse also gold medals junior world cup junior world championships \n",
      "실제 요약 : who is india youngest ever cwg medalist \n",
      "예측 요약 :  yr old indian origin wrestler dies in boxing ship at cwg ship\n",
      "\n",
      "\n",
      "원문 : man accused staff wine company pub cyber hub beating friends said bill leaving pub manager stopped due beat friends also broke several bottles alleged \n",
      "실제 요약 : man accuses cyber hub pub staff of beating friends \n",
      "예측 요약 :  man who asked to pay bill to pay for man for yrs\n",
      "\n",
      "\n",
      "원문 : north korea sunday claimed tested advanced hydrogen bomb capable mounted intercontinental ballistic missile marking sixth nuclear test test hailed perfect success estimated four five times stronger nuclear bomb dropped \n",
      "실제 요약 : north korea conducts hydrogen bomb test its th nuclear test \n",
      "예측 요약 :  will not be able to be ready for war with korea prez\n",
      "\n",
      "\n",
      "원문 : supreme court said amrapali group played big fraud homebuyers money big racket behind must unearthed forensic found group firm diverted crore company managed amrapali amrapali also allegedly diverted crore crore collected homebuyers one housing projects \n",
      "실제 요약 : amrapali played big fraud sc after audit finds cr diversion \n",
      "예측 요약 :  sc allows amrapali to sell his house to pay cr in amrapali\n",
      "\n",
      "\n",
      "원문 : talking number four spot indian team indian captain virat kohli said number four position sort area want anyone bats four take responsibility world cup person take responsibility number four kohli added \n",
      "실제 요약 : number position is something we want kohli \n",
      "예측 요약 :  it is not there is not there is no place kl kohli\n",
      "\n",
      "\n",
      "원문 : infosys granted lakh restricted stock units worth crore new ceo parekh others given include cfo md presidents ravi kumar mohit joshi next fiscal parekh receive fixed pay crore eligible pay crore \n",
      "실제 요약 : infosys new ceo gets lakh stock units worth crore \n",
      "예측 요약 :  infosys to pay cr for its first time in years in row\n",
      "\n",
      "\n",
      "원문 : us based team including indian origin designed wearable detect blood sugar levels sweat claim first ever device works week without loss signal integrity team built previous work include three diabetes \n",
      "실제 요약 : device blood sugar levels from \n",
      "예측 요약 :  us makes ai that can detect cancer cells in real time made\n",
      "\n",
      "\n",
      "원문 : celebrate pm narendra modi th birthday weighing kg cut locations per uttar pradesh minister tiwari special prayers offered temples pray long life pm thousand lit locations added tiwari \n",
      "실제 요약 : of kg each cut at places for pm modi th day \n",
      "예측 요약 :  pm modi to be held for taking cr in statue of pm\n",
      "\n",
      "\n",
      "원문 : microsoft executive mixed reality inventor alex recent interview said phone already dead people realised believes like mixed reality device replace phone technology major apple well billion startup magic leap reportedly working similar \n",
      "실제 요약 : the phone is already dead says microsoft inventor \n",
      "예측 요약 :  will not be able to sell out of tv show ex ceo\n",
      "\n",
      "\n",
      "원문 : royal challengers bangalore captain virat kohli declared fit play upcoming matches indian premier league bcci medical team fitness declared match fit rcb match mumbai indians friday kohli suffered shoulder injury ranchi test australia last month action since \n",
      "실제 요약 : virat kohli declared fit to play in the ipl \n",
      "예측 요약 :  kohli has no one test player in the ipl for ipl tests\n",
      "\n",
      "\n",
      "원문 : spinner akshay playing board president xi warm match australia bowled using arms tuesday akshay bowled spin left left arm spin right taking wicket travis head akshay started right arm spinner threw left handed coach convinced bowl left arm well \n",
      "실제 요약 : indian spinner bowls with both arms in warm up vs australia \n",
      "예측 요약 :  shah rukh khan to take him out of his xi in ipl\n",
      "\n",
      "\n",
      "원문 : reliance communications enterprise arm global cloud sent notice rivals stop campaigns company closing voice services business clients rcom termed campaign illegal malicious earlier rcom announced closing voice services retail subscribers networks \n",
      "실제 요약 : rcom arm sends notice to rivals for campaign against it \n",
      "예측 요약 :  firm to pay cr to users pay to pay for free staff\n",
      "\n",
      "\n",
      "원문 : varun dhawan jacqueline fernandez took social media wish taapsee pannu th birthday tuesday jacqueline shared picture captioned punjabi classes eating lots cake super time shooting judwaa wishing amazing birthday meanwhile varun shared video captioned happy birthday \n",
      "실제 요약 : varun jacqueline wish taapsee on her th birthday \n",
      "예측 요약 :  jacqueline shares pic with fans with him varun on his th birthday\n",
      "\n",
      "\n",
      "원문 : shaped like man running american football canadian woman contest sponsored maker oh legacy going lady lady said revealed husband almost ate \n",
      "실제 요약 : shaped like running man wins canadian woman lakh \n",
      "예측 요약 :  woman who got out of the world cup was on same day\n",
      "\n",
      "\n",
      "원문 : madras high court observed use elephants bless devotees seek money amounts begging petitioner sought order passed forest department officials transit licence taking elephant temple near chennai \n",
      "실제 요약 : elephants use in temples for taking money hc \n",
      "예측 요약 :  hc asks tn to pay if they do not pay bills hc\n",
      "\n",
      "\n",
      "원문 : saudi arabia paid us military attempt recently passed law allowing families attacks victims sue alleged role attacks reports said reportedly hired foreign agents across us fund trips however claimed misled trip organisers \n",
      "실제 요약 : saudi arabia paid us soldiers protesting anti saudi law \n",
      "예측 요약 :  us says it is not to do not be detained in us\n",
      "\n",
      "\n",
      "원문 : actress priyanka chopra tweeted picture mother madhu chopra occasion mother day writing even little like actress went wish mothers including would mothers wish mothers future special day \n",
      "실제 요약 : to be little like my mother priyanka on mother day \n",
      "예측 요약 :  was told to do not want to do mom priyanka on mom\n",
      "\n",
      "\n",
      "원문 : bjp mp subramanian swamy friday tweeted ram madhav cnn news pdp bjp failed accountable check interview madhav said cannot blame anybody else ruling party \n",
      "실제 요약 : swamy blames doval for bjp pdp govt failure in \n",
      "예측 요약 :  if bjp does not want to be in ayodhya case bjp swamy\n",
      "\n",
      "\n",
      "원문 : south africa captain du plessis suggested australian cricket team avoid indian captain virat kohli give silent treatment kohli amazing player gave silent treatment still scored runs south africa felt like huge runs du plessis added \n",
      "실제 요약 : sa captain australia to avoid with kohli \n",
      "예측 요약 :  kohli is not the best player in sa cricket team in tests\n",
      "\n",
      "\n",
      "원문 : rcb captain virat kohli said know play innovative shots like teammate ab de villiers inability play shots stick game added meanwhile de villiers said players play shots skilled hit ball six consistently \n",
      "실제 요약 : do not know how to play shots like abd kohli \n",
      "예측 요약 :  ab de villiers to be made in front of his father kohli\n",
      "\n",
      "\n",
      "원문 : shah rukh khan anushka sharma katrina kaif starrer zero becomes goes along wrote hindustan times plot neither said times india indian express said zero fails giving us anything believe rated \n",
      "실제 요약 : shah rukh khan anushka katrina starrer zero hits theatres \n",
      "예측 요약 :  srk to get more than srk in srk in wood film report\n",
      "\n",
      "\n",
      "원문 : last india china stand taken place indian chinese soldiers martyred started chinese objected india putting wire along border agreed upon sides stand la pass forced chinese withdraw nearly three kilometres away \n",
      "실제 요약 : when was the last major india china stand off \n",
      "예측 요약 :  china to go on china border with doklam over china war report\n",
      "\n",
      "\n",
      "원문 : man says fired us home store violating safety policy trying stop suspected kidnapping finishing shift co worker spotted violent dispute parking lot woman screaming kidnapping child called gave statement fired \n",
      "실제 요약 : home employee fired on trying to stop child kidnapping \n",
      "예측 요약 :  us man who killed man in us for not paying money report\n",
      "\n",
      "\n"
     ]
    }
   ],
   "source": [
    "for i in range(50, 100):\n",
    "    print(\"원문 :\", seq2text(encoder_input_test[i]))\n",
    "    print(\"실제 요약 :\", seq2summary(decoder_input_test[i]))\n",
    "    print(\"예측 요약 :\", decode_sequence(encoder_input_test[i].reshape(1, text_max_len)))\n",
    "    print(\"\\n\")"
   ]
  },
  {
   "cell_type": "markdown",
   "metadata": {},
   "source": [
    "## 추출 요약"
   ]
  },
  {
   "cell_type": "code",
   "execution_count": 139,
   "metadata": {},
   "outputs": [],
   "source": [
    "import requests\n",
    "from summa.summarizer import summarize"
   ]
  },
  {
   "cell_type": "code",
   "execution_count": 140,
   "metadata": {},
   "outputs": [
    {
     "name": "stdout",
     "output_type": "stream",
     "text": [
      "(98401, 2)\n"
     ]
    }
   ],
   "source": [
    "news_path = os.getenv(\"HOME\") + '/aiffel/news_summarization/data/news_summary_more.csv'\n",
    "news = pd.read_csv(news_path)\n",
    "news.head()\n",
    "print(news.shape)\n",
    "summarization_path = os.getenv('HOME') + '/aiffel/news_summarization/data/summzarization_data.txt'"
   ]
  },
  {
   "cell_type": "code",
   "execution_count": 141,
   "metadata": {},
   "outputs": [],
   "source": [
    "with open(summarization_path, 'w', encoding='utf8') as f:\n",
    "    f.write('\\n'.join(news['text']))"
   ]
  },
  {
   "cell_type": "code",
   "execution_count": 142,
   "metadata": {},
   "outputs": [],
   "source": [
    "with open(summarization_path, 'r', encoding = 'utf-8') as f:\n",
    "    summarization = f.read().split('\\n')"
   ]
  },
  {
   "cell_type": "code",
   "execution_count": 152,
   "metadata": {},
   "outputs": [],
   "source": [
    "test = summarization[:100]"
   ]
  },
  {
   "cell_type": "code",
   "execution_count": 161,
   "metadata": {},
   "outputs": [
    {
     "name": "stdout",
     "output_type": "stream",
     "text": [
      "Summary:\n",
      "The program and upGrad's 360-degree career support helped him transition to a Data Scientist at Tech Mahindra with 90% salary hike.\n",
      "upGrad's Online Power Learning has powered 3 lakh+ careers.\n",
      "Summary:\n",
      "Pranav Kaushik, a Delhi techie, bagged this reward after spending 2000 CRED coins.\n",
      "Users get one CRED coin per rupee of bill paid, which can be used to avail rewards from brands like Ixigo, BookMyShow, UberEats, Cult.Fit and more.\n",
      "Summary:\n",
      "New Zealand defeated India by 8 wickets in the fourth ODI at Hamilton on Thursday to win their first match of the five-match ODI series.\n",
      "The match witnessed India getting all out for 92, their seventh lowest total in ODI cricket history.\n",
      "Summary:\n",
      "The plan provides life cover up to the age of 100 years.\n",
      "Also, customers have options to insure against Critical Illnesses, Disability and Accidental Death Benefit Rider with a life cover up to the age of 80 years.\n",
      "Summary:\n",
      "Speaking about the sexual harassment allegations against Rajkumar Hirani, Sonam Kapoor said, \"I've known Hirani for many years...What if it's not true, the [#MeToo] movement will get derailed.\" \"In the #MeToo movement, I always believe a woman.\n",
      "Summary:\n",
      "Pakistani singer Rahat Fateh Ali Khan has denied receiving any notice from the Enforcement Directorate over allegedly smuggling foreign currency out of India.\n",
      "\"It would have been better if the authorities would have served the notice first if any and then publicised this,\" reads a press release issued on behalf of Rahat.\n",
      "Summary:\n",
      "India recorded their lowest ODI total in New Zealand after getting all out for 92 runs in 30.5 overs in the fourth ODI at Hamilton on Thursday.\n",
      "India's previous lowest ODI total in New Zealand was 108.\n",
      "Summary:\n",
      "Weeks after ex-CBI Director Alok Verma told the Department of Personnel and Training to consider him retired, the Home Ministry asked him to join work on the last day of his fixed tenure as Director on Thursday.\n",
      "Summary:\n",
      "Andhra Pradesh CM N Chandrababu Naidu has said, \"When I met then US President Bill Clinton, I addressed him as Mr Clinton, not as 'sir'.\n",
      "Summary:\n",
      "Congress candidate Shafia Zubair won the Ramgarh Assembly seat in Rajasthan, by defeating BJP's Sukhwant Singh with a margin of 12,228 votes in the bypoll.\n",
      "The election to the Ramgarh seat was delayed due to the death of sitting MLA and BSP candidate Laxman Singh.\n",
      "Summary:\n",
      "Two minor cousins in Uttar Pradesh's Gorakhpur were allegedly repeatedly burnt with tongs and forced to eat human excreta by their family for being friends with two boys from the same school.\n",
      "Summary:\n",
      "Isha Ghosh, an 81-year-old member of Bharat Scouts and Guides (BSG), has been imparting physical and mental training to schoolchildren in Jharkhand for several decades.\n",
      "Chaibasa-based Ghosh reportedly walks seven kilometres daily and spends eight hours conducting physical training, apart from climbing and yoga sessions.\n",
      "Summary:\n",
      "Urging saints and seers at the Kumbh Mela to quit smoking, Yoga guru Ramdev said, \"We follow Ram and Krishna who never smoked in their life then why should we?\" Making them take a pledge to quit tobacco, he collected chillum (clay pipe) from several sadhus.\n",
      "Summary:\n",
      "Former stripper and regional sales director of a pharmaceutical company, Sunrise Lee, gave a doctor a lap dance in a nightclub to persuade him to prescribe an addictive fentanyl spray in 2012, the company's sales representative told a US court.\n",
      "Summary:\n",
      "Reliance Industries' Chairman Mukesh Ambani's daughter Isha Ambani, who got married last month, said she only cried at her 'bidaai' because she felt peer pressure as everyone was crying, especially her parents.\n",
      "\"It was a very emotional affair for everyone in my family,\" said Isha.\n",
      "Summary:\n",
      "Louis Vuitton owner LVMH, which makes high-end beverages like MoÃ«t & Chandon champagne and Hennessy cognac, said it's stockpiling four months' worth of wine and spirits in UK in preparation for Brexit.\n",
      "The UK is scheduled to leave the EU on March 29.\n",
      "Summary:\n",
      "Filmmaker Karan Johar and actress Tabu turned showstoppers for Gaurav Gupta on the opening night of LakmÃ© Fashion Week Summer/ Resort 2019.\n",
      "While Johar wore a red sequinned jacket with black pants, Tabu walked the ramp in a grey embellished gown.\n",
      "Summary:\n",
      "\n",
      "Summary:\n",
      "\n",
      "Summary:\n",
      "Union Minister Dharmendra Pradhan on Wednesday claimed the illegal mining mafia in Odisha operates under the control of CM Naveen Patnaik and state Congress chief Niranjan Patnaik.\n",
      "Summary:\n",
      "\n",
      "Summary:\n",
      "The Indian Space Research Organisation on Wednesday unveiled Human Space Flight Centre in Bengaluru for its â¹10,000-crore manned space mission 'Gaganyaan' scheduled for 2021.\n",
      "It'll also pursue activities for sustained human space flight missions, ISRO added.\n",
      "Summary:\n",
      "At least 12 people have been killed and 170 others have been injured in Saudi Arabia this week due to flooding from heavy rain.\n",
      "Heavy rains hit mainly western and northwestern parts of Saudi Arabia, near its border with Jordan.\n",
      "Summary:\n",
      "Reliance Industries' Chairman Mukesh Ambani's daughter Isha Ambani has featured on the cover of the February edition of Vogue India.\n",
      "In the cover story on her, Isha has spoken about her work and life after marriage.\n",
      "Summary:\n",
      "\n",
      "Summary:\n",
      "This comes amid uncertainties over Iran imports.\n",
      "The US had in November granted a six-month waiver to India from sanctions against Iran and restricted the country's monthly intake of Iranian oil to 3,00,000 barrels per day.\n",
      "Summary:\n",
      "\n",
      "Summary:\n",
      "\n",
      "Summary:\n",
      "Ambrose's spell helped his team bowl out Australia for 119 in the first innings, after being 85 for 2 at one point.\n",
      "Ambrose ended with first-innings figures of 18-9-25-7.\n",
      "Summary:\n",
      "\"For those that don't quite require revenge, there's another way to make you feel better about getting back at your ex,\" the zoo said in a statement.\n",
      "The names will appear on zoo's 'roach board' on February 14.\n",
      "Summary:\n",
      "Stand-in captain Rohit Sharma has become the 14th Indian cricketer to play 200 ODIs, achieving the feat after taking the field against New Zealand in fourth ODI at Hamilton on Thursday.\n",
      "Rohit scored 7,799 runs in his first 199 ODIs at an average of 48.14.\n",
      "Summary:\n",
      "Batsman Shubman Gill has become the 227th cricketer to represent India in ODI cricket, achieving the feat against New Zealand in the fourth ODI at Hamilton on Thursday.\n",
      "Notably, Shubman was named Player of the Under-19 World Cup in New Zealand last year.\n",
      "Summary:\n",
      "Investigators searching for a lost plane carrying Argentine forward Emiliano Sala found two seat cushions on French coast that \"likely\" belonged to the aircraft.\n",
      "The investigators said they'll now launch an underwater seabed search for aircraft wreckage.\n",
      "Summary:\n",
      "Italian third division football side Lucchese's head coach Giancarlo Favarin has been banned for five months for headbutting Alessandria's assistant coach Gaetano Mancino during a brawl following the teams' 2-2 draw on Sunday.\n",
      "Mancino was caught off-balance and knocked to the ground after the headbutt.\n",
      "Summary:\n",
      "Cyclists taking part in National Track Cycling Championship in Jaipur opted to sleep on the floor inside the stadium instead of hotels over expensive cycles.\n",
      "The organisers had booked hotels but they didn't have the provision for cyclists to keep their bikes inside.\n",
      "Summary:\n",
      "Silvia Grecco, a 56-year-old Brazilian mother narrates her local football team Palmeiras' matches live to her 12-year-old blind and autistic son Nickollas from the stands.\n",
      "Summary:\n",
      "A TechCrunch report has claimed that Indiaâs largest bank SBI secured a passwordless server \"overnight\" on being alerted it allowed anyone to access phone numbers, bank balances, and transactions of millions of its customers.\n",
      "Summary:\n",
      "Rahul Gandhi has replied to Goa CM Manohar Parrikar's letter, which accused the Congress President of using his \"visit to an ailing man for political gains\".\n",
      "Parrikar had clarified he didn't discuss Rafale deal with Rahul.\n",
      "Summary:\n",
      "Twenty-seven-year-old Mohammed Mahuwala was arrested in Indore on Wednesday for allegedly cheating e-commerce giant Amazon of nearly â¹30 lakh.\n",
      "Mahuwala was a member of a gang who ordered costly gadgets from Amazon.\n",
      "In reality, these devices were taken out from parcel and sold...to local shopkeepers,\" said police.\n",
      "Summary:\n",
      "AgustaWestland chopper scam co-accused Rajiv Saxena was extradited to India from UAE on Wednesday.\n",
      "He had been evading the Enforcement Directorate's summons claiming he was suffering from leukaemia but had moved an anti-money laundering court for anticipatory bail in December, stating he had never been summoned at his Dubai address.\n",
      "Saxena's lawyers alleged he had been \"illegally extradited\".\n",
      "Summary:\n",
      "Afghan President Ashraf Ghani has said the \"keys to war\" are in Pakistan's Islamabad, Quetta and Rawalpindi, accusing the country of providing safe havens to militants, including those belonging to the Taliban.\n",
      "Ghani added the \"key to peace was in Afghanistan\".\n",
      "Summary:\n",
      "A Singapore-based insurance agent has been jailed for two years and five months for threatening to harm his clients unless they paid him in bitcoins.\n",
      "Ye Lin Myint targeted about 33 people, including those who cancelled insurance policies.\n",
      "Summary:\n",
      "Gabrielle Reilly, a 22-year-old US woman, created earrings for her Apple AirPods and put it up for sale online for $20 (about â¹1,500).\n",
      "\"I absolutely refuse to lose them (AirPods)...So I made earrings,\" she explained.\n",
      "Summary:\n",
      "Ex-ICICI Bank CEO Chanda Kochhar said she's \"utterly disappointed, hurt and shocked\" by the bank's decision to terminate her.\n",
      "Adding that she hasn't been given a copy of the independent probe report, Kochhar said none of ICICI's credit decisions are unilateral\n",
      "Summary:\n",
      "Swedish multinational fast-fashion brand Hennes & Mauritz AB (H&M) has hired Christopher Wylie, the whistleblower who exposed Facebook's Cambridge Analytica data scandal.\n",
      "Wylie is a former employee of Cambridge Analytica.\n",
      "Summary:\n",
      "Micro-blogging platform Twitter is testing a new feature on Android to put news on the top of a user's timeline.\n",
      "The feature comes alongside a prompt saying, \"Catch up on what's happened while you were away.\"\n",
      "Summary:\n",
      "Samsung has started mass producing its one terabyte 'embedded Universal Flash Storage (eUFS) 2.1' technology for \"use in next-generation mobile applications\", which it claims is the industry's first such eUFS.\n",
      "It'll be sized the same as the previous 512GB version, Samsung said.\n",
      "Summary:\n",
      "Prime Minister Narendra Modi on Wednesday said the people with 'negative mindset' are questioning him and his government for floating pro-poor schemes.\n",
      "He added negative mindset people are raising doubts about schemes such as building toilets and providing free gas connections to the poor.\n",
      "Summary:\n",
      "Union Minister Anantkumar Hegde took a dig at Congress President Rahul Gandhi by calling him a \"hybrid specimen\" who has no clue about religion.\n",
      "He added such \"hybrid specimen\" cannot be found in any laboratory in the world.\n",
      "Summary:\n",
      "Several parts of the US are set to experience record low temperatures as the polar vortex hit the Upper Midwest, with more than 200 million people expected to experience below-freezing temperatures this week.\n",
      "Temperatures throughout the Upper Midwest are expected to be at least 20-40â below zero.\n",
      "Summary:\n",
      "The police on Wednesday registered cases against 13 persons, including a woman leader of Hindu Mahasabha, in Aligarh for firing at an effigy of Mahatma Gandhi with an air pistol.\n",
      "\"The incident took place in a house in Naurangabad locality of the city,\" Senior Superintendent of Police said.\n",
      "Summary:\n",
      "Railway police has rescued a woman travelling on a train in Chennai who got her leg stuck inside the commode of a toilet.\n",
      "Railway police used a cutter to pry open the commode and freed her leg.\n",
      "Summary:\n",
      "The US on Tuesday began returning asylum seekers to Mexico, sending back a migrant from a Central American nation and called the move a \"response to the illegal migration crisis\" faced by it.\n",
      "Summary:\n",
      "Former Finance Minister Yashwant Sinha on Tuesday demanded a probe into the alleged diversion of loans worth â¹31,000 crore by Dewan Housing Finance (DHFL).\n",
      "This comes after a media report on Tuesday accused DHFL's controlling shareholders of diverting funds to shell companies to buy assets.\n",
      "Summary:\n",
      "US-based Boeing on Wednesday reported annual sales worth $101.12 billion in 2018, the first time the planemaker's sales crossed the $100-billion mark in its 102-year history.\n",
      "Boeing retained its position as the world's largest planemaker for the seventh straight year, delivering 806 aircraft in 2018.\n",
      "Summary:\n",
      "\n",
      "Summary:\n",
      "OnePlus has emerged as India's best-selling premium smartphone brand of 2018, as per a report by Counterpoint.\n",
      "Further, its OnePlus 6 emerged as the highest selling premium smartphone of 2018 followed by OnePlus 6T.\n",
      "Summary:\n",
      "Filmmaker Pooja Bhatt, while talking about the presentation of women in her films, said, \"I can never look at a female body, even if it's naked, in a vulgar manner.\" \"Our audience can say...the women in my films are bold or sensual, but never ever vulgar,\" she added.\n",
      "Summary:\n",
      "Actress Mishti, who has featured in 'Manikarnika: The Queen of Jhansi', has said the film's co-director Kangana Ranaut made false promises to the cast.\n",
      "Summary:\n",
      "The high-powered committee led by PM Narendra Modi to select the next CBI Director will meet again on February 1, Congress leader Mallikarjun Kharge has said.\n",
      "Summary:\n",
      "Nevada State Athletic Commission has banned MMA fighters Conor McGregor and Khabib Nurmagomedov for six months and nine months respectively over their roles in the mass brawl that occurred after their fight at UFC 229 last October.\n",
      "Summary:\n",
      "Pakistan captain Sarfaraz Ahmed, who has been banned for four matches over racist remarks, took an apparent dig at his critics by sharing a video of a child reciting 'log hai na' poem on Twitter.\n",
      "Summary:\n",
      "Sreesanth further said the bookie tried dragging him into spot-fixing but he didn't fall for it.\n",
      "Citing Sreesanth not informing BCCI about fixing approach, the apex court said Sreesanth's conduct \"wasn't good\".\n",
      "Summary:\n",
      "The Finance Ministry on Wednesday said the government will present an Interim Budget on February 1.\n",
      "The government recently assigned Piyush Goyal temporary additional charge of the Finance and Corporate Affairs ministries in the absence of Arun Jaitley, who is in the US for treatment.\n",
      "Summary:\n",
      "US President Donald Trump on Wednesday called his country's top intelligence chiefs \"naive\" and \"wrong\" on Iran and added that they should perhaps \"go back to school\".\n",
      "Trump claimed Iran is testing rockets, calling the country \"a source of potential danger and conflict\".\n",
      "Summary:\n",
      "A senior priest at the Vatican who handled cases of sexual abuse has quit after being accused of sexual abuse by a former nun.\n",
      "The Vatican said in a statement that a Church investigation of the case was underway.\n",
      "Summary:\n",
      "A 22-year-old writer turned down a job offer, claiming she was bullied to the point of tears during her two-hour interview by a UK company's CEO.\n",
      "\"I am so sorry that anyone has been hurt, it is never my intent,\" Web Applications CEO Craig Dean replied.\n",
      "Summary:\n",
      "Noida Police has arrested Sector 20 station in-charge Manoj Pant and three journalists for allegedly extorting money from a call centre owner for removing his name from an FIR.\n",
      "The four were caught while taking bribe money of â¹8 lakh, police said.\n",
      "Summary:\n",
      "India's second-largest telecom operator's Africa unit recently raised $1.25 billion from six investors.\n",
      "Airtel Africa, the holding company for Airtel's operations in 14 African countries, is preparing for an initial public offering.\n",
      "Summary:\n",
      "Actor Shreyas Talpade said that 'Golmaal' filmmaker Rohit Shetty is still working on the script for the fifth instalment of the 'Golmaal' film franchise.\n",
      "Once he's done with the...scripting, he'll take a call,â the actor added.\n",
      "Summary:\n",
      "A 72-year-old man named Terry Sanderson has sued 'Avengers' actress Gwyneth Paltrow for allegedly crashing into him while skiing, and is seeking $3.1 million (over â¹22 crore) in damages.\n",
      "The lawsuit states the actress got up and skied away after knocking the man down, leaving him with broken ribs.\n",
      "Summary:\n",
      "Yami Gautam was felicitated by Border Security Force (BSF) in Amritsar for her performance in 'Uri: The Surgical Strike'.\n",
      "\"BSF is the first line of defence of our country and it gives me...pride to have met them,\" Yami said.\n",
      "Summary:\n",
      "Social media giant Facebook has hired privacy critic Nate Cardozo, formerly the top legal counsel for US privacy watchdog EFF, as a privacy policy manager for WhatsApp. Cardozo had called Facebook a \"faceless corporation\" whose business model depends on user's confusion and indifference about privacy, in October 2015.\n",
      "Summary:\n",
      "Apple CEO Tim Cook said the company plans to lower some iPhones' prices in markets with currencies that weakened against the US dollar in the past year.\n",
      "\"Weâve decided to go back to (iPhone prices) more commensurate with...local prices...a year ago,\" Cook added.\n",
      "Summary:\n",
      "The suit, made of synthetic material similar to the material used in bulletproof vests, could help reduce blood loss after a shark attack.\n",
      "\"The majority of fatalities from shark bites is due to blood loss...shock from blood loss,\" a scientist said.\n",
      "Summary:\n",
      "BJP National Secretary Rahul Sinha on Wednesday asked the party workers in West Bengal to come armed with sticks to PM Narendra Modi's rally in the state on February 2.\n",
      "Sinha added the TMC is indulged in violence as they're afraid of BJP's strength.\n",
      "Summary:\n",
      "BJP President Amit Shah on Wednesday took a dig at the Opposition parties saying that the 'mahagathbandhan' for the Opposition is 4B - \"Bua-Bhatija-Bhai-Behen\".\n",
      "He added that 4B for the BJP meant \"Badhta Bharat, Banta Bharat\".\n",
      "Summary:\n",
      "Volkswagen's sales, including its MAN and Scania heavy trucks and buses, rose 0.9% to 10.83 million in 2018, the company had said.\n",
      "Toyota came second with around 10.6 million deliveries, including its affiliated brands Daihatsu and Hino, in 2018.\n",
      "Summary:\n",
      "Ousted Nissan Chairman Carlos Ghosn has said his arrest over alleged financial misconduct was led by \"plot and treason\" by the Japanese carmaker's executives who opposed its deeper integration with Renault and Mitsubishi.\n",
      "Summary:\n",
      "The government has cut down customs duty on import of parts and components for electric vehicles to 10-15%, down from the previous 15-30%.\n",
      "However, fully built electric vehicles will continue to attract 25% import duty.\n",
      "Summary:\n",
      "Government officials on Wednesday said that a swine flu outbreak has killed 76 people this year in Rajasthan.\n",
      "Rajasthan recorded more than a third of all swine flu deaths in India with Jodhpur being the worst affected area in the state, officials said.\n",
      "Summary:\n",
      "\"North Korean leaders view nuclear arms as critical to regime survival,\" he added.\n",
      "His statements come despite North Korea's agreement with the US at the Singapore summit last year to denuclearise the Korean Peninsula.\n",
      "Summary:\n",
      "Jet Airways on Wednesday denied it was directed by GE Capital Aviation Services to ground its aircraft due to non-payment of dues.\n",
      "Further, three aircraft have been temporarily grounded to carry out an engine normalisation exercise, it added.\n",
      "Summary:\n",
      "Retired Justice Srikrishna's enquiry panel has found that ex-CEO Chanda Kochhar violated ICICI Bank's code of conduct.\n",
      "The bank said it'll treat Kochhar's exit as termination and will take back all bonuses paid to her from April 2009 until March 2018.\n",
      "Summary:\n",
      "Ex-India cricketer Jacob Martin has been shifted to general ward from the ICU after being on a ventilator for nearly a month following a road accident, wherein he severely injured his lungs.\n",
      "Summary:\n",
      "Tanya accused Perera of meeting country's Sports Minister to secure his place in the team.\n",
      "\"We've become laughing stock of whole country...because of one person's personal vendetta,\" Perera wrote.\n",
      "Summary:\n",
      "Goa CM and ex-Defence Minister Manohar Parrikar has written a letter to Congress President Rahul Gandhi over his claim that Parrikar told him he has nothing to do with new Rafale deal.\n",
      "Summary:\n",
      "PM Modi then asked his officers to urgently arrange for an ambulance for the cameraman.\n",
      "\"It's good that PM was paying attention to his surroundings during his speech,\" the cameraman later said from a hospital.\n",
      "Summary:\n",
      "A couple got divorced minutes after their wedding ceremony got over in Gujarat's Gondal as a disagreement broke out and relatives from both sides started throwing dishes at each other during lunch.\n",
      "Summary:\n",
      "Gujarat Education Minister Bhupendrasinh Chudasma has written a congratulatory message to a yoga ashram run by rape-convict Asaram's organisation for observing February 14 as \"Matru-Pitru Pujan Divas\" (Mother-Father worship day).\n",
      "Summary:\n",
      "Venezuelan President NicolÃ¡s Maduro has claimed that his American counterpart Donald Trump ordered the Colombian government and the Colombian mafia to kill him.\n",
      "\"If something happens to me, Trump and Colombian President IvÃ¡n MÃ¡rquez will bear responsibility,\" he added.\n",
      "Summary:\n",
      "Eight Asian billionaires aged 90 or above on the Bloomberg Billionaires Index of world's 500 richest people have a combined net worth of $125 billion.\n",
      "The richest among them is Hong Kong's Li Ka Shing with a net worth of $30.5 billion.\n",
      "Summary:\n",
      "Tamil Nadu food safety officials on Wednesday raided and seized 1,000 kgs of banned plastic items from Hotel Saravana Bhavan in Chennai's Vadapalani.\n",
      "The state government had banned single-use plastics from January 1 and said the banned items should be handed over at the offices of the city corporation.\n",
      "Summary:\n",
      "Actress Shamita Shetty was verbally abused and her driver was slapped in an incident of road rage in Mumbai on Tuesday, as per reports.\n",
      "The incident reportedly took place after a motorist who was accompanied by two friends, rammed his vehicle into Shamita's car.\n",
      "Summary:\n",
      "Actress Vaani Kapoor said that trolling has become a norm on social media, adding, \"There's no one who hasn't got trolled on social media.\" \"Everybody is out there to pull the other person down but it'll only bother [you] if you let it bother you,\" Vaani added.\n",
      "Summary:\n",
      "Actress Sushmita Sen took to Instagram to share a joke on the subject of marriage.\n",
      "\"Whoever invented marriage was creepy as hell.\n",
      "\"This is an insult to [the] beauty of marriage,\" an Instagram user commented on her post.\n",
      "Summary:\n",
      "Television actor Karanvir Bohra, who flew to Russia on Tuesday to attend a film festival, has been detained in Moscow due to passport damage.\n",
      "\"They [are] contemplating to deport me back to India,\" the actor wrote on Twitter.\n",
      "Summary:\n",
      "While speaking about winning awards for his films, Shah Rukh Khan said, \"If I don't get an award, that award is at a loss.\" \"Sometimes, the prestige of an award increases when I receive it,\" the actor jokingly added.\n",
      "Summary:\n",
      "Actress Patralekhaa will make her debut in the Kannada film industry with the action-comedy film 'Where is my Kannadaka?' \"I can definitely say that itâs a kind of role that I havenât portrayed on screen so far and that makes it special for me,\" the actress said in a statement.\n",
      "Summary:\n",
      "Gmail on Tuesday faced a global outage, which also affected India, wherein certain users complained they faced a '404 error' message while trying to sign-in to their accounts.\n",
      "The error message read: \"The requested URL was not found on this server.\n"
     ]
    }
   ],
   "source": [
    "for text in test:\n",
    "    print('Summary:')\n",
    "    print(summarize(text, ratio = 0.8, words = 40))"
   ]
  },
  {
   "cell_type": "markdown",
   "metadata": {},
   "source": [
    "일단 추출요약이 생성요약에 비해서 퀄리티가 있고 자연스럽다.    \n",
    "다만 품질을 올리기 위해서는 BERT나 ELECTRA같은 모델을 쓰면 효율성은 배가될 것이다.    "
   ]
  }
 ],
 "metadata": {
  "kernelspec": {
   "display_name": "aiffel",
   "language": "python",
   "name": "aiffel"
  },
  "language_info": {
   "codemirror_mode": {
    "name": "ipython",
    "version": 3
   },
   "file_extension": ".py",
   "mimetype": "text/x-python",
   "name": "python",
   "nbconvert_exporter": "python",
   "pygments_lexer": "ipython3",
   "version": "3.7.6"
  }
 },
 "nbformat": 4,
 "nbformat_minor": 4
}
