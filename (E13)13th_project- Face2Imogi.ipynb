{
 "cells": [
  {
   "cell_type": "markdown",
   "metadata": {},
   "source": [
    "# Face2Imogi 만들기"
   ]
  },
  {
   "cell_type": "markdown",
   "metadata": {},
   "source": [
    "## 1. 데이터 가져오기"
   ]
  },
  {
   "cell_type": "code",
   "execution_count": 1,
   "metadata": {},
   "outputs": [
    {
     "name": "stderr",
     "output_type": "stream",
     "text": [
      "100%|██████████| 35887/35887 [00:26<00:00, 1349.98it/s]"
     ]
    },
    {
     "name": "stdout",
     "output_type": "stream",
     "text": [
      "train : 32298, eval :3589\n"
     ]
    },
    {
     "name": "stderr",
     "output_type": "stream",
     "text": [
      "\n"
     ]
    }
   ],
   "source": [
    "import numpy as np\n",
    "import tqdm\n",
    "import os\n",
    "\n",
    "train_x = []\n",
    "train_y = []\n",
    "eval_x = []\n",
    "eval_y = []\n",
    "\n",
    "csv_path = os.getenv('HOME')+'/aiffel/tfjs_mobile/data/fer2013.csv'\n",
    "\n",
    "with open(csv_path) as f:\n",
    "  for line in tqdm.tqdm(f.read().splitlines()[1:]):\n",
    "    emotion, pixels, usage = line.split(',')\n",
    "    \n",
    "    x = np.array(pixels.split(' ')).astype(float).reshape(48, 48, 1) / 255\n",
    "    y = int(emotion)\n",
    "\n",
    "    if usage == 'PrivateTest':\n",
    "      eval_x.append(x)\n",
    "      eval_y.append(y)\n",
    "    else:\n",
    "      train_x.append(x)\n",
    "      train_y.append(y)\n",
    "\n",
    "print('train : {}, eval :{}'.format(len(train_x), len(eval_x)))"
   ]
  },
  {
   "cell_type": "code",
   "execution_count": 2,
   "metadata": {},
   "outputs": [
    {
     "name": "stdout",
     "output_type": "stream",
     "text": [
      "Angry\n"
     ]
    },
    {
     "data": {
      "text/plain": [
       "<matplotlib.image.AxesImage at 0x7efd13c1ae90>"
      ]
     },
     "execution_count": 2,
     "metadata": {},
     "output_type": "execute_result"
    },
    {
     "data": {
      "image/png": "[encoded data removed]",
      "text/plain": [
       "<Figure size 432x288 with 1 Axes>"
      ]
     },
     "metadata": {
      "needs_background": "light"
     },
     "output_type": "display_data"
    }
   ],
   "source": [
    "from matplotlib import pyplot as plt\n",
    "\n",
    "LABELS = ['Angry', 'Disgust', 'Fear', 'Happy', 'Sad', 'Surprise', 'Neutral']\n",
    "\n",
    "print(LABELS[train_y[0]])\n",
    "plt.imshow(train_x[0].reshape([48, 48]), cmap='gray')"
   ]
  },
  {
   "cell_type": "markdown",
   "metadata": {},
   "source": [
    "## 2. MobileNet으로 학습시키기"
   ]
  },
  {
   "cell_type": "code",
   "execution_count": 3,
   "metadata": {},
   "outputs": [
    {
     "name": "stdout",
     "output_type": "stream",
     "text": [
      "Epoch 1/100\n",
      "64/64 [==============================] - 72s 1s/step - loss: 1.8259 - categorical_accuracy: 0.2532 - val_loss: 1.9330 - val_categorical_accuracy: 0.2449\n",
      "Epoch 2/100\n",
      "64/64 [==============================] - 6s 93ms/step - loss: 1.6757 - categorical_accuracy: 0.3316 - val_loss: 1.9239 - val_categorical_accuracy: 0.2449\n",
      "Epoch 3/100\n",
      "64/64 [==============================] - 6s 92ms/step - loss: 1.5477 - categorical_accuracy: 0.3973 - val_loss: 1.9218 - val_categorical_accuracy: 0.1471\n",
      "Epoch 4/100\n",
      "64/64 [==============================] - 6s 93ms/step - loss: 1.4691 - categorical_accuracy: 0.4327 - val_loss: 1.9191 - val_categorical_accuracy: 0.1471\n",
      "Epoch 5/100\n",
      "64/64 [==============================] - 6s 93ms/step - loss: 1.3899 - categorical_accuracy: 0.4691 - val_loss: 1.9211 - val_categorical_accuracy: 0.1471\n",
      "Epoch 6/100\n",
      "64/64 [==============================] - 6s 93ms/step - loss: 1.3390 - categorical_accuracy: 0.4872 - val_loss: 1.9201 - val_categorical_accuracy: 0.1744\n",
      "Epoch 7/100\n",
      "64/64 [==============================] - 6s 93ms/step - loss: 1.2685 - categorical_accuracy: 0.5174 - val_loss: 1.9150 - val_categorical_accuracy: 0.1744\n",
      "Epoch 8/100\n",
      "64/64 [==============================] - 6s 93ms/step - loss: 1.1906 - categorical_accuracy: 0.5530 - val_loss: 1.9151 - val_categorical_accuracy: 0.1744\n",
      "Epoch 9/100\n",
      "64/64 [==============================] - 6s 93ms/step - loss: 1.1542 - categorical_accuracy: 0.5658 - val_loss: 1.9091 - val_categorical_accuracy: 0.1655\n",
      "Epoch 10/100\n",
      "64/64 [==============================] - 6s 93ms/step - loss: 1.0894 - categorical_accuracy: 0.5918 - val_loss: 1.9034 - val_categorical_accuracy: 0.1655\n",
      "Epoch 11/100\n",
      "64/64 [==============================] - 6s 96ms/step - loss: 1.0102 - categorical_accuracy: 0.6301 - val_loss: 1.9062 - val_categorical_accuracy: 0.1655\n",
      "Epoch 12/100\n",
      "64/64 [==============================] - 6s 94ms/step - loss: 0.9755 - categorical_accuracy: 0.6405 - val_loss: 1.8959 - val_categorical_accuracy: 0.1655\n",
      "Epoch 13/100\n",
      "64/64 [==============================] - 6s 98ms/step - loss: 0.9538 - categorical_accuracy: 0.6506 - val_loss: 1.8989 - val_categorical_accuracy: 0.1655\n",
      "Epoch 14/100\n",
      "64/64 [==============================] - 6s 101ms/step - loss: 0.9015 - categorical_accuracy: 0.6700 - val_loss: 1.8888 - val_categorical_accuracy: 0.1655\n",
      "Epoch 15/100\n",
      "64/64 [==============================] - 7s 102ms/step - loss: 0.8195 - categorical_accuracy: 0.7013 - val_loss: 1.8933 - val_categorical_accuracy: 0.1655\n",
      "Epoch 16/100\n",
      "64/64 [==============================] - 6s 98ms/step - loss: 0.7651 - categorical_accuracy: 0.7217 - val_loss: 1.8972 - val_categorical_accuracy: 0.1655\n",
      "Epoch 17/100\n",
      "64/64 [==============================] - 6s 98ms/step - loss: 0.7189 - categorical_accuracy: 0.7394 - val_loss: 1.8974 - val_categorical_accuracy: 0.1655\n",
      "Epoch 18/100\n",
      "64/64 [==============================] - 6s 101ms/step - loss: 0.6761 - categorical_accuracy: 0.7567 - val_loss: 1.8996 - val_categorical_accuracy: 0.1655\n",
      "Epoch 19/100\n",
      "64/64 [==============================] - 7s 102ms/step - loss: 0.6107 - categorical_accuracy: 0.7816 - val_loss: 1.9105 - val_categorical_accuracy: 0.1655\n",
      "Epoch 20/100\n",
      "64/64 [==============================] - 7s 102ms/step - loss: 0.6164 - categorical_accuracy: 0.7765 - val_loss: 1.9136 - val_categorical_accuracy: 0.1655\n",
      "Epoch 21/100\n",
      "64/64 [==============================] - 7s 102ms/step - loss: 0.5362 - categorical_accuracy: 0.8062 - val_loss: 1.9204 - val_categorical_accuracy: 0.1655\n",
      "Epoch 22/100\n",
      "64/64 [==============================] - 6s 100ms/step - loss: 0.5419 - categorical_accuracy: 0.8035 - val_loss: 1.9170 - val_categorical_accuracy: 0.1655\n",
      "Epoch 23/100\n",
      "64/64 [==============================] - 6s 101ms/step - loss: 0.4634 - categorical_accuracy: 0.8342 - val_loss: 1.9369 - val_categorical_accuracy: 0.1655\n",
      "Epoch 24/100\n",
      "64/64 [==============================] - 6s 98ms/step - loss: 0.4915 - categorical_accuracy: 0.8230 - val_loss: 1.9529 - val_categorical_accuracy: 0.1655\n",
      "Epoch 25/100\n",
      "64/64 [==============================] - 6s 99ms/step - loss: 0.4214 - categorical_accuracy: 0.8480 - val_loss: 1.9508 - val_categorical_accuracy: 0.1655\n",
      "Epoch 26/100\n",
      "64/64 [==============================] - 6s 99ms/step - loss: 0.4112 - categorical_accuracy: 0.8511 - val_loss: 1.9696 - val_categorical_accuracy: 0.1655\n",
      "Epoch 27/100\n",
      "64/64 [==============================] - 6s 98ms/step - loss: 0.4621 - categorical_accuracy: 0.8340 - val_loss: 1.9764 - val_categorical_accuracy: 0.1655\n",
      "Epoch 28/100\n",
      "64/64 [==============================] - 6s 98ms/step - loss: 0.3601 - categorical_accuracy: 0.8705 - val_loss: 1.9896 - val_categorical_accuracy: 0.1655\n",
      "Epoch 29/100\n",
      "64/64 [==============================] - 6s 98ms/step - loss: 0.3289 - categorical_accuracy: 0.8829 - val_loss: 1.9966 - val_categorical_accuracy: 0.1655\n",
      "Epoch 30/100\n",
      "64/64 [==============================] - 6s 98ms/step - loss: 0.3645 - categorical_accuracy: 0.8709 - val_loss: 1.9891 - val_categorical_accuracy: 0.1655\n",
      "Epoch 31/100\n",
      "64/64 [==============================] - 6s 99ms/step - loss: 0.3427 - categorical_accuracy: 0.8775 - val_loss: 2.0206 - val_categorical_accuracy: 0.1655\n",
      "Epoch 32/100\n",
      "64/64 [==============================] - 6s 99ms/step - loss: 0.2876 - categorical_accuracy: 0.8973 - val_loss: 2.0319 - val_categorical_accuracy: 0.1655\n",
      "Epoch 33/100\n",
      "64/64 [==============================] - 6s 98ms/step - loss: 0.2670 - categorical_accuracy: 0.9049 - val_loss: 2.0773 - val_categorical_accuracy: 0.1655\n",
      "Epoch 34/100\n",
      "64/64 [==============================] - 6s 98ms/step - loss: 0.2548 - categorical_accuracy: 0.9117 - val_loss: 2.1038 - val_categorical_accuracy: 0.1655\n",
      "Epoch 35/100\n",
      "64/64 [==============================] - 6s 98ms/step - loss: 0.2133 - categorical_accuracy: 0.9263 - val_loss: 2.0952 - val_categorical_accuracy: 0.1655\n",
      "Epoch 36/100\n",
      "64/64 [==============================] - 6s 99ms/step - loss: 0.2859 - categorical_accuracy: 0.8981 - val_loss: 2.0790 - val_categorical_accuracy: 0.1655\n",
      "Epoch 37/100\n",
      "64/64 [==============================] - 6s 99ms/step - loss: 0.2112 - categorical_accuracy: 0.9269 - val_loss: 2.0760 - val_categorical_accuracy: 0.1655\n",
      "Epoch 38/100\n",
      "64/64 [==============================] - 6s 98ms/step - loss: 0.2478 - categorical_accuracy: 0.9135 - val_loss: 2.0954 - val_categorical_accuracy: 0.1655\n",
      "Epoch 39/100\n",
      "64/64 [==============================] - 6s 98ms/step - loss: 0.2126 - categorical_accuracy: 0.9260 - val_loss: 2.1213 - val_categorical_accuracy: 0.1655\n",
      "Epoch 40/100\n",
      "64/64 [==============================] - 6s 98ms/step - loss: 0.2429 - categorical_accuracy: 0.9145 - val_loss: 2.1225 - val_categorical_accuracy: 0.1655\n",
      "Epoch 41/100\n",
      "64/64 [==============================] - 6s 99ms/step - loss: 0.2101 - categorical_accuracy: 0.9259 - val_loss: 2.1075 - val_categorical_accuracy: 0.1655\n",
      "Epoch 42/100\n",
      "64/64 [==============================] - 6s 99ms/step - loss: 0.1666 - categorical_accuracy: 0.9422 - val_loss: 2.1070 - val_categorical_accuracy: 0.1655\n",
      "Epoch 43/100\n",
      "64/64 [==============================] - 6s 99ms/step - loss: 0.1720 - categorical_accuracy: 0.9398 - val_loss: 2.1266 - val_categorical_accuracy: 0.1655\n",
      "Epoch 44/100\n",
      "64/64 [==============================] - 6s 99ms/step - loss: 0.1478 - categorical_accuracy: 0.9482 - val_loss: 2.1433 - val_categorical_accuracy: 0.1655\n",
      "Epoch 45/100\n",
      "64/64 [==============================] - 6s 99ms/step - loss: 0.2044 - categorical_accuracy: 0.9286 - val_loss: 2.1659 - val_categorical_accuracy: 0.1655\n",
      "Epoch 46/100\n",
      "64/64 [==============================] - 6s 99ms/step - loss: 0.1614 - categorical_accuracy: 0.9450 - val_loss: 2.2155 - val_categorical_accuracy: 0.1655\n",
      "Epoch 47/100\n",
      "64/64 [==============================] - 6s 99ms/step - loss: 0.3269 - categorical_accuracy: 0.8857 - val_loss: 2.2113 - val_categorical_accuracy: 0.1655\n",
      "Epoch 48/100\n",
      "64/64 [==============================] - 6s 99ms/step - loss: 0.2217 - categorical_accuracy: 0.9207 - val_loss: 2.2329 - val_categorical_accuracy: 0.1655\n",
      "Epoch 49/100\n",
      "64/64 [==============================] - 6s 99ms/step - loss: 0.1933 - categorical_accuracy: 0.9328 - val_loss: 2.2357 - val_categorical_accuracy: 0.1655\n",
      "Epoch 50/100\n",
      "64/64 [==============================] - 6s 99ms/step - loss: 0.1959 - categorical_accuracy: 0.9323 - val_loss: 2.2922 - val_categorical_accuracy: 0.1655\n",
      "Epoch 51/100\n",
      "64/64 [==============================] - 6s 98ms/step - loss: 0.1455 - categorical_accuracy: 0.9501 - val_loss: 2.3336 - val_categorical_accuracy: 0.1655\n",
      "Epoch 52/100\n",
      "64/64 [==============================] - 6s 99ms/step - loss: 0.1414 - categorical_accuracy: 0.9519 - val_loss: 2.3473 - val_categorical_accuracy: 0.1655\n",
      "Epoch 53/100\n",
      "64/64 [==============================] - 6s 99ms/step - loss: 0.2239 - categorical_accuracy: 0.9205 - val_loss: 2.4264 - val_categorical_accuracy: 0.1655\n",
      "Epoch 54/100\n",
      "64/64 [==============================] - 6s 98ms/step - loss: 0.1607 - categorical_accuracy: 0.9443 - val_loss: 2.4373 - val_categorical_accuracy: 0.1655\n",
      "Epoch 55/100\n",
      "64/64 [==============================] - 6s 99ms/step - loss: 0.0926 - categorical_accuracy: 0.9693 - val_loss: 2.5150 - val_categorical_accuracy: 0.1655\n",
      "Epoch 56/100\n",
      "64/64 [==============================] - 6s 98ms/step - loss: 0.2391 - categorical_accuracy: 0.9183 - val_loss: 2.3857 - val_categorical_accuracy: 0.1655\n",
      "Epoch 57/100\n",
      "64/64 [==============================] - 6s 98ms/step - loss: 0.1228 - categorical_accuracy: 0.9579 - val_loss: 2.5786 - val_categorical_accuracy: 0.1655\n",
      "Epoch 58/100\n",
      "64/64 [==============================] - 6s 98ms/step - loss: 0.1785 - categorical_accuracy: 0.9364 - val_loss: 2.6094 - val_categorical_accuracy: 0.1655\n",
      "Epoch 59/100\n",
      "64/64 [==============================] - 6s 98ms/step - loss: 0.1324 - categorical_accuracy: 0.9546 - val_loss: 2.4859 - val_categorical_accuracy: 0.1655\n",
      "Epoch 60/100\n",
      "64/64 [==============================] - 6s 98ms/step - loss: 0.1309 - categorical_accuracy: 0.9548 - val_loss: 2.7336 - val_categorical_accuracy: 0.1655\n",
      "Epoch 61/100\n",
      "64/64 [==============================] - 6s 99ms/step - loss: 0.1134 - categorical_accuracy: 0.9623 - val_loss: 2.9618 - val_categorical_accuracy: 0.1655\n",
      "Epoch 62/100\n",
      "64/64 [==============================] - 6s 98ms/step - loss: 0.1774 - categorical_accuracy: 0.9392 - val_loss: 2.3987 - val_categorical_accuracy: 0.1658\n",
      "Epoch 63/100\n",
      "64/64 [==============================] - 6s 98ms/step - loss: 0.1389 - categorical_accuracy: 0.9516 - val_loss: 2.5241 - val_categorical_accuracy: 0.1655\n",
      "Epoch 64/100\n",
      "64/64 [==============================] - 6s 97ms/step - loss: 0.1130 - categorical_accuracy: 0.9604 - val_loss: 2.7425 - val_categorical_accuracy: 0.1655\n",
      "Epoch 65/100\n",
      "64/64 [==============================] - 6s 97ms/step - loss: 0.1193 - categorical_accuracy: 0.9589 - val_loss: 2.7553 - val_categorical_accuracy: 0.1728\n",
      "Epoch 66/100\n",
      "64/64 [==============================] - 6s 97ms/step - loss: 0.1386 - categorical_accuracy: 0.9511 - val_loss: 2.3842 - val_categorical_accuracy: 0.2179\n",
      "Epoch 67/100\n",
      "64/64 [==============================] - 6s 97ms/step - loss: 0.1108 - categorical_accuracy: 0.9615 - val_loss: 2.7355 - val_categorical_accuracy: 0.1875\n",
      "Epoch 68/100\n",
      "64/64 [==============================] - 6s 96ms/step - loss: 0.1471 - categorical_accuracy: 0.9498 - val_loss: 2.6422 - val_categorical_accuracy: 0.2327\n",
      "Epoch 69/100\n",
      "64/64 [==============================] - 6s 98ms/step - loss: 0.1211 - categorical_accuracy: 0.9582 - val_loss: 2.5381 - val_categorical_accuracy: 0.2694\n",
      "Epoch 70/100\n",
      "64/64 [==============================] - 6s 97ms/step - loss: 0.1034 - categorical_accuracy: 0.9646 - val_loss: 2.6462 - val_categorical_accuracy: 0.2639\n",
      "Epoch 71/100\n",
      "64/64 [==============================] - 6s 97ms/step - loss: 0.1021 - categorical_accuracy: 0.9649 - val_loss: 2.7415 - val_categorical_accuracy: 0.2862\n",
      "Epoch 72/100\n",
      "64/64 [==============================] - 6s 97ms/step - loss: 0.0909 - categorical_accuracy: 0.9689 - val_loss: 3.0305 - val_categorical_accuracy: 0.2474\n",
      "Epoch 73/100\n",
      "64/64 [==============================] - 6s 97ms/step - loss: 0.2643 - categorical_accuracy: 0.9077 - val_loss: 3.0463 - val_categorical_accuracy: 0.2948\n",
      "Epoch 74/100\n",
      "64/64 [==============================] - 6s 97ms/step - loss: 0.1330 - categorical_accuracy: 0.9538 - val_loss: 3.0477 - val_categorical_accuracy: 0.3006\n",
      "Epoch 75/100\n",
      "64/64 [==============================] - 6s 98ms/step - loss: 0.1576 - categorical_accuracy: 0.9465 - val_loss: 3.1442 - val_categorical_accuracy: 0.3107\n",
      "Epoch 76/100\n",
      "64/64 [==============================] - 6s 96ms/step - loss: 0.1211 - categorical_accuracy: 0.9590 - val_loss: 2.8067 - val_categorical_accuracy: 0.3502\n",
      "Epoch 77/100\n",
      "64/64 [==============================] - 6s 97ms/step - loss: 0.1614 - categorical_accuracy: 0.9432 - val_loss: 3.1597 - val_categorical_accuracy: 0.3452\n",
      "Epoch 78/100\n",
      "64/64 [==============================] - 6s 98ms/step - loss: 0.1029 - categorical_accuracy: 0.9656 - val_loss: 3.0736 - val_categorical_accuracy: 0.3491\n",
      "Epoch 79/100\n",
      "64/64 [==============================] - 6s 97ms/step - loss: 0.0974 - categorical_accuracy: 0.9667 - val_loss: 2.8276 - val_categorical_accuracy: 0.3801\n",
      "Epoch 80/100\n",
      "64/64 [==============================] - 6s 97ms/step - loss: 0.1023 - categorical_accuracy: 0.9650 - val_loss: 3.2588 - val_categorical_accuracy: 0.3625\n",
      "Epoch 81/100\n",
      "64/64 [==============================] - 6s 97ms/step - loss: 0.0914 - categorical_accuracy: 0.9694 - val_loss: 3.1251 - val_categorical_accuracy: 0.3915\n",
      "Epoch 82/100\n",
      "64/64 [==============================] - 6s 97ms/step - loss: 0.0996 - categorical_accuracy: 0.9663 - val_loss: 3.5357 - val_categorical_accuracy: 0.3904\n",
      "Epoch 83/100\n",
      "64/64 [==============================] - 6s 99ms/step - loss: 0.1069 - categorical_accuracy: 0.9640 - val_loss: 3.3994 - val_categorical_accuracy: 0.4062\n",
      "Epoch 84/100\n",
      "64/64 [==============================] - 6s 97ms/step - loss: 0.0978 - categorical_accuracy: 0.9651 - val_loss: 3.5859 - val_categorical_accuracy: 0.4218\n",
      "Epoch 85/100\n",
      "64/64 [==============================] - 6s 96ms/step - loss: 0.1204 - categorical_accuracy: 0.9576 - val_loss: 3.5189 - val_categorical_accuracy: 0.4310\n",
      "Epoch 86/100\n",
      "64/64 [==============================] - 6s 98ms/step - loss: 0.1285 - categorical_accuracy: 0.9553 - val_loss: 3.4362 - val_categorical_accuracy: 0.4316\n",
      "Epoch 87/100\n",
      "64/64 [==============================] - 6s 97ms/step - loss: 0.1153 - categorical_accuracy: 0.9615 - val_loss: 3.7248 - val_categorical_accuracy: 0.4235\n",
      "Epoch 88/100\n",
      "64/64 [==============================] - 6s 98ms/step - loss: 0.2194 - categorical_accuracy: 0.9238 - val_loss: 3.8687 - val_categorical_accuracy: 0.4425\n",
      "Epoch 89/100\n",
      "64/64 [==============================] - 6s 97ms/step - loss: 0.1148 - categorical_accuracy: 0.9607 - val_loss: 3.9825 - val_categorical_accuracy: 0.4358\n",
      "Epoch 90/100\n",
      "64/64 [==============================] - 6s 97ms/step - loss: 0.1737 - categorical_accuracy: 0.9407 - val_loss: 4.3474 - val_categorical_accuracy: 0.4444\n",
      "Epoch 91/100\n",
      "64/64 [==============================] - 6s 97ms/step - loss: 0.0753 - categorical_accuracy: 0.9742 - val_loss: 4.7188 - val_categorical_accuracy: 0.4269\n",
      "Epoch 92/100\n",
      "64/64 [==============================] - 6s 97ms/step - loss: 0.1078 - categorical_accuracy: 0.9625 - val_loss: 4.5639 - val_categorical_accuracy: 0.4333\n",
      "Epoch 93/100\n",
      "64/64 [==============================] - 6s 96ms/step - loss: 0.0925 - categorical_accuracy: 0.9683 - val_loss: 4.4193 - val_categorical_accuracy: 0.4391\n",
      "Epoch 94/100\n",
      "64/64 [==============================] - 6s 96ms/step - loss: 0.0865 - categorical_accuracy: 0.9698 - val_loss: 4.5213 - val_categorical_accuracy: 0.4349\n",
      "Epoch 95/100\n",
      "64/64 [==============================] - 6s 98ms/step - loss: 0.1315 - categorical_accuracy: 0.9547 - val_loss: 4.5541 - val_categorical_accuracy: 0.4257\n",
      "Epoch 96/100\n",
      "64/64 [==============================] - 6s 97ms/step - loss: 0.1152 - categorical_accuracy: 0.9597 - val_loss: 4.6374 - val_categorical_accuracy: 0.4140\n",
      "Epoch 97/100\n",
      "64/64 [==============================] - 6s 96ms/step - loss: 0.0869 - categorical_accuracy: 0.9696 - val_loss: 4.9117 - val_categorical_accuracy: 0.3973\n",
      "Epoch 98/100\n",
      "64/64 [==============================] - 6s 97ms/step - loss: 0.0730 - categorical_accuracy: 0.9746 - val_loss: 4.8895 - val_categorical_accuracy: 0.4319\n",
      "Epoch 99/100\n",
      "64/64 [==============================] - 6s 96ms/step - loss: 0.0873 - categorical_accuracy: 0.9700 - val_loss: 4.8708 - val_categorical_accuracy: 0.4035\n",
      "Epoch 100/100\n",
      "64/64 [==============================] - 6s 97ms/step - loss: 0.0966 - categorical_accuracy: 0.9662 - val_loss: 4.7710 - val_categorical_accuracy: 0.4335\n"
     ]
    },
    {
     "data": {
      "text/plain": [
       "<tensorflow.python.keras.callbacks.History at 0x7efc3c0f7e10>"
      ]
     },
     "execution_count": 3,
     "metadata": {},
     "output_type": "execute_result"
    }
   ],
   "source": [
    "\n",
    "import tensorflow as tf\n",
    "\n",
    "# model 선언 \n",
    "model = tf.keras.applications.MobileNetV2(input_shape=(48, 48, 1), weights=None, classes=7)\n",
    "\n",
    "# model.compile\n",
    "model.compile(optimizer=tf.keras.optimizers.Adam(),\n",
    "              loss=tf.keras.losses.CategoricalCrossentropy(),\n",
    "              metrics=[tf.keras.metrics.CategoricalAccuracy()])\n",
    "\n",
    "#model.fit\n",
    "model.fit(np.stack(train_x),\n",
    "          tf.keras.utils.to_categorical(train_y),\n",
    "          epochs=100,\n",
    "          batch_size=512,\n",
    "          validation_data=(np.stack(eval_x),\n",
    "                           tf.keras.utils.to_categorical(eval_y)))"
   ]
  },
  {
   "cell_type": "markdown",
   "metadata": {},
   "source": [
    "## 3. 저장하기"
   ]
  },
  {
   "cell_type": "code",
   "execution_count": 4,
   "metadata": {},
   "outputs": [],
   "source": [
    "import os\n",
    "model_path = os.getenv('HOME')+'/aiffel/tfjs_mobile/model.h5'\n",
    "model.save(model_path)"
   ]
  },
  {
   "cell_type": "markdown",
   "metadata": {},
   "source": [
    "## 4. index.html 만들고 Github에 올리기"
   ]
  },
  {
   "cell_type": "markdown",
   "metadata": {},
   "source": [
    "<html>\n",
    "  <head>\n",
    "    <meta charset=\"utf-8\">\n",
    "    <meta name=\"viewport\" content=\"width=device-width, user-scalable=yes, initial-scale=1, maximum-scale=1\">\n",
    "    <title>Demo</title>\n",
    "    <script src=\"https://cdn.jsdelivr.net/npm/@tensorflow/tfjs@1.0.1\"></script>\n",
    "  </head>\n",
    "  <body>\n",
    "    <video playsinline autoplay></video>\n",
    "    <button>Capture</button>\n",
    "    <canvas></canvas>\n",
    "    <span></span>\n",
    "    <script>\n",
    "      video = document.querySelector('video');\n",
    "      canvas = document.querySelector('canvas');\n",
    "      button = document.querySelector('button');\n",
    "      canvas.width = 48;\n",
    "      canvas.height = 48;\n",
    "      canvas.style.filter = 'grayscale(1)';\n",
    "      video.style.transform = 'scaleX(-1)';\n",
    "\n",
    "      span = document.querySelector('span');\n",
    "      span.style.fontSize = '48px';\n",
    "\n",
    "\n",
    "      const LABELS = {\n",
    "        0: '🤬', // angry\n",
    "        1: '🤢', // disgust\n",
    "        2: '😱', // fear\n",
    "        3: '😄', // happy\n",
    "        4: '😢', // sad\n",
    "        5: '😲', // surprise\n",
    "        6: '😐' // neutral\n",
    "      }\n",
    "      \n",
    "      function classifyCallback(predictions) {\n",
    "        alert(predictions[0].className + ':' + predictions[0].probabaility);\n",
    "      }\n",
    "\n",
    "      async function predict() {\n",
    "        const model = await tf.loadLayersModel('./model/model.json');\n",
    "\n",
    "        image = tf.browser.fromPixels(canvas);\n",
    "        console.log(image);\n",
    "        image = image.toFloat().mean(2).mul(1/255.0).reshape([-1, 48, 48, 1]);\n",
    "        logits = model.predict(image);\n",
    "        const results = await logits.softmax().data();\n",
    "        i = results.indexOf(Math.max(...results));\n",
    "\n",
    "        image.dispose();\n",
    "        logits.dispose();\n",
    "        console.log(results);\n",
    "        \n",
    "        span.innerHTML = LABELS[i];\n",
    "      }\n",
    "\n",
    "      button.onclick = function() {\n",
    "        w = video.videoWidth;\n",
    "        h = video.videoHeight;\n",
    "        s = Math.min(w, h);\n",
    "        sx = (w-s)/2;\n",
    "        sy = (h-s)/2;\n",
    "\n",
    "        canvas.getContext('2d').drawImage(video, sx=sx, sy=sy, swidth=s,\n",
    "          sheight=s, x=0, y=0, width=48, height=48);\n",
    "\n",
    "        span.innerHTML = '⌛';\n",
    "        predict();\n",
    "    };\n",
    "\n",
    "\n",
    "    constraints = {\n",
    "      audio: false,\n",
    "      video: true\n",
    "    };\n",
    "\n",
    "    function handleSuccess(stream) {\n",
    "      video.srcObject = stream;\n",
    "    }\n",
    "\n",
    "    function handleError(error) {\n",
    "      alert('navigator.MediaDevices.getUserMedia error: ' + error.message + error.name);\n",
    "    }\n",
    "\n",
    "    navigator.mediaDevices.getUserMedia(constraints).then(handleSuccess).catch(handleError);\n",
    "    </script>\n",
    "</body>\n",
    "\n",
    "</html>\n"
   ]
  },
  {
   "cell_type": "markdown",
   "metadata": {},
   "source": [
    "## 5. 완성품"
   ]
  },
  {
   "cell_type": "markdown",
   "metadata": {},
   "source": [
    "https://mezcalagave.github.io/tfjs_mobile/"
   ]
  },
  {
   "cell_type": "markdown",
   "metadata": {},
   "source": [
    "## 6. 개선할 수 있는 점"
   ]
  },
  {
   "cell_type": "markdown",
   "metadata": {},
   "source": [
    "1. 과거에 배웠던 face recognition을 이용하는 방법도 하나일 것이다.    \n",
    "2. transfer learning이 가능했다면 더 좋았을 수도 있다.    \n",
    "3. 데이터가 많으면 더 정확해질 가능성이 있다.    \n"
   ]
  },
  {
   "cell_type": "markdown",
   "metadata": {},
   "source": [
    "## 7. 느낀점"
   ]
  },
  {
   "cell_type": "markdown",
   "metadata": {},
   "source": [
    "우선적으로 처음 javascript와 html을 전문적으로 쓰다 보니 이번 노드를 하는데 애를 먹었다. 그러나 모바일로 딥러닝을 구현해냈다는 점에서 매우 신기했다.     \n",
    "그러나 모바일에서 구현한다는 것 자체가 아무래도 한계점은 노출시키고 있다고 생각한다. 혹자는 딥러닝이 발전한 이유는 여러 학자들의 공헌이라고 얘기하기보다 GPU라는 하드웨어의 발달에 맞춰 진화한 것이라고 이야기한다.    이에 대해 어느정도 동의한다. 그러나 인간이 AI를 더 경량화하여 어디에든 장착할 수 있다고 가정하면 많은 활용성을 가져다 줄 것이다."
   ]
  },
  {
   "cell_type": "code",
   "execution_count": null,
   "metadata": {},
   "outputs": [],
   "source": []
  }
 ],
 "metadata": {
  "kernelspec": {
   "display_name": "aiffel",
   "language": "python",
   "name": "aiffel"
  },
  "language_info": {
   "codemirror_mode": {
    "name": "ipython",
    "version": 3
   },
   "file_extension": ".py",
   "mimetype": "text/x-python",
   "name": "python",
   "nbconvert_exporter": "python",
   "pygments_lexer": "ipython3",
   "version": "3.7.6"
  }
 },
 "nbformat": 4,
 "nbformat_minor": 4
}
