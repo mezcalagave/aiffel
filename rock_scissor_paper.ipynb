{
 "cells": [
  {
   "cell_type": "code",
   "execution_count": 1,
   "metadata": {},
   "outputs": [
    {
     "name": "stdout",
     "output_type": "stream",
     "text": [
      "PIL 라이브러리 import 완료!\n"
     ]
    }
   ],
   "source": [
    "from PIL import Image\n",
    "import os, glob\n",
    "print(\"PIL 라이브러리 import 완료!\")"
   ]
  },
  {
   "cell_type": "code",
   "execution_count": 2,
   "metadata": {},
   "outputs": [
    {
     "name": "stdout",
     "output_type": "stream",
     "text": [
      "이미지 디렉토리 경로:  /home/aiffel0038/aiffel/my_rsp_full/my_rsp_final/test/scissor\n",
      "가위 이미지 resize 완료!\n"
     ]
    }
   ],
   "source": [
    "import os\n",
    "# 가위 이미지가 저장된 디렉토리 아래의 모든 jpg 파일을 읽어들여서\n",
    "image_dir_path = os.getenv(\"HOME\") + \"/aiffel/my_rsp_full/my_rsp_final/test/scissor\"\n",
    "print(\"이미지 디렉토리 경로: \", image_dir_path)\n",
    "\n",
    "images=glob.glob(image_dir_path + \"/*.jpg\")  \n",
    "\n",
    "# 파일마다 모두 28x28 사이즈로 바꾸어 저장합니다.\n",
    "target_size=(28,28)\n",
    "for img in images:\n",
    "    old_img=Image.open(img)\n",
    "    new_img=old_img.resize(target_size,Image.ANTIALIAS)\n",
    "    new_img.save(img,\"JPEG\")\n",
    "\n",
    "print(\"가위 이미지 resize 완료!\")"
   ]
  },
  {
   "cell_type": "code",
   "execution_count": 3,
   "metadata": {},
   "outputs": [
    {
     "name": "stdout",
     "output_type": "stream",
     "text": [
      "이미지 디렉토리 경로:  /home/aiffel0038/aiffel/my_rsp_full/my_rsp_final/test/rock\n",
      "바위 이미지 resize 완료!\n"
     ]
    }
   ],
   "source": [
    "# 바위 이미지가 저장된 디렉토리 아래의 모든 jpg 파일을 읽어들여서\n",
    "image_dir_path = os.getenv(\"HOME\") + \"/aiffel/my_rsp_full/my_rsp_final/test/rock\"\n",
    "print(\"이미지 디렉토리 경로: \", image_dir_path)\n",
    "\n",
    "images=glob.glob(image_dir_path + \"/*.jpg\")  \n",
    "\n",
    "# 파일마다 모두 28x28 사이즈로 바꾸어 저장합니다.\n",
    "target_size=(28,28)\n",
    "for img in images:\n",
    "    old_img=Image.open(img)\n",
    "    new_img=old_img.resize(target_size,Image.ANTIALIAS)\n",
    "    new_img.save(img,\"JPEG\")\n",
    "    \n",
    "print(\"바위 이미지 resize 완료!\")"
   ]
  },
  {
   "cell_type": "code",
   "execution_count": 4,
   "metadata": {},
   "outputs": [
    {
     "name": "stdout",
     "output_type": "stream",
     "text": [
      "이미지 디렉토리 경로:  /home/aiffel0038/aiffel/my_rsp_full/my_rsp_final/test/paper\n",
      "보 이미지 resize 완료!\n"
     ]
    }
   ],
   "source": [
    "# 보 이미지가 저장된 디렉토리 아래의 모든 jpg 파일을 읽어들여서\n",
    "image_dir_path = os.getenv(\"HOME\") + \"/aiffel/my_rsp_full/my_rsp_final/test/paper\"\n",
    "print(\"이미지 디렉토리 경로: \", image_dir_path)\n",
    "\n",
    "images=glob.glob(image_dir_path + \"/*.jpg\")  \n",
    "\n",
    "# 파일마다 모두 28x28 사이즈로 바꾸어 저장합니다.\n",
    "target_size=(28,28)\n",
    "for img in images:\n",
    "    old_img=Image.open(img)\n",
    "    new_img=old_img.resize(target_size,Image.ANTIALIAS)\n",
    "    new_img.save(img,\"JPEG\")\n",
    "    \n",
    "print(\"보 이미지 resize 완료!\")"
   ]
  },
  {
   "cell_type": "code",
   "execution_count": 5,
   "metadata": {},
   "outputs": [
    {
     "name": "stdout",
     "output_type": "stream",
     "text": [
      "학습데이터(x_train)의 이미지 개수는 3916 입니다.\n",
      "x_train shape: (3916, 28, 28, 3)\n",
      "y_train shape: (3916,)\n"
     ]
    }
   ],
   "source": [
    "import numpy as np\n",
    "def load_train_data(img_path):\n",
    "    # 가위 : 0, 바위 : 1, 보 : 2\n",
    "    number_of_data= 3916   # 가위바위보 이미지 개수 총합에 주의하세요.\n",
    "    img_size=28\n",
    "    color=3\n",
    "    #이미지 데이터와 라벨(가위 : 0, 바위 : 1, 보 : 2) 데이터를 담을 행렬(matrix) 영역을 생성합니다.\n",
    "    imgs=np.zeros(number_of_data*img_size*img_size*color,dtype=np.int32).reshape(number_of_data,img_size,img_size,color)\n",
    "    labels=np.zeros(number_of_data,dtype=np.int32)\n",
    "\n",
    "    idx=0\n",
    "    for file in glob.iglob(img_path+'/scissor/*.jpg'):\n",
    "        img = np.array(Image.open(file),dtype=np.int32)\n",
    "        imgs[idx,:,:,:]=img    # 데이터 영역에 이미지 행렬을 복사\n",
    "        labels[idx]=0   # 가위 : 0\n",
    "        idx=idx+1\n",
    "\n",
    "    for file in glob.iglob(img_path+'/rock/*.jpg'):\n",
    "        img = np.array(Image.open(file),dtype=np.int32)\n",
    "        imgs[idx,:,:,:]=img    # 데이터 영역에 이미지 행렬을 복사\n",
    "        labels[idx]=1   # 바위 : 1\n",
    "        idx=idx+1       \n",
    "    \n",
    "    for file in glob.iglob(img_path+'/paper/*.jpg'):\n",
    "        img = np.array(Image.open(file),dtype=np.int32)\n",
    "        imgs[idx,:,:,:]=img    # 데이터 영역에 이미지 행렬을 복사\n",
    "        labels[idx]=2   # 보 : 2\n",
    "        idx=idx+1\n",
    "        \n",
    "    print(\"학습데이터(x_train)의 이미지 개수는\",idx,\"입니다.\")\n",
    "    return imgs, labels\n",
    "image_dir_path = os.getenv(\"HOME\") + \"/aiffel/my_rsp_full/my_rsp_final\"\n",
    "(x_train, y_train)=load_train_data(image_dir_path)\n",
    "x_train_norm = x_train/255.0   # 입력은 0~1 사이의 값으로 정규화\n",
    "\n",
    "print(\"x_train shape: {}\".format(x_train.shape))\n",
    "print(\"y_train shape: {}\".format(y_train.shape))"
   ]
  },
  {
   "cell_type": "code",
   "execution_count": 6,
   "metadata": {},
   "outputs": [
    {
     "name": "stdout",
     "output_type": "stream",
     "text": [
      "라벨:  0\n"
     ]
    },
    {
     "data": {
      "image/png": "[encoded data removed]",
      "text/plain": [
       "<Figure size 432x288 with 1 Axes>"
      ]
     },
     "metadata": {
      "needs_background": "light"
     },
     "output_type": "display_data"
    }
   ],
   "source": [
    "import matplotlib.pyplot as plt\n",
    "plt.imshow(x_train[0])\n",
    "print('라벨: ', y_train[0])"
   ]
  },
  {
   "cell_type": "code",
   "execution_count": 7,
   "metadata": {},
   "outputs": [
    {
     "name": "stdout",
     "output_type": "stream",
     "text": [
      "학습데이터(x_test)의 이미지 개수는 300 입니다.\n",
      "x_test shape: (300, 28, 28, 3)\n",
      "y_test shape: (300,)\n"
     ]
    }
   ],
   "source": [
    "import numpy as np\n",
    "def load_data(img_path):\n",
    "    # 가위 : 0, 바위 : 1, 보 : 2\n",
    "    number_of_data=300   # 가위바위보 이미지 개수 총합에 주의하세요.\n",
    "    img_size=28\n",
    "    color=3\n",
    "    #이미지 데이터와 라벨(가위 : 0, 바위 : 1, 보 : 2) 데이터를 담을 행렬(matrix) 영역을 생성합니다.\n",
    "    imgs=np.zeros(number_of_data*img_size*img_size*color,dtype=np.int32).reshape(number_of_data,img_size,img_size,color)\n",
    "    labels=np.zeros(number_of_data,dtype=np.int32)\n",
    "\n",
    "    idx=0\n",
    "    for file in glob.iglob(img_path+'/scissor/*.jpg'):\n",
    "        img = np.array(Image.open(file),dtype=np.int32)\n",
    "        imgs[idx,:,:,:]=img    # 데이터 영역에 이미지 행렬을 복사\n",
    "        labels[idx]=0   # 가위 : 0\n",
    "        idx=idx+1\n",
    "\n",
    "    for file in glob.iglob(img_path+'/rock/*.jpg'):\n",
    "        img = np.array(Image.open(file),dtype=np.int32)\n",
    "        imgs[idx,:,:,:]=img    # 데이터 영역에 이미지 행렬을 복사\n",
    "        labels[idx]=1   # 바위 : 1\n",
    "        idx=idx+1       \n",
    "    \n",
    "    for file in glob.iglob(img_path+'/paper/*.jpg'):\n",
    "        img = np.array(Image.open(file),dtype=np.int32)\n",
    "        imgs[idx,:,:,:]=img    # 데이터 영역에 이미지 행렬을 복사\n",
    "        labels[idx]=2   # 보 : 2\n",
    "        idx=idx+1\n",
    "        \n",
    "    print(\"학습데이터(x_test)의 이미지 개수는\",idx,\"입니다.\")\n",
    "    return imgs, labels\n",
    "\n",
    "image_dir_path = os.getenv(\"HOME\") + \"/aiffel/my_rsp_full/my_rsp_final/test\"\n",
    "(x_test, y_test)=load_data(image_dir_path)\n",
    "x_train_norm = x_test/255.0   # 입력은 0~1 사이의 값으로 정규화\n",
    "\n",
    "print(\"x_test shape: {}\".format(x_test.shape))\n",
    "print(\"y_test shape: {}\".format(y_test.shape))"
   ]
  },
  {
   "cell_type": "code",
   "execution_count": 8,
   "metadata": {},
   "outputs": [
    {
     "name": "stdout",
     "output_type": "stream",
     "text": [
      "Model: \"sequential\"\n",
      "_________________________________________________________________\n",
      "Layer (type)                 Output Shape              Param #   \n",
      "=================================================================\n",
      "conv2d (Conv2D)              (None, 26, 26, 16)        448       \n",
      "_________________________________________________________________\n",
      "max_pooling2d (MaxPooling2D) (None, 13, 13, 16)        0         \n",
      "_________________________________________________________________\n",
      "conv2d_1 (Conv2D)            (None, 11, 11, 32)        4640      \n",
      "_________________________________________________________________\n",
      "max_pooling2d_1 (MaxPooling2 (None, 5, 5, 32)          0         \n",
      "_________________________________________________________________\n",
      "flatten (Flatten)            (None, 800)               0         \n",
      "_________________________________________________________________\n",
      "dense (Dense)                (None, 32)                25632     \n",
      "_________________________________________________________________\n",
      "dense_1 (Dense)              (None, 10)                330       \n",
      "=================================================================\n",
      "Total params: 31,050\n",
      "Trainable params: 31,050\n",
      "Non-trainable params: 0\n",
      "_________________________________________________________________\n",
      "Epoch 1/15\n",
      "123/123 [==============================] - 3s 28ms/step - loss: 2.7617 - accuracy: 0.5181\n",
      "Epoch 2/15\n",
      "123/123 [==============================] - 0s 1ms/step - loss: 0.7089 - accuracy: 0.7145\n",
      "Epoch 3/15\n",
      "123/123 [==============================] - 0s 1ms/step - loss: 0.5449 - accuracy: 0.7842\n",
      "Epoch 4/15\n",
      "123/123 [==============================] - 0s 1ms/step - loss: 0.4129 - accuracy: 0.8453\n",
      "Epoch 5/15\n",
      "123/123 [==============================] - 0s 1ms/step - loss: 0.3511 - accuracy: 0.8723\n",
      "Epoch 6/15\n",
      "123/123 [==============================] - 0s 1ms/step - loss: 0.2817 - accuracy: 0.9012\n",
      "Epoch 7/15\n",
      "123/123 [==============================] - 0s 1ms/step - loss: 0.2243 - accuracy: 0.9229\n",
      "Epoch 8/15\n",
      "123/123 [==============================] - 0s 1ms/step - loss: 0.1994 - accuracy: 0.9351\n",
      "Epoch 9/15\n",
      "123/123 [==============================] - 0s 2ms/step - loss: 0.1444 - accuracy: 0.9507\n",
      "Epoch 10/15\n",
      "123/123 [==============================] - 0s 1ms/step - loss: 0.1615 - accuracy: 0.9431\n",
      "Epoch 11/15\n",
      "123/123 [==============================] - 0s 2ms/step - loss: 0.1073 - accuracy: 0.9673\n",
      "Epoch 12/15\n",
      "123/123 [==============================] - 0s 2ms/step - loss: 0.0854 - accuracy: 0.9722\n",
      "Epoch 13/15\n",
      "123/123 [==============================] - 0s 2ms/step - loss: 0.0635 - accuracy: 0.9819\n",
      "Epoch 14/15\n",
      "123/123 [==============================] - 0s 2ms/step - loss: 0.0560 - accuracy: 0.9839\n",
      "Epoch 15/15\n",
      "123/123 [==============================] - 0s 2ms/step - loss: 0.0535 - accuracy: 0.9837\n",
      "10/10 - 0s - loss: 1.8336 - accuracy: 0.6533\n",
      "test_loss: 1.833574652671814 \n",
      "test_accuracy: 0.653333306312561\n"
     ]
    }
   ],
   "source": [
    "import tensorflow as tf\n",
    "from tensorflow import keras\n",
    "import numpy as np\n",
    "n_channel_1=16\n",
    "n_channel_2=32\n",
    "n_dense=32\n",
    "n_train_epoch=15\n",
    "\n",
    "model=keras.models.Sequential()\n",
    "model.add(keras.layers.Conv2D(n_channel_1, (3,3), activation='relu', input_shape=(28,28,3)))\n",
    "model.add(keras.layers.MaxPool2D(2,2))\n",
    "model.add(keras.layers.Conv2D(n_channel_2, (3,3), activation='relu'))\n",
    "model.add(keras.layers.MaxPooling2D((2,2)))\n",
    "model.add(keras.layers.Flatten())\n",
    "model.add(keras.layers.Dense(n_dense, activation='relu'))\n",
    "model.add(keras.layers.Dense(10, activation='softmax'))\n",
    "\n",
    "model.summary()\n",
    "model.compile(optimizer='adam',\n",
    "             loss='sparse_categorical_crossentropy',\n",
    "             metrics=['accuracy'])\n",
    "\n",
    "# 모델 훈련\n",
    "model.fit(x_train, y_train, epochs=n_train_epoch)\n",
    "\n",
    "# 모델 시험\n",
    "test_loss, test_accuracy = model.evaluate(x_test, y_test, verbose=2)\n",
    "print(\"test_loss: {} \".format(test_loss))\n",
    "print(\"test_accuracy: {}\".format(test_accuracy))"
   ]
  },
  {
   "cell_type": "code",
   "execution_count": 9,
   "metadata": {},
   "outputs": [
    {
     "name": "stdout",
     "output_type": "stream",
     "text": [
      "Model: \"sequential_1\"\n",
      "_________________________________________________________________\n",
      "Layer (type)                 Output Shape              Param #   \n",
      "=================================================================\n",
      "conv2d_2 (Conv2D)            (None, 26, 26, 32)        896       \n",
      "_________________________________________________________________\n",
      "conv2d_3 (Conv2D)            (None, 26, 26, 64)        18496     \n",
      "_________________________________________________________________\n",
      "max_pooling2d_2 (MaxPooling2 (None, 13, 13, 64)        0         \n",
      "_________________________________________________________________\n",
      "dropout (Dropout)            (None, 13, 13, 64)        0         \n",
      "_________________________________________________________________\n",
      "conv2d_4 (Conv2D)            (None, 13, 13, 128)       73856     \n",
      "_________________________________________________________________\n",
      "conv2d_5 (Conv2D)            (None, 11, 11, 256)       295168    \n",
      "_________________________________________________________________\n",
      "max_pooling2d_3 (MaxPooling2 (None, 5, 5, 256)         0         \n",
      "_________________________________________________________________\n",
      "dropout_1 (Dropout)          (None, 5, 5, 256)         0         \n",
      "_________________________________________________________________\n",
      "flatten_1 (Flatten)          (None, 6400)              0         \n",
      "_________________________________________________________________\n",
      "dense_2 (Dense)              (None, 512)               3277312   \n",
      "_________________________________________________________________\n",
      "dropout_2 (Dropout)          (None, 512)               0         \n",
      "_________________________________________________________________\n",
      "dense_3 (Dense)              (None, 256)               131328    \n",
      "_________________________________________________________________\n",
      "dropout_3 (Dropout)          (None, 256)               0         \n",
      "_________________________________________________________________\n",
      "dense_4 (Dense)              (None, 10)                2570      \n",
      "=================================================================\n",
      "Total params: 3,799,626\n",
      "Trainable params: 3,799,626\n",
      "Non-trainable params: 0\n",
      "_________________________________________________________________\n"
     ]
    }
   ],
   "source": [
    "#VGGNET\n",
    "\n",
    "# model을 직접 만들어 보세요.\n",
    "# Hint! model의 입력/출력부에 특히 유의해 주세요. 가위바위보 데이터셋은 MNIST 데이터셋과 어떤 점이 달라졌나요?\n",
    "model=keras.models.Sequential()\n",
    "model.add(keras.layers.Conv2D(32, (3,3), input_shape=(28,28,3), activation = 'relu'))\n",
    "model.add(keras.layers.Conv2D(64,(3,3),padding = 'same', activation='relu'))\n",
    "model.add(keras.layers.MaxPool2D(2,2))\n",
    "model.add(keras.layers.Dropout(rate = 0.5))\n",
    "model.add(keras.layers.Conv2D(128, (3,3), padding = 'same', activation = 'relu'))\n",
    "model.add(keras.layers.Conv2D(256, (3,3), padding = 'valid', activation = 'relu'))\n",
    "model.add(keras.layers.MaxPool2D(2,2))\n",
    "model.add(keras.layers.Dropout(rate = 0.5))\n",
    "model.add(keras.layers.Flatten())\n",
    "model.add(keras.layers.Dense(512, activation='relu'))\n",
    "model.add(keras.layers.Dropout(rate = 0.5))\n",
    "model.add(keras.layers.Dense(256, activation = 'relu'))\n",
    "model.add(keras.layers.Dropout(rate = 0.5))\n",
    "model.add(keras.layers.Dense(10, activation='softmax'))\n",
    "\n",
    "model.summary()"
   ]
  },
  {
   "cell_type": "code",
   "execution_count": 10,
   "metadata": {},
   "outputs": [
    {
     "name": "stdout",
     "output_type": "stream",
     "text": [
      "Epoch 1/25\n",
      "123/123 [==============================] - 7s 59ms/step - loss: 3.5181 - accuracy: 0.3608\n",
      "Epoch 2/25\n",
      "123/123 [==============================] - 1s 5ms/step - loss: 0.9318 - accuracy: 0.5730\n",
      "Epoch 3/25\n",
      "123/123 [==============================] - 1s 5ms/step - loss: 0.6650 - accuracy: 0.7245\n",
      "Epoch 4/25\n",
      "123/123 [==============================] - 1s 4ms/step - loss: 0.5139 - accuracy: 0.7896\n",
      "Epoch 5/25\n",
      "123/123 [==============================] - 1s 5ms/step - loss: 0.4331 - accuracy: 0.8253\n",
      "Epoch 6/25\n",
      "123/123 [==============================] - 1s 4ms/step - loss: 0.3587 - accuracy: 0.8680\n",
      "Epoch 7/25\n",
      "123/123 [==============================] - 1s 5ms/step - loss: 0.3176 - accuracy: 0.8833\n",
      "Epoch 8/25\n",
      "123/123 [==============================] - 1s 5ms/step - loss: 0.3019 - accuracy: 0.8894\n",
      "Epoch 9/25\n",
      "123/123 [==============================] - 1s 5ms/step - loss: 0.2551 - accuracy: 0.9060\n",
      "Epoch 10/25\n",
      "123/123 [==============================] - 1s 5ms/step - loss: 0.2331 - accuracy: 0.9168\n",
      "Epoch 11/25\n",
      "123/123 [==============================] - 1s 5ms/step - loss: 0.2385 - accuracy: 0.9142\n",
      "Epoch 12/25\n",
      "123/123 [==============================] - 1s 5ms/step - loss: 0.1964 - accuracy: 0.9346\n",
      "Epoch 13/25\n",
      "123/123 [==============================] - 1s 5ms/step - loss: 0.1693 - accuracy: 0.9390\n",
      "Epoch 14/25\n",
      "123/123 [==============================] - 1s 5ms/step - loss: 0.1305 - accuracy: 0.9535\n",
      "Epoch 15/25\n",
      "123/123 [==============================] - 1s 5ms/step - loss: 0.1722 - accuracy: 0.9377\n",
      "Epoch 16/25\n",
      "123/123 [==============================] - 1s 5ms/step - loss: 0.1235 - accuracy: 0.9535\n",
      "Epoch 17/25\n",
      "123/123 [==============================] - 1s 5ms/step - loss: 0.1854 - accuracy: 0.9405\n",
      "Epoch 18/25\n",
      "123/123 [==============================] - 1s 5ms/step - loss: 0.1232 - accuracy: 0.9535\n",
      "Epoch 19/25\n",
      "123/123 [==============================] - 1s 5ms/step - loss: 0.1360 - accuracy: 0.9589\n",
      "Epoch 20/25\n",
      "123/123 [==============================] - 1s 5ms/step - loss: 0.1108 - accuracy: 0.9614\n",
      "Epoch 21/25\n",
      "123/123 [==============================] - 1s 5ms/step - loss: 0.1154 - accuracy: 0.9602\n",
      "Epoch 22/25\n",
      "123/123 [==============================] - 1s 5ms/step - loss: 0.1294 - accuracy: 0.9604\n",
      "Epoch 23/25\n",
      "123/123 [==============================] - 1s 5ms/step - loss: 0.0805 - accuracy: 0.9729\n",
      "Epoch 24/25\n",
      "123/123 [==============================] - 1s 5ms/step - loss: 0.0867 - accuracy: 0.9709\n",
      "Epoch 25/25\n",
      "123/123 [==============================] - 1s 5ms/step - loss: 0.0986 - accuracy: 0.9665\n"
     ]
    },
    {
     "data": {
      "text/plain": [
       "<tensorflow.python.keras.callbacks.History at 0x7fa9213d6250>"
      ]
     },
     "execution_count": 10,
     "metadata": {},
     "output_type": "execute_result"
    }
   ],
   "source": [
    "model.compile(optimizer='adam',\n",
    "             loss='sparse_categorical_crossentropy',\n",
    "             metrics=['accuracy'])\n",
    "\n",
    "model.fit(x_train,  y_train, epochs= 25)"
   ]
  },
  {
   "cell_type": "code",
   "execution_count": 11,
   "metadata": {},
   "outputs": [
    {
     "name": "stdout",
     "output_type": "stream",
     "text": [
      "test_loss: 0.35517045855522156 \n",
      "test_accuracy: 0.8500000238418579\n"
     ]
    }
   ],
   "source": [
    "test_loss, test_accuracy = model.evaluate(x_test, y_test, verbose=3)\n",
    "print(\"test_loss: {} \".format(test_loss))\n",
    "print(\"test_accuracy: {}\".format(test_accuracy))"
   ]
  },
  {
   "cell_type": "markdown",
   "metadata": {},
   "source": [
    "### 이번 가위바위보 프로젝트하면서 느낀 건 딱 한가지이다. 바로 '데이터의 중요성'이다. 처음엔 내가 찍은 300개 갖고 아둥바둥했고 처음엔 노이즈가 많이 껴서 그렇다고 생각했다. 그래서 다시 깔끔하게 300개를 찍어서 다시 했다. 깔끔하다보니 노이즈가 적어 정확도가 좋아졌다고 생각했지만 정확도가 안정적이지 못했다. 그다음 내가 생각해 낸것은 모델이었다. 모델이 별로라서 VGGNet을 이용해서 테스트해봤지만 정확도가 조금 좋아졌을뿐 안정성에서는 꽝이었다.   \n",
    "### 나중엔 자포자기로 한번 슬랙에 들어와 있는 모든 학생의 손 3912개를 가져와서 시도했다. 결과는 안정적인 정확도가 나왔다. 여기서 딥러닝을 위해 가장 중요한 건 풍부한 데이터셋이고 풍부한 데이터셋이 보장되지 않는 한 좋은 모델이나 좋은 데이터는 의미가 없다는 것을 느꼈다."
   ]
  },
  {
   "cell_type": "code",
   "execution_count": null,
   "metadata": {},
   "outputs": [],
   "source": []
  }
 ],
 "metadata": {
  "kernelspec": {
   "display_name": "aiffel",
   "language": "python",
   "name": "aiffel"
  },
  "language_info": {
   "codemirror_mode": {
    "name": "ipython",
    "version": 3
   },
   "file_extension": ".py",
   "mimetype": "text/x-python",
   "name": "python",
   "nbconvert_exporter": "python",
   "pygments_lexer": "ipython3",
   "version": "3.7.6"
  }
 },
 "nbformat": 4,
 "nbformat_minor": 4
}
