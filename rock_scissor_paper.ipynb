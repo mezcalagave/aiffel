{
 "cells": [
  {
   "cell_type": "code",
   "execution_count": 131,
   "metadata": {},
   "outputs": [
    {
     "name": "stdout",
     "output_type": "stream",
     "text": [
      "PIL 라이브러리 import 완료!\n"
     ]
    }
   ],
   "source": [
    "from PIL import Image\n",
    "import os, glob\n",
    "print(\"PIL 라이브러리 import 완료!\")"
   ]
  },
  {
   "cell_type": "code",
   "execution_count": 194,
   "metadata": {},
   "outputs": [
    {
     "name": "stdout",
     "output_type": "stream",
     "text": [
      "이미지 디렉토리 경로:  /home/aiffel0038/aiffel/my_rsp_full/my_rsp/test/scissor\n",
      "가위 이미지 resize 완료!\n"
     ]
    }
   ],
   "source": [
    "import os\n",
    "# 가위 이미지가 저장된 디렉토리 아래의 모든 jpg 파일을 읽어들여서\n",
    "image_dir_path = os.getenv(\"HOME\") + \"/aiffel/my_rsp_full/my_rsp/test/scissor\"\n",
    "print(\"이미지 디렉토리 경로: \", image_dir_path)\n",
    "\n",
    "images=glob.glob(image_dir_path + \"/*.jpg\")  \n",
    "\n",
    "# 파일마다 모두 28x28 사이즈로 바꾸어 저장합니다.\n",
    "target_size=(28,28)\n",
    "for img in images:\n",
    "    old_img=Image.open(img)\n",
    "    new_img=old_img.resize(target_size,Image.ANTIALIAS)\n",
    "    new_img.save(img,\"JPEG\")\n",
    "\n",
    "print(\"가위 이미지 resize 완료!\")"
   ]
  },
  {
   "cell_type": "code",
   "execution_count": 195,
   "metadata": {},
   "outputs": [
    {
     "name": "stdout",
     "output_type": "stream",
     "text": [
      "이미지 디렉토리 경로:  /home/aiffel0038/aiffel/my_rsp_full/my_rsp/test/rock\n",
      "바위 이미지 resize 완료!\n"
     ]
    }
   ],
   "source": [
    "# 바위 이미지가 저장된 디렉토리 아래의 모든 jpg 파일을 읽어들여서\n",
    "image_dir_path = os.getenv(\"HOME\") + \"/aiffel/my_rsp_full/my_rsp/test/rock\"\n",
    "print(\"이미지 디렉토리 경로: \", image_dir_path)\n",
    "\n",
    "images=glob.glob(image_dir_path + \"/*.jpg\")  \n",
    "\n",
    "# 파일마다 모두 28x28 사이즈로 바꾸어 저장합니다.\n",
    "target_size=(28,28)\n",
    "for img in images:\n",
    "    old_img=Image.open(img)\n",
    "    new_img=old_img.resize(target_size,Image.ANTIALIAS)\n",
    "    new_img.save(img,\"JPEG\")\n",
    "    \n",
    "print(\"바위 이미지 resize 완료!\")"
   ]
  },
  {
   "cell_type": "code",
   "execution_count": 196,
   "metadata": {},
   "outputs": [
    {
     "name": "stdout",
     "output_type": "stream",
     "text": [
      "이미지 디렉토리 경로:  /home/aiffel0038/aiffel/my_rsp_full/my_rsp/test/paper\n",
      "보 이미지 resize 완료!\n"
     ]
    }
   ],
   "source": [
    "# 보 이미지가 저장된 디렉토리 아래의 모든 jpg 파일을 읽어들여서\n",
    "image_dir_path = os.getenv(\"HOME\") + \"/aiffel/my_rsp_full/my_rsp/test/paper\"\n",
    "print(\"이미지 디렉토리 경로: \", image_dir_path)\n",
    "\n",
    "images=glob.glob(image_dir_path + \"/*.jpg\")  \n",
    "\n",
    "# 파일마다 모두 28x28 사이즈로 바꾸어 저장합니다.\n",
    "target_size=(28,28)\n",
    "for img in images:\n",
    "    old_img=Image.open(img)\n",
    "    new_img=old_img.resize(target_size,Image.ANTIALIAS)\n",
    "    new_img.save(img,\"JPEG\")\n",
    "    \n",
    "print(\"보 이미지 resize 완료!\")"
   ]
  },
  {
   "cell_type": "code",
   "execution_count": 180,
   "metadata": {},
   "outputs": [
    {
     "name": "stdout",
     "output_type": "stream",
     "text": [
      "학습데이터(x_train)의 이미지 개수는 3916 입니다.\n",
      "x_train shape: (3916, 28, 28, 3)\n",
      "y_train shape: (3916,)\n"
     ]
    }
   ],
   "source": [
    "import numpy as np\n",
    "def load_train_data(img_path):\n",
    "    # 가위 : 0, 바위 : 1, 보 : 2\n",
    "    number_of_data= 3916   # 가위바위보 이미지 개수 총합에 주의하세요.\n",
    "    img_size=28\n",
    "    color=3\n",
    "    #이미지 데이터와 라벨(가위 : 0, 바위 : 1, 보 : 2) 데이터를 담을 행렬(matrix) 영역을 생성합니다.\n",
    "    imgs=np.zeros(number_of_data*img_size*img_size*color,dtype=np.int32).reshape(number_of_data,img_size,img_size,color)\n",
    "    labels=np.zeros(number_of_data,dtype=np.int32)\n",
    "\n",
    "    idx=0\n",
    "    for file in glob.iglob(img_path+'/scissor/*.jpg'):\n",
    "        img = np.array(Image.open(file),dtype=np.int32)\n",
    "        imgs[idx,:,:,:]=img    # 데이터 영역에 이미지 행렬을 복사\n",
    "        labels[idx]=0   # 가위 : 0\n",
    "        idx=idx+1\n",
    "\n",
    "    for file in glob.iglob(img_path+'/rock/*.jpg'):\n",
    "        img = np.array(Image.open(file),dtype=np.int32)\n",
    "        imgs[idx,:,:,:]=img    # 데이터 영역에 이미지 행렬을 복사\n",
    "        labels[idx]=1   # 바위 : 1\n",
    "        idx=idx+1       \n",
    "    \n",
    "    for file in glob.iglob(img_path+'/paper/*.jpg'):\n",
    "        img = np.array(Image.open(file),dtype=np.int32)\n",
    "        imgs[idx,:,:,:]=img    # 데이터 영역에 이미지 행렬을 복사\n",
    "        labels[idx]=2   # 보 : 2\n",
    "        idx=idx+1\n",
    "        \n",
    "    print(\"학습데이터(x_train)의 이미지 개수는\",idx,\"입니다.\")\n",
    "    return imgs, labels\n",
    "image_dir_path = os.getenv(\"HOME\") + \"/aiffel/my_rsp_full/my_rsp\"\n",
    "(x_train, y_train)=load_train_data(image_dir_path)\n",
    "x_train_norm = x_train/255.0   # 입력은 0~1 사이의 값으로 정규화\n",
    "\n",
    "print(\"x_train shape: {}\".format(x_train.shape))\n",
    "print(\"y_train shape: {}\".format(y_train.shape))"
   ]
  },
  {
   "cell_type": "code",
   "execution_count": 181,
   "metadata": {},
   "outputs": [
    {
     "name": "stdout",
     "output_type": "stream",
     "text": [
      "라벨:  0\n"
     ]
    },
    {
     "data": {
      "image/png": "[encoded data removed]",
      "text/plain": [
       "<Figure size 432x288 with 1 Axes>"
      ]
     },
     "metadata": {
      "needs_background": "light"
     },
     "output_type": "display_data"
    }
   ],
   "source": [
    "import matplotlib.pyplot as plt\n",
    "plt.imshow(x_train[0])\n",
    "print('라벨: ', y_train[0])"
   ]
  },
  {
   "cell_type": "code",
   "execution_count": 200,
   "metadata": {},
   "outputs": [
    {
     "name": "stdout",
     "output_type": "stream",
     "text": [
      "Epoch 1/25\n",
      "123/123 [==============================] - 1s 5ms/step - loss: 3.3552 - accuracy: 0.3378\n",
      "Epoch 2/25\n",
      "123/123 [==============================] - 1s 4ms/step - loss: 1.0979 - accuracy: 0.4180\n",
      "Epoch 3/25\n",
      "123/123 [==============================] - 1s 4ms/step - loss: 0.9301 - accuracy: 0.5546\n",
      "Epoch 4/25\n",
      "123/123 [==============================] - 1s 4ms/step - loss: 0.6817 - accuracy: 0.7074\n",
      "Epoch 5/25\n",
      "123/123 [==============================] - 1s 4ms/step - loss: 0.6455 - accuracy: 0.7403\n",
      "Epoch 6/25\n",
      "123/123 [==============================] - 1s 4ms/step - loss: 0.4829 - accuracy: 0.8090\n",
      "Epoch 7/25\n",
      "123/123 [==============================] - 1s 4ms/step - loss: 0.4066 - accuracy: 0.8394\n",
      "Epoch 8/25\n",
      "123/123 [==============================] - 1s 4ms/step - loss: 0.3439 - accuracy: 0.8700\n",
      "Epoch 9/25\n",
      "123/123 [==============================] - 1s 4ms/step - loss: 0.3174 - accuracy: 0.8787\n",
      "Epoch 10/25\n",
      "123/123 [==============================] - 1s 4ms/step - loss: 0.2638 - accuracy: 0.9025\n",
      "Epoch 11/25\n",
      "123/123 [==============================] - 1s 4ms/step - loss: 0.2788 - accuracy: 0.9022\n",
      "Epoch 12/25\n",
      "123/123 [==============================] - 1s 4ms/step - loss: 0.2238 - accuracy: 0.9162\n",
      "Epoch 13/25\n",
      "123/123 [==============================] - 1s 4ms/step - loss: 0.2005 - accuracy: 0.9265\n",
      "Epoch 14/25\n",
      "123/123 [==============================] - 1s 4ms/step - loss: 0.2204 - accuracy: 0.9224\n",
      "Epoch 15/25\n",
      "123/123 [==============================] - 1s 4ms/step - loss: 0.1872 - accuracy: 0.9339\n",
      "Epoch 16/25\n",
      "123/123 [==============================] - 1s 4ms/step - loss: 0.1700 - accuracy: 0.9379\n",
      "Epoch 17/25\n",
      "123/123 [==============================] - 1s 4ms/step - loss: 0.1789 - accuracy: 0.9392\n",
      "Epoch 18/25\n",
      "123/123 [==============================] - 1s 4ms/step - loss: 0.1381 - accuracy: 0.9505\n",
      "Epoch 19/25\n",
      "123/123 [==============================] - 1s 4ms/step - loss: 0.1412 - accuracy: 0.9558\n",
      "Epoch 20/25\n",
      "123/123 [==============================] - 1s 4ms/step - loss: 0.1167 - accuracy: 0.9563\n",
      "Epoch 21/25\n",
      "123/123 [==============================] - 1s 4ms/step - loss: 0.1377 - accuracy: 0.9545\n",
      "Epoch 22/25\n",
      "123/123 [==============================] - 1s 4ms/step - loss: 0.1351 - accuracy: 0.9556\n",
      "Epoch 23/25\n",
      "123/123 [==============================] - 1s 4ms/step - loss: 0.1582 - accuracy: 0.9494\n",
      "Epoch 24/25\n",
      "123/123 [==============================] - 1s 4ms/step - loss: 0.1270 - accuracy: 0.9594\n",
      "Epoch 25/25\n",
      "123/123 [==============================] - 1s 4ms/step - loss: 0.1145 - accuracy: 0.9635\n"
     ]
    },
    {
     "data": {
      "text/plain": [
       "<tensorflow.python.keras.callbacks.History at 0x7f08683c1150>"
      ]
     },
     "execution_count": 200,
     "metadata": {},
     "output_type": "execute_result"
    }
   ],
   "source": [
    "model.compile(optimizer='adam',\n",
    "             loss='sparse_categorical_crossentropy',\n",
    "             metrics=['accuracy'])\n",
    "\n",
    "model.fit(x_train,  y_train, epochs= 25)"
   ]
  },
  {
   "cell_type": "code",
   "execution_count": 201,
   "metadata": {},
   "outputs": [
    {
     "name": "stdout",
     "output_type": "stream",
     "text": [
      "test_loss: 0.8441923260688782 \n",
      "test_accuracy: 0.7333333492279053\n"
     ]
    }
   ],
   "source": [
    "test_loss, test_accuracy = model.evaluate(x_test, y_test, verbose=3)\n",
    "print(\"test_loss: {} \".format(test_loss))\n",
    "print(\"test_accuracy: {}\".format(test_accuracy))"
   ]
  },
  {
   "cell_type": "code",
   "execution_count": 197,
   "metadata": {},
   "outputs": [
    {
     "name": "stdout",
     "output_type": "stream",
     "text": [
      "학습데이터(x_test)의 이미지 개수는 300 입니다.\n",
      "x_test shape: (300, 28, 28, 3)\n",
      "y_test shape: (300,)\n"
     ]
    }
   ],
   "source": [
    "import numpy as np\n",
    "def load_data(img_path):\n",
    "    # 가위 : 0, 바위 : 1, 보 : 2\n",
    "    number_of_data=300   # 가위바위보 이미지 개수 총합에 주의하세요.\n",
    "    img_size=28\n",
    "    color=3\n",
    "    #이미지 데이터와 라벨(가위 : 0, 바위 : 1, 보 : 2) 데이터를 담을 행렬(matrix) 영역을 생성합니다.\n",
    "    imgs=np.zeros(number_of_data*img_size*img_size*color,dtype=np.int32).reshape(number_of_data,img_size,img_size,color)\n",
    "    labels=np.zeros(number_of_data,dtype=np.int32)\n",
    "\n",
    "    idx=0\n",
    "    for file in glob.iglob(img_path+'/scissor/*.jpg'):\n",
    "        img = np.array(Image.open(file),dtype=np.int32)\n",
    "        imgs[idx,:,:,:]=img    # 데이터 영역에 이미지 행렬을 복사\n",
    "        labels[idx]=0   # 가위 : 0\n",
    "        idx=idx+1\n",
    "\n",
    "    for file in glob.iglob(img_path+'/rock/*.jpg'):\n",
    "        img = np.array(Image.open(file),dtype=np.int32)\n",
    "        imgs[idx,:,:,:]=img    # 데이터 영역에 이미지 행렬을 복사\n",
    "        labels[idx]=1   # 바위 : 1\n",
    "        idx=idx+1       \n",
    "    \n",
    "    for file in glob.iglob(img_path+'/paper/*.jpg'):\n",
    "        img = np.array(Image.open(file),dtype=np.int32)\n",
    "        imgs[idx,:,:,:]=img    # 데이터 영역에 이미지 행렬을 복사\n",
    "        labels[idx]=2   # 보 : 2\n",
    "        idx=idx+1\n",
    "        \n",
    "    print(\"학습데이터(x_test)의 이미지 개수는\",idx,\"입니다.\")\n",
    "    return imgs, labels\n",
    "\n",
    "image_dir_path = os.getenv(\"HOME\") + \"/aiffel/my_rsp_full/my_rsp/test\"\n",
    "(x_test, y_test)=load_data(image_dir_path)\n",
    "x_train_norm = x_test/255.0   # 입력은 0~1 사이의 값으로 정규화\n",
    "\n",
    "print(\"x_test shape: {}\".format(x_test.shape))\n",
    "print(\"y_test shape: {}\".format(y_test.shape))"
   ]
  },
  {
   "cell_type": "code",
   "execution_count": 212,
   "metadata": {},
   "outputs": [
    {
     "name": "stdout",
     "output_type": "stream",
     "text": [
      "Model: \"sequential_42\"\n",
      "_________________________________________________________________\n",
      "Layer (type)                 Output Shape              Param #   \n",
      "=================================================================\n",
      "conv2d_133 (Conv2D)          (None, 26, 26, 16)        448       \n",
      "_________________________________________________________________\n",
      "max_pooling2d_58 (MaxPooling (None, 13, 13, 16)        0         \n",
      "_________________________________________________________________\n",
      "conv2d_134 (Conv2D)          (None, 11, 11, 32)        4640      \n",
      "_________________________________________________________________\n",
      "max_pooling2d_59 (MaxPooling (None, 5, 5, 32)          0         \n",
      "_________________________________________________________________\n",
      "flatten_40 (Flatten)         (None, 800)               0         \n",
      "_________________________________________________________________\n",
      "dense_97 (Dense)             (None, 32)                25632     \n",
      "_________________________________________________________________\n",
      "dense_98 (Dense)             (None, 10)                330       \n",
      "=================================================================\n",
      "Total params: 31,050\n",
      "Trainable params: 31,050\n",
      "Non-trainable params: 0\n",
      "_________________________________________________________________\n",
      "Epoch 1/15\n",
      "123/123 [==============================] - 0s 1ms/step - loss: 2.3293 - accuracy: 0.4860\n",
      "Epoch 2/15\n",
      "123/123 [==============================] - 0s 1ms/step - loss: 0.6776 - accuracy: 0.7091\n",
      "Epoch 3/15\n",
      "123/123 [==============================] - 0s 1ms/step - loss: 0.5144 - accuracy: 0.7960\n",
      "Epoch 4/15\n",
      "123/123 [==============================] - 0s 1ms/step - loss: 0.3876 - accuracy: 0.8598\n",
      "Epoch 5/15\n",
      "123/123 [==============================] - 0s 1ms/step - loss: 0.3260 - accuracy: 0.8767\n",
      "Epoch 6/15\n",
      "123/123 [==============================] - 0s 1ms/step - loss: 0.2487 - accuracy: 0.9150\n",
      "Epoch 7/15\n",
      "123/123 [==============================] - 0s 1ms/step - loss: 0.2074 - accuracy: 0.9242\n",
      "Epoch 8/15\n",
      "123/123 [==============================] - 0s 1ms/step - loss: 0.1674 - accuracy: 0.9428\n",
      "Epoch 9/15\n",
      "123/123 [==============================] - 0s 1ms/step - loss: 0.1585 - accuracy: 0.9448\n",
      "Epoch 10/15\n",
      "123/123 [==============================] - 0s 1ms/step - loss: 0.1124 - accuracy: 0.9637\n",
      "Epoch 11/15\n",
      "123/123 [==============================] - 0s 1ms/step - loss: 0.1202 - accuracy: 0.9635\n",
      "Epoch 12/15\n",
      "123/123 [==============================] - 0s 1ms/step - loss: 0.1165 - accuracy: 0.9612\n",
      "Epoch 13/15\n",
      "123/123 [==============================] - 0s 1ms/step - loss: 0.0688 - accuracy: 0.9796\n",
      "Epoch 14/15\n",
      "123/123 [==============================] - 0s 1ms/step - loss: 0.0515 - accuracy: 0.9852\n",
      "Epoch 15/15\n",
      "123/123 [==============================] - 0s 1ms/step - loss: 0.0427 - accuracy: 0.9893\n",
      "10/10 - 0s - loss: 1.8753 - accuracy: 0.6333\n",
      "test_loss: 1.875349521636963 \n",
      "test_accuracy: 0.6333333253860474\n"
     ]
    }
   ],
   "source": [
    "n_channel_1=16\n",
    "n_channel_2=32\n",
    "n_dense=32\n",
    "n_train_epoch=15\n",
    "\n",
    "model=keras.models.Sequential()\n",
    "model.add(keras.layers.Conv2D(n_channel_1, (3,3), activation='relu', input_shape=(28,28,3)))\n",
    "model.add(keras.layers.MaxPool2D(2,2))\n",
    "model.add(keras.layers.Conv2D(n_channel_2, (3,3), activation='relu'))\n",
    "model.add(keras.layers.MaxPooling2D((2,2)))\n",
    "model.add(keras.layers.Flatten())\n",
    "model.add(keras.layers.Dense(n_dense, activation='relu'))\n",
    "model.add(keras.layers.Dense(10, activation='softmax'))\n",
    "\n",
    "model.summary()\n",
    "model.compile(optimizer='adam',\n",
    "             loss='sparse_categorical_crossentropy',\n",
    "             metrics=['accuracy'])\n",
    "\n",
    "# 모델 훈련\n",
    "model.fit(x_train, y_train, epochs=n_train_epoch)\n",
    "\n",
    "# 모델 시험\n",
    "test_loss, test_accuracy = model.evaluate(x_test, y_test, verbose=2)\n",
    "print(\"test_loss: {} \".format(test_loss))\n",
    "print(\"test_accuracy: {}\".format(test_accuracy))"
   ]
  },
  {
   "cell_type": "code",
   "execution_count": 199,
   "metadata": {},
   "outputs": [
    {
     "name": "stdout",
     "output_type": "stream",
     "text": [
      "Model: \"sequential_31\"\n",
      "_________________________________________________________________\n",
      "Layer (type)                 Output Shape              Param #   \n",
      "=================================================================\n",
      "conv2d_109 (Conv2D)          (None, 26, 26, 32)        896       \n",
      "_________________________________________________________________\n",
      "conv2d_110 (Conv2D)          (None, 26, 26, 64)        18496     \n",
      "_________________________________________________________________\n",
      "max_pooling2d_36 (MaxPooling (None, 13, 13, 64)        0         \n",
      "_________________________________________________________________\n",
      "dropout_70 (Dropout)         (None, 13, 13, 64)        0         \n",
      "_________________________________________________________________\n",
      "conv2d_111 (Conv2D)          (None, 13, 13, 128)       73856     \n",
      "_________________________________________________________________\n",
      "conv2d_112 (Conv2D)          (None, 11, 11, 256)       295168    \n",
      "_________________________________________________________________\n",
      "max_pooling2d_37 (MaxPooling (None, 5, 5, 256)         0         \n",
      "_________________________________________________________________\n",
      "dropout_71 (Dropout)         (None, 5, 5, 256)         0         \n",
      "_________________________________________________________________\n",
      "flatten_29 (Flatten)         (None, 6400)              0         \n",
      "_________________________________________________________________\n",
      "dense_74 (Dense)             (None, 512)               3277312   \n",
      "_________________________________________________________________\n",
      "dropout_72 (Dropout)         (None, 512)               0         \n",
      "_________________________________________________________________\n",
      "dense_75 (Dense)             (None, 256)               131328    \n",
      "_________________________________________________________________\n",
      "dropout_73 (Dropout)         (None, 256)               0         \n",
      "_________________________________________________________________\n",
      "dense_76 (Dense)             (None, 10)                2570      \n",
      "=================================================================\n",
      "Total params: 3,799,626\n",
      "Trainable params: 3,799,626\n",
      "Non-trainable params: 0\n",
      "_________________________________________________________________\n"
     ]
    }
   ],
   "source": [
    "import tensorflow as tf\n",
    "from tensorflow import keras\n",
    "import numpy as np\n",
    "\n",
    "# model을 직접 만들어 보세요.\n",
    "# Hint! model의 입력/출력부에 특히 유의해 주세요. 가위바위보 데이터셋은 MNIST 데이터셋과 어떤 점이 달라졌나요?\n",
    "model=keras.models.Sequential()\n",
    "model.add(keras.layers.Conv2D(32, (3,3), input_shape=(28,28,3), activation = 'relu'))\n",
    "model.add(keras.layers.Conv2D(64,(3,3),padding = 'same', activation='relu'))\n",
    "model.add(keras.layers.MaxPool2D(2,2))\n",
    "model.add(keras.layers.Dropout(rate = 0.5))\n",
    "model.add(keras.layers.Conv2D(128, (3,3), padding = 'same', activation = 'relu'))\n",
    "model.add(keras.layers.Conv2D(256, (3,3), padding = 'valid', activation = 'relu'))\n",
    "model.add(keras.layers.MaxPool2D(2,2))\n",
    "model.add(keras.layers.Dropout(rate = 0.5))\n",
    "model.add(keras.layers.Flatten())\n",
    "model.add(keras.layers.Dense(512, activation='relu'))\n",
    "model.add(keras.layers.Dropout(rate = 0.5))\n",
    "model.add(keras.layers.Dense(256, activation = 'relu'))\n",
    "model.add(keras.layers.Dropout(rate = 0.5))\n",
    "model.add(keras.layers.Dense(10, activation='softmax'))\n",
    "\n",
    "model.summary()"
   ]
  }
 ],
 "metadata": {
  "kernelspec": {
   "display_name": "aiffel",
   "language": "python",
   "name": "aiffel"
  },
  "language_info": {
   "codemirror_mode": {
    "name": "ipython",
    "version": 3
   },
   "file_extension": ".py",
   "mimetype": "text/x-python",
   "name": "python",
   "nbconvert_exporter": "python",
   "pygments_lexer": "ipython3",
   "version": "3.7.6"
  }
 },
 "nbformat": 4,
 "nbformat_minor": 4
}
