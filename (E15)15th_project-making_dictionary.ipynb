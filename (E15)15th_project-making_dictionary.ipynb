{
 "cells": [
  {
   "cell_type": "markdown",
   "metadata": {},
   "source": [
    "# Making dictionary"
   ]
  },
  {
   "cell_type": "markdown",
   "metadata": {
    "id": "EdHVQrqyDB50"
   },
   "source": [
    "## Memory Information"
   ]
  },
  {
   "cell_type": "code",
   "execution_count": 1,
   "metadata": {
    "colab": {
     "base_uri": "https://localhost:8080/",
     "height": 107
    },
    "id": "E58HaeA6CsM9",
    "outputId": "89925f58-c4b7-49f2-aaed-2c80d74f819c"
   },
   "outputs": [
    {
     "name": "stdout",
     "output_type": "stream",
     "text": [
      "======================================== Memory Information ========================================\n",
      "Total: 25.51GB\n",
      "Available: 24.57GB\n",
      "Used: 636.82MB\n",
      "Percentage: 3.7%\n"
     ]
    }
   ],
   "source": [
    "import psutil\n",
    "def get_size(bytes, suffix=\"B\"):\n",
    "    factor = 1024\n",
    "    for unit in [\"\", \"K\", \"M\", \"G\", \"T\", \"P\"]:\n",
    "        if bytes < factor:\n",
    "            return f\"{bytes:.2f}{unit}{suffix}\"\n",
    "        bytes /= factor\n",
    "print(\"=\"*40, \"Memory Information\", \"=\"*40)\n",
    "svmem = psutil.virtual_memory()\n",
    "print(f\"Total: {get_size(svmem.total)}\") ; print(f\"Available: {get_size(svmem.available)}\")\n",
    "print(f\"Used: {get_size(svmem.used)}\") ; print(f\"Percentage: {svmem.percent}%\")"
   ]
  },
  {
   "cell_type": "markdown",
   "metadata": {
    "id": "FgVfBlvZDEja"
   },
   "source": [
    "## GPU Information"
   ]
  },
  {
   "cell_type": "code",
   "execution_count": 2,
   "metadata": {
    "colab": {
     "base_uri": "https://localhost:8080/",
     "height": 377
    },
    "id": "rxlkxvkrCyin",
    "outputId": "8daee612-33b3-4eea-dd79-511d9e2a95bb"
   },
   "outputs": [
    {
     "name": "stdout",
     "output_type": "stream",
     "text": [
      "Wed Sep 30 12:55:44 2020       \n",
      "+-----------------------------------------------------------------------------+\n",
      "| NVIDIA-SMI 455.23.05    Driver Version: 418.67       CUDA Version: 10.1     |\n",
      "|-------------------------------+----------------------+----------------------+\n",
      "| GPU  Name        Persistence-M| Bus-Id        Disp.A | Volatile Uncorr. ECC |\n",
      "| Fan  Temp  Perf  Pwr:Usage/Cap|         Memory-Usage | GPU-Util  Compute M. |\n",
      "|                               |                      |               MIG M. |\n",
      "|===============================+======================+======================|\n",
      "|   0  Tesla P100-PCIE...  Off  | 00000000:00:04.0 Off |                    0 |\n",
      "| N/A   56C    P0    31W / 250W |      0MiB / 16280MiB |      0%      Default |\n",
      "|                               |                      |                 ERR! |\n",
      "+-------------------------------+----------------------+----------------------+\n",
      "                                                                               \n",
      "+-----------------------------------------------------------------------------+\n",
      "| Processes:                                                                  |\n",
      "|  GPU   GI   CI        PID   Type   Process name                  GPU Memory |\n",
      "|        ID   ID                                                   Usage      |\n",
      "|=============================================================================|\n",
      "|  No running processes found                                                 |\n",
      "+-----------------------------------------------------------------------------+\n"
     ]
    }
   ],
   "source": [
    "! nvidia-smi"
   ]
  },
  {
   "cell_type": "code",
   "execution_count": 3,
   "metadata": {
    "id": "jyDODoaWC6KI"
   },
   "outputs": [],
   "source": [
    "import pandas as pd\n",
    "from tensorflow.keras.preprocessing.text import Tokenizer\n",
    "from tensorflow.keras.preprocessing.sequence import pad_sequences\n",
    "from tensorflow.keras.utils import to_categorical\n",
    "import numpy as np\n",
    "import re\n",
    "from nltk.tokenize import WordPunctTokenizer\n",
    "from tensorflow.keras.preprocessing.text import text_to_word_sequence\n",
    "import os\n",
    "from sklearn.model_selection import train_test_split\n",
    "from tensorflow.keras.layers import Input, LSTM, Embedding, Dense, Masking\n",
    "from tensorflow.keras.models import Model"
   ]
  },
  {
   "cell_type": "code",
   "execution_count": 4,
   "metadata": {
    "colab": {
     "base_uri": "https://localhost:8080/",
     "height": 35
    },
    "id": "Q2Griqd2BFCO",
    "outputId": "cd8f8c82-57bf-457a-96e9-9efd3a89f892"
   },
   "outputs": [
    {
     "name": "stdout",
     "output_type": "stream",
     "text": [
      "1 Physical GPUs, 1 Logical GPUs\n"
     ]
    }
   ],
   "source": [
    "import tensorflow as tf\n",
    "gpus = tf.config.experimental.list_physical_devices('GPU')\n",
    "if gpus:\n",
    "  try:\n",
    "    # Currently, memory growth needs to be the same across GPUs\n",
    "    for gpu in gpus:\n",
    "      tf.config.experimental.set_memory_growth(gpu, True)\n",
    "    logical_gpus = tf.config.experimental.list_logical_devices('GPU')\n",
    "    print(len(gpus), \"Physical GPUs,\", len(logical_gpus), \"Logical GPUs\")\n",
    "  except RuntimeError as e:\n",
    "    # Memory growth must be set before GPUs have been initialized\n",
    "    print(e)"
   ]
  },
  {
   "cell_type": "code",
   "execution_count": 5,
   "metadata": {
    "colab": {
     "base_uri": "https://localhost:8080/",
     "height": 35
    },
    "id": "zRTpNtZhBJua",
    "outputId": "d027e8eb-e60e-4e98-8743-25062276cc34"
   },
   "outputs": [
    {
     "name": "stdout",
     "output_type": "stream",
     "text": [
      "Mounted at /gdrive\n"
     ]
    }
   ],
   "source": [
    "from google.colab import drive\n",
    "drive.mount('/gdrive', force_remount=True)"
   ]
  },
  {
   "cell_type": "code",
   "execution_count": 6,
   "metadata": {
    "colab": {
     "base_uri": "https://localhost:8080/",
     "height": 215
    },
    "id": "oeQU2R15BLrz",
    "outputId": "548a9b6c-45cc-4c0f-f5af-035ebf14afe8"
   },
   "outputs": [
    {
     "name": "stdout",
     "output_type": "stream",
     "text": [
      "전체 샘플의 수 : 178009\n",
      "<class 'pandas.core.frame.DataFrame'>\n",
      "RangeIndex: 178009 entries, 0 to 178008\n",
      "Data columns (total 3 columns):\n",
      " #   Column  Non-Null Count   Dtype \n",
      "---  ------  --------------   ----- \n",
      " 0   eng     178009 non-null  object\n",
      " 1   fra     178009 non-null  object\n",
      " 2   cc      178009 non-null  object\n",
      "dtypes: object(3)\n",
      "memory usage: 4.1+ MB\n"
     ]
    }
   ],
   "source": [
    "file_path = '/gdrive/My Drive/ aiffel/data/fra.txt'\n",
    "lines = pd.read_csv(file_path, names=['eng', 'fra', 'cc'], sep='\\t')\n",
    "print('전체 샘플의 수 :',len(lines))\n",
    "lines.sample(5) #샘플 5개 출력\n",
    "lines.info()"
   ]
  },
  {
   "cell_type": "code",
   "execution_count": 7,
   "metadata": {
    "colab": {
     "base_uri": "https://localhost:8080/",
     "height": 179
    },
    "id": "YlK5VRXjBZHk",
    "outputId": "878d273f-a9a8-4130-feb2-816ad76baaa4"
   },
   "outputs": [
    {
     "name": "stdout",
     "output_type": "stream",
     "text": [
      "<class 'pandas.core.frame.DataFrame'>\n",
      "RangeIndex: 33000 entries, 0 to 32999\n",
      "Data columns (total 2 columns):\n",
      " #   Column  Non-Null Count  Dtype \n",
      "---  ------  --------------  ----- \n",
      " 0   eng     33000 non-null  object\n",
      " 1   fra     33000 non-null  object\n",
      "dtypes: object(2)\n",
      "memory usage: 515.8+ KB\n"
     ]
    }
   ],
   "source": [
    "lines = lines[['eng', 'fra']][:33000]\n",
    "lines.info()"
   ]
  },
  {
   "cell_type": "markdown",
   "metadata": {},
   "source": [
    "## 전처리"
   ]
  },
  {
   "cell_type": "code",
   "execution_count": 8,
   "metadata": {
    "id": "jnOHDR-lBaYu"
   },
   "outputs": [],
   "source": [
    "lines['eng'] = lines['eng'].str.lower()\n",
    "lines['fra'] = lines['fra'].str.lower()"
   ]
  },
  {
   "cell_type": "code",
   "execution_count": 9,
   "metadata": {
    "colab": {
     "base_uri": "https://localhost:8080/",
     "height": 204
    },
    "id": "3b_y-2kWBbZn",
    "outputId": "8bdf5a6a-a5e2-42ab-9065-0ea305795f94"
   },
   "outputs": [
    {
     "data": {
      "text/html": [
       "<div>\n",
       "<style scoped>\n",
       "    .dataframe tbody tr th:only-of-type {\n",
       "        vertical-align: middle;\n",
       "    }\n",
       "\n",
       "    .dataframe tbody tr th {\n",
       "        vertical-align: top;\n",
       "    }\n",
       "\n",
       "    .dataframe thead th {\n",
       "        text-align: right;\n",
       "    }\n",
       "</style>\n",
       "<table border=\"1\" class=\"dataframe\">\n",
       "  <thead>\n",
       "    <tr style=\"text-align: right;\">\n",
       "      <th></th>\n",
       "      <th>eng</th>\n",
       "      <th>fra</th>\n",
       "    </tr>\n",
       "  </thead>\n",
       "  <tbody>\n",
       "    <tr>\n",
       "      <th>6149</th>\n",
       "      <td>it was boring .</td>\n",
       "      <td>c tait barbant .</td>\n",
       "    </tr>\n",
       "    <tr>\n",
       "      <th>926</th>\n",
       "      <td>stay calm .</td>\n",
       "      <td>reste tranquille .</td>\n",
       "    </tr>\n",
       "    <tr>\n",
       "      <th>8601</th>\n",
       "      <td>i ve been seen .</td>\n",
       "      <td>j ai t vu .</td>\n",
       "    </tr>\n",
       "    <tr>\n",
       "      <th>25005</th>\n",
       "      <td>i m coming at once .</td>\n",
       "      <td>j arrive tout de suite .</td>\n",
       "    </tr>\n",
       "    <tr>\n",
       "      <th>10147</th>\n",
       "      <td>ask me tomorrow .</td>\n",
       "      <td>demande moi demain .</td>\n",
       "    </tr>\n",
       "  </tbody>\n",
       "</table>\n",
       "</div>"
      ],
      "text/plain": [
       "                         eng                        fra\n",
       "6149        it was boring .           c tait barbant . \n",
       "926             stay calm .         reste tranquille . \n",
       "8601       i ve been seen .                j ai t vu . \n",
       "25005  i m coming at once .   j arrive tout de suite . \n",
       "10147     ask me tomorrow .       demande moi demain . "
      ]
     },
     "execution_count": 9,
     "metadata": {
      "tags": []
     },
     "output_type": "execute_result"
    }
   ],
   "source": [
    "def preprocess_sentence(sentence) :\n",
    "    \n",
    "    # 전처리 부분\n",
    "\n",
    "    # 구두점을 단어와 분리를 시켜본다\n",
    "    sentence = re.sub(r\"([?.!,¿])\", r\" \\1 \", sentence)\n",
    "    sentence = re.sub(r\"[^a-zA-Z!.?]+\", r\" \", sentence)\n",
    "    sentence = re.sub(r\"\\s+\", r\" \", sentence)\n",
    "#     sentence = re.sub(r'[\" \"]+', \" \", sentence)\n",
    "    \n",
    "    # 모두 소문자로 변환\n",
    "    sentence = sentence.lower()\n",
    "    \n",
    "    return sentence\n",
    "\n",
    "lines.eng = lines.eng.apply(lambda x : preprocess_sentence(x))\n",
    "lines.fra = lines.fra.apply(lambda x : preprocess_sentence(x))\n",
    "lines.sample(5)"
   ]
  },
  {
   "cell_type": "code",
   "execution_count": 10,
   "metadata": {
    "id": "vGajCeFTBdV2"
   },
   "outputs": [],
   "source": [
    "sos_token = '<sos>'\n",
    "eos_token = '<eos>'\n",
    "lines.fra = lines.fra.apply(lambda x : sos_token + ' ' + x + ' ' + eos_token)"
   ]
  },
  {
   "cell_type": "code",
   "execution_count": 11,
   "metadata": {
    "colab": {
     "base_uri": "https://localhost:8080/",
     "height": 35
    },
    "id": "70__5WZjBe6g",
    "outputId": "b749783f-f510-4e3f-a78e-e5e7cdf04ce8"
   },
   "outputs": [
    {
     "data": {
      "text/plain": [
       "[[30, 1], [1132, 1], [1132, 1]]"
      ]
     },
     "execution_count": 11,
     "metadata": {
      "tags": []
     },
     "output_type": "execute_result"
    }
   ],
   "source": [
    "eng_tokenizer = Tokenizer(filters=\"\", lower=False)            # 토큰화 수행 : 문자 단위 X\n",
    "eng_tokenizer.fit_on_texts(lines.eng)   # 33000개의 데이터 각 행을 토큰화\n",
    "input_text = eng_tokenizer.texts_to_sequences(lines.eng)   # 단어를 숫자값 인덱스로 변환\n",
    "input_text[:3]"
   ]
  },
  {
   "cell_type": "code",
   "execution_count": 12,
   "metadata": {
    "colab": {
     "base_uri": "https://localhost:8080/",
     "height": 35
    },
    "id": "gyiZmhR0BgOr",
    "outputId": "49a0b582-6e5d-4101-d2d4-ff9e707bf812"
   },
   "outputs": [
    {
     "data": {
      "text/plain": [
       "[[1, 91, 12, 2], [1, 1068, 12, 2], [1, 1068, 3, 2]]"
      ]
     },
     "execution_count": 12,
     "metadata": {
      "tags": []
     },
     "output_type": "execute_result"
    }
   ],
   "source": [
    "fra_tokenizer = Tokenizer(filters=\"\", lower=False)\n",
    "fra_tokenizer.fit_on_texts(lines.fra)\n",
    "target_text = fra_tokenizer.texts_to_sequences(lines.fra)\n",
    "target_text[:3]"
   ]
  },
  {
   "cell_type": "code",
   "execution_count": 13,
   "metadata": {
    "colab": {
     "base_uri": "https://localhost:8080/",
     "height": 53
    },
    "id": "2ZwqJZb6BhZQ",
    "outputId": "9708683e-95f9-4035-9662-ced348432ca3"
   },
   "outputs": [
    {
     "name": "stdout",
     "output_type": "stream",
     "text": [
      "영어 단어장의 크기 : 4662\n",
      "프랑스어 단어장의 크기 : 7326\n"
     ]
    }
   ],
   "source": [
    "eng_vocab_size = len(eng_tokenizer.word_index) + 1\n",
    "fra_vocab_size = len(fra_tokenizer.word_index) + 1\n",
    "print('영어 단어장의 크기 :', eng_vocab_size)\n",
    "print('프랑스어 단어장의 크기 :', fra_vocab_size)"
   ]
  },
  {
   "cell_type": "code",
   "execution_count": 14,
   "metadata": {
    "id": "kEKaFjZTBimS"
   },
   "outputs": [],
   "source": [
    "encoder_input = input_text\n",
    "\n",
    "# 종료 토큰 제거\n",
    "decoder_input = [[ char for char in line if char != fra_tokenizer.word_index[eos_token] ] for line in target_text]\n",
    "# 시작 토큰 제거\n",
    "decoder_target = [[ char for char in line if char != fra_tokenizer.word_index[sos_token] ] for line in target_text]"
   ]
  },
  {
   "cell_type": "code",
   "execution_count": 15,
   "metadata": {
    "colab": {
     "base_uri": "https://localhost:8080/",
     "height": 53
    },
    "id": "W_oZY47bBjuk",
    "outputId": "3fb4ff51-417c-4d5c-baa0-648c21219c3f"
   },
   "outputs": [
    {
     "name": "stdout",
     "output_type": "stream",
     "text": [
      "[[1, 91, 12], [1, 1068, 12], [1, 1068, 3]]\n",
      "[[91, 12, 2], [1068, 12, 2], [1068, 3, 2]]\n"
     ]
    }
   ],
   "source": [
    "print(decoder_input[:3])\n",
    "print(decoder_target[:3])"
   ]
  },
  {
   "cell_type": "code",
   "execution_count": 16,
   "metadata": {
    "colab": {
     "base_uri": "https://localhost:8080/",
     "height": 53
    },
    "id": "S7JdM6vUBkv3",
    "outputId": "81e6ebb2-ac55-4e21-efc0-e52277cc97e9"
   },
   "outputs": [
    {
     "name": "stdout",
     "output_type": "stream",
     "text": [
      "영어 시퀀스의 최대 길이 8\n",
      "프랑스어 시퀀스의 최대 길이 17\n"
     ]
    }
   ],
   "source": [
    "max_eng_seq_len = max([len(line) for line in input_text])\n",
    "max_fra_seq_len = max([len(line) for line in target_text])\n",
    "print('영어 시퀀스의 최대 길이', max_eng_seq_len)\n",
    "print('프랑스어 시퀀스의 최대 길이', max_fra_seq_len)"
   ]
  },
  {
   "cell_type": "code",
   "execution_count": 17,
   "metadata": {
    "colab": {
     "base_uri": "https://localhost:8080/",
     "height": 107
    },
    "id": "uCHUEFX2Blyh",
    "outputId": "0f1ad471-49fd-45f1-a3e5-9427171c7d0b"
   },
   "outputs": [
    {
     "name": "stdout",
     "output_type": "stream",
     "text": [
      "전체 샘플의 수 : 33000\n",
      "영어 단어장의 크기 : 4662\n",
      "프랑스어 단어장의 크기 : 7326\n",
      "영어 시퀀스의 최대 길이 8\n",
      "프랑스어 시퀀스의 최대 길이 17\n"
     ]
    }
   ],
   "source": [
    "print('전체 샘플의 수 :',len(lines))\n",
    "print('영어 단어장의 크기 :', eng_vocab_size)\n",
    "print('프랑스어 단어장의 크기 :', fra_vocab_size)\n",
    "print('영어 시퀀스의 최대 길이', max_eng_seq_len)\n",
    "print('프랑스어 시퀀스의 최대 길이', max_fra_seq_len)"
   ]
  },
  {
   "cell_type": "code",
   "execution_count": 18,
   "metadata": {
    "colab": {
     "base_uri": "https://localhost:8080/",
     "height": 71
    },
    "id": "BdJkSXnpBm9_",
    "outputId": "633bc64a-e972-4064-cb77-dba924ece60e"
   },
   "outputs": [
    {
     "name": "stdout",
     "output_type": "stream",
     "text": [
      "영어 데이터의 크기(shape) : (33000, 8)\n",
      "프랑스어 입력데이터의 크기(shape) : (33000, 17)\n",
      "프랑스어 출력데이터의 크기(shape) : (33000, 17)\n"
     ]
    }
   ],
   "source": [
    "encoder_input = pad_sequences(encoder_input, maxlen = max_eng_seq_len, padding='post')\n",
    "decoder_input = pad_sequences(decoder_input, maxlen = max_fra_seq_len, padding='post')\n",
    "decoder_target = pad_sequences(decoder_target, maxlen = max_fra_seq_len, padding='post')\n",
    "print('영어 데이터의 크기(shape) :',np.shape(encoder_input))\n",
    "print('프랑스어 입력데이터의 크기(shape) :',np.shape(decoder_input))\n",
    "print('프랑스어 출력데이터의 크기(shape) :',np.shape(decoder_target))"
   ]
  },
  {
   "cell_type": "code",
   "execution_count": 19,
   "metadata": {
    "colab": {
     "base_uri": "https://localhost:8080/",
     "height": 35
    },
    "id": "MMgwBy6zBoYF",
    "outputId": "386b8936-670c-4bec-e2fc-4b1d112b8593"
   },
   "outputs": [
    {
     "name": "stdout",
     "output_type": "stream",
     "text": [
      "[ 1 91 12  0  0  0  0  0  0  0  0  0  0  0  0  0  0]\n"
     ]
    }
   ],
   "source": [
    "print(decoder_input[0])"
   ]
  },
  {
   "cell_type": "code",
   "execution_count": 20,
   "metadata": {
    "id": "BIWHd_MVBpv2"
   },
   "outputs": [],
   "source": [
    "eng_to_index = eng_tokenizer.word_index\n",
    "index_to_eng = eng_tokenizer.index_word\n",
    "\n",
    "fra_to_index = fra_tokenizer.word_index\n",
    "index_to_fra = fra_tokenizer.index_word"
   ]
  },
  {
   "cell_type": "markdown",
   "metadata": {},
   "source": [
    "## 데이터셋 나누기"
   ]
  },
  {
   "cell_type": "code",
   "execution_count": 21,
   "metadata": {
    "colab": {
     "base_uri": "https://localhost:8080/",
     "height": 35
    },
    "id": "XLqnXy6dBsGb",
    "outputId": "fff4bbfb-f208-4cfb-ca49-0a2d8c2de1e0"
   },
   "outputs": [
    {
     "name": "stdout",
     "output_type": "stream",
     "text": [
      "[22855 22810 12539 ... 27680 31492 26604]\n"
     ]
    }
   ],
   "source": [
    "indices = np.arange(encoder_input.shape[0])\n",
    "np.random.shuffle(indices)\n",
    "print(indices)"
   ]
  },
  {
   "cell_type": "code",
   "execution_count": 22,
   "metadata": {
    "id": "_M9O0gUaBwTC"
   },
   "outputs": [],
   "source": [
    "encoder_input = encoder_input[indices]\n",
    "decoder_input = decoder_input[indices]\n",
    "decoder_target = decoder_target[indices]"
   ]
  },
  {
   "cell_type": "code",
   "execution_count": 23,
   "metadata": {
    "id": "NYaM7YdNBxZV"
   },
   "outputs": [],
   "source": [
    "encoder_input_train = encoder_input[:30000]\n",
    "decoder_input_train = decoder_input[:30000]\n",
    "decoder_target_train = decoder_target[:30000]\n",
    "\n",
    "encoder_input_test = encoder_input[30000:]\n",
    "decoder_input_test = decoder_input[30000:]\n",
    "decoder_target_test = decoder_target[30000:]"
   ]
  },
  {
   "cell_type": "code",
   "execution_count": 24,
   "metadata": {
    "colab": {
     "base_uri": "https://localhost:8080/",
     "height": 125
    },
    "id": "7WkVDe7gECZj",
    "outputId": "53843ca2-0670-4c10-d426-a4cbbb1a9eb0"
   },
   "outputs": [
    {
     "name": "stdout",
     "output_type": "stream",
     "text": [
      "(30000, 8)\n",
      "(30000, 17)\n",
      "(30000, 17)\n",
      "(3000, 8)\n",
      "(3000, 17)\n",
      "(3000, 17)\n"
     ]
    }
   ],
   "source": [
    "print(encoder_input_train.shape)\n",
    "print(decoder_input_train.shape)\n",
    "print(decoder_target_train.shape)\n",
    "print(encoder_input_test.shape)\n",
    "print(decoder_input_test.shape)\n",
    "print(decoder_target_test.shape)"
   ]
  },
  {
   "cell_type": "markdown",
   "metadata": {},
   "source": [
    "## 모델 훈련"
   ]
  },
  {
   "cell_type": "code",
   "execution_count": 25,
   "metadata": {
    "id": "Fhzq2a_LCZTX"
   },
   "outputs": [],
   "source": [
    "latent_dim = 32"
   ]
  },
  {
   "cell_type": "code",
   "execution_count": 26,
   "metadata": {
    "id": "TeBiHpgxCan3"
   },
   "outputs": [],
   "source": [
    "# 인코더 설계\n",
    "encoder_inputs = Input(shape=(None,))\n",
    "enc_emb = Embedding(eng_vocab_size, latent_dim)(encoder_inputs) # 임베딩층\n",
    "enc_masking = Masking(mask_value=0.0)(enc_emb)  # 패딩 0은 연산에서 제외\n",
    "encoder_lstm = LSTM(latent_dim, return_state=True)  # 상태값 리턴\n",
    "encoder_outputs, state_h, state_c = encoder_lstm(enc_masking)  # 은닉 상태와 셀 상태를 리턴\n",
    "encoder_states = [state_h, state_c]  # 인코더의 은닉 상태외 셀 상태를 저장"
   ]
  },
  {
   "cell_type": "code",
   "execution_count": 27,
   "metadata": {
    "id": "nSEQB6jgCcxA"
   },
   "outputs": [],
   "source": [
    "# 디코더\n",
    "decoder_inputs = Input(shape=(None, ))\n",
    "dec_emb_layer = Embedding(fra_vocab_size, latent_dim)  # 임베딩 층\n",
    "dec_emb = dec_emb_layer(decoder_inputs)  # 패딩 0은 언제나 연산에서 제외\n",
    "dec_masking = Masking(mask_value=0.0)(dec_emb)\n",
    "\n",
    "# 상태값 리턴을 위해 return_state는 True, 모든 시점에 대해서 단어를 예측하기 위해 return_sequence는 True\n",
    "decoder_lstm = LSTM(latent_dim, return_sequences=True, return_state=True)\n",
    "\n",
    "# 인코더의 은닉 상태를 초기 은닉 상태 (initial_state)로 사용\n",
    "decoder_outputs, _, _ = decoder_lstm(dec_masking, initial_state=encoder_states)\n",
    "\n",
    "# 모든 시점에 결과에 대해 소프트맥스 함수를 사용한 출력층을 통해 단어 예측\n",
    "decoder_dense = Dense(fra_vocab_size, activation='softmax')\n",
    "decoder_outputs = decoder_dense(decoder_outputs)"
   ]
  },
  {
   "cell_type": "code",
   "execution_count": 28,
   "metadata": {
    "colab": {
     "base_uri": "https://localhost:8080/",
     "height": 521
    },
    "id": "91-y80jiCepa",
    "outputId": "4ec567c3-962b-439c-c571-33643d803b5c"
   },
   "outputs": [
    {
     "name": "stdout",
     "output_type": "stream",
     "text": [
      "Model: \"functional_1\"\n",
      "__________________________________________________________________________________________________\n",
      "Layer (type)                    Output Shape         Param #     Connected to                     \n",
      "==================================================================================================\n",
      "input_1 (InputLayer)            [(None, None)]       0                                            \n",
      "__________________________________________________________________________________________________\n",
      "input_2 (InputLayer)            [(None, None)]       0                                            \n",
      "__________________________________________________________________________________________________\n",
      "embedding (Embedding)           (None, None, 32)     149184      input_1[0][0]                    \n",
      "__________________________________________________________________________________________________\n",
      "embedding_1 (Embedding)         (None, None, 32)     234432      input_2[0][0]                    \n",
      "__________________________________________________________________________________________________\n",
      "masking (Masking)               (None, None, 32)     0           embedding[0][0]                  \n",
      "__________________________________________________________________________________________________\n",
      "masking_1 (Masking)             (None, None, 32)     0           embedding_1[0][0]                \n",
      "__________________________________________________________________________________________________\n",
      "lstm (LSTM)                     [(None, 32), (None,  8320        masking[0][0]                    \n",
      "__________________________________________________________________________________________________\n",
      "lstm_1 (LSTM)                   [(None, None, 32), ( 8320        masking_1[0][0]                  \n",
      "                                                                 lstm[0][1]                       \n",
      "                                                                 lstm[0][2]                       \n",
      "__________________________________________________________________________________________________\n",
      "dense (Dense)                   (None, None, 7326)   241758      lstm_1[0][0]                     \n",
      "==================================================================================================\n",
      "Total params: 642,014\n",
      "Trainable params: 642,014\n",
      "Non-trainable params: 0\n",
      "__________________________________________________________________________________________________\n"
     ]
    }
   ],
   "source": [
    "model = Model([encoder_inputs, decoder_inputs], decoder_outputs)\n",
    "model.compile(optimizer='rmsprop', loss='sparse_categorical_crossentropy', metrics=['acc'])\n",
    "model.summary()"
   ]
  },
  {
   "cell_type": "code",
   "execution_count": 29,
   "metadata": {
    "colab": {
     "base_uri": "https://localhost:8080/",
     "height": 1000
    },
    "id": "7xGbhFfrCf6d",
    "outputId": "f5b91d53-80b7-431d-b970-a44cb7b98d4b"
   },
   "outputs": [
    {
     "name": "stdout",
     "output_type": "stream",
     "text": [
      "Epoch 1/50\n",
      "235/235 [==============================] - 13s 55ms/step - loss: 3.8871 - acc: 0.6104 - val_loss: 2.1126 - val_acc: 0.6099\n",
      "Epoch 2/50\n",
      "235/235 [==============================] - 10s 42ms/step - loss: 1.8501 - acc: 0.6844 - val_loss: 1.7091 - val_acc: 0.7321\n",
      "Epoch 3/50\n",
      "235/235 [==============================] - 10s 42ms/step - loss: 1.6191 - acc: 0.7385 - val_loss: 1.5785 - val_acc: 0.7432\n",
      "Epoch 4/50\n",
      "235/235 [==============================] - 10s 42ms/step - loss: 1.5191 - acc: 0.7496 - val_loss: 1.5049 - val_acc: 0.7523\n",
      "Epoch 5/50\n",
      "235/235 [==============================] - 10s 42ms/step - loss: 1.4467 - acc: 0.7590 - val_loss: 1.4407 - val_acc: 0.7653\n",
      "Epoch 6/50\n",
      "235/235 [==============================] - 10s 42ms/step - loss: 1.3835 - acc: 0.7733 - val_loss: 1.3841 - val_acc: 0.7766\n",
      "Epoch 7/50\n",
      "235/235 [==============================] - 10s 42ms/step - loss: 1.3298 - acc: 0.7836 - val_loss: 1.3382 - val_acc: 0.7864\n",
      "Epoch 8/50\n",
      "235/235 [==============================] - 10s 42ms/step - loss: 1.2832 - acc: 0.7907 - val_loss: 1.2958 - val_acc: 0.7920\n",
      "Epoch 9/50\n",
      "235/235 [==============================] - 10s 42ms/step - loss: 1.2435 - acc: 0.7961 - val_loss: 1.2615 - val_acc: 0.7967\n",
      "Epoch 10/50\n",
      "235/235 [==============================] - 10s 42ms/step - loss: 1.2089 - acc: 0.8012 - val_loss: 1.2362 - val_acc: 0.8010\n",
      "Epoch 11/50\n",
      "235/235 [==============================] - 10s 42ms/step - loss: 1.1789 - acc: 0.8059 - val_loss: 1.2148 - val_acc: 0.8046\n",
      "Epoch 12/50\n",
      "235/235 [==============================] - 10s 42ms/step - loss: 1.1513 - acc: 0.8100 - val_loss: 1.1869 - val_acc: 0.8081\n",
      "Epoch 13/50\n",
      "235/235 [==============================] - 10s 43ms/step - loss: 1.1266 - acc: 0.8133 - val_loss: 1.1801 - val_acc: 0.8097\n",
      "Epoch 14/50\n",
      "235/235 [==============================] - 10s 42ms/step - loss: 1.1039 - acc: 0.8159 - val_loss: 1.1514 - val_acc: 0.8127\n",
      "Epoch 15/50\n",
      "235/235 [==============================] - 10s 42ms/step - loss: 1.0833 - acc: 0.8184 - val_loss: 1.1396 - val_acc: 0.8144\n",
      "Epoch 16/50\n",
      "235/235 [==============================] - 10s 42ms/step - loss: 1.0649 - acc: 0.8208 - val_loss: 1.1266 - val_acc: 0.8164\n",
      "Epoch 17/50\n",
      "235/235 [==============================] - 10s 42ms/step - loss: 1.0478 - acc: 0.8228 - val_loss: 1.1155 - val_acc: 0.8184\n",
      "Epoch 18/50\n",
      "235/235 [==============================] - 10s 42ms/step - loss: 1.0322 - acc: 0.8250 - val_loss: 1.1014 - val_acc: 0.8199\n",
      "Epoch 19/50\n",
      "235/235 [==============================] - 10s 42ms/step - loss: 1.0174 - acc: 0.8269 - val_loss: 1.0882 - val_acc: 0.8205\n",
      "Epoch 20/50\n",
      "235/235 [==============================] - 10s 42ms/step - loss: 1.0035 - acc: 0.8285 - val_loss: 1.0807 - val_acc: 0.8214\n",
      "Epoch 21/50\n",
      "235/235 [==============================] - 10s 42ms/step - loss: 0.9901 - acc: 0.8301 - val_loss: 1.0707 - val_acc: 0.8239\n",
      "Epoch 22/50\n",
      "235/235 [==============================] - 10s 42ms/step - loss: 0.9774 - acc: 0.8320 - val_loss: 1.0637 - val_acc: 0.8249\n",
      "Epoch 23/50\n",
      "235/235 [==============================] - 10s 42ms/step - loss: 0.9651 - acc: 0.8338 - val_loss: 1.0533 - val_acc: 0.8261\n",
      "Epoch 24/50\n",
      "235/235 [==============================] - 10s 42ms/step - loss: 0.9534 - acc: 0.8352 - val_loss: 1.0460 - val_acc: 0.8278\n",
      "Epoch 25/50\n",
      "235/235 [==============================] - 10s 42ms/step - loss: 0.9420 - acc: 0.8369 - val_loss: 1.0374 - val_acc: 0.8286\n",
      "Epoch 26/50\n",
      "235/235 [==============================] - 10s 42ms/step - loss: 0.9309 - acc: 0.8386 - val_loss: 1.0297 - val_acc: 0.8292\n",
      "Epoch 27/50\n",
      "235/235 [==============================] - 10s 42ms/step - loss: 0.9197 - acc: 0.8400 - val_loss: 1.0172 - val_acc: 0.8308\n",
      "Epoch 28/50\n",
      "235/235 [==============================] - 10s 42ms/step - loss: 0.9091 - acc: 0.8414 - val_loss: 1.0117 - val_acc: 0.8307\n",
      "Epoch 29/50\n",
      "235/235 [==============================] - 10s 42ms/step - loss: 0.8989 - acc: 0.8426 - val_loss: 1.0057 - val_acc: 0.8322\n",
      "Epoch 30/50\n",
      "235/235 [==============================] - 10s 42ms/step - loss: 0.8892 - acc: 0.8441 - val_loss: 0.9971 - val_acc: 0.8336\n",
      "Epoch 31/50\n",
      "235/235 [==============================] - 10s 42ms/step - loss: 0.8798 - acc: 0.8453 - val_loss: 0.9911 - val_acc: 0.8345\n",
      "Epoch 32/50\n",
      "235/235 [==============================] - 10s 44ms/step - loss: 0.8709 - acc: 0.8466 - val_loss: 0.9854 - val_acc: 0.8354\n",
      "Epoch 33/50\n",
      "235/235 [==============================] - 10s 42ms/step - loss: 0.8623 - acc: 0.8478 - val_loss: 0.9794 - val_acc: 0.8366\n",
      "Epoch 34/50\n",
      "235/235 [==============================] - 10s 42ms/step - loss: 0.8539 - acc: 0.8495 - val_loss: 0.9730 - val_acc: 0.8372\n",
      "Epoch 35/50\n",
      "235/235 [==============================] - 10s 42ms/step - loss: 0.8463 - acc: 0.8506 - val_loss: 0.9770 - val_acc: 0.8364\n",
      "Epoch 36/50\n",
      "235/235 [==============================] - 10s 42ms/step - loss: 0.8390 - acc: 0.8517 - val_loss: 0.9704 - val_acc: 0.8380\n",
      "Epoch 37/50\n",
      "235/235 [==============================] - 10s 42ms/step - loss: 0.8320 - acc: 0.8531 - val_loss: 0.9613 - val_acc: 0.8390\n",
      "Epoch 38/50\n",
      "235/235 [==============================] - 10s 42ms/step - loss: 0.8255 - acc: 0.8538 - val_loss: 0.9600 - val_acc: 0.8399\n",
      "Epoch 39/50\n",
      "235/235 [==============================] - 10s 42ms/step - loss: 0.8196 - acc: 0.8551 - val_loss: 0.9529 - val_acc: 0.8408\n",
      "Epoch 40/50\n",
      "235/235 [==============================] - 10s 42ms/step - loss: 0.8136 - acc: 0.8561 - val_loss: 0.9523 - val_acc: 0.8410\n",
      "Epoch 41/50\n",
      "235/235 [==============================] - 10s 42ms/step - loss: 0.8077 - acc: 0.8573 - val_loss: 0.9489 - val_acc: 0.8416\n",
      "Epoch 42/50\n",
      "235/235 [==============================] - 10s 42ms/step - loss: 0.8021 - acc: 0.8582 - val_loss: 0.9421 - val_acc: 0.8431\n",
      "Epoch 43/50\n",
      "235/235 [==============================] - 10s 42ms/step - loss: 0.7969 - acc: 0.8592 - val_loss: 0.9410 - val_acc: 0.8423\n",
      "Epoch 44/50\n",
      "235/235 [==============================] - 10s 43ms/step - loss: 0.7916 - acc: 0.8602 - val_loss: 0.9401 - val_acc: 0.8424\n",
      "Epoch 45/50\n",
      "235/235 [==============================] - 10s 42ms/step - loss: 0.7865 - acc: 0.8612 - val_loss: 0.9358 - val_acc: 0.8439\n",
      "Epoch 46/50\n",
      "235/235 [==============================] - 10s 42ms/step - loss: 0.7817 - acc: 0.8622 - val_loss: 0.9357 - val_acc: 0.8441\n",
      "Epoch 47/50\n",
      "235/235 [==============================] - 10s 42ms/step - loss: 0.7764 - acc: 0.8631 - val_loss: 0.9308 - val_acc: 0.8442\n",
      "Epoch 48/50\n",
      "235/235 [==============================] - 10s 42ms/step - loss: 0.7713 - acc: 0.8640 - val_loss: 0.9284 - val_acc: 0.8449\n",
      "Epoch 49/50\n",
      "235/235 [==============================] - 10s 42ms/step - loss: 0.7663 - acc: 0.8650 - val_loss: 0.9286 - val_acc: 0.8445\n",
      "Epoch 50/50\n",
      "235/235 [==============================] - 10s 42ms/step - loss: 0.7615 - acc: 0.8658 - val_loss: 0.9241 - val_acc: 0.8458\n"
     ]
    },
    {
     "data": {
      "text/plain": [
       "<tensorflow.python.keras.callbacks.History at 0x7f1d410008d0>"
      ]
     },
     "execution_count": 29,
     "metadata": {
      "tags": []
     },
     "output_type": "execute_result"
    }
   ],
   "source": [
    "model.fit(x = [encoder_input_train, decoder_input_train], y = decoder_target_train, \\\n",
    "          validation_data = ([encoder_input_test, decoder_input_test], decoder_target_test),\n",
    "          batch_size = 128, epochs = 50)"
   ]
  },
  {
   "cell_type": "markdown",
   "metadata": {},
   "source": [
    "## 모델 테스트"
   ]
  },
  {
   "cell_type": "code",
   "execution_count": 30,
   "metadata": {
    "colab": {
     "base_uri": "https://localhost:8080/",
     "height": 305
    },
    "id": "J2RE8jR6EtUh",
    "outputId": "d9931a8d-96cd-4743-8b81-39a7f384d7e6"
   },
   "outputs": [
    {
     "name": "stdout",
     "output_type": "stream",
     "text": [
      "Model: \"functional_3\"\n",
      "_________________________________________________________________\n",
      "Layer (type)                 Output Shape              Param #   \n",
      "=================================================================\n",
      "input_1 (InputLayer)         [(None, None)]            0         \n",
      "_________________________________________________________________\n",
      "embedding (Embedding)        (None, None, 32)          149184    \n",
      "_________________________________________________________________\n",
      "masking (Masking)            (None, None, 32)          0         \n",
      "_________________________________________________________________\n",
      "lstm (LSTM)                  [(None, 32), (None, 32),  8320      \n",
      "=================================================================\n",
      "Total params: 157,504\n",
      "Trainable params: 157,504\n",
      "Non-trainable params: 0\n",
      "_________________________________________________________________\n"
     ]
    }
   ],
   "source": [
    "encoder_model = Model(inputs = encoder_inputs, outputs = encoder_states)\n",
    "encoder_model.summary()"
   ]
  },
  {
   "cell_type": "code",
   "execution_count": 31,
   "metadata": {
    "id": "jLvqID7qEtXE"
   },
   "outputs": [],
   "source": [
    "# 디코더 설계\n",
    "# 이전 시점의 상태롤 보관할 텐서\n",
    "decoder_state_input_h = Input(shape=(latent_dim,))\n",
    "decoder_state_input_c = Input(shape=(latent_dim,))\n",
    "decoder_states_inputs = [decoder_state_input_h, decoder_state_input_c]\n",
    "\n",
    "# train 때 사용했던 임베딩 층을 재사용..\n",
    "dec_emb2 = dec_emb_layer(decoder_inputs)\n",
    "\n",
    "# 다음 단어 예측을 위해 이전 시점의 상태를 현 시점의 초기 상태로 사용\n",
    "decoder_outputs2, state_h2, state_c2 = decoder_lstm(dec_emb2, initial_state=decoder_states_inputs)\n",
    "decoder_states2 = [state_h2, state_c2]\n",
    "\n",
    "# 모든 시점에 대해서 단여 예측\n",
    "decoder_outputs2 = decoder_dense(decoder_outputs2)"
   ]
  },
  {
   "cell_type": "code",
   "execution_count": 32,
   "metadata": {
    "id": "r0VvbNZWEtZw"
   },
   "outputs": [],
   "source": [
    "# 디코더 정의\n",
    "decoder_model = Model(\n",
    "    [decoder_inputs] + decoder_states_inputs,\n",
    "    [decoder_outputs2] + decoder_states2\n",
    ")"
   ]
  },
  {
   "cell_type": "code",
   "execution_count": 33,
   "metadata": {
    "id": "AURC_YYPEtcJ"
   },
   "outputs": [],
   "source": [
    "def decode_sequence(input_seq):\n",
    "    # 입력으로부터 인코더의 상태를 얻음\n",
    "    states_value = encoder_model.predict(input_seq)\n",
    "\n",
    "    # <SOS>에 해당하는 정수 생성\n",
    "    target_seq = np.zeros((1,1))\n",
    "    target_seq[0, 0] = fra_to_index['<sos>']\n",
    "\n",
    "    stop_condition = False\n",
    "    decoded_sentence = ''\n",
    "\n",
    "    # stop_condition이 True가 될 때까지 루프 반복\n",
    "    # 구현의 간소화를 위해서 이 함수는 배치 크기를 1로 가정합니다.\n",
    "    while not stop_condition:\n",
    "        # 이점 시점의 상태 states_value를 현 시점의 초기 상태로 사용\n",
    "        output_tokens, h, c = decoder_model.predict([target_seq] + states_value)\n",
    "\n",
    "        # 예측 결과를 단어로 변환\n",
    "        sampled_token_index = np.argmax(output_tokens[0, -1, :])\n",
    "        sampled_char = index_to_fra[sampled_token_index]\n",
    "\n",
    "         # 현재 시점의 예측 단어를 예측 문장에 추가\n",
    "        decoded_sentence += ' '+sampled_char\n",
    "\n",
    "        # <eos>에 도달하거나 정해진 길이를 넘으면 중단.\n",
    "        if (sampled_char == '<eos>' or\n",
    "           len(decoded_sentence) > 50):\n",
    "            stop_condition = True\n",
    "\n",
    "        # 현재 시점의 예측 결과를 다음 시점의 입력으로 사용하기 위해 저장\n",
    "        target_seq = np.zeros((1,1))\n",
    "        target_seq[0, 0] = sampled_token_index\n",
    "\n",
    "        # 현재 시점의 상태를 다음 시점의 상태로 사용하기 위해 저장\n",
    "        states_value = [h, c]\n",
    "\n",
    "    return decoded_sentence"
   ]
  },
  {
   "cell_type": "code",
   "execution_count": 34,
   "metadata": {
    "id": "JCmvMOA4Ete7"
   },
   "outputs": [],
   "source": [
    "def seq2eng(input_seq):\n",
    "    temp = ''\n",
    "    for i in input_seq :\n",
    "        if(i!=0):\n",
    "            temp = temp + index_to_eng[i] + ' '\n",
    "    return temp\n",
    "\n",
    "# 번역문의 정수 시퀀스를 텍스트 시퀀스로 변환\n",
    "def seq2fra(input_seq):\n",
    "    temp = ''\n",
    "    for i in input_seq:\n",
    "        if ((i!=0 and i!=fra_to_index['<sos>']) and i!=fra_to_index['<eos>']):\n",
    "            temp = temp + index_to_fra[i] + ' '\n",
    "    return temp"
   ]
  },
  {
   "cell_type": "code",
   "execution_count": 35,
   "metadata": {
    "colab": {
     "base_uri": "https://localhost:8080/",
     "height": 467
    },
    "id": "b6tWyN6hEthS",
    "outputId": "6c60c930-b94f-4288-892f-e0b5320d9d10"
   },
   "outputs": [
    {
     "name": "stdout",
     "output_type": "stream",
     "text": [
      "원문 :  should i start ? \n",
      "번역문 :  devrais je commencer ? \n",
      "예측문 :   devrais je il manqu ? \n",
      "\n",
      "\n",
      "원문 :  stay close . \n",
      "번역문 :  reste pr s . \n",
      "예측문 :   restez en che ! \n",
      "\n",
      "\n",
      "원문 :  i think tom is hurt . \n",
      "번역문 :  je pense que tom est bless . \n",
      "예측문 :   je pense que tom est qu il est malade . \n",
      "\n",
      "\n",
      "원문 :  be more precise . \n",
      "번역문 :  soyez plus pr cis . \n",
      "예측문 :   pr sol suis ! \n",
      "\n",
      "\n",
      "원문 :  i survived . \n",
      "번역문 :  j ai surv cu . \n",
      "예측문 :   j ai eu . \n",
      "\n",
      "\n"
     ]
    }
   ],
   "source": [
    "for seq_index in [3, 50, 100, 600, 2005]:\n",
    "    input_seq = encoder_input_train[seq_index: seq_index + 1]\n",
    "    decoded_sentence = decode_sequence(input_seq)\n",
    "    \n",
    "    print(\"원문 : \", seq2eng(encoder_input_train[seq_index]))\n",
    "    print(\"번역문 : \", seq2fra(decoder_input_train[seq_index]))\n",
    "    print(\"예측문 : \", decoded_sentence[:-5])\n",
    "    print('\\n')"
   ]
  },
  {
   "cell_type": "markdown",
   "metadata": {
    "id": "J43PTVqDEtj9"
   },
   "source": [
    "## 정리"
   ]
  },
  {
   "cell_type": "markdown",
   "metadata": {
    "id": "xCHAoTKuChOe"
   },
   "source": [
    "처음엔 33000개의 RAM이 문제인줄 알았는데 내가 잘못 생각하면서 불필요한 RAM생산을 한 것이었다. 좀더 세심한 코드 공부가 필요할 것 같다.     \n",
    "그리고 이번에는 COLAB에서 직접 했는데 나름 성과가 있었다. COLAB 이용을 자주 해야겠다는 생각이 들었다."
   ]
  },
  {
   "cell_type": "code",
   "execution_count": null,
   "metadata": {},
   "outputs": [],
   "source": []
  }
 ],
 "metadata": {
  "accelerator": "GPU",
  "colab": {
   "collapsed_sections": [],
   "machine_shape": "hm",
   "name": "Colab_25GBRAM_GPU.ipynb",
   "provenance": []
  },
  "kernelspec": {
   "display_name": "Python 3",
   "language": "python",
   "name": "python3"
  },
  "language_info": {
   "codemirror_mode": {
    "name": "ipython",
    "version": 3
   },
   "file_extension": ".py",
   "mimetype": "text/x-python",
   "name": "python",
   "nbconvert_exporter": "python",
   "pygments_lexer": "ipython3",
   "version": "3.7.6"
  }
 },
 "nbformat": 4,
 "nbformat_minor": 4
}
