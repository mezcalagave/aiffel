{
 "cells": [
  {
   "cell_type": "markdown",
   "metadata": {},
   "source": [
    "# SPECTROGRAM"
   ]
  },
  {
   "cell_type": "markdown",
   "metadata": {},
   "source": [
    "## 1. 데이터 준비"
   ]
  },
  {
   "cell_type": "code",
   "execution_count": 1,
   "metadata": {},
   "outputs": [],
   "source": [
    "import numpy as np\n",
    "import os\n",
    "\n",
    "data_path = os.getenv(\"HOME\")+'/aiffel/speech_recognition/data/speech_wav_8000.npz'\n",
    "speech_data = np.load(data_path)"
   ]
  },
  {
   "cell_type": "code",
   "execution_count": 2,
   "metadata": {},
   "outputs": [
    {
     "name": "stdout",
     "output_type": "stream",
     "text": [
      "Wave data shape :  (50620, 8000)\n",
      "Label data shape :  (50620, 1)\n"
     ]
    }
   ],
   "source": [
    "print(\"Wave data shape : \", speech_data[\"wav_vals\"].shape)\n",
    "print(\"Label data shape : \", speech_data[\"label_vals\"].shape)"
   ]
  },
  {
   "cell_type": "code",
   "execution_count": 3,
   "metadata": {},
   "outputs": [
    {
     "name": "stdout",
     "output_type": "stream",
     "text": [
      "rand num :  48781\n",
      "Wave data shape :  (8000,)\n",
      "label :  ['silence']\n"
     ]
    },
    {
     "data": {
      "text/html": [
       "\n",
       "                <audio  controls=\"controls\" >\n",
       "                    <source src=\"data:audio/wav;base64,UklGRqQ+AABXQVZFZm10IBAAAAABAAEAQB8AAIA+AAACABAAZGF0YYA+AACYvZ60LrHz0TexqaayoqWaSqdepySomr1wql2wR8OMraikSq30vKnSXPqk6sPoz8oGqGayxdEOy0Sma7TawgG77qgujyCcaIU8ofTVkNPWzpasJ77X0jPv9MJwzk/mUMMA4SXpc/O5+9fh092R16/i98bxmuTHwrOjoCDBwtSK2onNkMhUykjGubWav0XAmqiApSGc9puRp9CvG6qOoG3D3MAVsf/MXcIduBq845aDni7OWtLH5WLfttOZy7HI/+U+5C7gq9hDzCnJecgc43reGsWI0C/jj/uI9HDcItmuzw/Y/OMLxZCzUZrapjTCZqg/s0O2/KVKs2TuWtpVrprFXtvR6E3EiMyHvnuqMcaXtUPEOb4lvAvEAblynkewocOSqZS5z8KF3j/GX8K8r2Gpd7wvuJPTZODr39XPqMm+t1XWktpPyTTUdJ7/tT3gdPJG33u7qMk7xS7lPc0lyJfOpegv5SLsd9Wko3bOStYH2EXKB8ZJszvLVtDlytLF260qsoaqS58HpIy1i8wmzrfEEdB3zl/NEMg75am/QbK/6f4CNRQf9Ibdk99j3+D1TQ3b9nj70Qvm54Ddy+wX6YrcrszMtauyWMdP0+vYgMt03vPPtsQs4tG1s9LI1gDRwetYzeHe190Z2NXUjump4WjfWcrUvk/qWt9T/sDamrnU20HFf7Dt+OjovNO34v63StHow660AbInm4CceawMndSldb8pvTio4MEet1Kczr3HuGW1Ba+uvT2rCKoxmJOF45jkg9WTF56txdzCMK5uyNWkFqz0vb3JkMOxpbiq7KaZn5Owccq6uSPBYMy9zI/Ni8yO42LUlbdS0rLf/MEXxlXT5cEptN3G6r6nxODcNPHe0LjFYsXbtfLdfNbs597pGO3n+VjWLdfA823lwOp4z+bTfMngxO3Z9c0M0Li7w8jDsmzJgpnOuTXJE7PItfmbq7pVpznBIqpXquu7tMd703LAe8rp1i/T3riFzP/BkrsB7eDELL8b1IfWQva04X/Pgb2yvg7CIrcW1x/C6cumzWvRht34xDi3hqbM3qvDfcde40fiC/xM6AfjZNRb6VTivOghAEYLkwFw6YbutvQa+HvsR9Ou1w7buLZl11nRD8aLzG/Q48zv2jbmAOZa7cvNDvCU4QHW6fTq8or+wOMf3DflZNFe7/PzUPQeBcPgKvHd/hzgvOnDAfXzOent8Rj3cg/eF/kN4AtTDL4MViH0DEMJagrM+Wb1y/WA6mffjAZD6Z/TxtOd4abnFPh5ASfuwf0k7WPRJdV54gHZ3+/i62HmVuj4BTYYI/8e/+rzWe560MKv5sEo7k7PRsIN3WTNDPOD9OnZr/aa7X/vsNtu27MBZuAs+nvrMt5S35bbeOpA7AcGYO7fAh73BfoI69X6XyvEBmghniaa4Xe5pMcb1XLB78E91LzG4tJm5IfUKtNftPGvZtIu4QzgRekb/tDgKOfE5JjZH94Bt9m83NPhrtG9Wszy0VfUu+R++vfawuCP4CnuH9iH7EX/FdNMz3bgDfIP6gH5ydtT3QIIu/QBCFoMPfLo5SHkzOZcyqjYmPWN+Bvxh+wj8T3WO8+R0TLN2Odx3YqqvL3J4VEBUQFI6M7LaeLY8afYzunqyr3Febc40fze/87gu5+xRtE60BvHMp1nwL/LOsDMxzbC5snD0t3xZNsqxCbAL751nQOe4LxMq5m+F86N6p/6YdmF3Ljlj7f8pYu0KKbQtvzHuK42vcXRttTt6iTQtcpEznzdzNwt1B3G/apkurbT/+DI15f3YPNI51DDj5PUssrKvraJn27BqbXVnv+wVLrC2FLMHL1SvBrB992q7rTT79SI7inhoOLGyYnOKNLK00fT+bPyxcTFu8tN3uHpBdTh2YXaKdsv2TiiMKZiwmfSScakpP+ms7vt20fgnMa4x8Oz3LJWxDbKksU4xN62adLyuLSrFM6KzlTsEtxz8Xj+fOU1wI28gOPgz+zNIcOCx134UP5d4rLX/9/L44PUv8db8cjYVMlv7WD54x+ZDGXysOjdCxApSfPR8SLhkOUj++Hh4uNn6+bXUMyptLSm/Lqr0Laq0abQsBSy/Ngz3EjhNs8o8BvpVOkE4/DhXQO41pu5/OJ2/PfZluTGFVodjgaS/jD+3Q6kBkMncQpN9KUIGACpD0vtUfBW93n2g/eE6u4M0RJKBAYTNwziAGkZPwgm+9cJOM685QTvksgg6xXW9eb8AXQGcATJ4eb0j/LjwuPNluZU2y7QKMYbz5bVQ9xuyTLbhdG20j3Q07qJ60XURM5J1ILTs9rG+xXsFu3AF0D2V+uE4UDI47st1PTN8tEN+n7doNuy7+rcle6C0OvXctplzkn+LteD4tPXy+Mv/1Hlsfop3O/e0Nsf6IzOi9K591XsK9xixKDpltdT5QHWg+Bo/vwCYQ4XEjMdFQ+U8UrocgUD58/+BO6C7xsBBgKe7DbcrflqzIH3Q+IOyvq+matT0hLDxeQpALvWRbJ80UjcD731uRHDFtDU42bbttXI0H/GftvpxPep5KiJrKXIYdxK4AXNy8XqxQvKUb4juS7OoOn33IzIuu3t87fdtL7+3ejWlbjw6wjrEc32y/vRAM7isaa41NDx1ivXUNjkzSj2AhvtISsdTfDoAAb37dlK5avhI71W0SvmBdTVzXrTsupW0RzfIPMF1/PYFr99zETTo/vGIGv1ExQE4tXdcfLD1+Pf9d6W38LfjPMU5eHVYcUGx5Lv0Oxp+uUKiflaAUXIcL4X3wTYesgmzefJZMADwHzGmNRAyVS9labwyQDveenO2LXnte891WDZ9MsE0NbLV6wD1MHPIdgq3tOyfsNjrVa/fMXB2DTi/Miq2bvTL/3tDXL+CeQJ7lcJOASP40Xud/UR/NUJjvwsDjHnLdTn1yLJsc+45PDjz/L29ACqBb6m8X/vT+Kz89kIcAaDFOsJHhNw80sJCemZ9YsLWOoB/OsH0Rt3+X8TNfncCFIojjNCM2hLx09tJSU0shbUNK8rRyCdIzoQ0BhdB9AYOBs6CGz5nvYaBe3+RP0F+jP6JeVW6KL6KPzVC1f+zvLBA/YAfe4ZCJP76ObH9IvgAd/o2nzaWOIp2L0CbBFF83T1ixLEHq4MGhAzDZL0SPzh+NH5cQ/m/ertNdnK2ErXptob0bzl/uqX57z+NdUz0ALvzf0E5T7u0O7G94T6GdJN6RnZor8X0eDA793V2AbIvcyu0AvwmuWb4BHiQve4AMDsos1cxhTrW+702cfRPdvb4g3TM+9OAmAaj/V528XpCtwl5n/Pe9Hx1WTu4vzO99D9leVr6t/u0OfS7L7rTucr5k/s6s/Lwx+8o8qS4g3c99dO4Ay8FMC43PLTHc/zxjHly+EDApLsw9sJA6kQ2RJ89en21Ot4AbMZRgnrBN4VtP+s+JkKXu6b4f/aYuKW9QbxovKy9RT1k/Jd3Bb23vIF6e4DQfEC/U4JjunQBWAfYwob5LXGqN6H5ejpeuhN86Hu+vl+CjT/SO8+7sEPge7w/DH3iO6jEH4aufgL+7oFB/HDJ5ULuv2X97P7jSigHCH18e285yn3OAgg/CkFbAX0/eoLNylHCS79Bfnb8Q/tDP5u/vQBgPxaAFgHpgLqDUb23wY1DckpIxlpECbx9L4M9zwLDebx3yviCfnK9hPumv3p9NrqdObt8vTr9wpvCEULtRLd8FoOKRaw/i/VBMhtzAq9s9cI4tvU4M8z2iK9uNwH6G3tRxhMEkIoHvDZDGwLTNIr1yjOl80D26bo1s2W8BHybudG7LP4NBQQBbsHZwTR8Mj47PS51x7QdNHD3zb2Z+Cp08Dk+P/u6XzebOP30VTxQ+Qb2gDNdbVgs+fIXsekwGPBt8I3zN2wyc2KxfC5IMNlvcTjyNwLxfi/0sS82lDqz+jT8FMC2f2N7mjicOFlynrTfe83+KQBWe7r2uXhmwGZ1wXJSMe25HojtBLNDzsIrPOT/YYbzA7tCYbvsA3nArsdBB7Y98ID+doe9lTsEPF9AVTyPuk97ALnYO3Jyqfs1PZx778NJgiRBlzU7cr0ye3mYgDs8cnrze213Je9v9Ji2YECbQAb3IkNaxrBJHESIBCCAGgD6+8b2o3vfdy34UPrOfLg2GbmJwxA7srZJs7IzgzXtMnH4/HN39313anSd8kCwAvrpdcg3V/UEN0T8nnp//vHCpcG9+xu6SvNcb6MwB27UMi/xjfeh81Wv7vSveUb5brEldPl5pLnK++f/OMSFRsjDF/98P1xBDXoOOL35nHtsvaz5k0K9BirEwsSLfQK95X2TggZC8PdF/MiBIX/TArWFj4wEyZV80Px/QTr9mnfYv8OF+cSxRd8G9ggdSA7GZIV6Rl4GpgPrAOiHEshCBuoEhUPTOpM87sJJiUdICYQOCWvGE8RjfnyE6j2hAwlLJ4WcRyPDkIetwuS+Tnr6u1z4VXSmcds5LXk0tZo7KrjwvKE+vIMkwYRE9jyuNuAyanW/PzY7qIOSwgy6W7Tw8Yvumzg/Pu6+2UQZRW0DFvxV/nw4F3iFvu05dPQvtNTy/3cINwnsuHr1/un7z/wwwJH7FXqqPBe8Crz8twXB1LZashK1/3ZLeCa2Nbo4OYBzJriL+xf0wfntep77wPkQ+eN7I3sVOVN6bkE8twn7Z8O1QV1BbTyx+0n/YgTCgKR8sHnjuu/72XiEwS/Cg/8sfPSDbX4PtVm7G36qhGe5Yf1VR6w6Nb7AQ+99WQLPvBm8Sn6ue3/+FTuzwH+Kd8RlPD/CVLul/L+CQMFKB3tEmn03PCKCGIhYx9FJnYLxhFmG8UFbBn3KLwWsB7gJl8LUhG0/gL7se1o2HjtEAyaCpsReBMWDcgOf/fKB3In/x0jBMX4QP3S6Q3uqPbQ5lfklc8C3v/zO+/YwDzdR+wPxlztxPPJ4pXzCvX90jL+hvP4+dUMDhNoIhEZti5dAxocshNQEh0Fhdh/3dgYXCF5BDYHEAC9/ILTdv9G6IvQG/kk5YHVQtvx4jrQrM4XzwW727wY1Q3p4+pR8ADhJNK/zHnkTsF2u7vpLdvEwvfHa7lfshnOIbIR3DL8yPNO5DDGkLe11pH5UgcWJs33JPc9JJgK+f131lzaFvAa1+/Be78p4gDnawEj5jDxgv+X994OM+JX3jPS0tyw8JTwYeNV6R/afdj+2l/fn+pozIvKN9qeymKS6qTLqyvKWOLez33EZMeZul3IKMI/xLLkUc1O5C7Wr+ecAE3jp+lp3WjbJOVV4kfjD9T//O/t3+d+B+LXBOOS2PrQ7d8w1jHFq62yvR/pOctxspTVjNs58bzPtctK3sO78rYUvYrP2OoX6Lbhe9Qg7LUd/BWrDsL3+96h8YD0PvKo+iTec/Bi8jzq6PgGzufY8NkF0wUCOvDS3lgNBQ9w7STrIAQyCPALwtEvxRETHwDf8qLsVNoI2dXeO9lq7BXiu9zbCZQCAgPaDe8IJfat+BjtqwS4Dpr5CQaSAkQMtBmwF3IAse8H9Rvg5+Yc+k/0J9855dEK5OWJ4+IOrPo62WPkBuBg5XXjut9G8oPi/OlZCqEMhNfizzTnYQRR+N/f1tGcx8v72emr5uML7u221cH0fPHc4+/yL+cFBzPnvdFKAHnZCt5j6cjiy96uzoLVyunf0XjFpspgxQvcfuig1/y9c7cZyVfjLL11weTGwNYZ2tzXq97Q06jZCMW22Jmt7M0m2QzEV/dr1pXDyM0ix6u5KL/r0TLtoN0Zy1vhkth06c/d9ME00768br5Hx1PJrckqy8i2DsydzQjJv+LD2MDeQ9Ots+OuLsbAqKCqaakQtSmsUrQlvsKccMo50obc3dhx30vgiuBy7lLkzO/uwaHFFNKM6THb4Mkx67/WQdnnzFTP9s/T33HdDsAs22vZv93w7QTQH+KK9wzq7Pi420a+VMKb1ELdbPYSGzEK1eZI07PpWvkH/vHnsNGB11zSGKsLtKvBVb270eqx4tW/3qm+8NOv08fWl/EA7mnezvg+7vjlkOUw2F3eWdtW2oTOfM9p1SrFP8BDsR/FMOGH6rDlD+84A3fRUN5z5HPYKfg44MHJ6Mbnz6T0xfvE6pXmddsI2DDMt9Vt3Uj8eutA9R4PrORtBrH+WAPR5mzl+wJi8ybmKODK2zrVsNMhotfYxeU8teHQkvLq7ZfyuPTL6RbnEtQY2XDj9t7Z0Vn6pv/3+f37o/wm/Vzh491v5Xv2K/PaCHQh+fvg9bbv2uh/5ebpmvMz6jMi4wkNEcsJRv95DRrqwAstDMb7gPps8E/9XdP11QvyzuDM8m/gat2WvZ7YFugp4/P1OvzhCCP+sS6NJ4cSshIIBE7vePP+B+3po+Ra0w/akwVQ9q7bSs3t4rv7tP8BE38F/gKN8xDjA8tc2MX1q+Iv6T/9Rgj25dD96OuexvjaKNze5gjprRiUMLQZTx5kCpEWGBxiFI0LoAw26/D/bxUe7MgKxfgEGKwosCEoAEf5cP45CjoIQuqGD3cGshiNLbwaFPkTBIQETe6M9aUHIRn89Cjq5hUiEMEfrQfGAO4O2v458GzWn+JAzHv3pRH3Ed4FCwjDGaQJ5OOG5pIIrgf8FNIZAR7vByIRxg9/8cwLmQ7mDDMPq+Y2DpUFowhBGK8iLS248xPyVPPkC2MV2ieiLLwSvQFKAK349ern5lHiGO6s6NwWOR8aA9/5KvK17QLxPO0i7Wf4lvUQ+wXp7OpZ6nLyHBOBIcTyZOPn3BTl3fGz3iXyt+kZ5arYrPD9B6j/b+cWBBf8eQK+Nb0Bp/Cy8MnlP/bH8VPjJPLG8s3zCeS594X2fP3fEPsH//rI6wIIlf9v+2roTPQAJtoV//sDDk8S2/ct5d7mnvkZBBIAgQB/EFj23gN6EP4FGRC22ofXKBEnFhcQHg+785wIjO7P/dYYAt+/2vIDAPxk1VS8br74z+nb4gTX7cUA0/Lw0NrqNAKD+dsNAAU840fyu+NU3j3YoNvS12H9UgmF9zHkmNlp9XTi37sbx/vFdtRM8r/s7+Pa6KT8ZPFp5u3qn+lT8p7gfMfg4WLiK92e0HXDEc3SzJLWeODTyqXAU+J23DfTquMy9ff46AzmEm4Jo/Si6vH/Med1Am4MTvIg1dC0Ys9Q34fUdeZWEGT0WPygFLnmWeQWDfsIMSQQKR/0rOro/NjzaOtS/4rwKQjXFh4MKwolEO8JVfKt+DPj88jB01Pyvvzb4ncABgBa77ndIfFgFB4AJf4/4i7hDggSCVkVbBNADnImZx+WMT47+y28I6Yg5fsREIAi6Res9SrtyR3VAaAHZez7893/T+Mo8gjr8Pya+Pj7OA5aM5chO/kv6ZDTOPwq9XTqBgLk9BcDqgt/6R7dYseXz2vl6vYQDzYSIgB7+LLzQeHP5m7gmOFm4PzSAP869RjrBRJy+pnuK+bb72H5Beuj4VDc+eez5W7hUfDb9x/lxumr/QcJnATTFKkQKfK7BtoIKfIe1UnhZufx77v0JuwM3sTedvl+9l7slQ21Ev39aBenCsMJ6gKFHTUMwQyzFD3r+/MGA5zmB9mmBakHTf7F6LEDwPd89C3pRtfB4SrUie7a68QLiB6Y9N70F/sxBrQJ2O7i7WLcCADg577f7Pp268npsvhTBMDaoOkBA7IOV/KY44QDlgwG+Gjd4PkkDzsKdvnJ06fnOfsOC2klXjbmKygQ/f6J7BTZG8cD27HpiOlI2VbNx8yQ7qzhW7597nzbOgHq/HPWwfEa9cno9crwzeOq3M6T1XLFTcaxxAC+e6ECx8fLsLIA0k3eFtIf3cbUw9cH0gHcbOeW6sb7P9gS6E/zw9ct1yGztbz3yqTg5NAhuULXUMmxxOTeZM5quJbdWfXu4r7zvdvpwO/UAczZ5O7URt+F0dPW19Zi2yP5qOc5+LrQFOKy1iusPrUpztavs59tsPjZjt2fwtjth8xgvXTMq9Kc5/PxcNMzwq/eY9wZ/J3kDeEkBALGTtM13I/h0+qY0MHbRfP/7VLsH/p36+fjHPKo9KbkIeFI+Xr5TtAa4XTqVPHQ2VjHx9qSybTTPr5juNfav+O639XpRtj55sTsycqN7QjTptH26kTdf9FvptC9X7iFx47rmuO+3VfIldqXz52qj6im02rIU99Q3ZfOxOzpuzfIOdHU2RfpDdEQ0pncdfDa8lLawdnA30Hwi88ww9HGqMOayyOkvrbbvFm7U+Sj66HkleE8x5fYBebwsxXFQcVVomq5aNSRvqHIecjwub6xBJwQnAGAc47lnTywb7VyuOK6y7gVpnCt38oJ2njVtcGPxPrITLg+nfuqJq9YqlWyC9to59nuBu+l60jaJu068CvYEdO41LbMH8uF1k/uHfp23MTtCeE345rZXdxB0v/UkNLP5urQOMBRyuS05+K00+fNkMRuxPDNZ7z6kqShjqAQk+ejqJV5ouavW7zpy/jh6NvW1hTQKLHxp9/EU7sHl0GwVrUsywrY/r5tsrKr66y6tJjKo8bkvYzJY8h5zuPhpMMv6WoPhwFa8YIE5wwL2+fYrNH0zG/Xyc4224fXNriY2tHMaOrk9QTgpuuLusLsv/FU4f3ihOBP89fis9hk1zwGJedt3Rzrw82x4E3Ljr/M3PHwZN9r1BrbS9pD4fPo5OHO5kbou/3CEO4as/0A5H8PheEUyUXOX9Rf/Gr1T9yO22QgOxA+2jzzZd+B4aK+erO2zhzVQc1Vva+6F7zk1nr1muxw0+XdYtspCpbwgei90QjKAgIR3LzVvPZZ+6/9hRAE3wUDCxNG7+X4J+/P6tDb2+PY5pn4P/Yo9rLtkf299o7qBQAA8GHy2u6G/k/0Y9VI51AGPf9qHdUMsvGc+v/8yRmMAI3q6dui7enu1ODz9Kzr2fe1DKX4QfQgFG77aepY8DP4QwO6/9P23sYI5dz5JwSn9IrtKPDuAvcLCdan4N7gvu/14SPwE/pIBcHkkcbnzJq7a9Fh3HvDYsSbuMWyHtb7zH7cLf/EHIbw3e1I4iHNJeJe2IG1TcPH00fCANYo1prdrBHTCCAaCzgVBYYhTwuo7inw5eF12xnoWNlt27XX4OkI5B0E8zFY8ioF+/fRAKr39ulCA84Imf9YC2gIO+9y91gWThXaGYkGAPn6HlIQpiLwJmYVpe6S/l/u2dhp7VrsXvKr6qPbi+XX6GfaC+4h7RYB9g+ZCNvwn+5f3Uvdcus36Br3uufVx+/kswDN2EDS1tp43MXRO9F141f+VfRm5kXYZbAcwxfUZNGs7Of9iPDS1H/Hw8iH0cniteqX7FzzG/wV27TG2MCP3F7qicf5zYbhRflu7gzkjt3B8YPSuMs81H/Ju+W33FQVEQR11Wu7kb5m5CT+W/rDFhoJ5vUjKEcOFCcAIb8cdf520V/heBVuAI7iuAAg0HXwYQ6VFH4W0fmf6wr2YxBzHPQSKwHnAD/ZPeS2/tzaqdgR9hrpU/55HxwHrPVzAE3vx+Bq1sfWrf5r42HeTfMR7N4fnxHfEUA3By9oN3IGyTVIKkAbVCu+5wToQAxiL+UbWyMeMGUXOfwCB3oCgvBf6lj/lvyT4i7tEems1/zgfROyHVUL6AD7FMERGvhK8QMILRR1C9sACN/18v4C1u+v8B7wdgKgAvoACQrlAM/8WvgoD0kL2he2CfLtOPQK86sBZhQD9yPZB+8J8R3+ZvLdAa3w7ff14SHP295l3G4JXObxx2u4KMd2wiLG9dG61zTZnMy87vneE+5N9YzKiOaT7MXc+uZs63Dy8fju6Zzt7+9hwWrn7haY4sb0DwHI47QBMfHW0gPsLPIc+HEMuxlU8D/WaePN0+n4peEWy6bf1NXf1BnlLv4UD9oH3xblD8cFPRsQG00P9wCmS7ZSnC9BLLYfhDF7QiU87kZpT7pOhUoATMVcYlkjLbsuOjfuLV8lTh9cHnECyiLAB00LIQTSHBkeoQ1sHYYM/xVj7JEFgxBJ+d3vZf3JHcYH4wT0B0YB4BnlES4YvxuTB3EPshtrIDMbsSQQIVAYEwaRAf8cihLL+/73rwfMBgr2WOSa8ZUA+fN2A18I7w+SDMz0n//J/rYBld5O3v4BsvAg5TPYAeiIxiLTztml7iDsT82k3RfgtgSf0n7eHt+K1ebe2+vsxBmpcd9uzOnouNMa3BfLd6Q7xdK0KMZTxIPRn9tD6AvmTc0b59jse9DO1qnmTdJc1qXTatODyrPLleiL9jn3KO8Q5Y/kh/Jq8PX5iQYE72T8A+jB9tkLxv7s+GvkPcgytznDh64RwtbWKeD1z6PNS9aq0w/Qj82Dvi7Vcs1q21nt7tB91VXL2d6b2TLiQd4+1D3WxfIg6dze2PRK5Irko/VJBLfuIezm9FnmkOBr0h7WCsqorjXTIPVX4mrhaOeE3+rc3N4T43/hnPlfCq4BbvSC/kr3Kv0L+7jum/FS2MX4DRGT8eTjke9o8ToA3vm34l71EAeC9SUHtv960abljs7y11zjRtwd+F/2gAbU/DzoMvTx9cvcIfTuBdkL5yBlJtf+PdFRzDnLS72QrQy2T9Yk58SzJs+h93vsxPy+8BTaXuFw2WHgARFWB8bzJOh15qPvVN053VvsFO9tCJEOAhmNHXEIcQ9X474APRQb/s8aUx1jDYskAjwxNA8y5g/e+Hnlj+v56UsLURz7Clo+lkpXN7sslTlmMaEaJht6LxorWxj+DhT0WS1QQJ0j5hltDusPfgI4+WwHR/6700Xq3Pdn+aPtPP+RJXUI9BZzGxEYPgKhF0UfePK29wIE+iW1F1AFfiaqQ6kL9gowH+4/GzmKIe03WwUo9Ibr9/5lHZQywxeJFusMrf4w/Fb+ow64+5Pq8fXoBU/lU/WLEAMyoVMSM+4CRg/4FvA4syKNHg8b3Q8KFiQRsiTmHLNAnR2sG4IWHRgdHeUiAgrz+MIUPRYGIs0UvhgAEmk0MSeSCWgQlCC4Os4fxSIBJQUlIRq4FsMV2Q70DBEjS0kHKAEyqQnaJTIa1vbs+mrooAN+5PPz3vtr8CjcjO0C4WDZNu9//8cL4wDkCPwhdTEuD+YHUfcA5JT2aA3L4c7VBO+09J3htcja+9rZj+NJ8Dbn0f6L7/YYqwjN/tP7Kvu9FCjyHtIS6F0A8u0A2+jb0uUq8EH1hvHR/zkL4+HN63vllckpw1K0Ue5X5oPdnuxd6+TQEdi17zHRbtCN1gXUwMOi5Dv/Mu4/3ZTY8tG+3hGzublT6CfSFfQ1AAD1z+oO9ucCtgEVAuL5ON92+hz8leybF5z/vBbI99YSqCRKBMwuFQD3AKEaMAEj+iDy+uQm5iP0SBPGFvsWZBBe/33yrg1cID4s6SEFD0IFcwGT2snVCB8YBcP1t9SUzr3TUNkT5vTMdNd9+nzn++alBdT5MP+BGl0FYNm/+QXo6vGeAh/Uc9y19wvzAgmtAwYDJhqeAuL/PwfH/RQQ1hOs9tPoVOtz6WzdSAmm7xLnJhGvBsj4hulXBEYPYPtO4UYUGSF7EC0yciLXII0ogyjEFPsGxyxGJGINaBn2/XsIuftXCHIhOATVDmkIwQSbE0oeMBwEE3sM5ig4KnEhPxNNGpQOYPSaDzYhv0h2K9of9kAbWN5B/yyWMnAlWTFmI3AeAEKvX8RN6CLCHLsd+TS1S904gS6pMyspXS1qO0c2jiPw6178w/YNAikijBrvFyoPJhzLA8wXJxIoFh0TGPGa9JQHmRb471kV7xG0AV4DSQPyCoPuAOO+6Nj+UOS96KroF/2q4UnVYeYAw9zYa+t6/CcPIxcT6vTSc+3z+fH/Rv9n6/zolenp2D7y4AR3ALX+mQk1DUojxxokAzgaLeeC5ebrxAvBF6X6TA0q5ub5J+lo60D5X/TjADcOfhKc7HUGRBTPCoX5Q/rr81Tvoucq0vrx4uFM5K4TDSItEv7/kwl6DMQFRBB4CDT+gR9qDQAKawYE+gcMWhOTC9HwmeIK6lYKl/zB7jL7ueyqAokJXPz5EiMTJfqOyUHn1f+MFyUhgAFkG3MifyKxB6sZ/zkOJSAj3hwvBlANzw08E1QcBCFCOzYa7xidInsDyyUQ+hzky/jq6ULx1c0t0qbq+uZu0eTdTM0HwSLBQ+baGmIlYBkUBIseOPXV+6kaMCjuKQ4PwTLUMDoblBdpB5QDVOc0BA/2yQsDKOf08AfeDO7uTwD5DornYfnu5wXAc9g1/s3fONVl2C+/C8XTx7jCX7H1ugDIDdTG7br5Mf+n+PL5APWRsluzrsq6x87NRt7t27nNwem9s4TDL+rOydbJ7+eS+BjfvOOY6My65b5CuTOiC84HuZDBmNPTylvIlNAJ1wPBtbZ0qeizx7ClxK7OAuNt1L7etPsfyK7fvtd9yT68JMH730XSo8srxdTam87k5YLroNg8AAv17+IG3SzqNNoJ0SfvEeom06LM59fAz2vR89Vz22Ljcs0Aw16qtbX6yImymvh53/3CQNe038Xae8///zbRhue02zrKrMbU01zWo7Lou1ec2KtkwFWpsZhut9GuKsbh4NHvZdg4n4qpqL7Yx4C+r7doqEWqdL4IsaC5kbQ50QviNcPqxonDb8hB4iDnxLUjwQfc6+s37LvlH+Ow38TMqdyz5wPfOeXG2/nq6rPOsdS/QsGZzLfFSdSfyD/SF+zU2cDWy9le0qK8S8+k2kTD79/30YrJELxmzIahp5VUsh6orcczxoW4Qq2zmbOVU8ZRqqe+fdqSzR28d5styOnXXc/b187Jq81s0Y+bDMd30ZO5stiO2wvd/tJQwOm7E+GT1/rL2LIN153ngLBSwpjfAs05ugKwQIozpuiy97L9nPWZSa6rsYjErNaP5XzX6cSuwALpQtt04Cnca9I7+yLraNOjzOvJzcIK2vDZsM/Xyr21N6dm0aDu9NDm3fPOoL+vwkrFVeN008LLqszAnMaoGqznk5OUZKKKwvyxULGbvnTPlst6yS3PncSNvZjD3tp/v8OqsKYTkCGn4cv3u1uatJwBsrmx6LtbsYWrXsd19kz2DM/qzgPsveP7wdbG+PUG4qrF1OoAz1HY9NQRw5XJRN7z12jDxNQrt1jNhtBG7iTwWtpTCozkcPby7XHvLwJv7Pj4PdRLyjHModSH2lHrghKQ+D7jQ+C05m354hofFg35rQbJCx7zsM7zyZXVk/Rn/8Xt79wTBLDyrtoZ8AL+b/373tLY58lu7LTiROrtAofp5uZJB6MU0gwO89PW+wNX7w7TrskS5UPXR7ZPyPfLBMCr5JIH9d1y0FG1LtA2xmPR8MFDt/PDv7qB7Hj6Dugd+2QLFcvi3THjid+X7MHkwwCXDsLmf/imEbUSl/pO3NvjP+FQAqXnmc25ytvomw7TCPQIYQw7APzv5unx+BztwN7r4PriP+0q58sPPg6bBIYEkQea9pbn8wEk7zj5VeQK6MDl7L98z8bbvNzo2ubA0shAzVbLG9epxCr1z/ifCHvf+dcEE1z33ww66JHxxeI63sT89dbN2BvYf+IB5YcDdQMX7gn3XwMpE/Lv5fKGFfwnPBmNDwnjbeGz8/DPFtyy7t4ElON55+UGvAh7FRQPGd4WCPMGsNfT91YJyR/M9X0C5wAS93oFIf9Q/c/qGevd70TtF9kc4zfK384vzDvKYt5X2zf7EOwy7CX3JeOr70HzJORu2Ijgcfzq8APdSf8rFjMCpPOD/L37QPDmB+PsDfZj3/XdHxGv9KXhZOPS957nPfOT7FDVrOc6/PgCcgHE66f0iOYD/vgLmuV03Abndu+s7A34L8cH8Df4SOme5x/Ssb0nwTLYXtMFyZfYPdoOzLPR+swE2F+mg5uytzrL8cT041LfSNJ11gfVl+xZ/eQBsd/P6xn63e/TB0n8N/NQJ9/5wObY4IDhcLkBtpfY4cpg/UTwY+6FCUwZFvR7ABcR5f1S/5Lt1frZE5nyn9Ps5i/ew+8X4G7B59Hu4C7hRdhEw7veSf6Z4KnHC81U4nnc2uQX9cz6IwYB7AziQfif+MXh5OmS9V/j8fhk0Ry8VNfswiLHmdSKyZ29zLRwwYDrsPQh8D/bW9bU1KHAUtCM2yvuQvTW337aPcsWrdu1I9J34I3Ru8fd/Qb5m9GV2NTfPdSp98sTYAq/JQovjx+aFg0STvqX0q+7t8Uv2EvnRtQO1NPLFrswzHnlOfl1/2PzjwIX/WTygO9u1rPWVMeN0fbQh9ajo1eowso5z+zS+68otH2b+LQa0NfQILzOwBvuAOkl1hHjNPeQ2mrj2fWYzmbLoNFtuuXwBfoI9FQN4fs//eMETgDJ93b9zABJ6RvGErBKqPvhedyWwaDMetAC1RjbUfmkC/vsvPAi9HbR2OTKz7fMZ/RCAiUFZAQQ3XTGDNLl2L7B1t95/GP2tQaW0EfYluygzl/kw+BK1DXcf+Kc863uWdyN5EjoMe3t8+ELhwpy8/f+NeaKDWswABux9z8GJvaF1zn8ufNGCE4R1BULMvorxBk+E0cGDBuPKq4GlPxXES73ROlw/iH49dYE5jbolN0f6vvWpuff6KLryRoDHBgXRhV89Mju3gKAK2AoniKuHnYtOBzFB4sKTACgDH0vkB38Cswg5AJuCg8mIBnFDAMOrOBj/okKbSAcKbMOXgGt4GMAzATI6Pv5hfnT5IL5OPpF63HoktFi1L/IgrRj2Zi0QrlfytnjMf/S8xL0geKhyViooMwT6BbfHd7MwKPfneCkwdPfgdmA3PHhO9q7yPrArNaK5/XayMzezAzkD94su4C4Xst/5BXaLNr08KP+yuw39R8HNPpyAZj0BuWN7xAIqAKm7SvUYNtY86LW4NR02XbS4+WB8KnFtchHruKgqula1hPTvd5SyfyzqqcInYOIzohyr7apUaeyr1K6WMTEs9zOksaDx7PB4NUT5j/L5Lroy0PSXtI18dvhAsnLzpzHPrBA04fVAOL67lbm6+UC0Rr44AiW4F3MWLTKv8XRtNbZ7+DJVbfJrweqaJ3hk3+u7rIox6vVRsuZ3YPcHLd5rBHATMgptOq63M2W2KvNvr7pwIjMbafoqATas+xe60vUdN8+40/0r/XkzprGBd0o2yrO079e2fnfJ9xu+N7qv+hh4bXIEcdav/WuAsISurCtXpyspze9FL+7uiqjuYMZiRmN8obSqNiegodJjzGblaKe1xvUR9N352jOLML5xyvZH9QmyiTHu87Xz7DIbs7lyFm5E6w/u0HcqdRGwEnE97xLvce/TanVrOy9p7l+rKecHKKfk9uNv7/Es9meY66ZtLrRh8ththPFtOEg4dvC0eQB8GzCdLfj1fey66MquYWkFtYv3Sa6jMS8zcHJedNQ2s/FeNGaxvLAR+RA6aHWcOEt453bIu7e4Q/Atb1ev53LjNdww67ATr1ryrCxSZBCpnucCa+wzXexc7BfrNmpqblnsfXYbdRjrwvIZcjxy8nped5N0H7RlsKW72bJqb021XvFGb2Pw0628pd3pa+qsLjeihKN2ITUmvuU9qv80rjh09e5ubTf47NX1ufGhKg71RrTfOcx3Fi+ybEYxo7R1LpkvbG/0dT60gHM1LUYsTzcacIo0A/kOdWYwXms3Lm5srTEcbyetou6JLYCvsW8rLxCxTmszc1x7azMNdZBsT7ivdXbpQbHwdyG1LfHUcWIqn+uWbFeuhKvILlws8egecvfz1/dNv4a3UTMQ88+xITpotXtuybWU8Q705vr4+jt6zniJN0zvxO8BNJswcbal/mr/CvmVeQs23TbFfKaAFL3EAF+7qXjAuwK4hDssuqO76Lglt9ryr/izszO1QrZE71hv0e9M743ql/gzuDm0BrP8sa0wxS6U92UvQSoBLD3p4W4etwB7zTgRNMewHzcZvRSHYnwSecH6dbyqPlxwZi7tcVo8M3n0em4xjPXhO1U7onqcd6J5WzuSwq++EzwfwSfA9XozO0Y24HiM/u85OP/Quht6Yvzbcha39zFSdTn9GrCeuLM0t2aeco53LXoAcTB0XS6jKUcwgSuuNM6m6Cf+ciN1RnQzrkosnyecbDAp3GtscDTzFW1Udng6Rzfpu1B9vL2wvLz+XDdO+I+3jreOdRH2+j8DQOK91Dbu8XG4PPQ09zW7xrRpsSeywfR87X01Dbq4v3iDh4NbBKWD0oIsOsYAyYI0O0X5IzkZQgH8e4BDOrP7kPxKsftw62wWbnetAjhCumc1TTXcfln/Wv2PArJ9jv3F+717fzyBOUt4hnhFeil5q7XRetQEknu0+S88Pzqgf9/1Iu+kN/X3JrdjduL1rfJes3i6eUD9+ijzqPcAsEjzqHTmOeUDGXg2b+MyCDzW+tL68gIRvmUMKYeBxoWFOAMcyNzAUEHLxABB57sRfazJZ0h3/o+BEQOSDj6QLgwETeNKKoYKRRvB3kJvQiYCTkK1PoP9kwAWxUSEy34puMaDaD9wPm0FBYMwB3JGC0knBybIDwYnhMTMQALBQQ2/xUEPxA10urg5g7K6eYAHfSk0HjmBQpbFIgVsie2BC0N2SFGGJ8NBx6jOLQqUyU0Kuos4CSNLxkpCyQwNDEDYelwDd0bYQ27EAwKGgdqGOwBLxLJJk0J2vKR28vzawLBBz/0tgy3Jq4S0vVv/ZYuUAaeBmcIgTWCJc0RLxsS9p3y6QQxDdbwDfyi7zz5Z+pj/cshgR3gKXE7e0pBQkcszBbPDtkD1REJBhHmI9z64qP4GQGvBCQGighJ9p/1FO7w4TDpC/US+mjgqQEW60z8ER1pMT48jgPg+KLxZhvfFbIgWQ0V+Hb+0weVBo7y5wqz18TY7Ov254vsG/roKBf+E+5OHYkLBPKGx1XaCuoq2SfIpt0U4h3OX9AouIfh6Nl/y93McMJNzBDmZdvU3OjsLOLx9V8JuBWZ7cXZrNp00x3jbN/B5wH07+J8yEjOreo2verFsNecxwfhVNMM4/zzEfXT9ZP2D/yR8HUBLAthFiEqrgWTB0b8MxrJQGcWug4FARICu9nR3vr3xeqTAbDhgtv2+r4W8i2ALGUg+wMpFWEoXSJpFoQZ7Sa/CUoYURXYHJ4jIRgsWK04sBkBIf8AmefP6V8J2xAtDfP54xAPDYsLchYZ97f/iROrC2H/We9J7RUBywOnF+P3weG59Gv7ARlm+iPlP+/c7az2Lvi553zzzBY/Cb8JJA2y5MLwPBZeG9BClSmAIFwm4BK9ClMDkhuvBz0TZgHF5yXdgAsMO4AduxTuGCUgVwoTLPw4LwetAoUERwNKGccNYRMxGjb2iPgq/YcCewfu5y7ZC+dv1QTxd/rU4ZXu1+po4bj6jPf195z0Xcua8qngfeilF7/94/ER99rr3O4x6/X83vHD59DiF+exHqAp0i8GDwcbdAyxAXcHWwKcD7TaQv8E9OLvChoZGyhAeg5pFaQ0qSit/r8D1AylBbMS7+1ADTgLe/nB8ND77PFj4DLszQjpDd7+bAdCBUgV0OwF3NX3Zw9sDiL/hPzSAmz1qwJTFuYXRQ0MD9Mm4QjE61r1tv3EBJYKFvIF8MXj6cpa5tHrduMR7Fjg8vI/3bEIHy0ZIZQByvFcLA0Ak+81B1o47ykQBF8LBvOKAD4NUfZnBb8jsQH4CPzsz//kDoUDrxCd+0wTbCIaL+H7MAZ7HnsSYhIs6o/vmATrAlgERPWrByUL5+orB1rraOiyBabkZ91Z9lgJwhGgCTL3ndUA4x8OIvoRAwgBnf9FDG/34wM/IEIgZwwE9XwJpBO5AzgO4+jnE1YTttlq1uPPzeLc5dvxd/J6AePtvMnM6OACUiNRHlQMywW48bUW5CF5JpoXyhgjDCwGKje9Og8rhjsXKtIrSkM5Ju0y2B74Juk1kjSNIzQEigYuEjEa5Av2KAA08xDyDNYW7CqHDev1FAfxEjESWPtJB4gAuBQJCd7kD+7CBgQBKg6nFPH3O+6J7NMC/PSK7QDsRh8v+ru5ts5VxZLXR+RL6q/ny+P692LzSvAnBqwFO/uFFbEmLwtk/XgJdutU1sHUlsgl6H3fbekl9sr449gh5zYMPu20/hfjkNWB0Xvh6u0G5b7P3PSN/MTaduvV3A714eqs91oU6wKZ8BHiie8Y9VP0jPGg3B4FQg7/AhL+ht4s5r/orfUW6zbthQpN8sTxxxKM+N7o+dvQ2ij8Q+AHyjXo/eyN9IT3mfdEAqLsmcj324jLkdD24tK9ctlywPO4I8vc0G7AOtMEyTPE0dfOu+7cxOr+yL3ZOtT0qg3neebp0uzfEu/x2cHGF9nj2xzYOuLF3YrMnKgtz+PWPdhY+ib4hvNy2YkC59sr95IFNBPAIgsJivv3EzP7DewTEygOIhqZEY0lxRWHG3f4ghOeEcbjsQsOEA3pzNEZzarc//Ws6XjzFRGBBwME5ABU45IILP7b+r/+8uxoD93/KMev0jTsNuv2/Sv68uA488ztlwkYLHj71SRBJFf8nAda5wPrOQNf+FcLawUABBoQdRQDCd/0Ze7H9O7hW9aa5oT01QdK7sj+kgHR+EkDwt/3+/sewALqBGMQpAkIDWggQfPDBfkGzeBHB8gSVxqNCAQhvSRfJzgjIQuVFFwggkiKJ781KSWACCcoLhOWGoY6h1ThP1VJ5jpoOy8u1gJPEyQJ4BB4H687D1f4Ut5QjTJ0GuQkRyF3DMMo3CJ9A0gV3Q45D0kV+v82Cjka+RgRNbEV3RJmFqwITQ1GCL30u+BMAP76GA00FP4cSiHfE9hBykn+NIswDg3tHbUuKiTMJ+0JriXZDvoSQCTYJJ8vEA4IDCz39wUW7tQFIR2uAGcaoerH6YTrhwSOGIgD6B/BEM4KEgXt6y7SmxKOQLYPweh1zBXt1vSo6bPbYuae8WX0oiUEDecJ6xMQJEQdogp1D2UQ8gV0AEwWtSMML4EbmCabHVg36TpqH+okyC1LJBL+lh5XF1oUPhgU74cHRSvHJeQyYTImGAok8yBYIu0UAfGO+5oUBiDRIS8FcgdDDmUqOy15B+wXwQ5pHm8gJxAaFN4koDahSZZMhDBNP/w35kTiGBYSxEnKJpQ6GEAPLKcgBCLKJggp+yeFMPMdnSlcHyYcqThhKRQ8YSvxNW0mPSz9M6USXQ1h95QB4wzaGGwdWg0uNrUMqhrvPPgH3iXjK+MjJSGtHoz42gwkMyov3zKAMT1UaU3yQC4k1TycPyArGCKBHHBB5S0nOR0d/BMpH9khvS5TMwUlth1rLz4XESTnLDYsCDyEJ5E1QV9xQtcsPzvuKTkxhzarVdFWwyr8J3McfUaVSupFpUPmFq0bsxxFKkct1yuzMUMWRQ/CAOL+g+yp7bgJmg1p9/DjtQV8F90UNR5VBochNRK7C9IimgCmEcT//TRoQqYxdDQYK8QVbQftCAXk7vzdEHgcUiw/NPE02RQvQjlYnEl2XFATXxt4N/4r5PqsB3kjB/VWKP0VkAhK8XPqHQUxGjULuPdTC17wBQ7jMjVNvSk/KQg7EUlxOpIv5zvHJShB6kC9Muwwd0IRRzVQjj5cNQRDDSrbEVkCniC4GPok+x8j7hoL4RoRPUQgLQasIxgf/hn7JMQ7pyRW/P8RUR9zGt04EDOoGCIqvCzjCgARDBJAO7s96xa4EVAQThKxDQASrBXaC1D/AyKUHnIivUGAJt0h9wCi/MkbzBaHAvj3OByx/dkZoCi7EO0S/wqdB+wBwxx3I2IOIe1lAbf0/focE6Qh3jdmOksxwBtXFpUGNyNeHe0pciumCBIRAgBKACjlPuxXBGD5rQmn54vjCvstFJInwRahA8cKzhC0CJshTRJm89HRYf6mDFcRoy0qBxcrmh49H7My2AzWKewaDBVhEj8Fkxxj/NsLvhBj+mPpOOVr5k7hBPMOFlAYtCGLIlMUkREHBBcREwrsGg3+EBbl/zTj6w6O/e/9Cf4aJFwWmwLfESgHXBIsFPse3CUS+YjxgwxzA+rzmP1QBmX5Ce6v9J/liu4X6J3LmviZ/7T2597H988Ml/aOFLcLsh4TFxnxhwbuDhz/HhMCF+IJmArp6KoKvyuYFMQSvQLZI2gwwA4KDuwUsRYCGgkEyCFQMHL2NQVl//DsTf1GA5sTKheH71PTUdV/40f5jugh/VLyGPHYFV77H+9MABIgKeTs4YvmJPDZ8a7jlQSE8ZMBxQfH/Z/o3/OX+zj21AHjBp3zKuoz8zEelx9yEaERh/zMCHoaNDK4I1oQ0vQWBAEIhvciFigR1w2OIbQggxDjCUUfyAfaAAL/COotC6IY3SFyIqH5gg/5KekMiRHs+XklPxfJBL85hjakHTcLkBB9AZwKM/bs+FAuhy8iG7QlIyH5MW8jagwcEoIiphpE9cD2qxFIG2LuOgfzCPEXViGtEEgC6yMeJyMIOUvaE3n/ch0xExj9Cv4NBfEMSxQHA9oXFCj0LCgxRzSqL541SSVPC9gMzwnGBXAqDiIEK3woWwpUIWT9CASaIjkb1Q9qEcoW3xWPHc0DuwFj7kvbmgd/9dX6S+8N7dwRZAChAv/f6+3F74POmvbUHnoKQvp6AF0Prw+dAa8IRAsd8yDa0ut+6Lb7nQlB+rP+FgJiCCL7WgJfAyH6UhgA/63/7QhuARzzqezHGycV8CAQERMDO/9PDukjtiUgFVruCvK54a/mqfSP42TW1ObD29TLD/67HcwRMQ8U86sE+SHbF54Q1xU3GMkk+RcH+BH3W/g9+C0TATSsCy30l+7U6iPs/N/L1EnOIvFdBY4FrvIq5l/j6tT78Yb4uvsY//Tsb9415dP77+8v/ZAF4f0X+cPsBvNP9b7xCeOj81AHnAvcIrIZwxUlD+r4jwuD/BgERPp2BFkXQAeoHyP/Xwil/10HwR9b9zAAbxWcBFLq9uvg7njyZv2qI48liy0BGMwJ5BLcCLYLkw+MIOkUwxueAuAbHChLLlc0NQ6FItsk3BFACx4Lyg6LAK4HExZ5L3YV5RYEFa3n0v0m9SIRAhR5JYoyUhbBGwX+UOv9B94Eh/5y7SYOjRY/BHT+0gKEDYcAhhK48wz1x/uMEYr/igIK+U36xigNHBsFkCUSUp8QQfz9EKsEW/ItCIT6HwMZ8xTe6gWX7RUOpAuND2sJKPmo7SDr+/DT2g/fltPI9VYGUAmc968YpxBi/Mfx7O52D40DmvIb6pv95w5gEWf/4wV9/SkGEBVkGXP9twL0G50I6B4mI736G/PFBrMABQKe9H7p6PR2AKMEt+t/+u/zGd3f7qb+gwMm9UrbLeQiAPHofvq7A+cIm/+t1/jhj9IpwPfLmMKrvrXjEuEW9Ej/dfdB6Pr3FiYsAkz6yAHMDW0RhyBYJKQTGxEbJyMsef4oJy4zDCYsHKcRmSraIpglwie0FGP7\" type=\"audio/wav\" />\n",
       "                    Your browser does not support the audio element.\n",
       "                </audio>\n",
       "              "
      ],
      "text/plain": [
       "<IPython.lib.display.Audio object>"
      ]
     },
     "execution_count": 3,
     "metadata": {},
     "output_type": "execute_result"
    }
   ],
   "source": [
    "import IPython.display as ipd\n",
    "import random\n",
    "\n",
    "# 데이터 선택\n",
    "rand = random.randint(0, len(speech_data[\"wav_vals\"]))\n",
    "print(\"rand num : \", rand)\n",
    "\n",
    "sr = 8000 # 1초동안 재생되는 샘플의 갯수\n",
    "data = speech_data[\"wav_vals\"][rand]\n",
    "print(\"Wave data shape : \", data.shape)\n",
    "print(\"label : \", speech_data[\"label_vals\"][rand])\n",
    "\n",
    "ipd.Audio(data, rate=sr)"
   ]
  },
  {
   "cell_type": "code",
   "execution_count": 4,
   "metadata": {},
   "outputs": [],
   "source": [
    "target_list = ['yes', 'no', 'up', 'down', 'left', 'right', 'on', 'off', 'stop', 'go']\n",
    "\n",
    "label_value = target_list\n",
    "label_value.append('unknown')\n",
    "label_value.append('silence')\n",
    "\n",
    "new_label_value = dict()\n",
    "for i, l in enumerate(label_value):\n",
    "    new_label_value[l] = i\n",
    "label_value = new_label_value"
   ]
  },
  {
   "cell_type": "code",
   "execution_count": 5,
   "metadata": {},
   "outputs": [],
   "source": [
    "temp = []\n",
    "for v in speech_data[\"label_vals\"][: 30000]:\n",
    "    temp.append(label_value[v[0]])\n",
    "label_data = np.array(temp)"
   ]
  },
  {
   "cell_type": "markdown",
   "metadata": {},
   "source": [
    "## 2.  2차원 SPECTOGRAM으로 전환"
   ]
  },
  {
   "cell_type": "code",
   "execution_count": 6,
   "metadata": {},
   "outputs": [],
   "source": [
    "import librosa\n",
    "\n",
    "def wav2spec(wav, fft_size=550): # spectrogram shape을 맞추기위해서 size 변형\n",
    "    D = np.abs(librosa.stft(wav, n_fft=fft_size))\n",
    "    return D"
   ]
  },
  {
   "cell_type": "code",
   "execution_count": 7,
   "metadata": {},
   "outputs": [
    {
     "name": "stdout",
     "output_type": "stream",
     "text": [
      "(30000, 276, 59)\n"
     ]
    }
   ],
   "source": [
    "spec = []\n",
    "s_data = speech_data['wav_vals'][:30000]\n",
    "for data in s_data:\n",
    "    wav_data = wav2spec(data)\n",
    "    spec.append(wav_data)\n",
    "    \n",
    "spec = np.array(spec)\n",
    "print(spec.shape)"
   ]
  },
  {
   "cell_type": "markdown",
   "metadata": {},
   "source": [
    "## 3. train data test data 분리하기"
   ]
  },
  {
   "cell_type": "code",
   "execution_count": 8,
   "metadata": {},
   "outputs": [
    {
     "name": "stdout",
     "output_type": "stream",
     "text": [
      "[[[7.64200184e-03 2.53511383e-03 1.40947779e-03 ... 7.91144033e-04\n",
      "   3.12724779e-03 1.44859841e-02]\n",
      "  [9.16511938e-03 5.59150893e-03 1.58209912e-03 ... 3.39764752e-03\n",
      "   1.66817440e-03 1.68915186e-02]\n",
      "  [1.03972284e-02 5.15504042e-03 2.00863881e-03 ... 3.00476793e-03\n",
      "   6.32469822e-03 2.27448829e-02]\n",
      "  ...\n",
      "  [8.70972965e-03 4.39698296e-03 2.04263979e-05 ... 1.03931990e-04\n",
      "   1.07304042e-03 4.22614999e-03]\n",
      "  [8.55406933e-03 4.27911989e-03 1.06980660e-04 ... 4.52636414e-05\n",
      "   8.95287725e-04 4.05634614e-03]\n",
      "  [8.43858346e-03 4.23028553e-03 5.82538887e-05 ... 7.66035082e-05\n",
      "   9.92961111e-04 4.02329443e-03]]\n",
      "\n",
      " [[3.45738101e+00 2.56080627e+00 1.46471828e-01 ... 1.84122705e+00\n",
      "   3.20890927e+00 3.55794764e+00]\n",
      "  [1.73700309e+00 2.05581260e+00 1.82289100e+00 ... 6.67634058e+00\n",
      "   6.95263815e+00 4.15738726e+00]\n",
      "  [3.08620334e-01 7.09352195e-01 9.22242463e-01 ... 1.05851574e+01\n",
      "   8.64546108e+00 1.94899476e+00]\n",
      "  ...\n",
      "  [1.01936357e-02 5.09293843e-03 4.27193982e-06 ... 9.34740019e-05\n",
      "   9.04695073e-04 3.80105479e-03]\n",
      "  [1.01725534e-02 5.11483569e-03 1.98034631e-05 ... 1.04940096e-04\n",
      "   8.45723262e-04 3.59550095e-03]\n",
      "  [1.01887425e-02 5.13403816e-03 5.19762034e-06 ... 8.58415660e-05\n",
      "   7.79413851e-04 3.48933809e-03]]\n",
      "\n",
      " [[1.13683855e-02 5.16312988e-03 3.96464573e-04 ... 6.33032061e-04\n",
      "   2.87844380e-03 8.46177433e-03]\n",
      "  [1.29175792e-02 6.60214107e-03 1.11953658e-03 ... 1.34096958e-03\n",
      "   9.05008288e-04 8.07953905e-03]\n",
      "  [1.40955951e-02 7.65686715e-03 1.98080670e-03 ... 2.88831093e-03\n",
      "   8.50504264e-04 9.75397322e-03]\n",
      "  ...\n",
      "  [4.60209139e-03 2.32424331e-03 8.13787337e-05 ... 1.02373633e-04\n",
      "   1.07533147e-03 4.30982187e-03]\n",
      "  [4.52121440e-03 2.26734974e-03 1.13520684e-04 ... 3.85712119e-05\n",
      "   9.20356542e-04 4.14481433e-03]\n",
      "  [4.43374878e-03 2.21230160e-03 5.91009448e-05 ... 8.08451223e-05\n",
      "   1.02010218e-03 4.12201136e-03]]\n",
      "\n",
      " ...\n",
      "\n",
      " [[3.63157899e-03 1.82493345e-03 1.59643870e-03 ... 2.44716136e-03\n",
      "   1.43706508e-03 5.92524931e-03]\n",
      "  [2.79116700e-03 2.01224792e-03 2.19627074e-03 ... 3.25789722e-03\n",
      "   4.98528872e-03 3.35025368e-03]\n",
      "  [1.79084274e-03 5.01392758e-04 1.77337939e-03 ... 3.98015603e-03\n",
      "   4.71309619e-03 3.12311412e-03]\n",
      "  ...\n",
      "  [5.51981866e-05 2.90389180e-05 1.58352304e-06 ... 7.93450965e-07\n",
      "   3.97155736e-06 1.66192858e-05]\n",
      "  [5.50102450e-05 2.74561135e-05 4.32258986e-07 ... 2.23257689e-06\n",
      "   3.32946524e-06 1.57863396e-05]\n",
      "  [5.36754778e-05 2.66029383e-05 8.69933615e-07 ... 2.47669277e-06\n",
      "   8.40252687e-06 1.88288795e-05]]\n",
      "\n",
      " [[3.11960317e-02 2.56189331e-02 4.11251150e-02 ... 2.69344449e-02\n",
      "   6.86983988e-02 7.05722123e-02]\n",
      "  [1.77280344e-02 3.37522738e-02 3.33655700e-02 ... 1.86456561e-01\n",
      "   1.01217836e-01 1.12290874e-01]\n",
      "  [1.44747674e-01 1.38581485e-01 1.17187083e-01 ... 2.74344206e-01\n",
      "   2.24692002e-01 2.72537053e-01]\n",
      "  ...\n",
      "  [2.91674049e-03 1.45883346e-03 2.01105104e-05 ... 3.79613175e-06\n",
      "   1.20820550e-04 5.09316800e-04]\n",
      "  [2.90815975e-03 1.46312488e-03 8.77951334e-06 ... 4.41188376e-06\n",
      "   1.31420369e-04 5.24872507e-04]\n",
      "  [2.91085406e-03 1.46407506e-03 3.88257240e-06 ... 2.25106032e-06\n",
      "   1.24529382e-04 5.28371427e-04]]\n",
      "\n",
      " [[1.60636306e-01 6.84241727e-02 2.73258179e-01 ... 2.37468392e-01\n",
      "   1.07028693e-01 3.32633585e-01]\n",
      "  [3.45424026e-01 3.00589204e-01 1.22476965e-01 ... 2.48004377e-01\n",
      "   1.28672346e-01 2.57920444e-01]\n",
      "  [6.27176881e-01 3.14753145e-01 3.35915014e-02 ... 8.49249005e-01\n",
      "   5.91237187e-01 6.63422823e-01]\n",
      "  ...\n",
      "  [1.01860939e-02 5.13423514e-03 6.70324443e-05 ... 1.06166597e-04\n",
      "   9.82213183e-04 3.88536882e-03]\n",
      "  [1.01116225e-02 5.07209590e-03 1.12383372e-04 ... 4.08836022e-05\n",
      "   8.09878460e-04 3.70926713e-03]\n",
      "  [1.00338329e-02 5.03676571e-03 7.19675227e-05 ... 8.64641188e-05\n",
      "   9.19353450e-04 3.68505693e-03]]]\n"
     ]
    }
   ],
   "source": [
    "from sklearn.model_selection import train_test_split\n",
    "\n",
    "sr = 8000\n",
    "train_wav, test_wav, train_label, test_label = train_test_split(spec, \n",
    "                                                                label_data, \n",
    "                                                                test_size=0.1,\n",
    "                                                                shuffle=True)\n",
    "print(train_wav)"
   ]
  },
  {
   "cell_type": "code",
   "execution_count": 9,
   "metadata": {},
   "outputs": [
    {
     "name": "stdout",
     "output_type": "stream",
     "text": [
      "train data :  (27000, 276, 59)\n",
      "train labels :  (27000,)\n",
      "test data :  (3000, 276, 59)\n",
      "test labels :  (3000,)\n"
     ]
    }
   ],
   "source": [
    "print(\"train data : \", train_wav.shape)\n",
    "print(\"train labels : \", train_label.shape)\n",
    "print(\"test data : \", test_wav.shape)\n",
    "print(\"test labels : \", test_label.shape)"
   ]
  },
  {
   "cell_type": "code",
   "execution_count": 10,
   "metadata": {},
   "outputs": [],
   "source": [
    "batch_size = 128\n",
    "max_epochs = 10\n",
    "\n",
    "# the save point\n",
    "checkpoint_dir = os.getenv('HOME')+'/aiffel/speech_recognition/models/wav'"
   ]
  },
  {
   "cell_type": "code",
   "execution_count": 11,
   "metadata": {},
   "outputs": [],
   "source": [
    "def one_hot_label(wav, label):\n",
    "    label = tf.one_hot(label, depth=12)\n",
    "    return wav, label"
   ]
  },
  {
   "cell_type": "code",
   "execution_count": 12,
   "metadata": {},
   "outputs": [
    {
     "name": "stdout",
     "output_type": "stream",
     "text": [
      "<BatchDataset shapes: ((None, 276, 59), (None, 12)), types: (tf.float32, tf.float32)>\n",
      "<BatchDataset shapes: ((None, 276, 59), (None, 12)), types: (tf.float32, tf.float32)>\n"
     ]
    }
   ],
   "source": [
    "import tensorflow as tf\n",
    "\n",
    "# for train\n",
    "train_dataset = tf.data.Dataset.from_tensor_slices((train_wav, train_label))\n",
    "train_dataset = train_dataset.map(one_hot_label)\n",
    "train_dataset = train_dataset.repeat().batch(batch_size=batch_size)\n",
    "print(train_dataset)\n",
    "\n",
    "# for test\n",
    "test_dataset = tf.data.Dataset.from_tensor_slices((test_wav, test_label))\n",
    "test_dataset = test_dataset.map(one_hot_label)\n",
    "test_dataset = test_dataset.batch(batch_size=batch_size)\n",
    "print(test_dataset)"
   ]
  },
  {
   "cell_type": "markdown",
   "metadata": {},
   "source": [
    "## 4. 모델 설계하기"
   ]
  },
  {
   "cell_type": "code",
   "execution_count": 13,
   "metadata": {},
   "outputs": [
    {
     "name": "stdout",
     "output_type": "stream",
     "text": [
      "Model: \"model\"\n",
      "_________________________________________________________________\n",
      "Layer (type)                 Output Shape              Param #   \n",
      "=================================================================\n",
      "input_1 (InputLayer)         [(None, 276, 59)]         0         \n",
      "_________________________________________________________________\n",
      "conv1d (Conv1D)              (None, 276, 32)           17024     \n",
      "_________________________________________________________________\n",
      "conv1d_1 (Conv1D)            (None, 276, 32)           9248      \n",
      "_________________________________________________________________\n",
      "max_pooling1d (MaxPooling1D) (None, 138, 32)           0         \n",
      "_________________________________________________________________\n",
      "conv1d_2 (Conv1D)            (None, 138, 64)           18496     \n",
      "_________________________________________________________________\n",
      "conv1d_3 (Conv1D)            (None, 138, 64)           36928     \n",
      "_________________________________________________________________\n",
      "max_pooling1d_1 (MaxPooling1 (None, 69, 64)            0         \n",
      "_________________________________________________________________\n",
      "conv1d_4 (Conv1D)            (None, 69, 128)           73856     \n",
      "_________________________________________________________________\n",
      "conv1d_5 (Conv1D)            (None, 69, 128)           147584    \n",
      "_________________________________________________________________\n",
      "conv1d_6 (Conv1D)            (None, 69, 128)           147584    \n",
      "_________________________________________________________________\n",
      "max_pooling1d_2 (MaxPooling1 (None, 34, 128)           0         \n",
      "_________________________________________________________________\n",
      "conv1d_7 (Conv1D)            (None, 34, 256)           295168    \n",
      "_________________________________________________________________\n",
      "conv1d_8 (Conv1D)            (None, 34, 256)           590080    \n",
      "_________________________________________________________________\n",
      "conv1d_9 (Conv1D)            (None, 34, 256)           590080    \n",
      "_________________________________________________________________\n",
      "max_pooling1d_3 (MaxPooling1 (None, 17, 256)           0         \n",
      "_________________________________________________________________\n",
      "dropout (Dropout)            (None, 17, 256)           0         \n",
      "_________________________________________________________________\n",
      "flatten (Flatten)            (None, 4352)              0         \n",
      "_________________________________________________________________\n",
      "dense (Dense)                (None, 256)               1114368   \n",
      "_________________________________________________________________\n",
      "batch_normalization (BatchNo (None, 256)               1024      \n",
      "_________________________________________________________________\n",
      "activation (Activation)      (None, 256)               0         \n",
      "_________________________________________________________________\n",
      "dense_1 (Dense)              (None, 12)                3084      \n",
      "=================================================================\n",
      "Total params: 3,044,524\n",
      "Trainable params: 3,044,012\n",
      "Non-trainable params: 512\n",
      "_________________________________________________________________\n"
     ]
    }
   ],
   "source": [
    "from tensorflow.keras import layers\n",
    "\n",
    "input_tensor = layers.Input(shape=(276, 59))\n",
    "\n",
    "x = layers.Conv1D(32, 9, padding='same', activation='relu')(input_tensor)\n",
    "x = layers.Conv1D(32, 9, padding='same', activation='relu')(x)\n",
    "x = layers.MaxPool1D()(x)\n",
    "\n",
    "x = layers.Conv1D(64, 9, padding='same', activation='relu')(x)\n",
    "x = layers.Conv1D(64, 9, padding='same', activation='relu')(x)\n",
    "x = layers.MaxPool1D()(x)\n",
    "\n",
    "x = layers.Conv1D(128, 9, padding='same', activation='relu')(x)\n",
    "x = layers.Conv1D(128, 9, padding='same', activation='relu')(x)\n",
    "x = layers.Conv1D(128, 9, padding='same', activation='relu')(x)\n",
    "x = layers.MaxPool1D()(x)\n",
    "\n",
    "x = layers.Conv1D(256, 9, padding='same', activation='relu')(x)\n",
    "x = layers.Conv1D(256, 9, padding='same', activation='relu')(x)\n",
    "x = layers.Conv1D(256, 9, padding='same', activation='relu')(x)\n",
    "x = layers.MaxPool1D()(x)\n",
    "x = layers.Dropout(0.3)(x)\n",
    "\n",
    "x = layers.Flatten()(x)\n",
    "x = layers.Dense(256)(x)\n",
    "x = layers.BatchNormalization()(x)\n",
    "x = layers.Activation('relu')(x)\n",
    "\n",
    "output_tensor = layers.Dense(12)(x)\n",
    "\n",
    "model_wav = tf.keras.Model(input_tensor, output_tensor)\n",
    "\n",
    "model_wav.summary()"
   ]
  },
  {
   "cell_type": "code",
   "execution_count": 14,
   "metadata": {},
   "outputs": [],
   "source": [
    "optimizer=tf.keras.optimizers.Adam(1e-4)\n",
    "model_wav.compile(loss=tf.keras.losses.CategoricalCrossentropy(from_logits=True),\n",
    "             optimizer=optimizer,\n",
    "             metrics=['accuracy'])"
   ]
  },
  {
   "cell_type": "code",
   "execution_count": 15,
   "metadata": {},
   "outputs": [],
   "source": [
    "cp_callback = tf.keras.callbacks.ModelCheckpoint(checkpoint_dir,\n",
    "                                                 save_weights_only=True,\n",
    "                                                 monitor='val_loss',\n",
    "                                                 mode='auto',\n",
    "                                                 save_best_only=True,\n",
    "                                                 verbose=1)"
   ]
  },
  {
   "cell_type": "markdown",
   "metadata": {},
   "source": [
    "## 5. 모델 train 하기"
   ]
  },
  {
   "cell_type": "code",
   "execution_count": 16,
   "metadata": {},
   "outputs": [
    {
     "name": "stdout",
     "output_type": "stream",
     "text": [
      "Epoch 1/10\n",
      "209/210 [============================>.] - ETA: 0s - loss: 1.7564 - accuracy: 0.3951\n",
      "Epoch 00001: val_loss improved from inf to 2.13786, saving model to /home/aiffel0038/aiffel/speech_recognition/models/wav\n",
      "210/210 [==============================] - 5s 24ms/step - loss: 1.7554 - accuracy: 0.3954 - val_loss: 2.1379 - val_accuracy: 0.5350\n",
      "Epoch 2/10\n",
      "208/210 [============================>.] - ETA: 0s - loss: 1.1509 - accuracy: 0.6021\n",
      "Epoch 00002: val_loss improved from 2.13786 to 1.36956, saving model to /home/aiffel0038/aiffel/speech_recognition/models/wav\n",
      "210/210 [==============================] - 5s 23ms/step - loss: 1.1490 - accuracy: 0.6029 - val_loss: 1.3696 - val_accuracy: 0.6675\n",
      "Epoch 3/10\n",
      "208/210 [============================>.] - ETA: 0s - loss: 0.7262 - accuracy: 0.7552\n",
      "Epoch 00003: val_loss improved from 1.36956 to 0.68722, saving model to /home/aiffel0038/aiffel/speech_recognition/models/wav\n",
      "210/210 [==============================] - 5s 23ms/step - loss: 0.7243 - accuracy: 0.7559 - val_loss: 0.6872 - val_accuracy: 0.7626\n",
      "Epoch 4/10\n",
      "208/210 [============================>.] - ETA: 0s - loss: 0.4812 - accuracy: 0.8393\n",
      "Epoch 00004: val_loss improved from 0.68722 to 0.43465, saving model to /home/aiffel0038/aiffel/speech_recognition/models/wav\n",
      "210/210 [==============================] - 5s 22ms/step - loss: 0.4805 - accuracy: 0.8396 - val_loss: 0.4347 - val_accuracy: 0.8590\n",
      "Epoch 5/10\n",
      "208/210 [============================>.] - ETA: 0s - loss: 0.3583 - accuracy: 0.8817\n",
      "Epoch 00005: val_loss improved from 0.43465 to 0.37041, saving model to /home/aiffel0038/aiffel/speech_recognition/models/wav\n",
      "210/210 [==============================] - 5s 22ms/step - loss: 0.3579 - accuracy: 0.8819 - val_loss: 0.3704 - val_accuracy: 0.8764\n",
      "Epoch 6/10\n",
      "210/210 [==============================] - ETA: 0s - loss: 0.2809 - accuracy: 0.9084\n",
      "Epoch 00006: val_loss improved from 0.37041 to 0.33672, saving model to /home/aiffel0038/aiffel/speech_recognition/models/wav\n",
      "210/210 [==============================] - 5s 23ms/step - loss: 0.2809 - accuracy: 0.9084 - val_loss: 0.3367 - val_accuracy: 0.8882\n",
      "Epoch 7/10\n",
      "208/210 [============================>.] - ETA: 0s - loss: 0.2270 - accuracy: 0.9285\n",
      "Epoch 00007: val_loss improved from 0.33672 to 0.33139, saving model to /home/aiffel0038/aiffel/speech_recognition/models/wav\n",
      "210/210 [==============================] - 5s 23ms/step - loss: 0.2273 - accuracy: 0.9283 - val_loss: 0.3314 - val_accuracy: 0.8879\n",
      "Epoch 8/10\n",
      "208/210 [============================>.] - ETA: 0s - loss: 0.1905 - accuracy: 0.9402\n",
      "Epoch 00008: val_loss did not improve from 0.33139\n",
      "210/210 [==============================] - 5s 22ms/step - loss: 0.1909 - accuracy: 0.9400 - val_loss: 0.3602 - val_accuracy: 0.8692\n",
      "Epoch 9/10\n",
      "208/210 [============================>.] - ETA: 0s - loss: 0.1626 - accuracy: 0.9513\n",
      "Epoch 00009: val_loss improved from 0.33139 to 0.30874, saving model to /home/aiffel0038/aiffel/speech_recognition/models/wav\n",
      "210/210 [==============================] - 5s 23ms/step - loss: 0.1624 - accuracy: 0.9513 - val_loss: 0.3087 - val_accuracy: 0.8920\n",
      "Epoch 10/10\n",
      "208/210 [============================>.] - ETA: 0s - loss: 0.1378 - accuracy: 0.9598\n",
      "Epoch 00010: val_loss improved from 0.30874 to 0.26499, saving model to /home/aiffel0038/aiffel/speech_recognition/models/wav\n",
      "210/210 [==============================] - 5s 23ms/step - loss: 0.1376 - accuracy: 0.9599 - val_loss: 0.2650 - val_accuracy: 0.9164\n"
     ]
    }
   ],
   "source": [
    "history_wav = model_wav.fit(train_dataset, epochs=max_epochs,\n",
    "                    steps_per_epoch=len(train_wav) // batch_size,\n",
    "                    validation_data=test_dataset,\n",
    "                    validation_steps=len(test_wav) // batch_size,\n",
    "                    callbacks=[cp_callback]\n",
    "                    )"
   ]
  },
  {
   "cell_type": "code",
   "execution_count": 17,
   "metadata": {},
   "outputs": [
    {
     "data": {
      "image/png": "[encoded data removed]",
      "text/plain": [
       "<Figure size 576x576 with 2 Axes>"
      ]
     },
     "metadata": {
      "needs_background": "light"
     },
     "output_type": "display_data"
    }
   ],
   "source": [
    "import matplotlib.pyplot as plt\n",
    "\n",
    "acc = history_wav.history['accuracy']\n",
    "val_acc = history_wav.history['val_accuracy']\n",
    "\n",
    "loss=history_wav.history['loss']\n",
    "val_loss=history_wav.history['val_loss']\n",
    "\n",
    "epochs_range = range(len(acc))\n",
    "\n",
    "plt.figure(figsize=(8, 8))\n",
    "plt.subplot(1, 2, 1)\n",
    "plt.plot(epochs_range, acc, label='Training Accuracy')\n",
    "plt.plot(epochs_range, val_acc, label='Validation Accuracy')\n",
    "plt.legend(loc='lower right')\n",
    "plt.title('Training and Validation Accuracy')\n",
    "\n",
    "plt.subplot(1, 2, 2)\n",
    "plt.plot(epochs_range, loss, label='Training Loss')\n",
    "plt.plot(epochs_range, val_loss, label='Validation Loss')\n",
    "plt.legend(loc='upper right')\n",
    "plt.title('Training and Validation Loss')\n",
    "plt.show()\n"
   ]
  },
  {
   "cell_type": "code",
   "execution_count": 18,
   "metadata": {},
   "outputs": [
    {
     "data": {
      "text/plain": [
       "<tensorflow.python.training.tracking.util.CheckpointLoadStatus at 0x7ff4206d3c50>"
      ]
     },
     "execution_count": 18,
     "metadata": {},
     "output_type": "execute_result"
    }
   ],
   "source": [
    "model_wav.load_weights(checkpoint_dir)"
   ]
  },
  {
   "cell_type": "code",
   "execution_count": 31,
   "metadata": {},
   "outputs": [
    {
     "name": "stdout",
     "output_type": "stream",
     "text": [
      "24/24 [==============================] - 0s 7ms/step - loss: 0.2637 - accuracy: 0.9167\n"
     ]
    }
   ],
   "source": [
    "results = model_wav.evaluate(test_dataset)"
   ]
  },
  {
   "cell_type": "code",
   "execution_count": 32,
   "metadata": {},
   "outputs": [
    {
     "name": "stdout",
     "output_type": "stream",
     "text": [
      "loss value: 0.264\n",
      "accuracy value: 91.6667%\n"
     ]
    }
   ],
   "source": [
    "# loss\n",
    "print(\"loss value: {:.3f}\".format(results[0]))\n",
    "# accuracy\n",
    "print(\"accuracy value: {:.4f}%\".format(results[1]*100))"
   ]
  },
  {
   "cell_type": "code",
   "execution_count": 33,
   "metadata": {},
   "outputs": [
    {
     "name": "stdout",
     "output_type": "stream",
     "text": [
      "label :  left\n"
     ]
    }
   ],
   "source": [
    "inv_label_value = {v: k for k, v in label_value.items()}\n",
    "batch_index = np.random.choice(len(test_wav), size=1, replace=False)\n",
    "\n",
    "batch_xs = test_wav[batch_index]\n",
    "batch_ys = test_label[batch_index]\n",
    "y_pred_ = model_wav(batch_xs, training=False)\n",
    "\n",
    "print(\"label : \", str(inv_label_value[batch_ys[0]]))"
   ]
  },
  {
   "cell_type": "code",
   "execution_count": 34,
   "metadata": {},
   "outputs": [
    {
     "name": "stdout",
     "output_type": "stream",
     "text": [
      "y_pred: left\n"
     ]
    }
   ],
   "source": [
    "if np.argmax(y_pred_) == test_label[i]:\n",
    "    print(\"y_pred: \" + str(inv_label_value[np.argmax(y_pred_)]))\n",
    "else:\n",
    "    print(\"y_pred: \" + str(inv_label_value[np.argmax(y_pred_)]))"
   ]
  },
  {
   "cell_type": "markdown",
   "metadata": {},
   "source": [
    "---"
   ]
  },
  {
   "cell_type": "markdown",
   "metadata": {},
   "source": [
    "## 7. skip-connection model 설계하기"
   ]
  },
  {
   "cell_type": "code",
   "execution_count": 23,
   "metadata": {},
   "outputs": [
    {
     "name": "stdout",
     "output_type": "stream",
     "text": [
      "Model: \"model_1\"\n",
      "__________________________________________________________________________________________________\n",
      "Layer (type)                    Output Shape         Param #     Connected to                     \n",
      "==================================================================================================\n",
      "input_2 (InputLayer)            [(None, 276, 59)]    0                                            \n",
      "__________________________________________________________________________________________________\n",
      "conv1d_10 (Conv1D)              (None, 276, 32)      17024       input_2[0][0]                    \n",
      "__________________________________________________________________________________________________\n",
      "conv1d_11 (Conv1D)              (None, 276, 32)      9248        conv1d_10[0][0]                  \n",
      "__________________________________________________________________________________________________\n",
      "max_pooling1d_4 (MaxPooling1D)  (None, 138, 32)      0           conv1d_11[0][0]                  \n",
      "__________________________________________________________________________________________________\n",
      "conv1d_12 (Conv1D)              (None, 138, 64)      18496       max_pooling1d_4[0][0]            \n",
      "__________________________________________________________________________________________________\n",
      "conv1d_13 (Conv1D)              (None, 138, 64)      36928       conv1d_12[0][0]                  \n",
      "__________________________________________________________________________________________________\n",
      "tf_op_layer_concat (TensorFlowO [(None, 138, 96)]    0           conv1d_13[0][0]                  \n",
      "                                                                 max_pooling1d_4[0][0]            \n",
      "__________________________________________________________________________________________________\n",
      "max_pooling1d_5 (MaxPooling1D)  (None, 69, 96)       0           tf_op_layer_concat[0][0]         \n",
      "__________________________________________________________________________________________________\n",
      "conv1d_14 (Conv1D)              (None, 69, 128)      110720      max_pooling1d_5[0][0]            \n",
      "__________________________________________________________________________________________________\n",
      "conv1d_15 (Conv1D)              (None, 69, 128)      147584      conv1d_14[0][0]                  \n",
      "__________________________________________________________________________________________________\n",
      "conv1d_16 (Conv1D)              (None, 69, 128)      147584      conv1d_15[0][0]                  \n",
      "__________________________________________________________________________________________________\n",
      "tf_op_layer_concat_1 (TensorFlo [(None, 69, 224)]    0           conv1d_16[0][0]                  \n",
      "                                                                 max_pooling1d_5[0][0]            \n",
      "__________________________________________________________________________________________________\n",
      "max_pooling1d_6 (MaxPooling1D)  (None, 34, 224)      0           tf_op_layer_concat_1[0][0]       \n",
      "__________________________________________________________________________________________________\n",
      "conv1d_17 (Conv1D)              (None, 34, 256)      516352      max_pooling1d_6[0][0]            \n",
      "__________________________________________________________________________________________________\n",
      "conv1d_18 (Conv1D)              (None, 34, 256)      590080      conv1d_17[0][0]                  \n",
      "__________________________________________________________________________________________________\n",
      "conv1d_19 (Conv1D)              (None, 34, 256)      590080      conv1d_18[0][0]                  \n",
      "__________________________________________________________________________________________________\n",
      "tf_op_layer_concat_2 (TensorFlo [(None, 34, 480)]    0           conv1d_19[0][0]                  \n",
      "                                                                 max_pooling1d_6[0][0]            \n",
      "__________________________________________________________________________________________________\n",
      "max_pooling1d_7 (MaxPooling1D)  (None, 17, 480)      0           tf_op_layer_concat_2[0][0]       \n",
      "__________________________________________________________________________________________________\n",
      "dropout_1 (Dropout)             (None, 17, 480)      0           max_pooling1d_7[0][0]            \n",
      "__________________________________________________________________________________________________\n",
      "flatten_1 (Flatten)             (None, 8160)         0           dropout_1[0][0]                  \n",
      "__________________________________________________________________________________________________\n",
      "dense_2 (Dense)                 (None, 256)          2089216     flatten_1[0][0]                  \n",
      "__________________________________________________________________________________________________\n",
      "batch_normalization_1 (BatchNor (None, 256)          1024        dense_2[0][0]                    \n",
      "__________________________________________________________________________________________________\n",
      "activation_1 (Activation)       (None, 256)          0           batch_normalization_1[0][0]      \n",
      "__________________________________________________________________________________________________\n",
      "dense_3 (Dense)                 (None, 12)           3084        activation_1[0][0]               \n",
      "==================================================================================================\n",
      "Total params: 4,277,420\n",
      "Trainable params: 4,276,908\n",
      "Non-trainable params: 512\n",
      "__________________________________________________________________________________________________\n"
     ]
    }
   ],
   "source": [
    "input_tensor = layers.Input(shape=(276, 59))\n",
    "\n",
    "x = layers.Conv1D(32, 9, padding='same', activation='relu')(input_tensor)\n",
    "x = layers.Conv1D(32, 9, padding='same', activation='relu')(x)\n",
    "skip_1 = layers.MaxPool1D()(x)\n",
    "\n",
    "x = layers.Conv1D(64, 9, padding='same', activation='relu')(skip_1)\n",
    "x = layers.Conv1D(64, 9, padding='same', activation='relu')(x)\n",
    "x = tf.concat([x, skip_1], -1)\n",
    "skip_2 = layers.MaxPool1D()(x)\n",
    "\n",
    "x = layers.Conv1D(128, 9, padding='same', activation='relu')(skip_2)\n",
    "x = layers.Conv1D(128, 9, padding='same', activation='relu')(x)\n",
    "x = layers.Conv1D(128, 9, padding='same', activation='relu')(x)\n",
    "x = tf.concat([x, skip_2], -1)\n",
    "skip_3 = layers.MaxPool1D()(x)\n",
    "\n",
    "x = layers.Conv1D(256, 9, padding='same', activation='relu')(skip_3)\n",
    "x = layers.Conv1D(256, 9, padding='same', activation='relu')(x)\n",
    "x = layers.Conv1D(256, 9, padding='same', activation='relu')(x)\n",
    "x = tf.concat([x, skip_3], -1)\n",
    "x = layers.MaxPool1D()(x)\n",
    "x = layers.Dropout(0.3)(x)\n",
    "\n",
    "x = layers.Flatten()(x)\n",
    "x = layers.Dense(256)(x)\n",
    "x = layers.BatchNormalization()(x)\n",
    "x = layers.Activation('relu')(x)\n",
    "\n",
    "output_tensor = layers.Dense(12)(x)\n",
    "\n",
    "model_wav_skip = tf.keras.Model(input_tensor, output_tensor)\n",
    "\n",
    "model_wav_skip.summary()"
   ]
  },
  {
   "cell_type": "code",
   "execution_count": 24,
   "metadata": {},
   "outputs": [],
   "source": [
    "optimizer=tf.keras.optimizers.Adam(1e-4)\n",
    "model_wav_skip.compile(loss=tf.keras.losses.CategoricalCrossentropy(from_logits=True),\n",
    "             optimizer=optimizer,\n",
    "             metrics=['accuracy'])\n"
   ]
  },
  {
   "cell_type": "code",
   "execution_count": 25,
   "metadata": {},
   "outputs": [],
   "source": [
    "# the save point\n",
    "checkpoint_dir = os.getenv('HOME')+'/aiffel/speech_recognition/models/wav_skip'\n",
    "\n",
    "cp_callback = tf.keras.callbacks.ModelCheckpoint(checkpoint_dir,\n",
    "                                                 save_weights_only=True,\n",
    "                                                 monitor='val_loss',\n",
    "                                                 mode='auto',\n",
    "                                                 save_best_only=True,\n",
    "                                                 verbose=1)\n"
   ]
  },
  {
   "cell_type": "markdown",
   "metadata": {},
   "source": [
    "## 8. skip-connection model train 하기"
   ]
  },
  {
   "cell_type": "code",
   "execution_count": 26,
   "metadata": {},
   "outputs": [
    {
     "name": "stdout",
     "output_type": "stream",
     "text": [
      "Epoch 1/10\n",
      "208/210 [============================>.] - ETA: 0s - loss: 1.8243 - accuracy: 0.3818\n",
      "Epoch 00001: val_loss improved from inf to 1.54870, saving model to /home/aiffel0038/aiffel/speech_recognition/models/wav_skip\n",
      "210/210 [==============================] - 5s 26ms/step - loss: 1.8207 - accuracy: 0.3827 - val_loss: 1.5487 - val_accuracy: 0.4766\n",
      "Epoch 2/10\n",
      "209/210 [============================>.] - ETA: 0s - loss: 1.1341 - accuracy: 0.6086\n",
      "Epoch 00002: val_loss improved from 1.54870 to 0.91552, saving model to /home/aiffel0038/aiffel/speech_recognition/models/wav_skip\n",
      "210/210 [==============================] - 5s 25ms/step - loss: 1.1333 - accuracy: 0.6087 - val_loss: 0.9155 - val_accuracy: 0.6889\n",
      "Epoch 3/10\n",
      "208/210 [============================>.] - ETA: 0s - loss: 0.6954 - accuracy: 0.7658\n",
      "Epoch 00003: val_loss improved from 0.91552 to 0.56753, saving model to /home/aiffel0038/aiffel/speech_recognition/models/wav_skip\n",
      "210/210 [==============================] - 5s 25ms/step - loss: 0.6940 - accuracy: 0.7663 - val_loss: 0.5675 - val_accuracy: 0.8220\n",
      "Epoch 4/10\n",
      "209/210 [============================>.] - ETA: 0s - loss: 0.4761 - accuracy: 0.8397\n",
      "Epoch 00004: val_loss improved from 0.56753 to 0.46385, saving model to /home/aiffel0038/aiffel/speech_recognition/models/wav_skip\n",
      "210/210 [==============================] - 5s 25ms/step - loss: 0.4760 - accuracy: 0.8397 - val_loss: 0.4638 - val_accuracy: 0.8546\n",
      "Epoch 5/10\n",
      "210/210 [==============================] - ETA: 0s - loss: 0.3662 - accuracy: 0.8791\n",
      "Epoch 00005: val_loss improved from 0.46385 to 0.40752, saving model to /home/aiffel0038/aiffel/speech_recognition/models/wav_skip\n",
      "210/210 [==============================] - 5s 26ms/step - loss: 0.3662 - accuracy: 0.8791 - val_loss: 0.4075 - val_accuracy: 0.8662\n",
      "Epoch 6/10\n",
      "210/210 [==============================] - ETA: 0s - loss: 0.2991 - accuracy: 0.9031\n",
      "Epoch 00006: val_loss improved from 0.40752 to 0.35902, saving model to /home/aiffel0038/aiffel/speech_recognition/models/wav_skip\n",
      "210/210 [==============================] - 5s 26ms/step - loss: 0.2991 - accuracy: 0.9031 - val_loss: 0.3590 - val_accuracy: 0.8798\n",
      "Epoch 7/10\n",
      "209/210 [============================>.] - ETA: 0s - loss: 0.2453 - accuracy: 0.9203\n",
      "Epoch 00007: val_loss improved from 0.35902 to 0.33312, saving model to /home/aiffel0038/aiffel/speech_recognition/models/wav_skip\n",
      "210/210 [==============================] - 5s 26ms/step - loss: 0.2452 - accuracy: 0.9203 - val_loss: 0.3331 - val_accuracy: 0.8849\n",
      "Epoch 8/10\n",
      "208/210 [============================>.] - ETA: 0s - loss: 0.2057 - accuracy: 0.9354\n",
      "Epoch 00008: val_loss improved from 0.33312 to 0.30657, saving model to /home/aiffel0038/aiffel/speech_recognition/models/wav_skip\n",
      "210/210 [==============================] - 5s 26ms/step - loss: 0.2057 - accuracy: 0.9354 - val_loss: 0.3066 - val_accuracy: 0.8964\n",
      "Epoch 9/10\n",
      "210/210 [==============================] - ETA: 0s - loss: 0.1710 - accuracy: 0.9488\n",
      "Epoch 00009: val_loss improved from 0.30657 to 0.27940, saving model to /home/aiffel0038/aiffel/speech_recognition/models/wav_skip\n",
      "210/210 [==============================] - 5s 26ms/step - loss: 0.1710 - accuracy: 0.9488 - val_loss: 0.2794 - val_accuracy: 0.9083\n",
      "Epoch 10/10\n",
      "209/210 [============================>.] - ETA: 0s - loss: 0.1477 - accuracy: 0.9568\n",
      "Epoch 00010: val_loss did not improve from 0.27940\n",
      "210/210 [==============================] - 5s 25ms/step - loss: 0.1477 - accuracy: 0.9568 - val_loss: 0.2944 - val_accuracy: 0.9066\n"
     ]
    }
   ],
   "source": [
    "#30분 내외 소요\n",
    "history_wav_skip = model_wav_skip.fit(train_dataset, epochs=max_epochs,\n",
    "                    steps_per_epoch=len(train_wav) // batch_size,\n",
    "                    validation_data=test_dataset,\n",
    "                    validation_steps=len(test_wav) // batch_size,\n",
    "                    callbacks=[cp_callback]\n",
    "                    )\n"
   ]
  },
  {
   "cell_type": "code",
   "execution_count": 27,
   "metadata": {},
   "outputs": [
    {
     "data": {
      "image/png": "[encoded data removed]",
      "text/plain": [
       "<Figure size 576x576 with 2 Axes>"
      ]
     },
     "metadata": {
      "needs_background": "light"
     },
     "output_type": "display_data"
    }
   ],
   "source": [
    "import matplotlib.pyplot as plt\n",
    "\n",
    "acc = history_wav_skip.history['accuracy']\n",
    "val_acc = history_wav_skip.history['val_accuracy']\n",
    "\n",
    "loss=history_wav_skip.history['loss']\n",
    "val_loss=history_wav_skip.history['val_loss']\n",
    "\n",
    "epochs_range = range(len(acc))\n",
    "\n",
    "plt.figure(figsize=(8, 8))\n",
    "plt.subplot(1, 2, 1)\n",
    "plt.plot(epochs_range, acc, label='Training Accuracy')\n",
    "plt.plot(epochs_range, val_acc, label='Validation Accuracy')\n",
    "plt.legend(loc='lower right')\n",
    "plt.title('Training and Validation Accuracy')\n",
    "\n",
    "plt.subplot(1, 2, 2)\n",
    "plt.plot(epochs_range, loss, label='Training Loss')\n",
    "plt.plot(epochs_range, val_loss, label='Validation Loss')\n",
    "plt.legend(loc='upper right')\n",
    "plt.title('Training and Validation Loss')\n",
    "plt.show()\n"
   ]
  },
  {
   "cell_type": "code",
   "execution_count": 28,
   "metadata": {},
   "outputs": [
    {
     "name": "stdout",
     "output_type": "stream",
     "text": [
      "24/24 [==============================] - 3s 110ms/step - loss: 0.2776 - accuracy: 0.9087\n",
      "loss value: 0.278\n",
      "accuracy value: 90.8667%\n"
     ]
    }
   ],
   "source": [
    "# Evaluation \n",
    "\n",
    "model_wav_skip.load_weights(checkpoint_dir)\n",
    "results = model_wav_skip.evaluate(test_dataset)\n",
    "\n",
    "# loss\n",
    "print(\"loss value: {:.3f}\".format(results[0]))\n",
    "# accuracy\n",
    "print(\"accuracy value: {:.4f}%\".format(results[1]*100))\n"
   ]
  },
  {
   "cell_type": "code",
   "execution_count": 29,
   "metadata": {},
   "outputs": [
    {
     "name": "stdout",
     "output_type": "stream",
     "text": [
      "label :  right\n"
     ]
    }
   ],
   "source": [
    "# Test \n",
    "\n",
    "inv_label_value = {v: k for k, v in label_value.items()}\n",
    "batch_index = np.random.choice(len(test_wav), size=1, replace=False)\n",
    "\n",
    "batch_xs = test_wav[batch_index]\n",
    "batch_ys = test_label[batch_index]\n",
    "y_pred_ = model_wav_skip(batch_xs, training=False)\n",
    "\n",
    "print(\"label : \", str(inv_label_value[batch_ys[0]]))\n"
   ]
  },
  {
   "cell_type": "code",
   "execution_count": 30,
   "metadata": {},
   "outputs": [
    {
     "name": "stdout",
     "output_type": "stream",
     "text": [
      "y_pred: right\n"
     ]
    }
   ],
   "source": [
    "if np.argmax(y_pred_) == test_label[i]:\n",
    "    print(\"y_pred: \" + str(inv_label_value[np.argmax(y_pred_)]))\n",
    "else:\n",
    "    print(\"y_pred: \" + str(inv_label_value[np.argmax(y_pred_)]))"
   ]
  },
  {
   "cell_type": "markdown",
   "metadata": {},
   "source": [
    "spectagram을 이용하게 되면 2차원 데이터를 이용하므로 더 나은 성능이 보장되며 훈련 속도가 빨라진다.     \n",
    "이와는 별개로 skip-connection같은 경우 Residual block을 이용했다는 점에서  ResNet과 상당히 유사하다고 생각했다.   \n",
    "음성이든 이미지이든 컨텐츠만 달라지고 이용하는 딥러닝 모델과 설계방식이 비슷하다는 것을 느끼고 있다."
   ]
  },
  {
   "cell_type": "code",
   "execution_count": null,
   "metadata": {},
   "outputs": [],
   "source": []
  }
 ],
 "metadata": {
  "kernelspec": {
   "display_name": "aiffel",
   "language": "python",
   "name": "aiffel"
  },
  "language_info": {
   "codemirror_mode": {
    "name": "ipython",
    "version": 3
   },
   "file_extension": ".py",
   "mimetype": "text/x-python",
   "name": "python",
   "nbconvert_exporter": "python",
   "pygments_lexer": "ipython3",
   "version": "3.7.6"
  }
 },
 "nbformat": 4,
 "nbformat_minor": 4
}
