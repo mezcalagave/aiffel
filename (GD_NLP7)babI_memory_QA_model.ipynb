{
 "cells": [
  {
   "cell_type": "markdown",
   "metadata": {},
   "source": [
    "# babi QA model"
   ]
  },
  {
   "cell_type": "markdown",
   "metadata": {},
   "source": [
    "## 1. 데이터 준비"
   ]
  },
  {
   "cell_type": "code",
   "execution_count": 1,
   "metadata": {},
   "outputs": [],
   "source": [
    "from tensorflow.keras.utils import get_file\n",
    "from tensorflow.keras.preprocessing.sequence import pad_sequences\n",
    "from tensorflow.keras.utils import to_categorical\n",
    "import numpy as np\n",
    "import tarfile\n",
    "from nltk import FreqDist\n",
    "from functools import reduce\n",
    "import os\n",
    "import re"
   ]
  },
  {
   "cell_type": "code",
   "execution_count": 2,
   "metadata": {},
   "outputs": [],
   "source": [
    "train_path = os.getenv('HOME') + '/aiffel/babi_memory_net/data/qa1_single-supporting-fact_train_kor.txt'\n",
    "test_path = os.getenv('HOME') + '/aiffel/babi_memory_net/data/qa1_single-supporting-fact_test_kor.txt'"
   ]
  },
  {
   "cell_type": "code",
   "execution_count": 3,
   "metadata": {},
   "outputs": [
    {
     "name": "stdout",
     "output_type": "stream",
     "text": [
      "1 필웅이는 화장실로 갔습니다.\n",
      "2 은경이는 복도로 이동했습니다.\n",
      "3 필웅이는 어디야? \t화장실\t1\n",
      "4 수종이는 복도로 복귀했습니다.\n",
      "5 경임이는 정원으로 갔습니다.\n",
      "6 수종이는 어디야? \t복도\t4\n",
      "7 은경이는 사무실로 갔습니다.\n",
      "8 경임이는 화장실로 뛰어갔습니다.\n",
      "9 수종이는 어디야? \t복도\t4\n",
      "10 필웅이는 복도로 갔습니다.\n",
      "11 수종이는 사무실로 가버렸습니다.\n",
      "12 수종이는 어디야? \t사무실\t11\n",
      "13 은경이는 정원으로 복귀했습니다.\n",
      "14 은경이는 침실로 갔습니다.\n",
      "15 경임이는 어디야? \t화장실\t8\n",
      "1 경임이는 사무실로 가버렸습니다.\n",
      "2 경임이는 화장실로 이동했습니다.\n",
      "3 경임이는 어디야? \t화장실\t2\n",
      "4 필웅이는 침실로 이동했습니다.\n",
      "5 수종이는 복도로 갔습니다.\n"
     ]
    }
   ],
   "source": [
    "i = 0\n",
    "lines = open(train_path , \"rb\")\n",
    "for line in lines:\n",
    "    line = line.decode(\"utf-8\").strip()\n",
    "    i = i + 1\n",
    "    print(line)\n",
    "    if i == 20:\n",
    "        break"
   ]
  },
  {
   "cell_type": "code",
   "execution_count": 4,
   "metadata": {},
   "outputs": [],
   "source": [
    "def read_data(dir):\n",
    "    stories, questions, answers = [], [], [] # 각각 스토리, 질문, 답변을 저장할 예정\n",
    "    story_temp = [] # 현재 시점의 스토리 임시 저장\n",
    "    lines = open(dir, \"rb\")\n",
    "\n",
    "    for line in lines:\n",
    "        line = line.decode(\"utf-8\") # b' 제거\n",
    "        line = line.strip() # '\\n' 제거\n",
    "        idx, text = line.split(\" \", 1) # 맨 앞에 있는 id number 분리\n",
    "        # 여기까지는 모든 줄에 적용되는 전처리\n",
    "\n",
    "        if int(idx) == 1:\n",
    "            story_temp = []\n",
    "        \n",
    "        if \"\\t\" in text: # 현재 읽는 줄이 질문 (tab) 답변 (tab)인 경우\n",
    "            question, answer, _ = text.split(\"\\t\") # 질문과 답변을 각각 저장\n",
    "            stories.append([x for x in story_temp if x]) # 지금까지의 누적 스토리를 스토리에 저장\n",
    "            questions.append(question)\n",
    "            answers.append(answer)\n",
    "\n",
    "        else: # 현재 읽는 줄이 스토리인 경우\n",
    "            story_temp.append(text) # 임시 저장\n",
    "\n",
    "    lines.close()\n",
    "    return stories, questions, answers"
   ]
  },
  {
   "cell_type": "code",
   "execution_count": 5,
   "metadata": {},
   "outputs": [],
   "source": [
    "train_data = read_data(train_path)\n",
    "test_data = read_data(test_path)"
   ]
  },
  {
   "cell_type": "code",
   "execution_count": 6,
   "metadata": {},
   "outputs": [],
   "source": [
    "train_stories, train_questions, train_answers = read_data(train_path)\n",
    "test_stories, test_questions, test_answers = read_data(test_path)"
   ]
  },
  {
   "cell_type": "code",
   "execution_count": 7,
   "metadata": {},
   "outputs": [
    {
     "name": "stdout",
     "output_type": "stream",
     "text": [
      "10000\n",
      "10000\n",
      "10000\n",
      "1000\n",
      "1000\n",
      "1000\n"
     ]
    }
   ],
   "source": [
    "print(len(train_stories))\n",
    "print(len(train_questions))\n",
    "print(len(train_answers))\n",
    "print(len(test_stories))\n",
    "print(len(test_questions))\n",
    "print(len(test_answers))"
   ]
  },
  {
   "cell_type": "code",
   "execution_count": 8,
   "metadata": {},
   "outputs": [
    {
     "data": {
      "text/plain": [
       "['수종이는 화장실로 뛰어갔습니다.',\n",
       " '경임이는 사무실로 갔습니다.',\n",
       " '은경이는 부엌으로 이동했습니다.',\n",
       " '경임이는 화장실로 갔습니다.',\n",
       " '수종이는 복도로 갔습니다.',\n",
       " '필웅이는 부엌으로 가버렸습니다.',\n",
       " '수종이는 부엌으로 이동했습니다.',\n",
       " '수종이는 화장실로 가버렸습니다.']"
      ]
     },
     "execution_count": 8,
     "metadata": {},
     "output_type": "execute_result"
    }
   ],
   "source": [
    "train_stories[3878]"
   ]
  },
  {
   "cell_type": "code",
   "execution_count": 9,
   "metadata": {},
   "outputs": [
    {
     "data": {
      "text/plain": [
       "['경임이는 화장실로 복귀했습니다.', '필웅이는 정원으로 갔습니다.']"
      ]
     },
     "execution_count": 9,
     "metadata": {},
     "output_type": "execute_result"
    }
   ],
   "source": [
    "train_stories[50]"
   ]
  },
  {
   "cell_type": "code",
   "execution_count": 10,
   "metadata": {},
   "outputs": [
    {
     "data": {
      "text/plain": [
       "['필웅이는 어디야? ', '수종이는 어디야? ', '수종이는 어디야? ', '수종이는 어디야? ', '경임이는 어디야? ']"
      ]
     },
     "execution_count": 10,
     "metadata": {},
     "output_type": "execute_result"
    }
   ],
   "source": [
    "train_questions[:5]"
   ]
  },
  {
   "cell_type": "code",
   "execution_count": 11,
   "metadata": {},
   "outputs": [
    {
     "data": {
      "text/plain": [
       "['화장실', '복도', '복도', '사무실', '화장실']"
      ]
     },
     "execution_count": 11,
     "metadata": {},
     "output_type": "execute_result"
    }
   ],
   "source": [
    "train_answers[:5]"
   ]
  },
  {
   "cell_type": "markdown",
   "metadata": {},
   "source": [
    "## 2. Customized_konlpy 이용해 이름을 사전에 넣기"
   ]
  },
  {
   "cell_type": "code",
   "execution_count": 12,
   "metadata": {},
   "outputs": [
    {
     "name": "stderr",
     "output_type": "stream",
     "text": [
      "/home/aiffel0038/anaconda3/envs/aiffel/lib/python3.7/site-packages/konlpy/tag/_okt.py:16: UserWarning: \"Twitter\" has changed to \"Okt\" since KoNLPy v0.4.5.\n",
      "  warn('\"Twitter\" has changed to \"Okt\" since KoNLPy v0.4.5.')\n"
     ]
    }
   ],
   "source": [
    "from ckonlpy.tag import Twitter\n",
    "twitter = Twitter()\n",
    "twitter.add_dictionary('수종이', 'Noun')\n",
    "twitter.add_dictionary('경임이', 'Noun')\n",
    "twitter.add_dictionary('은경이', 'Noun')\n",
    "twitter.add_dictionary('필웅이', 'Noun')\n",
    "def tokenize(sent):\n",
    "    return twitter.morphs(sent)"
   ]
  },
  {
   "cell_type": "code",
   "execution_count": 13,
   "metadata": {},
   "outputs": [
    {
     "name": "stdout",
     "output_type": "stream",
     "text": [
      "['은경이', '는', '화장실', '로', '이동', '했습니다', '.']\n",
      "['경임이', '는', '정원', '으로', '가버렸습니다', '.']\n",
      "['수종이', '는', '복도', '로', '뛰어갔습니다', '.']\n",
      "['필웅이', '는', '부엌', '으로', '복귀', '했습니다', '.']\n",
      "['수종이', '는', '사무실', '로', '갔습니다', '.']\n",
      "['은경이', '는', '침실', '로', '갔습니다', '.']\n"
     ]
    }
   ],
   "source": [
    "print(twitter.morphs('은경이는 화장실로 이동했습니다.'))\n",
    "print(twitter.morphs('경임이는 정원으로 가버렸습니다.'))\n",
    "print(twitter.morphs('수종이는 복도로 뛰어갔습니다.'))\n",
    "print(twitter.morphs('필웅이는 부엌으로 복귀했습니다.'))\n",
    "print(twitter.morphs('수종이는 사무실로 갔습니다.'))\n",
    "print(twitter.morphs('은경이는 침실로 갔습니다.'))"
   ]
  },
  {
   "cell_type": "markdown",
   "metadata": {},
   "source": [
    "## 3. 데이터 전처리하기"
   ]
  },
  {
   "cell_type": "code",
   "execution_count": 14,
   "metadata": {},
   "outputs": [],
   "source": [
    "def preprocess_data(train_data, test_data):\n",
    "    counter = FreqDist()\n",
    "    \n",
    "    # 두 문장의 story를 하나의 문장으로 통합하는 함수\n",
    "    flatten = lambda data: reduce(lambda x, y: x + y, data)\n",
    "\n",
    "    # 각 샘플의 길이를 저장하는 리스트\n",
    "    story_len = []\n",
    "    question_len = []\n",
    "    \n",
    "    for stories, questions, answers in [train_data, test_data]:\n",
    "        for story in stories:\n",
    "            stories = tokenize(flatten(story)) # 스토리의 문장들을 펼친 후 토큰화\n",
    "            story_len.append(len(stories)) # 각 story의 길이 저장\n",
    "            for word in stories: # 단어 집합에 단어 추가\n",
    "                counter[word] += 1\n",
    "        for question in questions:\n",
    "            question = tokenize(question)\n",
    "            question_len.append(len(question))\n",
    "            for word in question:\n",
    "                counter[word] += 1\n",
    "        for answer in answers:\n",
    "            answer = tokenize(answer)\n",
    "            for word in answer:\n",
    "                counter[word] += 1\n",
    "\n",
    "    # 단어장 생성\n",
    "    word2idx = {word : (idx + 1) for idx, (word, _) in enumerate(counter.most_common())}\n",
    "    idx2word = {idx : word for word, idx in word2idx.items()}\n",
    "\n",
    "    # 가장 긴 샘플의 길이\n",
    "    story_max_len = np.max(story_len)\n",
    "    question_max_len = np.max(question_len)\n",
    "\n",
    "    return word2idx, idx2word, story_max_len, question_max_len"
   ]
  },
  {
   "cell_type": "code",
   "execution_count": 15,
   "metadata": {},
   "outputs": [],
   "source": [
    "word2idx, idx2word, story_max_len, question_max_len = preprocess_data(train_data, test_data)"
   ]
  },
  {
   "cell_type": "code",
   "execution_count": 16,
   "metadata": {},
   "outputs": [
    {
     "name": "stdout",
     "output_type": "stream",
     "text": [
      "{'는': 1, '.': 2, '로': 3, '했습니다': 4, '으로': 5, '경임이': 6, '은경이': 7, '수종이': 8, '필웅이': 9, '이동': 10, '가버렸습니다': 11, '뛰어갔습니다': 12, '복귀': 13, '화장실': 14, '정원': 15, '복도': 16, '갔습니다': 17, '사무실': 18, '부엌': 19, '침실': 20, '어디': 21, '야': 22, '?': 23}\n"
     ]
    }
   ],
   "source": [
    "print(word2idx)"
   ]
  },
  {
   "cell_type": "code",
   "execution_count": 17,
   "metadata": {},
   "outputs": [
    {
     "name": "stdout",
     "output_type": "stream",
     "text": [
      "24\n"
     ]
    }
   ],
   "source": [
    "vocab_size = len(word2idx) + 1\n",
    "print(vocab_size)"
   ]
  },
  {
   "cell_type": "code",
   "execution_count": 18,
   "metadata": {},
   "outputs": [
    {
     "name": "stdout",
     "output_type": "stream",
     "text": [
      "스토리의 최대 길이 : 70\n",
      "질문의 최대 길이 : 5\n"
     ]
    }
   ],
   "source": [
    "print('스토리의 최대 길이 :',story_max_len)\n",
    "print('질문의 최대 길이 :',question_max_len)"
   ]
  },
  {
   "cell_type": "markdown",
   "metadata": {},
   "source": [
    "## 4. 데이터 토큰화하기"
   ]
  },
  {
   "cell_type": "code",
   "execution_count": 19,
   "metadata": {},
   "outputs": [],
   "source": [
    "def vectorize(data, word2idx, story_maxlen, question_maxlen):\n",
    "    Xs, Xq, Y = [], [], []\n",
    "    flatten = lambda data: reduce(lambda x, y: x + y, data)\n",
    "\n",
    "    stories, questions, answers = data\n",
    "    for story, question, answer in zip(stories, questions, answers):\n",
    "        xs = [word2idx[w] for w in tokenize(flatten(story))]\n",
    "        xq = [word2idx[w] for w in tokenize(question)]\n",
    "        Xs.append(xs)\n",
    "        Xq.append(xq)\n",
    "        Y.append(word2idx[answer])\n",
    "\n",
    "    # 스토리와 질문은 각각의 최대 길이로 패딩\n",
    "    # 정답은 원-핫 인코딩\n",
    "    return pad_sequences(Xs, maxlen=story_maxlen),\\\n",
    "           pad_sequences(Xq, maxlen=question_maxlen),\\\n",
    "           to_categorical(Y, num_classes=len(word2idx) + 1)"
   ]
  },
  {
   "cell_type": "code",
   "execution_count": 20,
   "metadata": {},
   "outputs": [],
   "source": [
    "Xstrain, Xqtrain, Ytrain = vectorize(train_data, word2idx, story_max_len, question_max_len)\n",
    "Xstest, Xqtest, Ytest = vectorize(test_data, word2idx, story_max_len, question_max_len)"
   ]
  },
  {
   "cell_type": "code",
   "execution_count": 21,
   "metadata": {},
   "outputs": [
    {
     "name": "stdout",
     "output_type": "stream",
     "text": [
      "(10000, 70) (10000, 5) (10000, 24) (1000, 70) (1000, 5) (1000, 24)\n"
     ]
    }
   ],
   "source": [
    "print(Xstrain.shape, Xqtrain.shape, Ytrain.shape, Xstest.shape, Xqtest.shape, Ytest.shape)"
   ]
  },
  {
   "cell_type": "markdown",
   "metadata": {},
   "source": [
    "## 5. End-to-End memory Network 설계하기"
   ]
  },
  {
   "cell_type": "code",
   "execution_count": 22,
   "metadata": {},
   "outputs": [],
   "source": [
    "from tensorflow.keras.models import Sequential, Model\n",
    "from tensorflow.keras.layers import Embedding\n",
    "from tensorflow.keras.layers import Permute, dot, add, concatenate\n",
    "from tensorflow.keras.layers import LSTM, Dense, Dropout, Input, Activation\n",
    "import matplotlib.pyplot as plt"
   ]
  },
  {
   "cell_type": "code",
   "execution_count": 23,
   "metadata": {},
   "outputs": [],
   "source": [
    "# 에포크 횟수\n",
    "train_epochs = 120\n",
    "# 배치 크기\n",
    "batch_size = 32\n",
    "# 임베딩 크기\n",
    "embed_size = 50\n",
    "# LSTM의 크기\n",
    "lstm_size = 64\n",
    "# 과적합 방지 기법인 드롭아웃 적용 비율\n",
    "dropout_rate = 0.30"
   ]
  },
  {
   "cell_type": "code",
   "execution_count": 24,
   "metadata": {},
   "outputs": [
    {
     "name": "stdout",
     "output_type": "stream",
     "text": [
      "Stories : Tensor(\"input_1:0\", shape=(None, 70), dtype=float32)\n",
      "Question: Tensor(\"input_2:0\", shape=(None, 5), dtype=float32)\n"
     ]
    }
   ],
   "source": [
    "input_sequence = Input((story_max_len,))\n",
    "question = Input((question_max_len,))\n",
    " \n",
    "print('Stories :', input_sequence)\n",
    "print('Question:', question)"
   ]
  },
  {
   "cell_type": "code",
   "execution_count": 25,
   "metadata": {},
   "outputs": [],
   "source": [
    "# 스토리를 위한 첫번째 임베딩. 그림에서의 Embedding A\n",
    "input_encoder_m = Sequential()\n",
    "input_encoder_m.add(Embedding(input_dim=vocab_size,\n",
    "                              output_dim=embed_size))\n",
    "input_encoder_m.add(Dropout(dropout_rate))\n",
    "# 결과 : (samples, story_max_len, embed_size) / 샘플의 수, 문장의 최대 길이, 임베딩 벡터의 차원\n",
    " \n",
    "# 스토리를 위한 두번째 임베딩. 그림에서의 Embedding C\n",
    "# 임베딩 벡터의 차원을 question_max_len(질문의 최대 길이)로 한다.\n",
    "input_encoder_c = Sequential()\n",
    "input_encoder_c.add(Embedding(input_dim=vocab_size,\n",
    "                              output_dim=question_max_len))\n",
    "input_encoder_c.add(Dropout(dropout_rate))\n",
    "# 결과 : (samples, story_max_len, question_max_len) / 샘플의 수, 문장의 최대 길이, 질문의 최대 길이(임베딩 벡터의 차원)"
   ]
  },
  {
   "cell_type": "code",
   "execution_count": 26,
   "metadata": {},
   "outputs": [],
   "source": [
    "# 질문을 위한 임베딩. 그림에서의 Embedding B\n",
    "question_encoder = Sequential()\n",
    "question_encoder.add(Embedding(input_dim=vocab_size,\n",
    "                               output_dim=embed_size,\n",
    "                               input_length=question_max_len))\n",
    "question_encoder.add(Dropout(dropout_rate))\n",
    "# 결과 : (samples, question_max_len, embed_size) / 샘플의 수, 질문의 최대 길이, 임베딩 벡터의 차원"
   ]
  },
  {
   "cell_type": "code",
   "execution_count": 27,
   "metadata": {},
   "outputs": [
    {
     "name": "stdout",
     "output_type": "stream",
     "text": [
      "Input encoded m Tensor(\"sequential/Identity:0\", shape=(None, 70, 50), dtype=float32)\n",
      "Input encoded c Tensor(\"sequential_1/Identity:0\", shape=(None, 70, 5), dtype=float32)\n",
      "Question encoded Tensor(\"sequential_2/Identity:0\", shape=(None, 5, 50), dtype=float32)\n"
     ]
    }
   ],
   "source": [
    "# 실질적인 임베딩 과정\n",
    "input_encoded_m = input_encoder_m(input_sequence)\n",
    "input_encoded_c = input_encoder_c(input_sequence)\n",
    "question_encoded = question_encoder(question)\n",
    "\n",
    "print('Input encoded m', input_encoded_m)\n",
    "print('Input encoded c', input_encoded_c)\n",
    "print('Question encoded', question_encoded)"
   ]
  },
  {
   "cell_type": "code",
   "execution_count": 28,
   "metadata": {},
   "outputs": [
    {
     "name": "stdout",
     "output_type": "stream",
     "text": [
      "Match shape Tensor(\"activation/Identity:0\", shape=(None, 70, 5), dtype=float32)\n"
     ]
    }
   ],
   "source": [
    "# 스토리 단어들과 질문 단어들 간의 유사도를 구하는 과정\n",
    "# 유사도는 내적을 사용한다.\n",
    "match = dot([input_encoded_m, question_encoded], axes=-1, normalize=False)\n",
    "match = Activation('softmax')(match)\n",
    "print('Match shape', match)\n",
    "# 결과 : (samples, story_max_len, question_max_len) / 샘플의 수, 문장의 최대 길이, 질문의 최대 길이"
   ]
  },
  {
   "cell_type": "code",
   "execution_count": 29,
   "metadata": {},
   "outputs": [
    {
     "name": "stdout",
     "output_type": "stream",
     "text": [
      "Response shape Tensor(\"permute/Identity:0\", shape=(None, 5, 70), dtype=float32)\n"
     ]
    }
   ],
   "source": [
    "# 매칭 유사도 행렬과 질문에 대한 임베딩을 더한다.\n",
    "response = add([match, input_encoded_c])  # (samples, story_maxlen, question_max_len)\n",
    "response = Permute((2, 1))(response)  # (samples, question_max_len, story_maxlen)\n",
    "print('Response shape', response)"
   ]
  },
  {
   "cell_type": "code",
   "execution_count": 30,
   "metadata": {},
   "outputs": [
    {
     "name": "stdout",
     "output_type": "stream",
     "text": [
      "Answer shape Tensor(\"concatenate/Identity:0\", shape=(None, 5, 120), dtype=float32)\n"
     ]
    }
   ],
   "source": [
    "# concatenate the response vector with the question vector sequence\n",
    "answer = concatenate([response, question_encoded])\n",
    "print('Answer shape', answer)\n",
    " \n",
    "answer = LSTM(lstm_size)(answer)  # Generate tensors of shape 32\n",
    "answer = Dropout(dropout_rate)(answer)\n",
    "answer = Dense(vocab_size)(answer)  # (samples, vocab_size)\n",
    "# we output a probability distribution over the vocabulary\n",
    "answer = Activation('softmax')(answer)"
   ]
  },
  {
   "cell_type": "code",
   "execution_count": 31,
   "metadata": {},
   "outputs": [
    {
     "name": "stdout",
     "output_type": "stream",
     "text": [
      "Model: \"model\"\n",
      "__________________________________________________________________________________________________\n",
      "Layer (type)                    Output Shape         Param #     Connected to                     \n",
      "==================================================================================================\n",
      "input_1 (InputLayer)            [(None, 70)]         0                                            \n",
      "__________________________________________________________________________________________________\n",
      "input_2 (InputLayer)            [(None, 5)]          0                                            \n",
      "__________________________________________________________________________________________________\n",
      "sequential (Sequential)         multiple             1200        input_1[0][0]                    \n",
      "__________________________________________________________________________________________________\n",
      "sequential_2 (Sequential)       (None, 5, 50)        1200        input_2[0][0]                    \n",
      "__________________________________________________________________________________________________\n",
      "dot (Dot)                       (None, 70, 5)        0           sequential[1][0]                 \n",
      "                                                                 sequential_2[1][0]               \n",
      "__________________________________________________________________________________________________\n",
      "activation (Activation)         (None, 70, 5)        0           dot[0][0]                        \n",
      "__________________________________________________________________________________________________\n",
      "sequential_1 (Sequential)       multiple             120         input_1[0][0]                    \n",
      "__________________________________________________________________________________________________\n",
      "add (Add)                       (None, 70, 5)        0           activation[0][0]                 \n",
      "                                                                 sequential_1[1][0]               \n",
      "__________________________________________________________________________________________________\n",
      "permute (Permute)               (None, 5, 70)        0           add[0][0]                        \n",
      "__________________________________________________________________________________________________\n",
      "concatenate (Concatenate)       (None, 5, 120)       0           permute[0][0]                    \n",
      "                                                                 sequential_2[1][0]               \n",
      "__________________________________________________________________________________________________\n",
      "lstm (LSTM)                     (None, 64)           47360       concatenate[0][0]                \n",
      "__________________________________________________________________________________________________\n",
      "dropout_3 (Dropout)             (None, 64)           0           lstm[0][0]                       \n",
      "__________________________________________________________________________________________________\n",
      "dense (Dense)                   (None, 24)           1560        dropout_3[0][0]                  \n",
      "__________________________________________________________________________________________________\n",
      "activation_1 (Activation)       (None, 24)           0           dense[0][0]                      \n",
      "==================================================================================================\n",
      "Total params: 51,440\n",
      "Trainable params: 51,440\n",
      "Non-trainable params: 0\n",
      "__________________________________________________________________________________________________\n"
     ]
    }
   ],
   "source": [
    "# 모델 컴파일\n",
    "model = Model([input_sequence, question], answer)\n",
    "model.compile(optimizer='rmsprop', loss='categorical_crossentropy',\n",
    "              metrics=['acc'])\n",
    "model.summary()"
   ]
  },
  {
   "cell_type": "markdown",
   "metadata": {},
   "source": [
    "## 6. 모델 설계하기"
   ]
  },
  {
   "cell_type": "code",
   "execution_count": 31,
   "metadata": {},
   "outputs": [
    {
     "name": "stdout",
     "output_type": "stream",
     "text": [
      "Epoch 1/120\n",
      "313/313 [==============================] - 1s 4ms/step - loss: 1.9018 - acc: 0.1674 - val_loss: 1.8019 - val_acc: 0.1520\n",
      "Epoch 2/120\n",
      "313/313 [==============================] - 1s 4ms/step - loss: 1.7234 - acc: 0.2478 - val_loss: 1.5822 - val_acc: 0.3870\n",
      "Epoch 3/120\n",
      "313/313 [==============================] - 1s 4ms/step - loss: 1.5425 - acc: 0.3795 - val_loss: 1.4976 - val_acc: 0.4030\n",
      "Epoch 4/120\n",
      "313/313 [==============================] - 1s 3ms/step - loss: 1.5005 - acc: 0.4123 - val_loss: 1.4721 - val_acc: 0.4320\n",
      "Epoch 5/120\n",
      "313/313 [==============================] - 1s 4ms/step - loss: 1.4596 - acc: 0.4362 - val_loss: 1.4194 - val_acc: 0.4620\n",
      "Epoch 6/120\n",
      "313/313 [==============================] - 1s 4ms/step - loss: 1.4006 - acc: 0.4655 - val_loss: 1.3450 - val_acc: 0.4940\n",
      "Epoch 7/120\n",
      "313/313 [==============================] - 1s 4ms/step - loss: 1.3594 - acc: 0.4666 - val_loss: 1.3484 - val_acc: 0.4700\n",
      "Epoch 8/120\n",
      "313/313 [==============================] - 1s 4ms/step - loss: 1.3428 - acc: 0.4776 - val_loss: 1.3292 - val_acc: 0.4750\n",
      "Epoch 9/120\n",
      "313/313 [==============================] - 1s 4ms/step - loss: 1.3226 - acc: 0.4872 - val_loss: 1.2819 - val_acc: 0.5060\n",
      "Epoch 10/120\n",
      "313/313 [==============================] - 1s 4ms/step - loss: 1.2997 - acc: 0.5010 - val_loss: 1.2871 - val_acc: 0.5040\n",
      "Epoch 11/120\n",
      "313/313 [==============================] - 1s 4ms/step - loss: 1.2631 - acc: 0.5147 - val_loss: 1.2350 - val_acc: 0.5150\n",
      "Epoch 12/120\n",
      "313/313 [==============================] - 1s 4ms/step - loss: 1.2393 - acc: 0.5069 - val_loss: 1.2091 - val_acc: 0.5310\n",
      "Epoch 13/120\n",
      "313/313 [==============================] - 1s 4ms/step - loss: 1.2228 - acc: 0.5111 - val_loss: 1.2055 - val_acc: 0.5230\n",
      "Epoch 14/120\n",
      "313/313 [==============================] - 1s 4ms/step - loss: 1.2033 - acc: 0.5183 - val_loss: 1.1941 - val_acc: 0.5220\n",
      "Epoch 15/120\n",
      "313/313 [==============================] - 1s 4ms/step - loss: 1.1816 - acc: 0.5280 - val_loss: 1.2030 - val_acc: 0.5220\n",
      "Epoch 16/120\n",
      "313/313 [==============================] - 1s 4ms/step - loss: 1.1776 - acc: 0.5208 - val_loss: 1.1880 - val_acc: 0.5300\n",
      "Epoch 17/120\n",
      "313/313 [==============================] - 1s 4ms/step - loss: 1.1660 - acc: 0.5249 - val_loss: 1.1814 - val_acc: 0.5210\n",
      "Epoch 18/120\n",
      "313/313 [==============================] - 1s 3ms/step - loss: 1.1537 - acc: 0.5258 - val_loss: 1.1991 - val_acc: 0.5040\n",
      "Epoch 19/120\n",
      "313/313 [==============================] - 1s 3ms/step - loss: 1.1459 - acc: 0.5246 - val_loss: 1.1677 - val_acc: 0.5190\n",
      "Epoch 20/120\n",
      "313/313 [==============================] - 1s 3ms/step - loss: 1.1429 - acc: 0.5277 - val_loss: 1.1681 - val_acc: 0.5180\n",
      "Epoch 21/120\n",
      "313/313 [==============================] - 1s 3ms/step - loss: 1.1187 - acc: 0.5306 - val_loss: 1.1770 - val_acc: 0.5110\n",
      "Epoch 22/120\n",
      "313/313 [==============================] - 1s 3ms/step - loss: 1.1184 - acc: 0.5358 - val_loss: 1.1705 - val_acc: 0.5250\n",
      "Epoch 23/120\n",
      "313/313 [==============================] - 1s 3ms/step - loss: 1.1092 - acc: 0.5317 - val_loss: 1.1554 - val_acc: 0.5200\n",
      "Epoch 24/120\n",
      "313/313 [==============================] - 1s 3ms/step - loss: 1.1032 - acc: 0.5359 - val_loss: 1.1546 - val_acc: 0.5220\n",
      "Epoch 25/120\n",
      "313/313 [==============================] - 1s 3ms/step - loss: 1.0855 - acc: 0.5489 - val_loss: 1.1628 - val_acc: 0.5230\n",
      "Epoch 26/120\n",
      "313/313 [==============================] - 1s 3ms/step - loss: 1.0831 - acc: 0.5419 - val_loss: 1.1564 - val_acc: 0.5180\n",
      "Epoch 27/120\n",
      "313/313 [==============================] - 1s 3ms/step - loss: 1.0767 - acc: 0.5356 - val_loss: 1.1654 - val_acc: 0.5210\n",
      "Epoch 28/120\n",
      "313/313 [==============================] - 1s 3ms/step - loss: 1.0682 - acc: 0.5460 - val_loss: 1.1623 - val_acc: 0.5220\n",
      "Epoch 29/120\n",
      "313/313 [==============================] - 1s 3ms/step - loss: 1.0551 - acc: 0.5522 - val_loss: 1.1477 - val_acc: 0.5210\n",
      "Epoch 30/120\n",
      "313/313 [==============================] - 1s 3ms/step - loss: 1.0594 - acc: 0.5528 - val_loss: 1.1385 - val_acc: 0.5140\n",
      "Epoch 31/120\n",
      "313/313 [==============================] - 1s 3ms/step - loss: 1.0350 - acc: 0.5571 - val_loss: 1.1844 - val_acc: 0.5090\n",
      "Epoch 32/120\n",
      "313/313 [==============================] - 1s 3ms/step - loss: 1.0358 - acc: 0.5505 - val_loss: 1.1652 - val_acc: 0.5270\n",
      "Epoch 33/120\n",
      "313/313 [==============================] - 1s 3ms/step - loss: 1.0287 - acc: 0.5591 - val_loss: 1.1677 - val_acc: 0.5250\n",
      "Epoch 34/120\n",
      "313/313 [==============================] - 1s 3ms/step - loss: 1.0131 - acc: 0.5696 - val_loss: 1.1793 - val_acc: 0.5210\n",
      "Epoch 35/120\n",
      "313/313 [==============================] - 1s 3ms/step - loss: 0.9993 - acc: 0.5739 - val_loss: 1.1759 - val_acc: 0.5040\n",
      "Epoch 36/120\n",
      "313/313 [==============================] - 1s 3ms/step - loss: 0.9965 - acc: 0.5789 - val_loss: 1.1502 - val_acc: 0.5230\n",
      "Epoch 37/120\n",
      "313/313 [==============================] - 1s 4ms/step - loss: 0.9719 - acc: 0.5920 - val_loss: 1.1403 - val_acc: 0.5390\n",
      "Epoch 38/120\n",
      "313/313 [==============================] - 1s 4ms/step - loss: 0.9274 - acc: 0.6206 - val_loss: 1.1021 - val_acc: 0.5860\n",
      "Epoch 39/120\n",
      "313/313 [==============================] - 1s 4ms/step - loss: 0.8698 - acc: 0.6609 - val_loss: 0.9868 - val_acc: 0.6410\n",
      "Epoch 40/120\n",
      "313/313 [==============================] - 1s 4ms/step - loss: 0.7692 - acc: 0.7036 - val_loss: 0.8617 - val_acc: 0.6920\n",
      "Epoch 41/120\n",
      "313/313 [==============================] - 1s 4ms/step - loss: 0.6909 - acc: 0.7387 - val_loss: 0.7787 - val_acc: 0.7110\n",
      "Epoch 42/120\n",
      "313/313 [==============================] - 1s 4ms/step - loss: 0.6254 - acc: 0.7592 - val_loss: 0.7185 - val_acc: 0.7340\n",
      "Epoch 43/120\n",
      "313/313 [==============================] - 1s 4ms/step - loss: 0.5826 - acc: 0.7789 - val_loss: 0.6824 - val_acc: 0.7380\n",
      "Epoch 44/120\n",
      "313/313 [==============================] - 1s 4ms/step - loss: 0.5535 - acc: 0.7922 - val_loss: 0.6611 - val_acc: 0.7450\n",
      "Epoch 45/120\n",
      "313/313 [==============================] - 1s 4ms/step - loss: 0.5213 - acc: 0.7982 - val_loss: 0.6344 - val_acc: 0.7490\n",
      "Epoch 46/120\n",
      "313/313 [==============================] - 1s 4ms/step - loss: 0.4983 - acc: 0.8023 - val_loss: 0.6092 - val_acc: 0.7460\n",
      "Epoch 47/120\n",
      "313/313 [==============================] - 1s 4ms/step - loss: 0.4699 - acc: 0.8181 - val_loss: 0.5862 - val_acc: 0.7650\n",
      "Epoch 48/120\n",
      "313/313 [==============================] - 1s 4ms/step - loss: 0.4409 - acc: 0.8277 - val_loss: 0.5602 - val_acc: 0.7750\n",
      "Epoch 49/120\n",
      "313/313 [==============================] - 1s 4ms/step - loss: 0.4197 - acc: 0.8370 - val_loss: 0.5356 - val_acc: 0.7930\n",
      "Epoch 50/120\n",
      "313/313 [==============================] - 1s 4ms/step - loss: 0.3940 - acc: 0.8498 - val_loss: 0.5273 - val_acc: 0.8070\n",
      "Epoch 51/120\n",
      "313/313 [==============================] - 1s 4ms/step - loss: 0.3649 - acc: 0.8624 - val_loss: 0.4883 - val_acc: 0.8250\n",
      "Epoch 52/120\n",
      "313/313 [==============================] - 1s 4ms/step - loss: 0.3352 - acc: 0.8745 - val_loss: 0.4717 - val_acc: 0.8330\n",
      "Epoch 53/120\n",
      "313/313 [==============================] - 1s 4ms/step - loss: 0.3245 - acc: 0.8750 - val_loss: 0.4432 - val_acc: 0.8330\n",
      "Epoch 54/120\n",
      "313/313 [==============================] - 1s 4ms/step - loss: 0.3083 - acc: 0.8850 - val_loss: 0.4177 - val_acc: 0.8420\n",
      "Epoch 55/120\n",
      "313/313 [==============================] - 1s 4ms/step - loss: 0.2868 - acc: 0.8939 - val_loss: 0.4050 - val_acc: 0.8480\n",
      "Epoch 56/120\n",
      "313/313 [==============================] - 1s 3ms/step - loss: 0.2759 - acc: 0.8987 - val_loss: 0.4212 - val_acc: 0.8440\n",
      "Epoch 57/120\n",
      "313/313 [==============================] - 1s 3ms/step - loss: 0.2580 - acc: 0.9025 - val_loss: 0.3834 - val_acc: 0.8530\n",
      "Epoch 58/120\n",
      "313/313 [==============================] - 1s 3ms/step - loss: 0.2481 - acc: 0.9090 - val_loss: 0.4059 - val_acc: 0.8590\n",
      "Epoch 59/120\n",
      "313/313 [==============================] - 1s 3ms/step - loss: 0.2382 - acc: 0.9109 - val_loss: 0.3818 - val_acc: 0.8540\n",
      "Epoch 60/120\n",
      "313/313 [==============================] - 1s 3ms/step - loss: 0.2212 - acc: 0.9202 - val_loss: 0.4347 - val_acc: 0.8490\n",
      "Epoch 61/120\n",
      "313/313 [==============================] - 1s 3ms/step - loss: 0.2027 - acc: 0.9268 - val_loss: 0.4202 - val_acc: 0.8570\n",
      "Epoch 62/120\n",
      "313/313 [==============================] - 1s 3ms/step - loss: 0.1999 - acc: 0.9271 - val_loss: 0.3859 - val_acc: 0.8650\n",
      "Epoch 63/120\n",
      "313/313 [==============================] - 1s 3ms/step - loss: 0.1918 - acc: 0.9306 - val_loss: 0.4353 - val_acc: 0.8660\n",
      "Epoch 64/120\n",
      "313/313 [==============================] - 1s 3ms/step - loss: 0.1840 - acc: 0.9337 - val_loss: 0.3714 - val_acc: 0.8650\n",
      "Epoch 65/120\n",
      "313/313 [==============================] - 1s 3ms/step - loss: 0.1736 - acc: 0.9370 - val_loss: 0.3534 - val_acc: 0.8670\n",
      "Epoch 66/120\n",
      "313/313 [==============================] - 1s 3ms/step - loss: 0.1581 - acc: 0.9429 - val_loss: 0.3579 - val_acc: 0.8780\n",
      "Epoch 67/120\n",
      "313/313 [==============================] - 1s 3ms/step - loss: 0.1569 - acc: 0.9438 - val_loss: 0.3743 - val_acc: 0.8760\n",
      "Epoch 68/120\n",
      "313/313 [==============================] - 1s 3ms/step - loss: 0.1442 - acc: 0.9480 - val_loss: 0.3555 - val_acc: 0.8830\n",
      "Epoch 69/120\n",
      "313/313 [==============================] - 1s 4ms/step - loss: 0.1416 - acc: 0.9499 - val_loss: 0.3448 - val_acc: 0.8960\n",
      "Epoch 70/120\n",
      "313/313 [==============================] - 1s 4ms/step - loss: 0.1250 - acc: 0.9553 - val_loss: 0.3315 - val_acc: 0.8980\n",
      "Epoch 71/120\n",
      "313/313 [==============================] - 1s 4ms/step - loss: 0.1263 - acc: 0.9549 - val_loss: 0.3134 - val_acc: 0.9000\n",
      "Epoch 72/120\n",
      "313/313 [==============================] - 1s 4ms/step - loss: 0.1205 - acc: 0.9582 - val_loss: 0.3196 - val_acc: 0.9000\n",
      "Epoch 73/120\n",
      "313/313 [==============================] - 1s 4ms/step - loss: 0.1159 - acc: 0.9592 - val_loss: 0.3125 - val_acc: 0.9080\n",
      "Epoch 74/120\n",
      "313/313 [==============================] - 1s 4ms/step - loss: 0.1032 - acc: 0.9646 - val_loss: 0.2996 - val_acc: 0.9180\n",
      "Epoch 75/120\n",
      "313/313 [==============================] - 1s 4ms/step - loss: 0.1057 - acc: 0.9637 - val_loss: 0.2958 - val_acc: 0.9070\n",
      "Epoch 76/120\n",
      "313/313 [==============================] - 1s 4ms/step - loss: 0.0981 - acc: 0.9652 - val_loss: 0.3569 - val_acc: 0.8990\n",
      "Epoch 77/120\n",
      "313/313 [==============================] - 1s 4ms/step - loss: 0.0956 - acc: 0.9665 - val_loss: 0.2972 - val_acc: 0.9150\n",
      "Epoch 78/120\n",
      "313/313 [==============================] - 1s 4ms/step - loss: 0.0944 - acc: 0.9683 - val_loss: 0.3371 - val_acc: 0.9090\n",
      "Epoch 79/120\n",
      "313/313 [==============================] - 1s 4ms/step - loss: 0.0835 - acc: 0.9721 - val_loss: 0.2909 - val_acc: 0.9230\n",
      "Epoch 80/120\n",
      "313/313 [==============================] - 1s 4ms/step - loss: 0.0784 - acc: 0.9712 - val_loss: 0.3079 - val_acc: 0.9100\n",
      "Epoch 81/120\n",
      "313/313 [==============================] - 1s 4ms/step - loss: 0.0823 - acc: 0.9729 - val_loss: 0.2756 - val_acc: 0.9260\n",
      "Epoch 82/120\n",
      "313/313 [==============================] - 1s 4ms/step - loss: 0.0833 - acc: 0.9716 - val_loss: 0.3014 - val_acc: 0.9200\n",
      "Epoch 83/120\n",
      "313/313 [==============================] - 1s 4ms/step - loss: 0.0676 - acc: 0.9769 - val_loss: 0.3123 - val_acc: 0.9190\n",
      "Epoch 84/120\n",
      "313/313 [==============================] - 1s 3ms/step - loss: 0.0747 - acc: 0.9749 - val_loss: 0.2967 - val_acc: 0.9120\n",
      "Epoch 85/120\n",
      "313/313 [==============================] - 1s 3ms/step - loss: 0.0607 - acc: 0.9796 - val_loss: 0.3245 - val_acc: 0.9190\n",
      "Epoch 86/120\n",
      "313/313 [==============================] - 1s 3ms/step - loss: 0.0698 - acc: 0.9771 - val_loss: 0.3445 - val_acc: 0.9130\n",
      "Epoch 87/120\n",
      "313/313 [==============================] - 1s 3ms/step - loss: 0.0569 - acc: 0.9809 - val_loss: 0.3031 - val_acc: 0.9310\n",
      "Epoch 88/120\n",
      "313/313 [==============================] - 1s 3ms/step - loss: 0.0624 - acc: 0.9779 - val_loss: 0.3296 - val_acc: 0.9160\n",
      "Epoch 89/120\n",
      "313/313 [==============================] - 1s 3ms/step - loss: 0.0596 - acc: 0.9809 - val_loss: 0.3631 - val_acc: 0.9090\n",
      "Epoch 90/120\n",
      "313/313 [==============================] - 1s 3ms/step - loss: 0.0516 - acc: 0.9813 - val_loss: 0.3360 - val_acc: 0.9240\n",
      "Epoch 91/120\n",
      "313/313 [==============================] - 1s 3ms/step - loss: 0.0560 - acc: 0.9808 - val_loss: 0.3013 - val_acc: 0.9310\n",
      "Epoch 92/120\n",
      "313/313 [==============================] - 1s 3ms/step - loss: 0.0515 - acc: 0.9832 - val_loss: 0.3154 - val_acc: 0.9270\n",
      "Epoch 93/120\n",
      "313/313 [==============================] - 1s 3ms/step - loss: 0.0533 - acc: 0.9825 - val_loss: 0.3137 - val_acc: 0.9260\n",
      "Epoch 94/120\n",
      "313/313 [==============================] - 1s 3ms/step - loss: 0.0520 - acc: 0.9829 - val_loss: 0.3315 - val_acc: 0.9220\n",
      "Epoch 95/120\n",
      "313/313 [==============================] - 1s 4ms/step - loss: 0.0474 - acc: 0.9847 - val_loss: 0.2674 - val_acc: 0.9370\n",
      "Epoch 96/120\n",
      "313/313 [==============================] - 1s 4ms/step - loss: 0.0453 - acc: 0.9852 - val_loss: 0.2932 - val_acc: 0.9320\n",
      "Epoch 97/120\n",
      "313/313 [==============================] - 1s 4ms/step - loss: 0.0434 - acc: 0.9851 - val_loss: 0.2883 - val_acc: 0.9340\n",
      "Epoch 98/120\n",
      "313/313 [==============================] - 1s 4ms/step - loss: 0.0444 - acc: 0.9854 - val_loss: 0.3200 - val_acc: 0.9250\n",
      "Epoch 99/120\n",
      "313/313 [==============================] - 1s 4ms/step - loss: 0.0424 - acc: 0.9855 - val_loss: 0.3021 - val_acc: 0.9300\n",
      "Epoch 100/120\n",
      "313/313 [==============================] - 1s 4ms/step - loss: 0.0483 - acc: 0.9856 - val_loss: 0.3040 - val_acc: 0.9380\n",
      "Epoch 101/120\n",
      "313/313 [==============================] - 1s 4ms/step - loss: 0.0458 - acc: 0.9853 - val_loss: 0.2969 - val_acc: 0.9320\n",
      "Epoch 102/120\n",
      "313/313 [==============================] - 1s 4ms/step - loss: 0.0436 - acc: 0.9858 - val_loss: 0.2587 - val_acc: 0.9380\n",
      "Epoch 103/120\n",
      "313/313 [==============================] - 1s 4ms/step - loss: 0.0409 - acc: 0.9881 - val_loss: 0.2723 - val_acc: 0.9370\n",
      "Epoch 104/120\n",
      "313/313 [==============================] - 1s 4ms/step - loss: 0.0409 - acc: 0.9874 - val_loss: 0.2625 - val_acc: 0.9430\n",
      "Epoch 105/120\n",
      "313/313 [==============================] - 1s 4ms/step - loss: 0.0418 - acc: 0.9870 - val_loss: 0.2714 - val_acc: 0.9410\n",
      "Epoch 106/120\n",
      "313/313 [==============================] - 1s 4ms/step - loss: 0.0328 - acc: 0.9899 - val_loss: 0.3220 - val_acc: 0.9300\n",
      "Epoch 107/120\n",
      "313/313 [==============================] - 1s 4ms/step - loss: 0.0399 - acc: 0.9874 - val_loss: 0.3009 - val_acc: 0.9340\n",
      "Epoch 108/120\n",
      "313/313 [==============================] - 1s 4ms/step - loss: 0.0300 - acc: 0.9904 - val_loss: 0.2987 - val_acc: 0.9390\n",
      "Epoch 109/120\n",
      "313/313 [==============================] - 1s 4ms/step - loss: 0.0381 - acc: 0.9882 - val_loss: 0.3295 - val_acc: 0.9300\n",
      "Epoch 110/120\n",
      "313/313 [==============================] - 1s 4ms/step - loss: 0.0410 - acc: 0.9866 - val_loss: 0.2651 - val_acc: 0.9410\n",
      "Epoch 111/120\n",
      "313/313 [==============================] - 1s 3ms/step - loss: 0.0351 - acc: 0.9883 - val_loss: 0.3474 - val_acc: 0.9240\n",
      "Epoch 112/120\n",
      "313/313 [==============================] - 1s 3ms/step - loss: 0.0368 - acc: 0.9893 - val_loss: 0.3242 - val_acc: 0.9360\n",
      "Epoch 113/120\n",
      "313/313 [==============================] - 1s 3ms/step - loss: 0.0344 - acc: 0.9889 - val_loss: 0.2541 - val_acc: 0.9430\n",
      "Epoch 114/120\n",
      "313/313 [==============================] - 1s 3ms/step - loss: 0.0296 - acc: 0.9907 - val_loss: 0.3499 - val_acc: 0.9320\n",
      "Epoch 115/120\n",
      "313/313 [==============================] - 1s 3ms/step - loss: 0.0351 - acc: 0.9892 - val_loss: 0.2869 - val_acc: 0.9390\n",
      "Epoch 116/120\n",
      "313/313 [==============================] - 1s 3ms/step - loss: 0.0341 - acc: 0.9900 - val_loss: 0.3125 - val_acc: 0.9340\n",
      "Epoch 117/120\n",
      "313/313 [==============================] - 1s 3ms/step - loss: 0.0322 - acc: 0.9909 - val_loss: 0.3196 - val_acc: 0.9390\n",
      "Epoch 118/120\n",
      "313/313 [==============================] - 1s 3ms/step - loss: 0.0324 - acc: 0.9900 - val_loss: 0.2855 - val_acc: 0.9390\n",
      "Epoch 119/120\n",
      "313/313 [==============================] - 1s 3ms/step - loss: 0.0384 - acc: 0.9910 - val_loss: 0.2818 - val_acc: 0.9380\n",
      "Epoch 120/120\n",
      "313/313 [==============================] - 1s 3ms/step - loss: 0.0299 - acc: 0.9911 - val_loss: 0.2812 - val_acc: 0.9450\n"
     ]
    }
   ],
   "source": [
    "\n",
    "# 테스트 데이터를 검증 데이터로 사용하면서 모델 훈련 시작\n",
    "history = model.fit([Xstrain, Xqtrain],\n",
    "         Ytrain, batch_size, train_epochs,\n",
    "         validation_data=([Xstest, Xqtest], Ytest))\n",
    " \n",
    "# 훈련 후에는 모델 저장\n",
    "model_path = os.getenv('HOME')+'/aiffel/babi_memory_net/data/model.h5'\n",
    "model.save(model_path)"
   ]
  },
  {
   "cell_type": "markdown",
   "metadata": {},
   "source": [
    "## 7. 모델 평가하기"
   ]
  },
  {
   "cell_type": "code",
   "execution_count": 32,
   "metadata": {},
   "outputs": [
    {
     "name": "stdout",
     "output_type": "stream",
     "text": [
      "32/32 [==============================] - 0s 1ms/step - loss: 0.2812 - acc: 0.9450\n",
      "\n",
      " 테스트 정확도: 0.9450\n"
     ]
    }
   ],
   "source": [
    "print(\"\\n 테스트 정확도: %.4f\" % (model.evaluate([Xstest, Xqtest], Ytest)[1]))"
   ]
  },
  {
   "cell_type": "code",
   "execution_count": 33,
   "metadata": {},
   "outputs": [
    {
     "data": {
      "image/png": "[encoded data removed]",
      "text/plain": [
       "<Figure size 432x288 with 2 Axes>"
      ]
     },
     "metadata": {
      "needs_background": "light"
     },
     "output_type": "display_data"
    }
   ],
   "source": [
    "# plot accuracy and loss plot\n",
    "plt.subplot(211)\n",
    "plt.title(\"Accuracy\")\n",
    "plt.plot(history.history[\"acc\"], color=\"g\", label=\"train\")\n",
    "plt.plot(history.history[\"val_acc\"], color=\"b\", label=\"validation\")\n",
    "plt.legend(loc=\"best\")\n",
    "\n",
    "plt.subplot(212)\n",
    "plt.title(\"Loss\")\n",
    "plt.plot(history.history[\"loss\"], color=\"g\", label=\"train\")\n",
    "plt.plot(history.history[\"val_loss\"], color=\"b\", label=\"validation\")\n",
    "plt.legend(loc=\"best\")\n",
    "\n",
    "plt.tight_layout()\n",
    "plt.show()\n",
    "\n",
    "# labels\n",
    "ytest = np.argmax(Ytest, axis=1)\n",
    "\n",
    "# get predictions\n",
    "Ytest_ = model.predict([Xstest, Xqtest])\n",
    "ytest_ = np.argmax(Ytest_, axis=1)"
   ]
  },
  {
   "cell_type": "code",
   "execution_count": 34,
   "metadata": {},
   "outputs": [
    {
     "name": "stdout",
     "output_type": "stream",
     "text": [
      "질문                |실제값  |예측값\n",
      "---------------------------------------\n",
      "은경이 는 어디 야 ?        : 복도      복도\n",
      "필웅이 는 어디 야 ?        : 화장실     화장실\n",
      "경임이 는 어디 야 ?        : 부엌      부엌\n",
      "경임이 는 어디 야 ?        : 복도      복도\n",
      "경임이 는 어디 야 ?        : 부엌      부엌\n",
      "경임이 는 어디 야 ?        : 복도      복도\n",
      "경임이 는 어디 야 ?        : 정원      정원\n",
      "수종이 는 어디 야 ?        : 복도      복도\n",
      "경임이 는 어디 야 ?        : 사무실     사무실\n",
      "수종이 는 어디 야 ?        : 사무실     사무실\n",
      "필웅이 는 어디 야 ?        : 부엌      부엌\n",
      "필웅이 는 어디 야 ?        : 정원      정원\n",
      "수종이 는 어디 야 ?        : 사무실     사무실\n",
      "필웅이 는 어디 야 ?        : 침실      침실\n",
      "필웅이 는 어디 야 ?        : 침실      침실\n",
      "은경이 는 어디 야 ?        : 부엌      부엌\n",
      "은경이 는 어디 야 ?        : 정원      정원\n",
      "은경이 는 어디 야 ?        : 부엌      부엌\n",
      "수종이 는 어디 야 ?        : 사무실     사무실\n",
      "은경이 는 어디 야 ?        : 부엌      부엌\n",
      "필웅이 는 어디 야 ?        : 복도      복도\n",
      "은경이 는 어디 야 ?        : 사무실     사무실\n",
      "은경이 는 어디 야 ?        : 사무실     사무실\n",
      "경임이 는 어디 야 ?        : 복도      복도\n",
      "수종이 는 어디 야 ?        : 침실      침실\n",
      "경임이 는 어디 야 ?        : 침실      침실\n",
      "필웅이 는 어디 야 ?        : 침실      침실\n",
      "수종이 는 어디 야 ?        : 부엌      부엌\n",
      "수종이 는 어디 야 ?        : 부엌      부엌\n",
      "수종이 는 어디 야 ?        : 부엌      부엌\n"
     ]
    }
   ],
   "source": [
    "NUM_DISPLAY = 30\n",
    "\n",
    "print(\"{:18}|{:5}|{}\".format(\"질문\", \"실제값\", \"예측값\"))\n",
    "print(39 * \"-\")\n",
    "\n",
    "for i in range(NUM_DISPLAY):\n",
    "    question = \" \".join([idx2word[x] for x in Xqtest[i].tolist()])\n",
    "    label = idx2word[ytest[i]]\n",
    "    prediction = idx2word[ytest_[i]]\n",
    "    print(\"{:20}: {:7} {}\".format(question, label, prediction))"
   ]
  },
  {
   "cell_type": "markdown",
   "metadata": {},
   "source": [
    "-----"
   ]
  },
  {
   "cell_type": "markdown",
   "metadata": {},
   "source": [
    "## 6. postprocessor로 불용어제거"
   ]
  },
  {
   "cell_type": "code",
   "execution_count": 32,
   "metadata": {},
   "outputs": [
    {
     "name": "stdout",
     "output_type": "stream",
     "text": [
      "{'는': 1, '.': 2, '로': 3, '했습니다': 4, '으로': 5, '경임이': 6, '은경이': 7, '수종이': 8, '필웅이': 9, '이동': 10, '가버렸습니다': 11, '뛰어갔습니다': 12, '복귀': 13, '화장실': 14, '정원': 15, '복도': 16, '갔습니다': 17, '사무실': 18, '부엌': 19, '침실': 20, '어디': 21, '야': 22, '?': 23}\n"
     ]
    }
   ],
   "source": [
    "print(word2idx)"
   ]
  },
  {
   "cell_type": "code",
   "execution_count": 33,
   "metadata": {},
   "outputs": [],
   "source": [
    "from ckonlpy.tag import Postprocessor\n",
    "\n",
    "stopwords = {'는',  '로', '으로', '야'}\n",
    "postprocessor = Postprocessor(\n",
    "    base_tagger = twitter,\n",
    "    stopwords = stopwords)\n",
    "\n",
    "def tokenize2(sent):\n",
    "    sent_list = []\n",
    "    sent = postprocessor.pos(sent)\n",
    "    for a in range(len(sent)):\n",
    "        sent_1 = sent[a][0]\n",
    "        sent_list.append(sent_1)\n",
    "    return sent_list"
   ]
  },
  {
   "cell_type": "code",
   "execution_count": 34,
   "metadata": {},
   "outputs": [
    {
     "name": "stdout",
     "output_type": "stream",
     "text": [
      "['은경이', '는', '어디', '야', '?']\n",
      "{'은경이': 1, '는': 2, '어디': 3, '야': 4, '?': 5}\n"
     ]
    },
    {
     "name": "stderr",
     "output_type": "stream",
     "text": [
      "/home/aiffel0038/anaconda3/envs/aiffel/lib/python3.7/site-packages/konlpy/tag/_okt.py:16: UserWarning: \"Twitter\" has changed to \"Okt\" since KoNLPy v0.4.5.\n",
      "  warn('\"Twitter\" has changed to \"Okt\" since KoNLPy v0.4.5.')\n"
     ]
    }
   ],
   "source": [
    "from ckonlpy.tag import Twitter\n",
    "twitter = Twitter()\n",
    "twitter.add_dictionary('수종이', 'Noun')\n",
    "twitter.add_dictionary('경임이', 'Noun')\n",
    "twitter.add_dictionary('은경이', 'Noun')\n",
    "twitter.add_dictionary('필웅이', 'Noun')\n",
    "\n",
    "counter2 = FreqDist()\n",
    "sent = '은경이는 어디야?'\n",
    "test2 = twitter.morphs(sent)\n",
    "print(test2)\n",
    "for word in test2:\n",
    "    counter2[word] +=1\n",
    "\n",
    "word2idx = {word : (idx + 1) for idx, (word, _) in enumerate(counter2.most_common())}\n",
    "print(word2idx)"
   ]
  },
  {
   "cell_type": "code",
   "execution_count": 35,
   "metadata": {},
   "outputs": [
    {
     "name": "stdout",
     "output_type": "stream",
     "text": [
      "[3, 5]\n"
     ]
    }
   ],
   "source": [
    "sents = ['은경이는 어디야?', '철수는 집에 있어?']\n",
    "test_len = []\n",
    "test_list = []\n",
    "counter = FreqDist()\n",
    "for sent in sents:\n",
    "    test = postprocessor.pos(sent)\n",
    "    test_len.append(len(test))\n",
    "    for a in range(len(test)):\n",
    "        test_1 = test[a][0]\n",
    "        test_list.append(test_1)\n",
    "    for word in test_list:\n",
    "        counter[word] +=1\n",
    "    word2idx = {word : (idx + 1) for idx, (word, _) in enumerate(counter.most_common())}\n",
    "print(test_len)"
   ]
  },
  {
   "cell_type": "code",
   "execution_count": 36,
   "metadata": {},
   "outputs": [],
   "source": [
    "def preprocess_data(train_data, test_data):\n",
    "    counter = FreqDist()\n",
    "    \n",
    "    # 두 문장의 story를 하나의 문장으로 통합하는 함수\n",
    "    flatten = lambda data: reduce(lambda x, y: x + y, data)\n",
    "\n",
    "    # 각 샘플의 길이를 저장하는 리스트\n",
    "    story_len = []\n",
    "    question_len = []\n",
    "    story_list = []\n",
    "    question_list = []\n",
    "    \n",
    "    for stories, questions, answers in [train_data, test_data]:\n",
    "        for story in stories:\n",
    "            first_stories = postprocessor.pos(flatten(story))\n",
    "            story_len.append(len(first_stories))\n",
    "            for a in range(len(first_stories)):\n",
    "                stories_1 = first_stories[a][0]\n",
    "                story_list.append(stories_1)\n",
    "        for word in story_list: # 단어 집합에 단어 추가\n",
    "            counter[word] += 1\n",
    "        for question in questions:\n",
    "            first_question = postprocessor.pos(flatten(question))\n",
    "            question_len.append(len(first_question))\n",
    "            for a in range(len(first_question)):\n",
    "                question_1 = first_question[a][0]\n",
    "                question_list.append(question_1)\n",
    "        for word in question_list:\n",
    "             counter[word] += 1\n",
    "        for answer in answers:\n",
    "            answer = tokenize2(answer)\n",
    "            for word in answer:\n",
    "                counter[word] += 1\n",
    "\n",
    "    # 단어장 생성\n",
    "    word2idx = {word : (idx + 1) for idx, (word, _) in enumerate(counter.most_common())}\n",
    "    idx2word = {idx : word for word, idx in word2idx.items()}\n",
    "\n",
    "    # 가장 긴 샘플의 길이\n",
    "    story_max_len = np.max(story_len)\n",
    "    question_max_len = np.max(question_len)\n",
    "\n",
    "    return word2idx, idx2word, story_max_len, question_max_len"
   ]
  },
  {
   "cell_type": "code",
   "execution_count": 37,
   "metadata": {},
   "outputs": [],
   "source": [
    "word2idx, idx2word, story_max_len, question_max_len = preprocess_data(train_data, test_data)"
   ]
  },
  {
   "cell_type": "code",
   "execution_count": 38,
   "metadata": {},
   "outputs": [
    {
     "name": "stdout",
     "output_type": "stream",
     "text": [
      "20\n"
     ]
    }
   ],
   "source": [
    "vocab_size = len(word2idx) + 1\n",
    "print(vocab_size)"
   ]
  },
  {
   "cell_type": "code",
   "execution_count": 39,
   "metadata": {},
   "outputs": [
    {
     "name": "stdout",
     "output_type": "stream",
     "text": [
      "3\n"
     ]
    }
   ],
   "source": [
    "print(question_max_len)"
   ]
  },
  {
   "cell_type": "code",
   "execution_count": 40,
   "metadata": {},
   "outputs": [
    {
     "name": "stdout",
     "output_type": "stream",
     "text": [
      "50\n"
     ]
    }
   ],
   "source": [
    "print(story_max_len)"
   ]
  },
  {
   "cell_type": "code",
   "execution_count": 41,
   "metadata": {},
   "outputs": [
    {
     "name": "stdout",
     "output_type": "stream",
     "text": [
      "{'.': 1, '했습니다': 2, '경임이': 3, '은경이': 4, '수종이': 5, '필웅이': 6, '이동': 7, '뛰어갔습니다': 8, '가버렸습니다': 9, '복귀': 10, '갔습니다': 11, '화장실': 12, '복도': 13, '정원': 14, '사무실': 15, '부엌': 16, '침실': 17, '어디': 18, '?': 19}\n"
     ]
    }
   ],
   "source": [
    "print(word2idx)"
   ]
  },
  {
   "cell_type": "markdown",
   "metadata": {},
   "source": [
    "## 7. 토큰화하기"
   ]
  },
  {
   "cell_type": "code",
   "execution_count": 42,
   "metadata": {},
   "outputs": [],
   "source": [
    "def vectorize(data, word2idx, story_maxlen, question_maxlen):\n",
    "    Xs, Xq, Y = [], [], []\n",
    "    flatten = lambda data: reduce(lambda x, y: x + y, data)\n",
    "\n",
    "    stories, questions, answers = data\n",
    "    for story, question, answer in zip(stories, questions, answers):\n",
    "        xs = [word2idx[w] for w in tokenize2(flatten(story))]\n",
    "        xq = [word2idx[w] for w in tokenize2(question)]\n",
    "        Xs.append(xs)\n",
    "        Xq.append(xq)\n",
    "        Y.append(word2idx[answer])\n",
    "\n",
    "    # 스토리와 질문은 각각의 최대 길이로 패딩\n",
    "    # 정답은 원-핫 인코딩\n",
    "    return pad_sequences(Xs, maxlen=story_maxlen),\\\n",
    "           pad_sequences(Xq, maxlen=question_maxlen),\\\n",
    "           to_categorical(Y, num_classes=len(word2idx) + 1)"
   ]
  },
  {
   "cell_type": "code",
   "execution_count": 43,
   "metadata": {},
   "outputs": [],
   "source": [
    "Xstrain, Xqtrain, Ytrain = vectorize(train_data, word2idx, story_max_len, question_max_len)\n",
    "Xstest, Xqtest, Ytest = vectorize(test_data, word2idx, story_max_len, question_max_len)"
   ]
  },
  {
   "cell_type": "code",
   "execution_count": 44,
   "metadata": {},
   "outputs": [
    {
     "name": "stdout",
     "output_type": "stream",
     "text": [
      "(10000, 50) (10000, 3) (10000, 20) (1000, 50) (1000, 3) (1000, 20)\n"
     ]
    }
   ],
   "source": [
    "print(Xstrain.shape, Xqtrain.shape, Ytrain.shape, Xstest.shape, Xqtest.shape, Ytest.shape)"
   ]
  },
  {
   "cell_type": "code",
   "execution_count": 72,
   "metadata": {},
   "outputs": [],
   "source": [
    "# 에포크 횟수\n",
    "train_epochs = 120\n",
    "# 배치 크기\n",
    "batch_size = 32\n",
    "# 임베딩 크기\n",
    "embed_size = 50\n",
    "# LSTM의 크기\n",
    "lstm_size = 64\n",
    "# 과적합 방지 기법인 드롭아웃 적용 비율\n",
    "dropout_rate = 0.30"
   ]
  },
  {
   "cell_type": "code",
   "execution_count": 73,
   "metadata": {},
   "outputs": [
    {
     "name": "stdout",
     "output_type": "stream",
     "text": [
      "Stories : Tensor(\"input_7:0\", shape=(None, 50), dtype=float32)\n",
      "Question: Tensor(\"input_8:0\", shape=(None, 3), dtype=float32)\n"
     ]
    }
   ],
   "source": [
    "input_sequence = Input((story_max_len,))\n",
    "question = Input((question_max_len,))\n",
    " \n",
    "print('Stories :', input_sequence)\n",
    "print('Question:', question)"
   ]
  },
  {
   "cell_type": "code",
   "execution_count": 74,
   "metadata": {},
   "outputs": [],
   "source": [
    "# 스토리를 위한 첫번째 임베딩. 그림에서의 Embedding A\n",
    "input_encoder_m = Sequential()\n",
    "input_encoder_m.add(Embedding(input_dim=vocab_size,\n",
    "                              output_dim=embed_size))\n",
    "input_encoder_m.add(Dropout(dropout_rate))\n",
    "# 결과 : (samples, story_max_len, embed_size) / 샘플의 수, 문장의 최대 길이, 임베딩 벡터의 차원\n",
    " \n",
    "# 스토리를 위한 두번째 임베딩. 그림에서의 Embedding C\n",
    "# 임베딩 벡터의 차원을 question_max_len(질문의 최대 길이)로 한다.\n",
    "input_encoder_c = Sequential()\n",
    "input_encoder_c.add(Embedding(input_dim=vocab_size,\n",
    "                              output_dim=question_max_len))\n",
    "input_encoder_c.add(Dropout(dropout_rate))\n",
    "# 결과 : (samples, story_max_len, question_max_len) / 샘플의 수, 문장의 최대 길이, 질문의 최대 길이(임베딩 벡터의 차원)"
   ]
  },
  {
   "cell_type": "code",
   "execution_count": 75,
   "metadata": {},
   "outputs": [],
   "source": [
    "# 질문을 위한 임베딩. 그림에서의 Embedding B\n",
    "question_encoder = Sequential()\n",
    "question_encoder.add(Embedding(input_dim=vocab_size,\n",
    "                               output_dim=embed_size,\n",
    "                               input_length=question_max_len))\n",
    "question_encoder.add(Dropout(dropout_rate))\n",
    "# 결과 : (samples, question_max_len, embed_size) / 샘플의 수, 질문의 최대 길이, 임베딩 벡터의 차원"
   ]
  },
  {
   "cell_type": "code",
   "execution_count": 76,
   "metadata": {},
   "outputs": [
    {
     "name": "stdout",
     "output_type": "stream",
     "text": [
      "Input encoded m Tensor(\"sequential_9/Identity:0\", shape=(None, 50, 50), dtype=float32)\n",
      "Input encoded c Tensor(\"sequential_10/Identity:0\", shape=(None, 50, 3), dtype=float32)\n",
      "Question encoded Tensor(\"sequential_11/Identity:0\", shape=(None, 3, 50), dtype=float32)\n"
     ]
    }
   ],
   "source": [
    "# 실질적인 임베딩 과정\n",
    "input_encoded_m = input_encoder_m(input_sequence)\n",
    "input_encoded_c = input_encoder_c(input_sequence)\n",
    "question_encoded = question_encoder(question)\n",
    "\n",
    "print('Input encoded m', input_encoded_m)\n",
    "print('Input encoded c', input_encoded_c)\n",
    "print('Question encoded', question_encoded)"
   ]
  },
  {
   "cell_type": "code",
   "execution_count": 77,
   "metadata": {},
   "outputs": [
    {
     "name": "stdout",
     "output_type": "stream",
     "text": [
      "Match shape Tensor(\"activation_6/Identity:0\", shape=(None, 50, 3), dtype=float32)\n"
     ]
    }
   ],
   "source": [
    "# 스토리 단어들과 질문 단어들 간의 유사도를 구하는 과정\n",
    "# 유사도는 내적을 사용한다.\n",
    "match = dot([input_encoded_m, question_encoded], axes=-1, normalize=False)\n",
    "match = Activation('softmax')(match)\n",
    "print('Match shape', match)\n",
    "# 결과 : (samples, story_max_len, question_max_len) / 샘플의 수, 문장의 최대 길이, 질문의 최대 길이"
   ]
  },
  {
   "cell_type": "code",
   "execution_count": 78,
   "metadata": {},
   "outputs": [
    {
     "name": "stdout",
     "output_type": "stream",
     "text": [
      "Response shape Tensor(\"permute_3/Identity:0\", shape=(None, 3, 50), dtype=float32)\n"
     ]
    }
   ],
   "source": [
    "# 매칭 유사도 행렬과 질문에 대한 임베딩을 더한다.\n",
    "response = add([match, input_encoded_c])  # (samples, story_maxlen, question_max_len)\n",
    "response = Permute((2, 1))(response)  # (samples, question_max_len, story_maxlen)\n",
    "print('Response shape', response)"
   ]
  },
  {
   "cell_type": "code",
   "execution_count": 79,
   "metadata": {},
   "outputs": [
    {
     "name": "stdout",
     "output_type": "stream",
     "text": [
      "Answer shape Tensor(\"concatenate_3/Identity:0\", shape=(None, 3, 100), dtype=float32)\n"
     ]
    }
   ],
   "source": [
    "# concatenate the response vector with the question vector sequence\n",
    "answer = concatenate([response, question_encoded])\n",
    "print('Answer shape', answer)\n",
    " \n",
    "answer = LSTM(lstm_size)(answer)  # Generate tensors of shape 32\n",
    "answer = Dropout(dropout_rate)(answer)\n",
    "answer = Dense(vocab_size)(answer)  # (samples, vocab_size)\n",
    "# we output a probability distribution over the vocabulary\n",
    "answer = Activation('softmax')(answer)"
   ]
  },
  {
   "cell_type": "code",
   "execution_count": 80,
   "metadata": {},
   "outputs": [],
   "source": [
    "model = Model([input_sequence, question], answer)\n",
    "model.compile(optimizer='rmsprop', loss='categorical_crossentropy',\n",
    "              metrics=['acc'])"
   ]
  },
  {
   "cell_type": "markdown",
   "metadata": {},
   "source": [
    "## 8. 모델 훈련시키기"
   ]
  },
  {
   "cell_type": "code",
   "execution_count": 81,
   "metadata": {},
   "outputs": [
    {
     "name": "stdout",
     "output_type": "stream",
     "text": [
      "Epoch 1/120\n",
      "313/313 [==============================] - 1s 4ms/step - loss: 1.8931 - acc: 0.1670 - val_loss: 1.7924 - val_acc: 0.2430\n",
      "Epoch 2/120\n",
      "313/313 [==============================] - 1s 3ms/step - loss: 1.7702 - acc: 0.2058 - val_loss: 1.6680 - val_acc: 0.2750\n",
      "Epoch 3/120\n",
      "313/313 [==============================] - 1s 3ms/step - loss: 1.6660 - acc: 0.2752 - val_loss: 1.6090 - val_acc: 0.3280\n",
      "Epoch 4/120\n",
      "313/313 [==============================] - 1s 3ms/step - loss: 1.6061 - acc: 0.3257 - val_loss: 1.5162 - val_acc: 0.3680\n",
      "Epoch 5/120\n",
      "313/313 [==============================] - 1s 3ms/step - loss: 1.5385 - acc: 0.3702 - val_loss: 1.4812 - val_acc: 0.4100\n",
      "Epoch 6/120\n",
      "313/313 [==============================] - 1s 3ms/step - loss: 1.5047 - acc: 0.4062 - val_loss: 1.4674 - val_acc: 0.3960\n",
      "Epoch 7/120\n",
      "313/313 [==============================] - 1s 3ms/step - loss: 1.4701 - acc: 0.4217 - val_loss: 1.4124 - val_acc: 0.4320\n",
      "Epoch 8/120\n",
      "313/313 [==============================] - 1s 3ms/step - loss: 1.4069 - acc: 0.4572 - val_loss: 1.3636 - val_acc: 0.4360\n",
      "Epoch 9/120\n",
      "313/313 [==============================] - 1s 3ms/step - loss: 1.3876 - acc: 0.4565 - val_loss: 1.3467 - val_acc: 0.4630\n",
      "Epoch 10/120\n",
      "313/313 [==============================] - 1s 3ms/step - loss: 1.3728 - acc: 0.4602 - val_loss: 1.3430 - val_acc: 0.4650\n",
      "Epoch 11/120\n",
      "313/313 [==============================] - 1s 3ms/step - loss: 1.3651 - acc: 0.4629 - val_loss: 1.3287 - val_acc: 0.4770\n",
      "Epoch 12/120\n",
      "313/313 [==============================] - 1s 3ms/step - loss: 1.3449 - acc: 0.4736 - val_loss: 1.3409 - val_acc: 0.4610\n",
      "Epoch 13/120\n",
      "313/313 [==============================] - 1s 3ms/step - loss: 1.3378 - acc: 0.4804 - val_loss: 1.3282 - val_acc: 0.4740\n",
      "Epoch 14/120\n",
      "313/313 [==============================] - 1s 3ms/step - loss: 1.3266 - acc: 0.4813 - val_loss: 1.2980 - val_acc: 0.4960\n",
      "Epoch 15/120\n",
      "313/313 [==============================] - 1s 3ms/step - loss: 1.3152 - acc: 0.4945 - val_loss: 1.3143 - val_acc: 0.4890\n",
      "Epoch 16/120\n",
      "313/313 [==============================] - 1s 3ms/step - loss: 1.3130 - acc: 0.4910 - val_loss: 1.2837 - val_acc: 0.5050\n",
      "Epoch 17/120\n",
      "313/313 [==============================] - 1s 3ms/step - loss: 1.2912 - acc: 0.5054 - val_loss: 1.2711 - val_acc: 0.5180\n",
      "Epoch 18/120\n",
      "313/313 [==============================] - 1s 3ms/step - loss: 1.2806 - acc: 0.5054 - val_loss: 1.2650 - val_acc: 0.5070\n",
      "Epoch 19/120\n",
      "313/313 [==============================] - 1s 3ms/step - loss: 1.2696 - acc: 0.5096 - val_loss: 1.2649 - val_acc: 0.5160\n",
      "Epoch 20/120\n",
      "313/313 [==============================] - 1s 3ms/step - loss: 1.2575 - acc: 0.5156 - val_loss: 1.2475 - val_acc: 0.5160\n",
      "Epoch 21/120\n",
      "313/313 [==============================] - 1s 3ms/step - loss: 1.2453 - acc: 0.5199 - val_loss: 1.2538 - val_acc: 0.5210\n",
      "Epoch 22/120\n",
      "313/313 [==============================] - 1s 3ms/step - loss: 1.2447 - acc: 0.5180 - val_loss: 1.2458 - val_acc: 0.5180\n",
      "Epoch 23/120\n",
      "313/313 [==============================] - 1s 3ms/step - loss: 1.2271 - acc: 0.5298 - val_loss: 1.2403 - val_acc: 0.5160\n",
      "Epoch 24/120\n",
      "313/313 [==============================] - 1s 3ms/step - loss: 1.2289 - acc: 0.5200 - val_loss: 1.2502 - val_acc: 0.5110\n",
      "Epoch 25/120\n",
      "313/313 [==============================] - 1s 3ms/step - loss: 1.2248 - acc: 0.5247 - val_loss: 1.2379 - val_acc: 0.5200\n",
      "Epoch 26/120\n",
      "313/313 [==============================] - 1s 3ms/step - loss: 1.2119 - acc: 0.5259 - val_loss: 1.2478 - val_acc: 0.5060\n",
      "Epoch 27/120\n",
      "313/313 [==============================] - 1s 3ms/step - loss: 1.2017 - acc: 0.5280 - val_loss: 1.2402 - val_acc: 0.5190\n",
      "Epoch 28/120\n",
      "313/313 [==============================] - 1s 3ms/step - loss: 1.1993 - acc: 0.5345 - val_loss: 1.2189 - val_acc: 0.5240\n",
      "Epoch 29/120\n",
      "313/313 [==============================] - 1s 3ms/step - loss: 1.1833 - acc: 0.5424 - val_loss: 1.1940 - val_acc: 0.5500\n",
      "Epoch 30/120\n",
      "313/313 [==============================] - 1s 3ms/step - loss: 1.1468 - acc: 0.5699 - val_loss: 1.1366 - val_acc: 0.5850\n",
      "Epoch 31/120\n",
      "313/313 [==============================] - 1s 3ms/step - loss: 1.1065 - acc: 0.5882 - val_loss: 1.0926 - val_acc: 0.6000\n",
      "Epoch 32/120\n",
      "313/313 [==============================] - 1s 3ms/step - loss: 1.0206 - acc: 0.6301 - val_loss: 1.0168 - val_acc: 0.6360\n",
      "Epoch 33/120\n",
      "313/313 [==============================] - 1s 3ms/step - loss: 0.9428 - acc: 0.6643 - val_loss: 0.9327 - val_acc: 0.6860\n",
      "Epoch 34/120\n",
      "313/313 [==============================] - 1s 3ms/step - loss: 0.8759 - acc: 0.6918 - val_loss: 0.8454 - val_acc: 0.7050\n",
      "Epoch 35/120\n",
      "313/313 [==============================] - 1s 3ms/step - loss: 0.8164 - acc: 0.7209 - val_loss: 0.7703 - val_acc: 0.7340\n",
      "Epoch 36/120\n",
      "313/313 [==============================] - 1s 3ms/step - loss: 0.7612 - acc: 0.7369 - val_loss: 0.7307 - val_acc: 0.7460\n",
      "Epoch 37/120\n",
      "313/313 [==============================] - 1s 3ms/step - loss: 0.7149 - acc: 0.7504 - val_loss: 0.6636 - val_acc: 0.7720\n",
      "Epoch 38/120\n",
      "313/313 [==============================] - 1s 3ms/step - loss: 0.6547 - acc: 0.7670 - val_loss: 0.6275 - val_acc: 0.7790\n",
      "Epoch 39/120\n",
      "313/313 [==============================] - 1s 3ms/step - loss: 0.6223 - acc: 0.7722 - val_loss: 0.5886 - val_acc: 0.7800\n",
      "Epoch 40/120\n",
      "313/313 [==============================] - 1s 3ms/step - loss: 0.5813 - acc: 0.7910 - val_loss: 0.5967 - val_acc: 0.7940\n",
      "Epoch 41/120\n",
      "313/313 [==============================] - 1s 3ms/step - loss: 0.5566 - acc: 0.8009 - val_loss: 0.5371 - val_acc: 0.8070\n",
      "Epoch 42/120\n",
      "313/313 [==============================] - 1s 3ms/step - loss: 0.5374 - acc: 0.8021 - val_loss: 0.5245 - val_acc: 0.8220\n",
      "Epoch 43/120\n",
      "313/313 [==============================] - 1s 3ms/step - loss: 0.5106 - acc: 0.8149 - val_loss: 0.4945 - val_acc: 0.8200\n",
      "Epoch 44/120\n",
      "313/313 [==============================] - 1s 3ms/step - loss: 0.4913 - acc: 0.8197 - val_loss: 0.5141 - val_acc: 0.8190\n",
      "Epoch 45/120\n",
      "313/313 [==============================] - 1s 3ms/step - loss: 0.4703 - acc: 0.8281 - val_loss: 0.4802 - val_acc: 0.8200\n",
      "Epoch 46/120\n",
      "313/313 [==============================] - 1s 3ms/step - loss: 0.4647 - acc: 0.8265 - val_loss: 0.4687 - val_acc: 0.8240\n",
      "Epoch 47/120\n",
      "313/313 [==============================] - 1s 3ms/step - loss: 0.4489 - acc: 0.8342 - val_loss: 0.4621 - val_acc: 0.8270\n",
      "Epoch 48/120\n",
      "313/313 [==============================] - 1s 3ms/step - loss: 0.4438 - acc: 0.8343 - val_loss: 0.4518 - val_acc: 0.8390\n",
      "Epoch 49/120\n",
      "313/313 [==============================] - 1s 3ms/step - loss: 0.4346 - acc: 0.8419 - val_loss: 0.4673 - val_acc: 0.8210\n",
      "Epoch 50/120\n",
      "313/313 [==============================] - 1s 3ms/step - loss: 0.4273 - acc: 0.8445 - val_loss: 0.4627 - val_acc: 0.8200\n",
      "Epoch 51/120\n",
      "313/313 [==============================] - 1s 3ms/step - loss: 0.4098 - acc: 0.8468 - val_loss: 0.4659 - val_acc: 0.8310\n",
      "Epoch 52/120\n",
      "313/313 [==============================] - 1s 3ms/step - loss: 0.4058 - acc: 0.8473 - val_loss: 0.4890 - val_acc: 0.8290\n",
      "Epoch 53/120\n",
      "313/313 [==============================] - 1s 3ms/step - loss: 0.3981 - acc: 0.8540 - val_loss: 0.4851 - val_acc: 0.8280\n",
      "Epoch 54/120\n",
      "313/313 [==============================] - 1s 3ms/step - loss: 0.3950 - acc: 0.8559 - val_loss: 0.4465 - val_acc: 0.8310\n",
      "Epoch 55/120\n",
      "313/313 [==============================] - 1s 3ms/step - loss: 0.3898 - acc: 0.8567 - val_loss: 0.4453 - val_acc: 0.8250\n",
      "Epoch 56/120\n",
      "313/313 [==============================] - 1s 3ms/step - loss: 0.3813 - acc: 0.8586 - val_loss: 0.4345 - val_acc: 0.8290\n",
      "Epoch 57/120\n",
      "313/313 [==============================] - 1s 3ms/step - loss: 0.3721 - acc: 0.8598 - val_loss: 0.4201 - val_acc: 0.8400\n",
      "Epoch 58/120\n",
      "313/313 [==============================] - 1s 3ms/step - loss: 0.3723 - acc: 0.8645 - val_loss: 0.4248 - val_acc: 0.8400\n",
      "Epoch 59/120\n",
      "313/313 [==============================] - 1s 3ms/step - loss: 0.3652 - acc: 0.8660 - val_loss: 0.4137 - val_acc: 0.8570\n",
      "Epoch 60/120\n",
      "313/313 [==============================] - 1s 3ms/step - loss: 0.3535 - acc: 0.8702 - val_loss: 0.4136 - val_acc: 0.8460\n",
      "Epoch 61/120\n",
      "313/313 [==============================] - 1s 3ms/step - loss: 0.3533 - acc: 0.8715 - val_loss: 0.4036 - val_acc: 0.8460\n",
      "Epoch 62/120\n",
      "313/313 [==============================] - 1s 3ms/step - loss: 0.3353 - acc: 0.8768 - val_loss: 0.3926 - val_acc: 0.8610\n",
      "Epoch 63/120\n",
      "313/313 [==============================] - 1s 3ms/step - loss: 0.3267 - acc: 0.8800 - val_loss: 0.3790 - val_acc: 0.8600\n",
      "Epoch 64/120\n",
      "313/313 [==============================] - 1s 3ms/step - loss: 0.3249 - acc: 0.8791 - val_loss: 0.3655 - val_acc: 0.8710\n",
      "Epoch 65/120\n",
      "313/313 [==============================] - 1s 3ms/step - loss: 0.3204 - acc: 0.8820 - val_loss: 0.3575 - val_acc: 0.8700\n",
      "Epoch 66/120\n",
      "313/313 [==============================] - 1s 3ms/step - loss: 0.3010 - acc: 0.8901 - val_loss: 0.3388 - val_acc: 0.8770\n",
      "Epoch 67/120\n",
      "313/313 [==============================] - 1s 3ms/step - loss: 0.2968 - acc: 0.8917 - val_loss: 0.3346 - val_acc: 0.8760\n",
      "Epoch 68/120\n",
      "313/313 [==============================] - 1s 3ms/step - loss: 0.2894 - acc: 0.8978 - val_loss: 0.3517 - val_acc: 0.8740\n",
      "Epoch 69/120\n",
      "313/313 [==============================] - 1s 3ms/step - loss: 0.2833 - acc: 0.9013 - val_loss: 0.3515 - val_acc: 0.8820\n",
      "Epoch 70/120\n",
      "313/313 [==============================] - 1s 3ms/step - loss: 0.2652 - acc: 0.9057 - val_loss: 0.3040 - val_acc: 0.9000\n",
      "Epoch 71/120\n",
      "313/313 [==============================] - 1s 3ms/step - loss: 0.2652 - acc: 0.9101 - val_loss: 0.2911 - val_acc: 0.8990\n",
      "Epoch 72/120\n",
      "313/313 [==============================] - 1s 3ms/step - loss: 0.2503 - acc: 0.9096 - val_loss: 0.2900 - val_acc: 0.8910\n",
      "Epoch 73/120\n",
      "313/313 [==============================] - 1s 3ms/step - loss: 0.2525 - acc: 0.9099 - val_loss: 0.2986 - val_acc: 0.8980\n",
      "Epoch 74/120\n",
      "313/313 [==============================] - 1s 3ms/step - loss: 0.2363 - acc: 0.9152 - val_loss: 0.2927 - val_acc: 0.8910\n",
      "Epoch 75/120\n",
      "313/313 [==============================] - 1s 3ms/step - loss: 0.2375 - acc: 0.9144 - val_loss: 0.2911 - val_acc: 0.8910\n",
      "Epoch 76/120\n",
      "313/313 [==============================] - 1s 3ms/step - loss: 0.2279 - acc: 0.9227 - val_loss: 0.2624 - val_acc: 0.9090\n",
      "Epoch 77/120\n",
      "313/313 [==============================] - 1s 4ms/step - loss: 0.2172 - acc: 0.9255 - val_loss: 0.2633 - val_acc: 0.9110\n",
      "Epoch 78/120\n",
      "313/313 [==============================] - 1s 3ms/step - loss: 0.2139 - acc: 0.9223 - val_loss: 0.2911 - val_acc: 0.8970\n",
      "Epoch 79/120\n",
      "313/313 [==============================] - 1s 3ms/step - loss: 0.2202 - acc: 0.9213 - val_loss: 0.2511 - val_acc: 0.9070\n",
      "Epoch 80/120\n",
      "313/313 [==============================] - 1s 3ms/step - loss: 0.2136 - acc: 0.9276 - val_loss: 0.2552 - val_acc: 0.9080\n",
      "Epoch 81/120\n",
      "313/313 [==============================] - 1s 3ms/step - loss: 0.2041 - acc: 0.9276 - val_loss: 0.2632 - val_acc: 0.9070\n",
      "Epoch 82/120\n",
      "313/313 [==============================] - 1s 3ms/step - loss: 0.2009 - acc: 0.9310 - val_loss: 0.2611 - val_acc: 0.9070\n",
      "Epoch 83/120\n",
      "313/313 [==============================] - 1s 3ms/step - loss: 0.1986 - acc: 0.9330 - val_loss: 0.2415 - val_acc: 0.9140\n",
      "Epoch 84/120\n",
      "313/313 [==============================] - 1s 3ms/step - loss: 0.1949 - acc: 0.9317 - val_loss: 0.2399 - val_acc: 0.9170\n",
      "Epoch 85/120\n",
      "313/313 [==============================] - 1s 3ms/step - loss: 0.1895 - acc: 0.9335 - val_loss: 0.2343 - val_acc: 0.9220\n",
      "Epoch 86/120\n",
      "313/313 [==============================] - 1s 3ms/step - loss: 0.1835 - acc: 0.9361 - val_loss: 0.2509 - val_acc: 0.9060\n",
      "Epoch 87/120\n",
      "313/313 [==============================] - 1s 3ms/step - loss: 0.1859 - acc: 0.9335 - val_loss: 0.2337 - val_acc: 0.9140\n",
      "Epoch 88/120\n",
      "313/313 [==============================] - 1s 3ms/step - loss: 0.1805 - acc: 0.9380 - val_loss: 0.2413 - val_acc: 0.9160\n",
      "Epoch 89/120\n",
      "313/313 [==============================] - 1s 3ms/step - loss: 0.1729 - acc: 0.9395 - val_loss: 0.2351 - val_acc: 0.9160\n",
      "Epoch 90/120\n",
      "313/313 [==============================] - 1s 3ms/step - loss: 0.1629 - acc: 0.9446 - val_loss: 0.2452 - val_acc: 0.9150\n",
      "Epoch 91/120\n",
      "313/313 [==============================] - 1s 3ms/step - loss: 0.1629 - acc: 0.9415 - val_loss: 0.2430 - val_acc: 0.9040\n",
      "Epoch 92/120\n",
      "313/313 [==============================] - 1s 3ms/step - loss: 0.1614 - acc: 0.9434 - val_loss: 0.2105 - val_acc: 0.9200\n",
      "Epoch 93/120\n",
      "313/313 [==============================] - 1s 3ms/step - loss: 0.1584 - acc: 0.9420 - val_loss: 0.2052 - val_acc: 0.9280\n",
      "Epoch 94/120\n",
      "313/313 [==============================] - 1s 3ms/step - loss: 0.1571 - acc: 0.9457 - val_loss: 0.2225 - val_acc: 0.9220\n",
      "Epoch 95/120\n",
      "313/313 [==============================] - 1s 3ms/step - loss: 0.1548 - acc: 0.9476 - val_loss: 0.1954 - val_acc: 0.9280\n",
      "Epoch 96/120\n",
      "313/313 [==============================] - 1s 3ms/step - loss: 0.1534 - acc: 0.9454 - val_loss: 0.1956 - val_acc: 0.9280\n",
      "Epoch 97/120\n",
      "313/313 [==============================] - 1s 3ms/step - loss: 0.1471 - acc: 0.9473 - val_loss: 0.1793 - val_acc: 0.9290\n",
      "Epoch 98/120\n",
      "313/313 [==============================] - 1s 3ms/step - loss: 0.1489 - acc: 0.9477 - val_loss: 0.2138 - val_acc: 0.9220\n",
      "Epoch 99/120\n",
      "313/313 [==============================] - 1s 3ms/step - loss: 0.1458 - acc: 0.9502 - val_loss: 0.2142 - val_acc: 0.9240\n",
      "Epoch 100/120\n",
      "313/313 [==============================] - 1s 3ms/step - loss: 0.1395 - acc: 0.9530 - val_loss: 0.1867 - val_acc: 0.9330\n",
      "Epoch 101/120\n",
      "313/313 [==============================] - 1s 3ms/step - loss: 0.1336 - acc: 0.9531 - val_loss: 0.1894 - val_acc: 0.9360\n",
      "Epoch 102/120\n",
      "313/313 [==============================] - 1s 3ms/step - loss: 0.1359 - acc: 0.9519 - val_loss: 0.1915 - val_acc: 0.9320\n",
      "Epoch 103/120\n",
      "313/313 [==============================] - 1s 3ms/step - loss: 0.1313 - acc: 0.9545 - val_loss: 0.1881 - val_acc: 0.9330\n",
      "Epoch 104/120\n",
      "313/313 [==============================] - 1s 3ms/step - loss: 0.1236 - acc: 0.9577 - val_loss: 0.1763 - val_acc: 0.9360\n",
      "Epoch 105/120\n",
      "313/313 [==============================] - 1s 3ms/step - loss: 0.1215 - acc: 0.9575 - val_loss: 0.1876 - val_acc: 0.9360\n",
      "Epoch 106/120\n",
      "313/313 [==============================] - 1s 4ms/step - loss: 0.1215 - acc: 0.9589 - val_loss: 0.1831 - val_acc: 0.9380\n",
      "Epoch 107/120\n",
      "313/313 [==============================] - 1s 3ms/step - loss: 0.1171 - acc: 0.9604 - val_loss: 0.1905 - val_acc: 0.9320\n",
      "Epoch 108/120\n",
      "313/313 [==============================] - 1s 3ms/step - loss: 0.1204 - acc: 0.9585 - val_loss: 0.1827 - val_acc: 0.9410\n",
      "Epoch 109/120\n",
      "313/313 [==============================] - 1s 3ms/step - loss: 0.1125 - acc: 0.9601 - val_loss: 0.1621 - val_acc: 0.9460\n",
      "Epoch 110/120\n",
      "313/313 [==============================] - 1s 3ms/step - loss: 0.1126 - acc: 0.9608 - val_loss: 0.1882 - val_acc: 0.9300\n",
      "Epoch 111/120\n",
      "313/313 [==============================] - 1s 3ms/step - loss: 0.1160 - acc: 0.9610 - val_loss: 0.1781 - val_acc: 0.9450\n",
      "Epoch 112/120\n",
      "313/313 [==============================] - 1s 3ms/step - loss: 0.1018 - acc: 0.9660 - val_loss: 0.1533 - val_acc: 0.9500\n",
      "Epoch 113/120\n",
      "313/313 [==============================] - 1s 3ms/step - loss: 0.1070 - acc: 0.9649 - val_loss: 0.1749 - val_acc: 0.9420\n",
      "Epoch 114/120\n",
      "313/313 [==============================] - 1s 3ms/step - loss: 0.1045 - acc: 0.9650 - val_loss: 0.1843 - val_acc: 0.9350\n",
      "Epoch 115/120\n",
      "313/313 [==============================] - 1s 3ms/step - loss: 0.0964 - acc: 0.9656 - val_loss: 0.1604 - val_acc: 0.9520\n",
      "Epoch 116/120\n",
      "313/313 [==============================] - 1s 3ms/step - loss: 0.1079 - acc: 0.9634 - val_loss: 0.1529 - val_acc: 0.9510\n",
      "Epoch 117/120\n",
      "313/313 [==============================] - 1s 3ms/step - loss: 0.1034 - acc: 0.9644 - val_loss: 0.1651 - val_acc: 0.9490\n",
      "Epoch 118/120\n",
      "313/313 [==============================] - 1s 3ms/step - loss: 0.1012 - acc: 0.9674 - val_loss: 0.1422 - val_acc: 0.9500\n",
      "Epoch 119/120\n",
      "313/313 [==============================] - 1s 3ms/step - loss: 0.0965 - acc: 0.9671 - val_loss: 0.1555 - val_acc: 0.9470\n",
      "Epoch 120/120\n",
      "313/313 [==============================] - 1s 3ms/step - loss: 0.1002 - acc: 0.9684 - val_loss: 0.1406 - val_acc: 0.9500\n"
     ]
    }
   ],
   "source": [
    "# 테스트 데이터를 검증 데이터로 사용하면서 모델 훈련 시작\n",
    "history = model.fit([Xstrain, Xqtrain],\n",
    "         Ytrain, batch_size, train_epochs,\n",
    "         validation_data=([Xstest, Xqtest], Ytest))\n",
    " \n",
    "# 훈련 후에는 모델 저장\n",
    "model_path = os.getenv('HOME')+'/aiffel/babi_memory_net/data/stopwords_model.h5'\n",
    "model.save(model_path)"
   ]
  },
  {
   "cell_type": "markdown",
   "metadata": {},
   "source": [
    "## 9. 모델 평가하기"
   ]
  },
  {
   "cell_type": "code",
   "execution_count": 82,
   "metadata": {},
   "outputs": [
    {
     "name": "stdout",
     "output_type": "stream",
     "text": [
      "32/32 [==============================] - 0s 2ms/step - loss: 0.1406 - acc: 0.9500\n",
      "\n",
      " 테스트 정확도: 0.9500\n"
     ]
    }
   ],
   "source": [
    "print(\"\\n 테스트 정확도: %.4f\" % (model.evaluate([Xstest, Xqtest], Ytest)[1]))"
   ]
  },
  {
   "cell_type": "code",
   "execution_count": 70,
   "metadata": {},
   "outputs": [
    {
     "data": {
      "image/png": "[encoded data removed]",
      "text/plain": [
       "<Figure size 432x288 with 2 Axes>"
      ]
     },
     "metadata": {
      "needs_background": "light"
     },
     "output_type": "display_data"
    }
   ],
   "source": [
    "# plot accuracy and loss plot\n",
    "plt.subplot(211)\n",
    "plt.title(\"Accuracy\")\n",
    "plt.plot(history.history[\"acc\"], color=\"g\", label=\"train\")\n",
    "plt.plot(history.history[\"val_acc\"], color=\"b\", label=\"validation\")\n",
    "plt.legend(loc=\"best\")\n",
    "\n",
    "plt.subplot(212)\n",
    "plt.title(\"Loss\")\n",
    "plt.plot(history.history[\"loss\"], color=\"g\", label=\"train\")\n",
    "plt.plot(history.history[\"val_loss\"], color=\"b\", label=\"validation\")\n",
    "plt.legend(loc=\"best\")\n",
    "\n",
    "plt.tight_layout()\n",
    "plt.show()\n",
    "\n",
    "# labels\n",
    "ytest = np.argmax(Ytest, axis=1)\n",
    "\n",
    "# get predictions\n",
    "Ytest_ = model.predict([Xstest, Xqtest])\n",
    "ytest_ = np.argmax(Ytest_, axis=1)"
   ]
  },
  {
   "cell_type": "code",
   "execution_count": 71,
   "metadata": {},
   "outputs": [
    {
     "name": "stdout",
     "output_type": "stream",
     "text": [
      "질문                |실제값  |예측값\n",
      "---------------------------------------\n",
      "은경이 어디 ?            : 복도      복도\n",
      "필웅이 어디 ?            : 화장실     침실\n",
      "경임이 어디 ?            : 부엌      부엌\n",
      "경임이 어디 ?            : 복도      복도\n",
      "경임이 어디 ?            : 부엌      부엌\n",
      "경임이 어디 ?            : 복도      복도\n",
      "경임이 어디 ?            : 정원      정원\n",
      "수종이 어디 ?            : 복도      복도\n",
      "경임이 어디 ?            : 사무실     사무실\n",
      "수종이 어디 ?            : 사무실     사무실\n",
      "필웅이 어디 ?            : 부엌      부엌\n",
      "필웅이 어디 ?            : 정원      정원\n",
      "수종이 어디 ?            : 사무실     화장실\n",
      "필웅이 어디 ?            : 침실      침실\n",
      "필웅이 어디 ?            : 침실      침실\n",
      "은경이 어디 ?            : 부엌      부엌\n",
      "은경이 어디 ?            : 정원      정원\n",
      "은경이 어디 ?            : 부엌      부엌\n",
      "수종이 어디 ?            : 사무실     부엌\n",
      "은경이 어디 ?            : 부엌      복도\n",
      "필웅이 어디 ?            : 복도      복도\n",
      "은경이 어디 ?            : 사무실     사무실\n",
      "은경이 어디 ?            : 사무실     사무실\n",
      "경임이 어디 ?            : 복도      침실\n",
      "수종이 어디 ?            : 침실      정원\n",
      "경임이 어디 ?            : 침실      침실\n",
      "필웅이 어디 ?            : 침실      침실\n",
      "수종이 어디 ?            : 부엌      부엌\n",
      "수종이 어디 ?            : 부엌      화장실\n",
      "수종이 어디 ?            : 부엌      화장실\n"
     ]
    }
   ],
   "source": [
    "NUM_DISPLAY = 30\n",
    "\n",
    "print(\"{:18}|{:5}|{}\".format(\"질문\", \"실제값\", \"예측값\"))\n",
    "print(39 * \"-\")\n",
    "\n",
    "for i in range(NUM_DISPLAY):\n",
    "    question = \" \".join([idx2word[x] for x in Xqtest[i].tolist()])\n",
    "    label = idx2word[ytest[i]]\n",
    "    prediction = idx2word[ytest_[i]]\n",
    "    print(\"{:20}: {:7} {}\".format(question, label, prediction))"
   ]
  },
  {
   "cell_type": "markdown",
   "metadata": {},
   "source": [
    "## 10. 총평"
   ]
  },
  {
   "cell_type": "markdown",
   "metadata": {},
   "source": [
    "일단 customized konlpy를 처음 써봤는데 생각보다 유용해서 좋았다.    \n",
    "postprocessor같은 경우 morphs 메서드가 없어서 list로 만들어주는 방식을 택했는데 시행착오를 계속 겪었다.    \n",
    "성능은 확실히 불용어를 제거해준 것이 제거하지 않은 것보다 성능이 훨씬 좋다는 것을 알 수 있었다.    "
   ]
  },
  {
   "cell_type": "code",
   "execution_count": null,
   "metadata": {},
   "outputs": [],
   "source": []
  }
 ],
 "metadata": {
  "kernelspec": {
   "display_name": "aiffel",
   "language": "python",
   "name": "aiffel"
  },
  "language_info": {
   "codemirror_mode": {
    "name": "ipython",
    "version": 3
   },
   "file_extension": ".py",
   "mimetype": "text/x-python",
   "name": "python",
   "nbconvert_exporter": "python",
   "pygments_lexer": "ipython3",
   "version": "3.7.6"
  }
 },
 "nbformat": 4,
 "nbformat_minor": 4
}
