{
 "cells": [
  {
   "cell_type": "markdown",
   "metadata": {},
   "source": [
    "# 로이터 뉴스 다중 분류"
   ]
  },
  {
   "cell_type": "markdown",
   "metadata": {},
   "source": [
    "## 1. 단어수를 제한 두지 않고 머신러닝 기법으로 분류하기"
   ]
  },
  {
   "cell_type": "code",
   "execution_count": 1,
   "metadata": {},
   "outputs": [],
   "source": [
    "from tensorflow.keras.datasets import reuters\n",
    "import matplotlib.pyplot as plt\n",
    "import seaborn as sns\n",
    "import numpy as np\n",
    "import pandas as pd\n",
    "import warnings\n",
    "warnings.filterwarnings(action='ignore')"
   ]
  },
  {
   "cell_type": "code",
   "execution_count": 2,
   "metadata": {},
   "outputs": [],
   "source": [
    "(x_train, y_train), (x_test, y_test) = reuters.load_data(num_words=None, test_split=0.2)"
   ]
  },
  {
   "cell_type": "code",
   "execution_count": 3,
   "metadata": {},
   "outputs": [
    {
     "name": "stdout",
     "output_type": "stream",
     "text": [
      "훈련 샘플의 수: 8982\n",
      "테스트 샘플의 수: 2246\n"
     ]
    }
   ],
   "source": [
    "print('훈련 샘플의 수: {}'.format(len(x_train)))\n",
    "print('테스트 샘플의 수: {}'.format(len(x_test)))"
   ]
  },
  {
   "cell_type": "code",
   "execution_count": 4,
   "metadata": {},
   "outputs": [
    {
     "name": "stdout",
     "output_type": "stream",
     "text": [
      "훈련용 뉴스의 최대 길이 :2376\n",
      "훈련용 뉴스의 평균 길이 :145.5398574927633\n"
     ]
    },
    {
     "data": {
      "image/png": "[encoded data removed]",
      "text/plain": [
       "<Figure size 432x288 with 1 Axes>"
      ]
     },
     "metadata": {
      "needs_background": "light"
     },
     "output_type": "display_data"
    }
   ],
   "source": [
    "print('훈련용 뉴스의 최대 길이 :{}'.format(max(len(l) for l in x_train)))\n",
    "print('훈련용 뉴스의 평균 길이 :{}'.format(sum(map(len, x_train))/len(x_train)))\n",
    "\n",
    "plt.hist([len(s) for s in x_train], bins=50)\n",
    "plt.xlabel('length of samples')\n",
    "plt.ylabel('number of samples')\n",
    "plt.show()"
   ]
  },
  {
   "cell_type": "code",
   "execution_count": 5,
   "metadata": {},
   "outputs": [
    {
     "data": {
      "text/plain": [
       "<matplotlib.axes._subplots.AxesSubplot at 0x7fa84612a790>"
      ]
     },
     "execution_count": 5,
     "metadata": {},
     "output_type": "execute_result"
    },
    {
     "data": {
      "image/png": "[encoded data removed]",
      "text/plain": [
       "<Figure size 864x360 with 1 Axes>"
      ]
     },
     "metadata": {
      "needs_background": "light"
     },
     "output_type": "display_data"
    }
   ],
   "source": [
    "fig, axe = plt.subplots(ncols=1)\n",
    "fig.set_size_inches(12,5)\n",
    "sns.countplot(y_train)"
   ]
  },
  {
   "cell_type": "code",
   "execution_count": 6,
   "metadata": {},
   "outputs": [],
   "source": [
    "word_index = reuters.get_word_index(path=\"reuters_word_index.json\")"
   ]
  },
  {
   "cell_type": "code",
   "execution_count": 7,
   "metadata": {},
   "outputs": [],
   "source": [
    "index_to_word = {index + 3 : word for word, index in word_index.items()}"
   ]
  },
  {
   "cell_type": "code",
   "execution_count": 8,
   "metadata": {},
   "outputs": [],
   "source": [
    "# index_to_word에 숫자 0은 <pad>, 숫자 1은 <sos>, 숫자 2는 <unk>를 넣어줍니다.\n",
    "for index, token in enumerate((\"<pad>\", \"<sos>\", \"<unk>\")):\n",
    "  index_to_word[index]=token"
   ]
  },
  {
   "cell_type": "code",
   "execution_count": 9,
   "metadata": {},
   "outputs": [],
   "source": [
    "decoded = []\n",
    "for i in range(len(x_train)):\n",
    "    t = ' '.join([index_to_word[index] for index in x_train[i]])\n",
    "    decoded.append(t)\n",
    "\n",
    "x_train = decoded"
   ]
  },
  {
   "cell_type": "code",
   "execution_count": 10,
   "metadata": {},
   "outputs": [],
   "source": [
    "decoded = []\n",
    "for i in range(len(x_test)):\n",
    "    t = ' '.join([index_to_word[index] for index in x_test[i]])\n",
    "    decoded.append(t)\n",
    "\n",
    "x_test = decoded"
   ]
  },
  {
   "cell_type": "code",
   "execution_count": 11,
   "metadata": {},
   "outputs": [
    {
     "data": {
      "text/plain": [
       "['<sos> mcgrath rentcorp said as a result of its december acquisition of space co it expects earnings per share in 1987 of 1 15 to 1 30 dlrs per share up from 70 cts in 1986 the company said pretax net should rise to nine to 10 mln dlrs from six mln dlrs in 1986 and rental operation revenues to 19 to 22 mln dlrs from 12 5 mln dlrs it said cash flow per share this year should be 2 50 to three dlrs reuter 3',\n",
       " \"<sos> generale de banque sa lt genb br and lt heller overseas corp of chicago have each taken 50 pct stakes in factoring company sa belgo factors generale de banque said in a statement it gave no financial details of the transaction sa belgo factors' turnover in 1986 was 17 5 billion belgian francs reuter 3\",\n",
       " '<sos> shr 3 28 dlrs vs 22 cts shr diluted 2 99 dlrs vs 22 cts net 46 0 mln vs 3 328 000 avg shrs 14 0 mln vs 15 2 mln year shr 5 41 dlrs vs 1 56 dlrs shr diluted 4 94 dlrs vs 1 50 dlrs net 78 2 mln vs 25 9 mln avg shrs 14 5 mln vs 15 1 mln note earnings per share reflect the two for one split effective january 6 1987 per share amounts are calculated after preferred stock dividends loss continuing operations for the qtr 1986 includes gains of sale of investments in enron corp of 14 mln dlrs and associated companies of 4 189 000 less writedowns of investments in national intergroup inc of 11 8 mln and brae corp of 15 6 mln reuter 3',\n",
       " \"<sos> the farmers home administration the u s agriculture department's farm lending arm could lose about seven billion dlrs in outstanding principal on its severely delinquent borrowers or about one fourth of its farm loan portfolio the general accounting office gao said in remarks prepared for delivery to the senate agriculture committee brian crowley senior associate director of gao also said that a preliminary analysis of proposed changes in fmha's financial eligibility standards indicated as many as one half of fmha borrowers who received new loans from the agency in 1986 would be ineligible under the proposed system the agency has proposed evaluating applicants' credit using a variety of financial ratios instead of relying solely on cashflow ability senate agriculture committee chairman patrick leahy d vt slammed the proposed eligibility changes telling fmha administrator vance clark at a hearing that they would mark a dramatic shift in the agency's purpose away from being farmers' lender of last resort toward becoming a big city bank but clark defended the new regulations saying the agency had a responsibility to administer its 70 billion dlr loan portfolio in a compassionate yet judicious manner crowley of gao congress' investigative arm said the proposed credit scoring system attempted to ensure that fmha would make loans only to borrowers who had a reasonable change of repaying their debt reuter 3\",\n",
       " '<sos> seton co said its board has received a proposal from chairman and chief executive officer philip d kaltenbacher to acquire seton for 15 75 dlrs per share in cash seton said the acquisition bid is subject to kaltenbacher arranging the necessary financing it said he intends to ask other members of senior management to participate the company said kaltenbacher owns 30 pct of seton stock and other management members another 7 5 pct seton said it has formed an independent board committee to consider the offer and has deferred the annual meeting it had scheduled for march 31 reuter 3']"
      ]
     },
     "execution_count": 11,
     "metadata": {},
     "output_type": "execute_result"
    }
   ],
   "source": [
    "x_train[:5]"
   ]
  },
  {
   "cell_type": "code",
   "execution_count": 12,
   "metadata": {},
   "outputs": [
    {
     "data": {
      "text/plain": [
       "['<sos> the great atlantic and pacific tea co said its three year 345 mln dlr capital program will be be substantially increased to accommodate growth and expansion plans for waldbaum inc and shopwell inc over the next two years a and p said the acquisition of shopwell in august 1986 and waldbaum in december helped us achieve better than expected results in the fourth quarter ended february 28 its net income from continuing operations jumped 52 6 pct to 20 7 mln dlrs or 55 cts a share in the latest quarter as sales increased 48 3 pct to 1 58 billion dlrs a and p gave no details on the expanded capital program but it did say it completed the first year of the program during 1986 a and p is 52 4 pct owned by lt tengelmann warenhandelsgesellschaft of west germany reuter 3',\n",
       " \"<sos> philippine sugar production in the 1987 88 crop year ending august has been set at 1 6 mln tonnes up from a provisional 1 3 mln tonnes this year sugar regulatory administration sra chairman arsenio yulo said yulo told reuters a survey during the current milling season which ends next month showed the 1986 87 estimate would almost certainly be met he said at least 1 2 mln tonnes of the 1987 88 crop would be earmarked for domestic consumption yulo said about 130 000 tonnes would be set aside for the u s sugar quota 150 000 tonnes for strategic reserves and 50 000 tonnes would be sold on the world market he said if the government approved a long standing sra recommendation to manufacture ethanol the project would take up another 150 000 tonnes slightly raising the target the government for its own reasons has been delaying approval of the project but we expect it to come through by july yulo said ethanol could make up five pct of gasoline cutting the oil import bill by about 300 mln pesos yulo said three major philippine distilleries were ready to start manufacturing ethanol if the project was approved the ethanol project would result in employment for about 100 000 people sharply reducing those thrown out of work by depressed world sugar prices and a moribund domestic industry production quotas set for the first time in 1987 88 had been submitted to president corazon aquino i think the president would rather wait till the new congress convenes after the may elections he said but there is really no need for such quotas we are right now producing just slightly over our own consumption level the producers have never enjoyed such high prices yulo said adding sugar was currently selling locally for 320 pesos per picul up from 190 pesos last august yulo said prices were driven up because of speculation following the sra's bid to control production we are no longer concerned so much with the world market he said adding producers in the negros region had learned from their mistakes and diversified into corn and prawn farming and cloth production he said diversification into products other than ethanol was also possible within the sugar industry the brazilians long ago learnt their lessons yulo said they have 300 sugar mills compared with our 41 but they relocated many of them and diversified production we want to call this a 'sugarcane industry' instead of the sugar industry he said sugarcane could be fed to pigs and livestock used for thatching roofs or used in room panelling when you cut sugarcane you don't even have to produce sugar he said yulo said the philippines was lobbying for a renewal of the international sugar agreement which expired in 1984 as a major sugar producer we are urging them to write a new agreement which would revive world prices yulo said if there is no agreement world prices will always be depressed particularly because the european community is subsidising its producers and dumping sugar on the markets he said current world prices holding steady at about 7 60 cents per pound were uneconomical for the philippines where production costs ranged from 12 to 14 cents a pound if the price holds steady for a while at 7 60 cents i expect the level to rise to about 11 cents a pound by the end of this year he said yulo said economists forecast a bullish sugar market by 1990 with world consumption outstripping production he said sugar markets were holding up despite encroachments from artificial sweeteners and high fructose corn syrup but we are not happy with the reagan administration he said since 1935 we have been regular suppliers of sugar to the u s in 1982 when they restored the quota system they cut ours in half without any justification manila was keenly watching washington's moves to cut domestic support prices to 12 cents a pound from 18 cents the u s agriculture department last december slashed its 12 month 1987 sugar import quota from the philippines to 143 780 short tons from 231 660 short tons in 1986 yulo said despite next year's increased production target some philippine mills were expected to shut down at least four of the 41 mills were not working during the 1986 87 season he said we expect two or three more to follow suit during the next season reuter 3\",\n",
       " \"<sos> the agriculture department's widening of louisiana gulf differentials will affect county posted prices for number two yellow corn in ten states a usda official said all counties in iowa will be affected as will counties which use the gulf to price corn in illinois indiana tennessee kentucky missouri mississippi arkansas alabama and louisiana said ron burgess deputy director of commodity operations division for the usda usda last night notified the grain industry that effective immediately all gulf differentials used to price interior corn would be widened on a sliding scale basis of four to eight cts depending on what the differential is usda's action was taken to lower excessively high posted county prices for corn caused by high gulf prices we've been following this louisiana gulf situation for a month and we don't think it's going to get back in line in any nearby time burgess said burgess said usda will probably narrow back the gulf differentials when and if gulf prices recede if we're off the mark now because we're too high wouldn't we be as much off the mark if we're too low he said while forecasting more adjustments if gulf prices fall burgess said no other changes in usda's price system are being planned right now we don't tinker we don't make changes lightly and we don't make changes often he said reuter 3\",\n",
       " '<sos> graham mccormick oil and gas partnership said it completed the sale of interests in two major oil and gas fields to lt energy assets international corp for 21 mln dlrs the company said it sold about one half of its 50 pct interest in the oak hill and north rucias fields its two largest producing properties it said it used about 20 mln dlrs of the proceeds to prepay principal on its senior secured notes semi annual principal payments on the remaining 40 mln dlrs of notes have been satisfied until december 1988 as a result it said the company said the note agreements were amended to reflect an easing of some financial covenants and an increase of interest to 13 5 pct from 13 0 pct until december 1990 it said the noteholders exercise price for 1 125 000 warrants was also reduced to 50 cts from 1 50 dlrs the company said energy assets agreed to share the costs of increasing production at the oak hill field reuter 3',\n",
       " '<sos> strong south easterly winds were keeping many vessels trapped in the ice off the finnish and swedish coasts in one of the worst icy periods in the baltic for many years the finnish board of navigation said in finland and sweden up to 50 vessels were reported to be stuck in the ice and even the largest of the assisting icebreakers were having difficulties in breaking through to the stranded ships coastguard officials said however icy conditions in the southern baltic at the soviet oil ports of ventspils and klaipeda had eased they said weather officials in neighbouring sweden said the icy conditions in the baltic were the worst for 30 years with ships fighting a losing battle to keep moving in the coastal stretches of the gulf of bothnia which divides finland and sweden the ice is up to one metre thick with drifts and currents packing it into almost impenetrable walls three metres high swedish coastguard officials said weather forecasts say winds may ease during the weekend but a further drop in temperature could bring shipping to a standstill the officials said reuter 3']"
      ]
     },
     "execution_count": 12,
     "metadata": {},
     "output_type": "execute_result"
    }
   ],
   "source": [
    "x_test[:5]"
   ]
  },
  {
   "cell_type": "code",
   "execution_count": 13,
   "metadata": {},
   "outputs": [],
   "source": [
    "from sklearn.feature_extraction.text import CountVectorizer\n",
    "from sklearn.feature_extraction.text import TfidfTransformer"
   ]
  },
  {
   "cell_type": "code",
   "execution_count": 14,
   "metadata": {},
   "outputs": [
    {
     "name": "stdout",
     "output_type": "stream",
     "text": [
      "(8982, 26506)\n"
     ]
    }
   ],
   "source": [
    "dtmvector = CountVectorizer()\n",
    "x_train_dtm = dtmvector.fit_transform(x_train)\n",
    "print(x_train_dtm.shape)"
   ]
  },
  {
   "cell_type": "code",
   "execution_count": 15,
   "metadata": {},
   "outputs": [
    {
     "name": "stdout",
     "output_type": "stream",
     "text": [
      "(8982, 26506)\n"
     ]
    }
   ],
   "source": [
    "tfidf_transformer = TfidfTransformer()\n",
    "tfidfv = tfidf_transformer.fit_transform(x_train_dtm)\n",
    "print(tfidfv.shape)"
   ]
  },
  {
   "cell_type": "code",
   "execution_count": 16,
   "metadata": {},
   "outputs": [],
   "source": [
    "from sklearn.naive_bayes import MultinomialNB #다항분포 나이브 베이즈 모델\n",
    "from sklearn.linear_model import LogisticRegression, SGDClassifier\n",
    "from sklearn.naive_bayes import ComplementNB\n",
    "from sklearn.tree import DecisionTreeClassifier\n",
    "from sklearn.ensemble import RandomForestClassifier\n",
    "from sklearn.ensemble import GradientBoostingClassifier\n",
    "from sklearn.ensemble import VotingClassifier\n",
    "from sklearn.svm import LinearSVC\n",
    "from sklearn.metrics import accuracy_score"
   ]
  },
  {
   "cell_type": "code",
   "execution_count": 17,
   "metadata": {},
   "outputs": [
    {
     "data": {
      "text/plain": [
       "MultinomialNB()"
      ]
     },
     "execution_count": 17,
     "metadata": {},
     "output_type": "execute_result"
    }
   ],
   "source": [
    "mod = MultinomialNB()\n",
    "mod.fit(tfidfv, y_train)"
   ]
  },
  {
   "cell_type": "code",
   "execution_count": 18,
   "metadata": {},
   "outputs": [
    {
     "name": "stdout",
     "output_type": "stream",
     "text": [
      "accuracy: 0.5997328584149599\n"
     ]
    }
   ],
   "source": [
    "x_test_dtm = dtmvector.transform(x_test) #테스트 데이터를 DTM으로 변환\n",
    "tfidfv_test = tfidf_transformer.transform(x_test_dtm) #DTM을 TF-IDF 행렬로 변환\n",
    "\n",
    "predicted = mod.predict(tfidfv_test) #테스트 데이터에 대한 예측\n",
    "print(\"accuracy:\", accuracy_score(y_test, predicted))"
   ]
  },
  {
   "cell_type": "code",
   "execution_count": 19,
   "metadata": {},
   "outputs": [
    {
     "name": "stdout",
     "output_type": "stream",
     "text": [
      "accuracy: 0.7649154051647373\n"
     ]
    }
   ],
   "source": [
    "cb = ComplementNB()\n",
    "cb.fit(tfidfv, y_train)\n",
    "predicted = cb.predict(tfidfv_test) \n",
    "print(\"accuracy:\", accuracy_score(y_test, predicted))"
   ]
  },
  {
   "cell_type": "code",
   "execution_count": 20,
   "metadata": {},
   "outputs": [
    {
     "name": "stdout",
     "output_type": "stream",
     "text": [
      "accuracy: 0.813446126447017\n"
     ]
    }
   ],
   "source": [
    "lr = LogisticRegression(C = 10000,penalty='l2')\n",
    "lr.fit(tfidfv, y_train)\n",
    "predicted = lr.predict(tfidfv_test) \n",
    "print(\"accuracy:\", accuracy_score(y_test, predicted))"
   ]
  },
  {
   "cell_type": "code",
   "execution_count": 21,
   "metadata": {},
   "outputs": [
    {
     "name": "stdout",
     "output_type": "stream",
     "text": [
      "accuracy: 0.7773820124666073\n"
     ]
    }
   ],
   "source": [
    "lsvc = LinearSVC(C=1000, penalty='l1', max_iter=500, dual=False)\n",
    "lsvc.fit(tfidfv, y_train)\n",
    "predicted = lsvc.predict(tfidfv_test)\n",
    "print(\"accuracy:\", accuracy_score(y_test, predicted))"
   ]
  },
  {
   "cell_type": "code",
   "execution_count": 22,
   "metadata": {},
   "outputs": [
    {
     "name": "stdout",
     "output_type": "stream",
     "text": [
      "accuracy: 0.6211041852181657\n"
     ]
    }
   ],
   "source": [
    "tree = DecisionTreeClassifier(max_depth=10, random_state=0)\n",
    "tree.fit(tfidfv, y_train)\n",
    "predicted = tree.predict(tfidfv_test)\n",
    "print(\"accuracy:\", accuracy_score(y_test, predicted))"
   ]
  },
  {
   "cell_type": "code",
   "execution_count": 23,
   "metadata": {},
   "outputs": [
    {
     "name": "stdout",
     "output_type": "stream",
     "text": [
      "accuracy: 0.6544968833481746\n"
     ]
    }
   ],
   "source": [
    "forest = RandomForestClassifier(n_estimators=5, random_state=0)\n",
    "forest.fit(tfidfv, y_train)\n",
    "predicted = forest.predict(tfidfv_test) \n",
    "print(\"accuracy:\", accuracy_score(y_test, predicted))"
   ]
  },
  {
   "cell_type": "code",
   "execution_count": 24,
   "metadata": {},
   "outputs": [
    {
     "name": "stdout",
     "output_type": "stream",
     "text": [
      "accuracy: 0.7702582368655387\n"
     ]
    }
   ],
   "source": [
    "grbt = GradientBoostingClassifier(random_state=0)# verbose=3\n",
    "grbt.fit(tfidfv, y_train)\n",
    "predicted = grbt.predict(tfidfv_test)\n",
    "print(\"accuracy:\", accuracy_score(y_test, predicted))"
   ]
  },
  {
   "cell_type": "code",
   "execution_count": 25,
   "metadata": {},
   "outputs": [
    {
     "name": "stdout",
     "output_type": "stream",
     "text": [
      "accuracy: 0.8187889581478184\n"
     ]
    }
   ],
   "source": [
    "voting_classifier = VotingClassifier(estimators=[\n",
    "         ('lr', LogisticRegression(C=10000, penalty='l2')),\n",
    "        ('cb', ComplementNB()),\n",
    "        ('grbt', GradientBoostingClassifier(random_state=0))\n",
    "], voting='soft', n_jobs=-1)\n",
    "voting_classifier.fit(tfidfv, y_train)\n",
    "predicted = voting_classifier.predict(tfidfv_test)\n",
    "print(\"accuracy:\", accuracy_score(y_test, predicted))"
   ]
  },
  {
   "cell_type": "markdown",
   "metadata": {},
   "source": [
    "## 2. 단어를 5000개로 제한하고 머신러닝 기법으로 분류하기"
   ]
  },
  {
   "cell_type": "code",
   "execution_count": 26,
   "metadata": {},
   "outputs": [],
   "source": [
    "(x_train, y_train), (x_test, y_test) = reuters.load_data(num_words=5000, test_split=0.2)"
   ]
  },
  {
   "cell_type": "code",
   "execution_count": 27,
   "metadata": {},
   "outputs": [],
   "source": [
    "word_index = reuters.get_word_index(path=\"reuters_word_index.json\")\n",
    "index_to_word = {index + 3 : word for word, index in word_index.items()}\n",
    "\n",
    "for index, token in enumerate((\"<pad>\", \"<sos>\", \"<unk>\")):\n",
    "  index_to_word[index]=token\n"
   ]
  },
  {
   "cell_type": "code",
   "execution_count": 28,
   "metadata": {},
   "outputs": [],
   "source": [
    "decoded = []\n",
    "for i in range(len(x_train)):\n",
    "    t = ' '.join([index_to_word[index] for index in x_train[i]])\n",
    "    decoded.append(t)\n",
    "\n",
    "x_train = decoded"
   ]
  },
  {
   "cell_type": "code",
   "execution_count": 29,
   "metadata": {},
   "outputs": [],
   "source": [
    "decoded = []\n",
    "for i in range(len(x_test)):\n",
    "    t = ' '.join([index_to_word[index] for index in x_test[i]])\n",
    "    decoded.append(t)\n",
    "\n",
    "x_test = decoded"
   ]
  },
  {
   "cell_type": "code",
   "execution_count": 30,
   "metadata": {},
   "outputs": [
    {
     "name": "stdout",
     "output_type": "stream",
     "text": [
      "(8982, 4867)\n"
     ]
    }
   ],
   "source": [
    "dtmvector = CountVectorizer()\n",
    "x_train_dtm = dtmvector.fit_transform(x_train)\n",
    "print(x_train_dtm.shape)"
   ]
  },
  {
   "cell_type": "code",
   "execution_count": 31,
   "metadata": {},
   "outputs": [
    {
     "name": "stdout",
     "output_type": "stream",
     "text": [
      "(8982, 4867)\n"
     ]
    }
   ],
   "source": [
    "tfidf_transformer = TfidfTransformer()\n",
    "tfidfv = tfidf_transformer.fit_transform(x_train_dtm)\n",
    "print(tfidfv.shape)"
   ]
  },
  {
   "cell_type": "code",
   "execution_count": 33,
   "metadata": {},
   "outputs": [
    {
     "name": "stdout",
     "output_type": "stream",
     "text": [
      "accuracy: 0.6731967943009796\n"
     ]
    }
   ],
   "source": [
    "mod = MultinomialNB()\n",
    "mod.fit(tfidfv, y_train)\n",
    "x_test_dtm = dtmvector.transform(x_test) \n",
    "tfidfv_test = tfidf_transformer.transform(x_test_dtm)\n",
    "\n",
    "predicted = mod.predict(tfidfv_test)\n",
    "print(\"accuracy:\", accuracy_score(y_test, predicted))"
   ]
  },
  {
   "cell_type": "code",
   "execution_count": 34,
   "metadata": {},
   "outputs": [
    {
     "name": "stdout",
     "output_type": "stream",
     "text": [
      "accuracy: 0.7707034728406055\n"
     ]
    }
   ],
   "source": [
    "cb = ComplementNB()\n",
    "cb.fit(tfidfv, y_train)\n",
    "predicted = cb.predict(tfidfv_test) \n",
    "print(\"accuracy:\", accuracy_score(y_test, predicted))"
   ]
  },
  {
   "cell_type": "code",
   "execution_count": 35,
   "metadata": {},
   "outputs": [
    {
     "name": "stdout",
     "output_type": "stream",
     "text": [
      "accuracy: 0.8058771148708815\n"
     ]
    }
   ],
   "source": [
    "lr = LogisticRegression(C = 10000,penalty='l2')\n",
    "lr.fit(tfidfv, y_train)\n",
    "predicted = lr.predict(tfidfv_test) \n",
    "print(\"accuracy:\", accuracy_score(y_test, predicted))"
   ]
  },
  {
   "cell_type": "code",
   "execution_count": 36,
   "metadata": {},
   "outputs": [
    {
     "name": "stdout",
     "output_type": "stream",
     "text": [
      "accuracy: 0.7666963490650045\n"
     ]
    }
   ],
   "source": [
    "lsvc = LinearSVC(C=1000, penalty='l1', max_iter=500, dual=False)\n",
    "lsvc.fit(tfidfv, y_train)\n",
    "predicted = lsvc.predict(tfidfv_test)\n",
    "print(\"accuracy:\", accuracy_score(y_test, predicted))"
   ]
  },
  {
   "cell_type": "code",
   "execution_count": 37,
   "metadata": {},
   "outputs": [
    {
     "name": "stdout",
     "output_type": "stream",
     "text": [
      "accuracy: 0.6179875333926982\n"
     ]
    }
   ],
   "source": [
    "tree = DecisionTreeClassifier(max_depth=10, random_state=0)\n",
    "tree.fit(tfidfv, y_train)\n",
    "predicted = tree.predict(tfidfv_test)\n",
    "print(\"accuracy:\", accuracy_score(y_test, predicted))"
   ]
  },
  {
   "cell_type": "code",
   "execution_count": 38,
   "metadata": {},
   "outputs": [
    {
     "name": "stdout",
     "output_type": "stream",
     "text": [
      "accuracy: 0.701246660730187\n"
     ]
    }
   ],
   "source": [
    "forest = RandomForestClassifier(n_estimators=5, random_state=0)\n",
    "forest.fit(tfidfv, y_train)\n",
    "predicted = forest.predict(tfidfv_test) \n",
    "print(\"accuracy:\", accuracy_score(y_test, predicted))"
   ]
  },
  {
   "cell_type": "code",
   "execution_count": 39,
   "metadata": {},
   "outputs": [
    {
     "name": "stdout",
     "output_type": "stream",
     "text": [
      "accuracy: 0.767586821015138\n"
     ]
    }
   ],
   "source": [
    "grbt = GradientBoostingClassifier(random_state=0)# verbose=3\n",
    "grbt.fit(tfidfv, y_train)\n",
    "predicted = grbt.predict(tfidfv_test)\n",
    "print(\"accuracy:\", accuracy_score(y_test, predicted))"
   ]
  },
  {
   "cell_type": "code",
   "execution_count": 40,
   "metadata": {},
   "outputs": [
    {
     "name": "stdout",
     "output_type": "stream",
     "text": [
      "accuracy: 0.8161175422974176\n"
     ]
    }
   ],
   "source": [
    "voting_classifier = VotingClassifier(estimators=[\n",
    "         ('lr', LogisticRegression(C=10000, penalty='l2')),\n",
    "        ('cb', ComplementNB()),\n",
    "        ('grbt', GradientBoostingClassifier(random_state=0))\n",
    "], voting='soft', n_jobs=-1)\n",
    "voting_classifier.fit(tfidfv, y_train)\n",
    "predicted = voting_classifier.predict(tfidfv_test)\n",
    "print(\"accuracy:\", accuracy_score(y_test, predicted))"
   ]
  },
  {
   "cell_type": "markdown",
   "metadata": {},
   "source": [
    "Boosting과 Voting을 제외하고 단어 수를 5000개로 제한한 경우가 단어수를 제한하지 않은 경우보다 정확도가 꽤 높았다.  \n",
    "그러나 Boosting 혹은 Voting을 할 경우 둘의 정확도는 거의 비슷한 곳에 수렴된다.    \n",
    "그리고 Decision Tree는 단어수에 상관없이 가장 낮은 정확도를 갖고 있다.    \n",
    "결론적으로 단어수 제한한 것이 단어수를 제한하지 않은 것보다 성능이 좋다고 얘기할 수 있다. "
   ]
  },
  {
   "cell_type": "markdown",
   "metadata": {},
   "source": [
    "## 3. LSTM으로 뉴스 분류하기"
   ]
  },
  {
   "cell_type": "code",
   "execution_count": 111,
   "metadata": {},
   "outputs": [],
   "source": [
    "from tensorflow.keras.models import Sequential\n",
    "from tensorflow.keras.layers import Dense, LSTM, Embedding, Dropout\n",
    "from tensorflow.keras.preprocessing.sequence import pad_sequences\n",
    "from tensorflow.keras.utils import to_categorical\n",
    "from tensorflow.keras.callbacks import EarlyStopping, ModelCheckpoint\n",
    "from tensorflow.keras.models import load_model"
   ]
  },
  {
   "cell_type": "code",
   "execution_count": 209,
   "metadata": {},
   "outputs": [],
   "source": [
    "(X_train, y_train), (X_test, y_test) = reuters.load_data(num_words = 5000, test_split = 0.2)"
   ]
  },
  {
   "cell_type": "code",
   "execution_count": 210,
   "metadata": {},
   "outputs": [],
   "source": [
    "max_len = 150\n",
    "X_train = pad_sequences(X_train, maxlen = max_len)\n",
    "X_test = pad_sequences(X_test, maxlen = max_len)"
   ]
  },
  {
   "cell_type": "code",
   "execution_count": 211,
   "metadata": {},
   "outputs": [],
   "source": [
    "y_train = to_categorical(y_train)\n",
    "y_test = to_categorical(y_test)"
   ]
  },
  {
   "cell_type": "code",
   "execution_count": 216,
   "metadata": {},
   "outputs": [
    {
     "name": "stdout",
     "output_type": "stream",
     "text": [
      "Model: \"sequential_27\"\n",
      "_________________________________________________________________\n",
      "Layer (type)                 Output Shape              Param #   \n",
      "=================================================================\n",
      "embedding_26 (Embedding)     (None, None, 120)         600000    \n",
      "_________________________________________________________________\n",
      "lstm_26 (LSTM)               (None, 120)               115680    \n",
      "_________________________________________________________________\n",
      "dense_23 (Dense)             (None, 46)                5566      \n",
      "=================================================================\n",
      "Total params: 721,246\n",
      "Trainable params: 721,246\n",
      "Non-trainable params: 0\n",
      "_________________________________________________________________\n"
     ]
    }
   ],
   "source": [
    "model = Sequential()\n",
    "model.add(Embedding(5000, 120))\n",
    "model.add(LSTM(120))\n",
    "model.add(Dense(46, activation='softmax'))\n",
    "model.summary()"
   ]
  },
  {
   "cell_type": "code",
   "execution_count": 217,
   "metadata": {},
   "outputs": [],
   "source": [
    "es = EarlyStopping(monitor = 'val_loss', mode = 'min', verbose = 1, patience = 4)\n",
    "mc = ModelCheckpoint('best_model.h5', monitor = 'val_acc', mode = 'max', verbose = 1, save_best_only = True)"
   ]
  },
  {
   "cell_type": "code",
   "execution_count": 218,
   "metadata": {},
   "outputs": [],
   "source": [
    "model.compile(loss = 'categorical_crossentropy', optimizer = 'adam', metrics = ['acc'])"
   ]
  },
  {
   "cell_type": "code",
   "execution_count": 219,
   "metadata": {},
   "outputs": [
    {
     "name": "stdout",
     "output_type": "stream",
     "text": [
      "Epoch 1/60\n",
      "71/71 [==============================] - ETA: 0s - loss: 2.6063 - acc: 0.3379\n",
      "Epoch 00001: val_acc improved from -inf to 0.47952, saving model to best_model.h5\n",
      "71/71 [==============================] - 2s 23ms/step - loss: 2.6063 - acc: 0.3379 - val_loss: 2.2048 - val_acc: 0.4795\n",
      "Epoch 2/60\n",
      "71/71 [==============================] - ETA: 0s - loss: 1.9595 - acc: 0.4796\n",
      "Epoch 00002: val_acc improved from 0.47952 to 0.54675, saving model to best_model.h5\n",
      "71/71 [==============================] - 1s 19ms/step - loss: 1.9595 - acc: 0.4796 - val_loss: 1.8048 - val_acc: 0.5467\n",
      "Epoch 3/60\n",
      "69/71 [============================>.] - ETA: 0s - loss: 1.7579 - acc: 0.5408\n",
      "Epoch 00003: val_acc did not improve from 0.54675\n",
      "71/71 [==============================] - 1s 18ms/step - loss: 1.7531 - acc: 0.5415 - val_loss: 1.7398 - val_acc: 0.5450\n",
      "Epoch 4/60\n",
      "69/71 [============================>.] - ETA: 0s - loss: 1.6193 - acc: 0.5742\n",
      "Epoch 00004: val_acc improved from 0.54675 to 0.56100, saving model to best_model.h5\n",
      "71/71 [==============================] - 1s 19ms/step - loss: 1.6208 - acc: 0.5730 - val_loss: 1.7033 - val_acc: 0.5610\n",
      "Epoch 5/60\n",
      "68/71 [===========================>..] - ETA: 0s - loss: 1.5550 - acc: 0.5880\n",
      "Epoch 00005: val_acc improved from 0.56100 to 0.60686, saving model to best_model.h5\n",
      "71/71 [==============================] - 1s 19ms/step - loss: 1.5507 - acc: 0.5894 - val_loss: 1.5592 - val_acc: 0.6069\n",
      "Epoch 6/60\n",
      "70/71 [============================>.] - ETA: 0s - loss: 1.3289 - acc: 0.6484\n",
      "Epoch 00006: val_acc improved from 0.60686 to 0.61354, saving model to best_model.h5\n",
      "71/71 [==============================] - 1s 19ms/step - loss: 1.3290 - acc: 0.6480 - val_loss: 1.4886 - val_acc: 0.6135\n",
      "Epoch 7/60\n",
      "71/71 [==============================] - ETA: 0s - loss: 1.1943 - acc: 0.6809\n",
      "Epoch 00007: val_acc improved from 0.61354 to 0.63936, saving model to best_model.h5\n",
      "71/71 [==============================] - 1s 19ms/step - loss: 1.1943 - acc: 0.6809 - val_loss: 1.4342 - val_acc: 0.6394\n",
      "Epoch 8/60\n",
      "71/71 [==============================] - ETA: 0s - loss: 1.0742 - acc: 0.7165\n",
      "Epoch 00008: val_acc improved from 0.63936 to 0.64470, saving model to best_model.h5\n",
      "71/71 [==============================] - 1s 19ms/step - loss: 1.0742 - acc: 0.7165 - val_loss: 1.4016 - val_acc: 0.6447\n",
      "Epoch 9/60\n",
      "69/71 [============================>.] - ETA: 0s - loss: 0.9814 - acc: 0.7406\n",
      "Epoch 00009: val_acc improved from 0.64470 to 0.66251, saving model to best_model.h5\n",
      "71/71 [==============================] - 1s 19ms/step - loss: 0.9804 - acc: 0.7408 - val_loss: 1.3643 - val_acc: 0.6625\n",
      "Epoch 10/60\n",
      "69/71 [============================>.] - ETA: 0s - loss: 0.8737 - acc: 0.7709\n",
      "Epoch 00010: val_acc improved from 0.66251 to 0.67409, saving model to best_model.h5\n",
      "71/71 [==============================] - 1s 20ms/step - loss: 0.8752 - acc: 0.7704 - val_loss: 1.3691 - val_acc: 0.6741\n",
      "Epoch 11/60\n",
      "70/71 [============================>.] - ETA: 0s - loss: 0.7833 - acc: 0.7959\n",
      "Epoch 00011: val_acc improved from 0.67409 to 0.67542, saving model to best_model.h5\n",
      "71/71 [==============================] - 1s 19ms/step - loss: 0.7838 - acc: 0.7957 - val_loss: 1.3441 - val_acc: 0.6754\n",
      "Epoch 12/60\n",
      "68/71 [===========================>..] - ETA: 0s - loss: 0.6941 - acc: 0.8204\n",
      "Epoch 00012: val_acc improved from 0.67542 to 0.68388, saving model to best_model.h5\n",
      "71/71 [==============================] - 1s 19ms/step - loss: 0.6988 - acc: 0.8193 - val_loss: 1.3680 - val_acc: 0.6839\n",
      "Epoch 13/60\n",
      "69/71 [============================>.] - ETA: 0s - loss: 0.6203 - acc: 0.8398\n",
      "Epoch 00013: val_acc improved from 0.68388 to 0.69679, saving model to best_model.h5\n",
      "71/71 [==============================] - 1s 19ms/step - loss: 0.6218 - acc: 0.8392 - val_loss: 1.3478 - val_acc: 0.6968\n",
      "Epoch 14/60\n",
      "70/71 [============================>.] - ETA: 0s - loss: 0.5468 - acc: 0.8607\n",
      "Epoch 00014: val_acc did not improve from 0.69679\n",
      "71/71 [==============================] - 1s 19ms/step - loss: 0.5468 - acc: 0.8608 - val_loss: 1.3928 - val_acc: 0.6892\n",
      "Epoch 15/60\n",
      "70/71 [============================>.] - ETA: 0s - loss: 0.4803 - acc: 0.8847\n",
      "Epoch 00015: val_acc did not improve from 0.69679\n",
      "71/71 [==============================] - 1s 19ms/step - loss: 0.4801 - acc: 0.8848 - val_loss: 1.4231 - val_acc: 0.6937\n",
      "Epoch 00015: early stopping\n"
     ]
    }
   ],
   "source": [
    "history = model.fit(X_train, y_train, batch_size=128, epochs=60, callbacks=[es, mc], validation_data=(X_test, y_test))"
   ]
  },
  {
   "cell_type": "code",
   "execution_count": 220,
   "metadata": {},
   "outputs": [
    {
     "name": "stdout",
     "output_type": "stream",
     "text": [
      "71/71 [==============================] - 0s 4ms/step - loss: 1.3478 - acc: 0.6968\n",
      "\n",
      " 테스트 정확도: 0.6968\n"
     ]
    }
   ],
   "source": [
    "loaded_model = load_model('best_model.h5')\n",
    "print(\"\\n 테스트 정확도: %.4f\" % (loaded_model.evaluate(X_test, y_test)[1]))"
   ]
  },
  {
   "cell_type": "code",
   "execution_count": 221,
   "metadata": {},
   "outputs": [
    {
     "data": {
      "image/png": "[encoded data removed]",
      "text/plain": [
       "<Figure size 432x288 with 1 Axes>"
      ]
     },
     "metadata": {
      "needs_background": "light"
     },
     "output_type": "display_data"
    }
   ],
   "source": [
    "epochs = range(1, len(history.history['acc']) + 1)\n",
    "plt.plot(epochs, history.history['loss'])\n",
    "plt.plot(epochs, history.history['val_loss'])\n",
    "plt.title('model loss')\n",
    "plt.ylabel('loss')\n",
    "plt.xlabel('epoch')\n",
    "plt.legend(['train', 'test'], loc='upper left')\n",
    "plt.show()"
   ]
  },
  {
   "cell_type": "markdown",
   "metadata": {},
   "source": [
    "일반적으로 딥러닝이 머신러닝보다 성능이 우수하다고 알려져 있다.     \n",
    "하지만 이번 실험에서의 정확도를 보면 DecisionTree나 Multinomial Naive Bayes를 제외하고 정확도가 매우 낮다.    \n",
    "딥러닝보다 정확도가 낮은 머신러닝 알고리즘은 매우 단순한 구조를 갖고 있기 때문에 낮은것이고 실제로 쓰이지 않는 알고리즘이라는 걸 감안하면 다소 충격적이다.    "
   ]
  },
  {
   "cell_type": "markdown",
   "metadata": {},
   "source": [
    "## 4. 불용어를 제거하고 전처리과정까지 거친 상태에서 LSTM으로 다중분류하기"
   ]
  },
  {
   "cell_type": "code",
   "execution_count": 289,
   "metadata": {},
   "outputs": [],
   "source": [
    "from nltk.corpus import stopwords"
   ]
  },
  {
   "cell_type": "code",
   "execution_count": 290,
   "metadata": {},
   "outputs": [],
   "source": [
    "(X_train, y_train), (X_test, y_test) = reuters.load_data(num_words = 5000, test_split = 0.2)"
   ]
  },
  {
   "cell_type": "code",
   "execution_count": 291,
   "metadata": {},
   "outputs": [],
   "source": [
    "word_index = reuters.get_word_index(path=\"reuters_word_index.json\")"
   ]
  },
  {
   "cell_type": "code",
   "execution_count": 292,
   "metadata": {},
   "outputs": [],
   "source": [
    "index_to_word = {index + 3 : word for word, index in word_index.items()}"
   ]
  },
  {
   "cell_type": "code",
   "execution_count": 293,
   "metadata": {},
   "outputs": [],
   "source": [
    "for index, token in enumerate((\"<pad>\", \"<sos>\", \"<unk>\")):\n",
    "  index_to_word[index]=token"
   ]
  },
  {
   "cell_type": "code",
   "execution_count": 294,
   "metadata": {},
   "outputs": [],
   "source": [
    "decoded = []\n",
    "for i in range(len(X_train)):\n",
    "    t = ' '.join([index_to_word[index] for index in X_train[i]])\n",
    "    decoded.append(t)\n",
    "\n",
    "X_train = decoded"
   ]
  },
  {
   "cell_type": "code",
   "execution_count": 295,
   "metadata": {},
   "outputs": [],
   "source": [
    "decoded = []\n",
    "for i in range(len(X_test)):\n",
    "    t = ' '.join([index_to_word[index] for index in X_test[i]])\n",
    "    decoded.append(t)\n",
    "\n",
    "X_test = decoded"
   ]
  },
  {
   "cell_type": "code",
   "execution_count": 296,
   "metadata": {},
   "outputs": [
    {
     "name": "stdout",
     "output_type": "stream",
     "text": [
      "정규화 사전의 수:  120\n"
     ]
    }
   ],
   "source": [
    "contractions = {\"ain't\": \"is not\", \"aren't\": \"are not\",\"can't\": \"cannot\", \"'cause\": \"because\", \"could've\": \"could have\", \"couldn't\": \"could not\",\n",
    "                           \"didn't\": \"did not\",  \"doesn't\": \"does not\", \"don't\": \"do not\", \"hadn't\": \"had not\", \"hasn't\": \"has not\", \"haven't\": \"have not\",\n",
    "                           \"he'd\": \"he would\",\"he'll\": \"he will\", \"he's\": \"he is\", \"how'd\": \"how did\", \"how'd'y\": \"how do you\", \"how'll\": \"how will\", \"how's\": \"how is\",\n",
    "                           \"I'd\": \"I would\", \"I'd've\": \"I would have\", \"I'll\": \"I will\", \"I'll've\": \"I will have\",\"I'm\": \"I am\", \"I've\": \"I have\", \"i'd\": \"i would\",\n",
    "                           \"i'd've\": \"i would have\", \"i'll\": \"i will\",  \"i'll've\": \"i will have\",\"i'm\": \"i am\", \"i've\": \"i have\", \"isn't\": \"is not\", \"it'd\": \"it would\",\n",
    "                           \"it'd've\": \"it would have\", \"it'll\": \"it will\", \"it'll've\": \"it will have\",\"it's\": \"it is\", \"let's\": \"let us\", \"ma'am\": \"madam\",\n",
    "                           \"mayn't\": \"may not\", \"might've\": \"might have\",\"mightn't\": \"might not\",\"mightn't've\": \"might not have\", \"must've\": \"must have\",\n",
    "                           \"mustn't\": \"must not\", \"mustn't've\": \"must not have\", \"needn't\": \"need not\", \"needn't've\": \"need not have\",\"o'clock\": \"of the clock\",\n",
    "                           \"oughtn't\": \"ought not\", \"oughtn't've\": \"ought not have\", \"shan't\": \"shall not\", \"sha'n't\": \"shall not\", \"shan't've\": \"shall not have\",\n",
    "                           \"she'd\": \"she would\", \"she'd've\": \"she would have\", \"she'll\": \"she will\", \"she'll've\": \"she will have\", \"she's\": \"she is\",\n",
    "                           \"should've\": \"should have\", \"shouldn't\": \"should not\", \"shouldn't've\": \"should not have\", \"so've\": \"so have\",\"so's\": \"so as\",\n",
    "                           \"this's\": \"this is\",\"that'd\": \"that would\", \"that'd've\": \"that would have\", \"that's\": \"that is\", \"there'd\": \"there would\",\n",
    "                           \"there'd've\": \"there would have\", \"there's\": \"there is\", \"here's\": \"here is\",\"they'd\": \"they would\", \"they'd've\": \"they would have\",\n",
    "                           \"they'll\": \"they will\", \"they'll've\": \"they will have\", \"they're\": \"they are\", \"they've\": \"they have\", \"to've\": \"to have\",\n",
    "                           \"wasn't\": \"was not\", \"we'd\": \"we would\", \"we'd've\": \"we would have\", \"we'll\": \"we will\", \"we'll've\": \"we will have\", \"we're\": \"we are\",\n",
    "                           \"we've\": \"we have\", \"weren't\": \"were not\", \"what'll\": \"what will\", \"what'll've\": \"what will have\", \"what're\": \"what are\",\n",
    "                           \"what's\": \"what is\", \"what've\": \"what have\", \"when's\": \"when is\", \"when've\": \"when have\", \"where'd\": \"where did\", \"where's\": \"where is\",\n",
    "                           \"where've\": \"where have\", \"who'll\": \"who will\", \"who'll've\": \"who will have\", \"who's\": \"who is\", \"who've\": \"who have\",\n",
    "                           \"why's\": \"why is\", \"why've\": \"why have\", \"will've\": \"will have\", \"won't\": \"will not\", \"won't've\": \"will not have\",\n",
    "                           \"would've\": \"would have\", \"wouldn't\": \"would not\", \"wouldn't've\": \"would not have\", \"y'all\": \"you all\",\n",
    "                           \"y'all'd\": \"you all would\",\"y'all'd've\": \"you all would have\",\"y'all're\": \"you all are\",\"y'all've\": \"you all have\",\n",
    "                           \"you'd\": \"you would\", \"you'd've\": \"you would have\", \"you'll\": \"you will\", \"you'll've\": \"you will have\",\n",
    "                           \"you're\": \"you are\", \"you've\": \"you have\"}\n",
    "\n",
    "print(\"정규화 사전의 수: \",len(contractions))"
   ]
  },
  {
   "cell_type": "code",
   "execution_count": 297,
   "metadata": {},
   "outputs": [
    {
     "name": "stdout",
     "output_type": "stream",
     "text": [
      "불용어 개수 : 179\n",
      "['i', 'me', 'my', 'myself', 'we', 'our', 'ours', 'ourselves', 'you', \"you're\", \"you've\", \"you'll\", \"you'd\", 'your', 'yours', 'yourself', 'yourselves', 'he', 'him', 'his', 'himself', 'she', \"she's\", 'her', 'hers', 'herself', 'it', \"it's\", 'its', 'itself', 'they', 'them', 'their', 'theirs', 'themselves', 'what', 'which', 'who', 'whom', 'this', 'that', \"that'll\", 'these', 'those', 'am', 'is', 'are', 'was', 'were', 'be', 'been', 'being', 'have', 'has', 'had', 'having', 'do', 'does', 'did', 'doing', 'a', 'an', 'the', 'and', 'but', 'if', 'or', 'because', 'as', 'until', 'while', 'of', 'at', 'by', 'for', 'with', 'about', 'against', 'between', 'into', 'through', 'during', 'before', 'after', 'above', 'below', 'to', 'from', 'up', 'down', 'in', 'out', 'on', 'off', 'over', 'under', 'again', 'further', 'then', 'once', 'here', 'there', 'when', 'where', 'why', 'how', 'all', 'any', 'both', 'each', 'few', 'more', 'most', 'other', 'some', 'such', 'no', 'nor', 'not', 'only', 'own', 'same', 'so', 'than', 'too', 'very', 's', 't', 'can', 'will', 'just', 'don', \"don't\", 'should', \"should've\", 'now', 'd', 'll', 'm', 'o', 're', 've', 'y', 'ain', 'aren', \"aren't\", 'couldn', \"couldn't\", 'didn', \"didn't\", 'doesn', \"doesn't\", 'hadn', \"hadn't\", 'hasn', \"hasn't\", 'haven', \"haven't\", 'isn', \"isn't\", 'ma', 'mightn', \"mightn't\", 'mustn', \"mustn't\", 'needn', \"needn't\", 'shan', \"shan't\", 'shouldn', \"shouldn't\", 'wasn', \"wasn't\", 'weren', \"weren't\", 'won', \"won't\", 'wouldn', \"wouldn't\"]\n"
     ]
    }
   ],
   "source": [
    "print('불용어 개수 :', len(stopwords.words('english') ))\n",
    "print(stopwords.words('english'))"
   ]
  },
  {
   "cell_type": "code",
   "execution_count": 298,
   "metadata": {},
   "outputs": [],
   "source": [
    "import re\n",
    "def preprocess_sentence(sentence, remove_stopwords=True):\n",
    "    sentence = sentence.lower() # 텍스트 소문자화\n",
    "    sentence = re.sub(r'\\([^)]*\\)', '', sentence) # 괄호로 닫힌 문자열 (...) 제거 Ex) my husband (and myself!) for => my husband for\n",
    "    sentence = re.sub('\"','', sentence) # 쌍따옴표 \" 제거\n",
    "    sentence = ' '.join([contractions[t] if t in contractions else t for t in sentence.split(\" \")]) # 약어 정규화\n",
    "    sentence = re.sub(r\"'s\\b\",\"\",sentence) # 소유격 제거. Ex) roland's -> roland\n",
    "    sentence = re.sub(\"[^a-zA-Z]\", \" \", sentence) # 영어 외 문자(숫자, 특수문자 등) 공백으로 변환\n",
    "    sentence = re.sub('[m]{2,}', 'mm', sentence) # m이 3개 이상이면 2개로 변경. Ex) ummmmmmm yeah -> umm yeah\n",
    "    \n",
    "    # 불용어 제거 (Text)\n",
    "    if remove_stopwords:\n",
    "        tokens = ' '.join(word for word in sentence.split() if not word in stopwords.words('english') if len(word) > 1)\n",
    "    # 불용어 미제거 (Summary)\n",
    "    else:\n",
    "        tokens = ' '.join(word for word in sentence.split() if len(word) > 1)\n",
    "    return tokens"
   ]
  },
  {
   "cell_type": "code",
   "execution_count": 299,
   "metadata": {},
   "outputs": [
    {
     "data": {
      "text/plain": [
       "['sos unk unk said result december acquisition space co expects earnings per share dlrs per share cts company said pretax net rise nine mln dlrs six mln dlrs rental operation revenues mln dlrs mln dlrs said cash flow per share year three dlrs reuter',\n",
       " 'sos generale de banque sa lt unk unk lt heller overseas corp chicago taken pct stakes unk company sa unk factors generale de banque said statement gave financial details transaction sa unk unk turnover billion belgian francs reuter',\n",
       " 'sos shr dlrs vs cts shr diluted dlrs vs cts net mln vs avg shrs mln vs mln year shr dlrs vs dlrs shr diluted dlrs vs dlrs net mln vs mln avg shrs mln vs mln note earnings per share reflect two one split effective january per share amounts calculated preferred stock dividends loss continuing operations qtr includes gains sale investments unk corp mln dlrs associated companies less writedowns investments national unk inc mln unk corp mln reuter',\n",
       " 'sos farmers home administration agriculture department farm lending arm could lose seven billion dlrs outstanding principal severely unk borrowers one fourth farm loan portfolio general accounting office gao said remarks prepared delivery senate agriculture committee brian unk senior associate director gao also said preliminary analysis proposed changes unk financial unk standards indicated many one half unk borrowers received new loans agency would unk proposed system agency proposed unk unk credit using variety financial unk instead unk unk unk ability senate agriculture committee chairman unk unk unk unk proposed unk changes telling unk administrator unk clark hearing would mark dramatic shift unk purpose away unk unk last unk toward becoming big city bank clark unk new regulations saying agency responsibility unk billion dlr loan portfolio unk yet unk manner unk gao unk unk arm said proposed credit unk system attempted ensure unk would make loans borrowers reasonable change unk debt reuter',\n",
       " 'sos unk co said board received proposal chairman chief executive officer philip unk acquire unk dlrs per share cash unk said acquisition bid subject unk arranging necessary financing said intends ask members senior management participate company said unk owns pct unk stock management members another pct unk said formed independent board committee consider offer deferred annual meeting scheduled march reuter']"
      ]
     },
     "execution_count": 299,
     "metadata": {},
     "output_type": "execute_result"
    }
   ],
   "source": [
    "X_train_text = []\n",
    "\n",
    "# 전체 Text 데이터에 대한 전처리 : 10분 이상 시간이 걸릴 수 있습니다. \n",
    "for s in X_train:\n",
    "    X_train_text.append(preprocess_sentence(s))\n",
    "\n",
    "# 전처리 후 출력\n",
    "X_train_text[:5]"
   ]
  },
  {
   "cell_type": "code",
   "execution_count": 300,
   "metadata": {},
   "outputs": [
    {
     "data": {
      "text/plain": [
       "['sos great atlantic pacific tea co said three year mln dlr capital program substantially increased unk growth expansion plans unk inc unk inc next two years said acquisition unk august unk december helped us achieve better expected results fourth quarter ended february net income continuing operations jumped pct mln dlrs cts share latest quarter sales increased pct billion dlrs gave details expanded capital program say completed first year program pct owned lt unk unk west germany reuter',\n",
       " 'sos philippine sugar production crop year ending august set mln tonnes provisional mln tonnes year sugar regulatory administration unk chairman unk unk said unk told reuters survey current milling season ends next month showed estimate would almost certainly met said least mln tonnes crop would unk domestic consumption unk said tonnes would set aside sugar quota tonnes strategic reserves tonnes would sold world market said government approved long standing unk recommendation manufacture unk project would take another tonnes slightly raising target government reasons unk approval project expect come july unk said unk could make five pct gasoline cutting oil import bill mln pesos unk said three major philippine unk ready start manufacturing unk project approved unk project would result employment people sharply reducing unk work depressed world sugar prices unk domestic industry production quotas set first time submitted president unk unk think president would rather wait unk new congress unk may elections said really need quotas right producing slightly consumption level producers never unk high prices unk said adding sugar currently selling unk pesos per unk pesos last august unk said prices unk speculation following unk bid control production longer concerned much world market said adding producers unk region unk unk diversified corn unk unk unk production said unk products unk also possible within sugar industry unk long ago unk unk unk said sugar mills compared unk many diversified production want call unk unk instead sugar industry said unk could fed unk livestock used unk unk used room unk cut unk even produce sugar said unk said philippines unk renewal international sugar agreement expired major sugar producer urging write new agreement would unk world prices unk said agreement world prices always depressed particularly european community unk producers dumping sugar markets said current world prices holding steady cents per pound unk philippines production costs ranged cents pound price holds steady cents expect level rise cents pound end year said unk said economists forecast bullish sugar market world consumption unk production said sugar markets holding despite unk unk unk high unk corn unk happy reagan administration said since unk regular suppliers sugar restored quota system cut unk half without unk unk unk unk washington moves cut domestic support prices cents pound cents agriculture department last december unk month sugar import quota philippines short tons short tons unk said despite next year increased production target philippine mills expected shut least four mills working season said expect two three follow suit next season reuter',\n",
       " 'sos agriculture department widening louisiana gulf differentials affect county posted prices number two unk corn ten states usda official said unk iowa affected unk use gulf price corn illinois indiana unk unk missouri mississippi unk unk louisiana said unk unk deputy director commodity operations division usda usda last night unk grain industry effective immediately gulf differentials used price interior corn would widened unk scale basis four eight cts depending differential usda action taken lower unk high posted county prices corn caused high gulf prices following louisiana gulf situation month think going get back line nearby time unk said unk said usda probably narrow back gulf differentials gulf prices unk mark high unk much mark low said forecasting adjustments gulf prices fall unk said changes usda price system planned right unk make changes unk make changes often said reuter',\n",
       " 'sos unk unk oil gas partnership said completed sale interests two major oil gas fields lt energy assets international corp mln dlrs company said sold one half pct interest unk hill north unk fields two largest producing properties said used mln dlrs proceeds unk principal senior secured notes semi annual principal payments remaining mln dlrs notes satisfied december result said company said note agreements amended reflect easing financial unk increase interest pct pct december said unk exercise price warrants also reduced cts dlrs company said energy assets agreed share costs increasing production unk hill field reuter',\n",
       " 'sos strong south unk winds keeping many vessels unk ice unk swedish unk one worst unk periods baltic many years unk board navigation said unk sweden vessels reported unk ice even largest unk unk difficulties breaking unk ships unk officials said however unk conditions southern baltic soviet oil ports unk unk eased said weather officials unk sweden said unk conditions baltic worst years ships fighting losing battle keep moving coastal unk gulf unk unk unk sweden ice one unk unk unk unk unk almost unk unk three metres high swedish unk officials said weather forecasts say winds may ease weekend drop unk could bring shipping standstill officials said reuter']"
      ]
     },
     "execution_count": 300,
     "metadata": {},
     "output_type": "execute_result"
    }
   ],
   "source": [
    "X_test_text = []\n",
    "\n",
    "# 전체 Text 데이터에 대한 전처리 : 10분 이상 시간이 걸릴 수 있습니다. \n",
    "for s in X_test:\n",
    "    X_test_text.append(preprocess_sentence(s))\n",
    "\n",
    "# 전처리 후 출력\n",
    "X_test_text[:5]"
   ]
  },
  {
   "cell_type": "code",
   "execution_count": 301,
   "metadata": {},
   "outputs": [
    {
     "name": "stdout",
     "output_type": "stream",
     "text": [
      "훈련용 뉴스의 최대 길이 :5828\n",
      "훈련용 뉴스의 평균 길이 :548.8563794255177\n"
     ]
    }
   ],
   "source": [
    "print('훈련용 뉴스의 최대 길이 :{}'.format(max(len(l) for l in X_train_text)))\n",
    "print('훈련용 뉴스의 평균 길이 :{}'.format(sum(map(len, X_train_text))/len(X_train_text)))"
   ]
  },
  {
   "cell_type": "code",
   "execution_count": 302,
   "metadata": {},
   "outputs": [],
   "source": [
    "from tensorflow.keras.preprocessing.text import Tokenizer \n",
    "train_tokenizer = Tokenizer(num_words = 5000)\n",
    "train_tokenizer.fit_on_texts(X_train_text)"
   ]
  },
  {
   "cell_type": "code",
   "execution_count": 303,
   "metadata": {},
   "outputs": [
    {
     "data": {
      "text/plain": [
       "8982"
      ]
     },
     "execution_count": 303,
     "metadata": {},
     "output_type": "execute_result"
    }
   ],
   "source": [
    "X_train = train_tokenizer.texts_to_sequences(X_train_text)\n",
    "len(X_train)"
   ]
  },
  {
   "cell_type": "code",
   "execution_count": 304,
   "metadata": {},
   "outputs": [],
   "source": [
    "X_test = train_tokenizer.texts_to_sequences(X_test_text)"
   ]
  },
  {
   "cell_type": "code",
   "execution_count": 305,
   "metadata": {},
   "outputs": [],
   "source": [
    "X_train = pad_sequences(X_train, maxlen = 600, padding = 'pre')\n",
    "X_test = pad_sequences(X_test, maxlen = 600, padding = 'pre')"
   ]
  },
  {
   "cell_type": "code",
   "execution_count": 306,
   "metadata": {},
   "outputs": [
    {
     "data": {
      "text/plain": [
       "8982"
      ]
     },
     "execution_count": 306,
     "metadata": {},
     "output_type": "execute_result"
    }
   ],
   "source": [
    "y_train = to_categorical(y_train)\n",
    "y_test = to_categorical(y_test)\n",
    "len(y_train)"
   ]
  },
  {
   "cell_type": "code",
   "execution_count": 307,
   "metadata": {},
   "outputs": [
    {
     "name": "stdout",
     "output_type": "stream",
     "text": [
      "Model: \"sequential_32\"\n",
      "_________________________________________________________________\n",
      "Layer (type)                 Output Shape              Param #   \n",
      "=================================================================\n",
      "embedding_31 (Embedding)     (None, None, 120)         600000    \n",
      "_________________________________________________________________\n",
      "lstm_31 (LSTM)               (None, 120)               115680    \n",
      "_________________________________________________________________\n",
      "dense_28 (Dense)             (None, 46)                5566      \n",
      "=================================================================\n",
      "Total params: 721,246\n",
      "Trainable params: 721,246\n",
      "Non-trainable params: 0\n",
      "_________________________________________________________________\n"
     ]
    }
   ],
   "source": [
    "model = Sequential()\n",
    "model.add(Embedding(5000, 120))\n",
    "model.add(LSTM(120))\n",
    "model.add(Dense(46, activation='softmax'))\n",
    "model.summary()"
   ]
  },
  {
   "cell_type": "code",
   "execution_count": 308,
   "metadata": {},
   "outputs": [],
   "source": [
    "es = EarlyStopping(monitor = 'val_loss', mode = 'min', verbose = 1, patience = 4)\n",
    "mc = ModelCheckpoint('best_model.h5', monitor = 'val_acc', mode = 'max', verbose = 1, save_best_only = True)"
   ]
  },
  {
   "cell_type": "code",
   "execution_count": 309,
   "metadata": {},
   "outputs": [
    {
     "name": "stdout",
     "output_type": "stream",
     "text": [
      "Epoch 1/60\n",
      "70/71 [============================>.] - ETA: 0s - loss: 2.5818 - acc: 0.3700\n",
      "Epoch 00001: val_acc improved from -inf to 0.49955, saving model to best_model.h5\n",
      "71/71 [==============================] - 4s 63ms/step - loss: 2.5805 - acc: 0.3704 - val_loss: 2.0327 - val_acc: 0.4996\n",
      "Epoch 2/60\n",
      "70/71 [============================>.] - ETA: 0s - loss: 1.8527 - acc: 0.5225\n",
      "Epoch 00002: val_acc improved from 0.49955 to 0.58504, saving model to best_model.h5\n",
      "71/71 [==============================] - 4s 59ms/step - loss: 1.8513 - acc: 0.5229 - val_loss: 1.7646 - val_acc: 0.5850\n",
      "Epoch 3/60\n",
      "70/71 [============================>.] - ETA: 0s - loss: 1.6187 - acc: 0.5945\n",
      "Epoch 00003: val_acc improved from 0.58504 to 0.61710, saving model to best_model.h5\n",
      "71/71 [==============================] - 4s 60ms/step - loss: 1.6204 - acc: 0.5942 - val_loss: 1.5571 - val_acc: 0.6171\n",
      "Epoch 4/60\n",
      "70/71 [============================>.] - ETA: 0s - loss: 1.4189 - acc: 0.6490\n",
      "Epoch 00004: val_acc improved from 0.61710 to 0.64248, saving model to best_model.h5\n",
      "71/71 [==============================] - 4s 60ms/step - loss: 1.4189 - acc: 0.6490 - val_loss: 1.4512 - val_acc: 0.6425\n",
      "Epoch 5/60\n",
      "70/71 [============================>.] - ETA: 0s - loss: 1.2614 - acc: 0.6829\n",
      "Epoch 00005: val_acc improved from 0.64248 to 0.64337, saving model to best_model.h5\n",
      "71/71 [==============================] - 4s 60ms/step - loss: 1.2609 - acc: 0.6829 - val_loss: 1.4133 - val_acc: 0.6434\n",
      "Epoch 6/60\n",
      "70/71 [============================>.] - ETA: 0s - loss: 1.1213 - acc: 0.7169\n",
      "Epoch 00006: val_acc improved from 0.64337 to 0.67097, saving model to best_model.h5\n",
      "71/71 [==============================] - 4s 59ms/step - loss: 1.1222 - acc: 0.7165 - val_loss: 1.2957 - val_acc: 0.6710\n",
      "Epoch 7/60\n",
      "70/71 [============================>.] - ETA: 0s - loss: 1.0664 - acc: 0.7238\n",
      "Epoch 00007: val_acc improved from 0.67097 to 0.67988, saving model to best_model.h5\n",
      "71/71 [==============================] - 4s 61ms/step - loss: 1.0649 - acc: 0.7241 - val_loss: 1.2696 - val_acc: 0.6799\n",
      "Epoch 8/60\n",
      "70/71 [============================>.] - ETA: 0s - loss: 0.9590 - acc: 0.7578\n",
      "Epoch 00008: val_acc improved from 0.67988 to 0.68833, saving model to best_model.h5\n",
      "71/71 [==============================] - 4s 59ms/step - loss: 0.9594 - acc: 0.7577 - val_loss: 1.2811 - val_acc: 0.6883\n",
      "Epoch 9/60\n",
      "70/71 [============================>.] - ETA: 0s - loss: 0.8872 - acc: 0.7748\n",
      "Epoch 00009: val_acc improved from 0.68833 to 0.69768, saving model to best_model.h5\n",
      "71/71 [==============================] - 4s 59ms/step - loss: 0.8862 - acc: 0.7750 - val_loss: 1.2337 - val_acc: 0.6977\n",
      "Epoch 10/60\n",
      "70/71 [============================>.] - ETA: 0s - loss: 0.8188 - acc: 0.7897\n",
      "Epoch 00010: val_acc improved from 0.69768 to 0.72395, saving model to best_model.h5\n",
      "71/71 [==============================] - 4s 59ms/step - loss: 0.8184 - acc: 0.7898 - val_loss: 1.1848 - val_acc: 0.7240\n",
      "Epoch 11/60\n",
      "70/71 [============================>.] - ETA: 0s - loss: 0.7159 - acc: 0.8181\n",
      "Epoch 00011: val_acc improved from 0.72395 to 0.73197, saving model to best_model.h5\n",
      "71/71 [==============================] - 4s 59ms/step - loss: 0.7166 - acc: 0.8177 - val_loss: 1.1740 - val_acc: 0.7320\n",
      "Epoch 12/60\n",
      "70/71 [============================>.] - ETA: 0s - loss: 0.7225 - acc: 0.8194\n",
      "Epoch 00012: val_acc did not improve from 0.73197\n",
      "71/71 [==============================] - 4s 59ms/step - loss: 0.7219 - acc: 0.8195 - val_loss: 1.2373 - val_acc: 0.7061\n",
      "Epoch 13/60\n",
      "70/71 [============================>.] - ETA: 0s - loss: 0.6327 - acc: 0.8460\n",
      "Epoch 00013: val_acc did not improve from 0.73197\n",
      "71/71 [==============================] - 4s 59ms/step - loss: 0.6327 - acc: 0.8460 - val_loss: 1.1913 - val_acc: 0.7248\n",
      "Epoch 14/60\n",
      "70/71 [============================>.] - ETA: 0s - loss: 0.5433 - acc: 0.8675\n",
      "Epoch 00014: val_acc did not improve from 0.73197\n",
      "71/71 [==============================] - 4s 58ms/step - loss: 0.5431 - acc: 0.8675 - val_loss: 1.2082 - val_acc: 0.7320\n",
      "Epoch 15/60\n",
      "70/71 [============================>.] - ETA: 0s - loss: 0.4902 - acc: 0.8813\n",
      "Epoch 00015: val_acc did not improve from 0.73197\n",
      "71/71 [==============================] - 4s 59ms/step - loss: 0.4898 - acc: 0.8814 - val_loss: 1.1981 - val_acc: 0.7311\n",
      "Epoch 00015: early stopping\n"
     ]
    }
   ],
   "source": [
    "model.compile(loss = 'categorical_crossentropy', optimizer = 'adam', metrics = ['acc'])\n",
    "history = model.fit(X_train, y_train, batch_size=128, epochs=60, callbacks=[es, mc], validation_data=(X_test, y_test))"
   ]
  },
  {
   "cell_type": "code",
   "execution_count": 310,
   "metadata": {},
   "outputs": [
    {
     "name": "stdout",
     "output_type": "stream",
     "text": [
      "71/71 [==============================] - 1s 12ms/step - loss: 1.1740 - acc: 0.7320\n",
      "\n",
      " 테스트 정확도: 0.7320\n"
     ]
    }
   ],
   "source": [
    "loaded_model = load_model('best_model.h5')\n",
    "print(\"\\n 테스트 정확도: %.4f\" % (loaded_model.evaluate(X_test, y_test)[1]))"
   ]
  },
  {
   "cell_type": "markdown",
   "metadata": {},
   "source": [
    "앞선 실험이 데이터가 불용어나 전처리과정을 거치치 않아 문제가 생겼다고 판단해서 전처리 이후 딥러닝 모델에 넣었다.    \n",
    "정확도는 앞선 실험보다 좋게 나타났지만 다른 머신러닝 알고리즘보다 성능이 낮다는 것을 알 수 있다.    \n",
    "word2vec나 다른 pre-trained 모델을 사용하면 성능은 더 향상되는건 틀림없지만 같은 실험조건에서 볼때 딥러닝이 머신러닝보다 성능이 낮다는 건 처음 알았다.    \n",
    "이번 노드를 통해 모든 경우에서 딥러닝이 머신러닝보다 낫다고 이야기할 수 없다는 것을 느겼다."
   ]
  },
  {
   "cell_type": "code",
   "execution_count": null,
   "metadata": {},
   "outputs": [],
   "source": []
  }
 ],
 "metadata": {
  "kernelspec": {
   "display_name": "aiffel",
   "language": "python",
   "name": "aiffel"
  },
  "language_info": {
   "codemirror_mode": {
    "name": "ipython",
    "version": 3
   },
   "file_extension": ".py",
   "mimetype": "text/x-python",
   "name": "python",
   "nbconvert_exporter": "python",
   "pygments_lexer": "ipython3",
   "version": "3.7.6"
  }
 },
 "nbformat": 4,
 "nbformat_minor": 4
}
