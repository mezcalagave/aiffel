{
 "cells": [
  {
   "cell_type": "markdown",
   "metadata": {},
   "source": [
    "# 1차 프로젝트 당뇨병 데이터를 이용한 선형회귀"
   ]
  },
  {
   "cell_type": "code",
   "execution_count": 43,
   "metadata": {},
   "outputs": [],
   "source": [
    "from sklearn.datasets import load_diabetes\n",
    "from sklearn.model_selection import train_test_split\n",
    "import matplotlib.pyplot as plt\n",
    "import numpy as np\n",
    "import pandas as pd"
   ]
  },
  {
   "cell_type": "code",
   "execution_count": 44,
   "metadata": {},
   "outputs": [],
   "source": [
    "diabetes = load_diabetes()"
   ]
  },
  {
   "cell_type": "code",
   "execution_count": 46,
   "metadata": {},
   "outputs": [],
   "source": [
    "df_X = diabetes.data\n",
    "df_y = diabetes.target"
   ]
  },
  {
   "cell_type": "code",
   "execution_count": 47,
   "metadata": {},
   "outputs": [
    {
     "data": {
      "text/plain": [
       "numpy.ndarray"
      ]
     },
     "execution_count": 47,
     "metadata": {},
     "output_type": "execute_result"
    }
   ],
   "source": [
    "df_X = np.array(df_X)\n",
    "df_y = np.array(df_y)\n",
    "type(df_X)"
   ]
  },
  {
   "cell_type": "code",
   "execution_count": 48,
   "metadata": {},
   "outputs": [
    {
     "data": {
      "text/plain": [
       "numpy.ndarray"
      ]
     },
     "execution_count": 48,
     "metadata": {},
     "output_type": "execute_result"
    }
   ],
   "source": [
    "X_train, X_test, y_train, y_test = train_test_split(df_X, df_y, test_size = 0.2, random_state = 42)\n",
    "type(X_train)"
   ]
  },
  {
   "cell_type": "code",
   "execution_count": 49,
   "metadata": {},
   "outputs": [
    {
     "data": {
      "text/plain": [
       "numpy.ndarray"
      ]
     },
     "execution_count": 49,
     "metadata": {},
     "output_type": "execute_result"
    }
   ],
   "source": [
    "W1 = np.random.randn(10)\n",
    "W2 = np.random.randn(10)\n",
    "W3 = np.random.randn(10)\n",
    "b1 = np.random.rand()\n",
    "b2 = np.random.rand()\n",
    "b3 = np.random.rand()\n",
    "type(W)"
   ]
  },
  {
   "cell_type": "code",
   "execution_count": 50,
   "metadata": {},
   "outputs": [],
   "source": [
    "def model(X, W, b):\n",
    "    predictions = 0\n",
    "    for i in range(10):\n",
    "        predictions += X[:,i]*W[i]\n",
    "    predictions +=b\n",
    "    return predictions"
   ]
  },
  {
   "cell_type": "code",
   "execution_count": 51,
   "metadata": {},
   "outputs": [],
   "source": [
    "def MSE(a,b):\n",
    "    mse = ((b-a)**2).mean()\n",
    "    return mse"
   ]
  },
  {
   "cell_type": "code",
   "execution_count": 52,
   "metadata": {},
   "outputs": [],
   "source": [
    "def loss(X, W, b, y):\n",
    "    predictions = model(X, W, b)\n",
    "    L = MSE(predictions, y)\n",
    "    return L"
   ]
  },
  {
   "cell_type": "code",
   "execution_count": 53,
   "metadata": {},
   "outputs": [],
   "source": [
    "def gradient(X, W, b, y):\n",
    "    N = len(W)\n",
    "    y_pred = model(X, W, b)\n",
    "    dW = 1/N * 2 * X.T.dot(y_pred - y)\n",
    "    db = 2 * (y_pred - y).mean()\n",
    "    return dW, db"
   ]
  },
  {
   "cell_type": "code",
   "execution_count": 54,
   "metadata": {},
   "outputs": [
    {
     "name": "stdout",
     "output_type": "stream",
     "text": [
      "dW: [ 102.0881425    12.9578708   303.91601807  232.28995248  109.99394912\n",
      "   86.5554918  -196.94711109  223.81329847  283.75205263  213.32367462]\n",
      "db: 9.180712758928612\n"
     ]
    }
   ],
   "source": [
    "dW, db = gradient(X_train, W, y_train, b)\n",
    "print('dW:', dW)\n",
    "print('db:', db)"
   ]
  },
  {
   "cell_type": "code",
   "execution_count": 55,
   "metadata": {},
   "outputs": [],
   "source": [
    "lr1 = 0.0001\n",
    "lr2 = 0.001\n",
    "lr3 = 0.01"
   ]
  },
  {
   "cell_type": "code",
   "execution_count": 56,
   "metadata": {},
   "outputs": [
    {
     "name": "stdout",
     "output_type": "stream",
     "text": [
      "Iteration 10 : Loss 28879.3302\n",
      "Iteration 20 : Loss 28783.6840\n",
      "Iteration 30 : Loss 28688.4141\n",
      "Iteration 40 : Loss 28593.5191\n",
      "Iteration 50 : Loss 28498.9975\n",
      "Iteration 60 : Loss 28404.8478\n",
      "Iteration 70 : Loss 28311.0684\n",
      "Iteration 80 : Loss 28217.6580\n",
      "Iteration 90 : Loss 28124.6151\n",
      "Iteration 100 : Loss 28031.9381\n",
      "Iteration 110 : Loss 27939.6257\n",
      "Iteration 120 : Loss 27847.6764\n",
      "Iteration 130 : Loss 27756.0887\n",
      "Iteration 140 : Loss 27664.8613\n",
      "Iteration 150 : Loss 27573.9925\n",
      "Iteration 160 : Loss 27483.4812\n",
      "Iteration 170 : Loss 27393.3257\n",
      "Iteration 180 : Loss 27303.5247\n",
      "Iteration 190 : Loss 27214.0768\n",
      "Iteration 200 : Loss 27124.9805\n",
      "Iteration 210 : Loss 27036.2346\n",
      "Iteration 220 : Loss 26947.8375\n",
      "Iteration 230 : Loss 26859.7879\n",
      "Iteration 240 : Loss 26772.0844\n",
      "Iteration 250 : Loss 26684.7256\n",
      "Iteration 260 : Loss 26597.7101\n",
      "Iteration 270 : Loss 26511.0367\n",
      "Iteration 280 : Loss 26424.7038\n",
      "Iteration 290 : Loss 26338.7103\n",
      "Iteration 300 : Loss 26253.0546\n",
      "Iteration 310 : Loss 26167.7355\n",
      "Iteration 320 : Loss 26082.7516\n",
      "Iteration 330 : Loss 25998.1016\n",
      "Iteration 340 : Loss 25913.7842\n",
      "Iteration 350 : Loss 25829.7980\n",
      "Iteration 360 : Loss 25746.1417\n",
      "Iteration 370 : Loss 25662.8140\n",
      "Iteration 380 : Loss 25579.8136\n",
      "Iteration 390 : Loss 25497.1391\n",
      "Iteration 400 : Loss 25414.7894\n",
      "Iteration 410 : Loss 25332.7631\n",
      "Iteration 420 : Loss 25251.0588\n",
      "Iteration 430 : Loss 25169.6754\n",
      "Iteration 440 : Loss 25088.6115\n",
      "Iteration 450 : Loss 25007.8659\n",
      "Iteration 460 : Loss 24927.4373\n",
      "Iteration 470 : Loss 24847.3245\n",
      "Iteration 480 : Loss 24767.5261\n",
      "Iteration 490 : Loss 24688.0410\n",
      "Iteration 500 : Loss 24608.8678\n",
      "Iteration 510 : Loss 24530.0054\n",
      "Iteration 520 : Loss 24451.4525\n",
      "Iteration 530 : Loss 24373.2079\n",
      "Iteration 540 : Loss 24295.2703\n",
      "Iteration 550 : Loss 24217.6385\n",
      "Iteration 560 : Loss 24140.3113\n",
      "Iteration 570 : Loss 24063.2875\n",
      "Iteration 580 : Loss 23986.5659\n",
      "Iteration 590 : Loss 23910.1453\n",
      "Iteration 600 : Loss 23834.0245\n",
      "Iteration 610 : Loss 23758.2022\n",
      "Iteration 620 : Loss 23682.6773\n",
      "Iteration 630 : Loss 23607.4487\n",
      "Iteration 640 : Loss 23532.5150\n",
      "Iteration 650 : Loss 23457.8753\n",
      "Iteration 660 : Loss 23383.5282\n",
      "Iteration 670 : Loss 23309.4726\n",
      "Iteration 680 : Loss 23235.7074\n",
      "Iteration 690 : Loss 23162.2314\n",
      "Iteration 700 : Loss 23089.0435\n",
      "Iteration 710 : Loss 23016.1425\n",
      "Iteration 720 : Loss 22943.5272\n",
      "Iteration 730 : Loss 22871.1965\n",
      "Iteration 740 : Loss 22799.1494\n",
      "Iteration 750 : Loss 22727.3846\n",
      "Iteration 760 : Loss 22655.9011\n",
      "Iteration 770 : Loss 22584.6976\n",
      "Iteration 780 : Loss 22513.7732\n",
      "Iteration 790 : Loss 22443.1267\n",
      "Iteration 800 : Loss 22372.7569\n",
      "Iteration 810 : Loss 22302.6629\n",
      "Iteration 820 : Loss 22232.8434\n",
      "Iteration 830 : Loss 22163.2974\n",
      "Iteration 840 : Loss 22094.0238\n",
      "Iteration 850 : Loss 22025.0216\n",
      "Iteration 860 : Loss 21956.2896\n",
      "Iteration 870 : Loss 21887.8267\n",
      "Iteration 880 : Loss 21819.6320\n",
      "Iteration 890 : Loss 21751.7042\n",
      "Iteration 900 : Loss 21684.0425\n",
      "Iteration 910 : Loss 21616.6456\n",
      "Iteration 920 : Loss 21549.5126\n",
      "Iteration 930 : Loss 21482.6424\n",
      "Iteration 940 : Loss 21416.0340\n",
      "Iteration 950 : Loss 21349.6862\n",
      "Iteration 960 : Loss 21283.5981\n",
      "Iteration 970 : Loss 21217.7687\n",
      "Iteration 980 : Loss 21152.1969\n",
      "Iteration 990 : Loss 21086.8817\n",
      "Iteration 1000 : Loss 21021.8220\n"
     ]
    }
   ],
   "source": [
    "losses = []\n",
    "\n",
    "for i in range(1, 1001):\n",
    "    dW, db = gradient(X_train, W1, b1, y_train)\n",
    "    W1 -= lr1 * dW\n",
    "    b1 -= lr1 * db\n",
    "    L = loss(df_X, W1, b1, df_y)\n",
    "    losses.append(L)\n",
    "    if i % 10 == 0:\n",
    "        print('Iteration %d : Loss %0.4f' % (i, L))"
   ]
  },
  {
   "cell_type": "code",
   "execution_count": 57,
   "metadata": {},
   "outputs": [
    {
     "name": "stdout",
     "output_type": "stream",
     "text": [
      "Iteration 10 : Loss 28060.5925\n",
      "Iteration 20 : Loss 27151.3785\n",
      "Iteration 30 : Loss 26277.3185\n",
      "Iteration 40 : Loss 25437.0356\n",
      "Iteration 50 : Loss 24629.2069\n",
      "Iteration 60 : Loss 23852.5615\n",
      "Iteration 70 : Loss 23105.8782\n",
      "Iteration 80 : Loss 22387.9842\n",
      "Iteration 90 : Loss 21697.7524\n",
      "Iteration 100 : Loss 21034.1001\n",
      "Iteration 110 : Loss 20395.9871\n",
      "Iteration 120 : Loss 19782.4142\n",
      "Iteration 130 : Loss 19192.4211\n",
      "Iteration 140 : Loss 18625.0856\n",
      "Iteration 150 : Loss 18079.5215\n",
      "Iteration 160 : Loss 17554.8774\n",
      "Iteration 170 : Loss 17050.3354\n",
      "Iteration 180 : Loss 16565.1097\n",
      "Iteration 190 : Loss 16098.4454\n",
      "Iteration 200 : Loss 15649.6171\n",
      "Iteration 210 : Loss 15217.9280\n",
      "Iteration 220 : Loss 14802.7086\n",
      "Iteration 230 : Loss 14403.3158\n",
      "Iteration 240 : Loss 14019.1317\n",
      "Iteration 250 : Loss 13649.5624\n",
      "Iteration 260 : Loss 13294.0378\n",
      "Iteration 270 : Loss 12952.0097\n",
      "Iteration 280 : Loss 12622.9517\n",
      "Iteration 290 : Loss 12306.3581\n",
      "Iteration 300 : Loss 12001.7427\n",
      "Iteration 310 : Loss 11708.6389\n",
      "Iteration 320 : Loss 11426.5979\n",
      "Iteration 330 : Loss 11155.1888\n",
      "Iteration 340 : Loss 10893.9976\n",
      "Iteration 350 : Loss 10642.6264\n",
      "Iteration 360 : Loss 10400.6931\n",
      "Iteration 370 : Loss 10167.8305\n",
      "Iteration 380 : Loss 9943.6857\n",
      "Iteration 390 : Loss 9727.9198\n",
      "Iteration 400 : Loss 9520.2071\n",
      "Iteration 410 : Loss 9320.2347\n",
      "Iteration 420 : Loss 9127.7020\n",
      "Iteration 430 : Loss 8942.3202\n",
      "Iteration 440 : Loss 8763.8117\n",
      "Iteration 450 : Loss 8591.9099\n",
      "Iteration 460 : Loss 8426.3586\n",
      "Iteration 470 : Loss 8266.9117\n",
      "Iteration 480 : Loss 8113.3326\n",
      "Iteration 490 : Loss 7965.3943\n",
      "Iteration 500 : Loss 7822.8782\n",
      "Iteration 510 : Loss 7685.5748\n",
      "Iteration 520 : Loss 7553.2824\n",
      "Iteration 530 : Loss 7425.8073\n",
      "Iteration 540 : Loss 7302.9635\n",
      "Iteration 550 : Loss 7184.5723\n",
      "Iteration 560 : Loss 7070.4617\n",
      "Iteration 570 : Loss 6960.4668\n",
      "Iteration 580 : Loss 6854.4291\n",
      "Iteration 590 : Loss 6752.1959\n",
      "Iteration 600 : Loss 6653.6211\n",
      "Iteration 610 : Loss 6558.5638\n",
      "Iteration 620 : Loss 6466.8889\n",
      "Iteration 630 : Loss 6378.4664\n",
      "Iteration 640 : Loss 6293.1716\n",
      "Iteration 650 : Loss 6210.8844\n",
      "Iteration 660 : Loss 6131.4898\n",
      "Iteration 670 : Loss 6054.8767\n",
      "Iteration 680 : Loss 5980.9390\n",
      "Iteration 690 : Loss 5909.5743\n",
      "Iteration 700 : Loss 5840.6843\n",
      "Iteration 710 : Loss 5774.1746\n",
      "Iteration 720 : Loss 5709.9544\n",
      "Iteration 730 : Loss 5647.9366\n",
      "Iteration 740 : Loss 5588.0373\n",
      "Iteration 750 : Loss 5530.1761\n",
      "Iteration 760 : Loss 5474.2755\n",
      "Iteration 770 : Loss 5420.2612\n",
      "Iteration 780 : Loss 5368.0616\n",
      "Iteration 790 : Loss 5317.6082\n",
      "Iteration 800 : Loss 5268.8348\n",
      "Iteration 810 : Loss 5221.6781\n",
      "Iteration 820 : Loss 5176.0770\n",
      "Iteration 830 : Loss 5131.9731\n",
      "Iteration 840 : Loss 5089.3099\n",
      "Iteration 850 : Loss 5048.0334\n",
      "Iteration 860 : Loss 5008.0915\n",
      "Iteration 870 : Loss 4969.4342\n",
      "Iteration 880 : Loss 4932.0135\n",
      "Iteration 890 : Loss 4895.7832\n",
      "Iteration 900 : Loss 4860.6988\n",
      "Iteration 910 : Loss 4826.7178\n",
      "Iteration 920 : Loss 4793.7991\n",
      "Iteration 930 : Loss 4761.9033\n",
      "Iteration 940 : Loss 4730.9924\n",
      "Iteration 950 : Loss 4701.0301\n",
      "Iteration 960 : Loss 4671.9813\n",
      "Iteration 970 : Loss 4643.8124\n",
      "Iteration 980 : Loss 4616.4909\n",
      "Iteration 990 : Loss 4589.9859\n",
      "Iteration 1000 : Loss 4564.2674\n"
     ]
    }
   ],
   "source": [
    "losses2 = []\n",
    "\n",
    "for i in range(1, 1001):\n",
    "    dW, db = gradient(X_train, W2, b2, y_train)\n",
    "    W2 -= lr2 * dW\n",
    "    b2 -= lr2 * db\n",
    "    L = loss(df_X, W2, b2, df_y)\n",
    "    losses2.append(L)\n",
    "    if i % 10 == 0:\n",
    "        print('Iteration %d : Loss %0.4f' % (i, L))"
   ]
  },
  {
   "cell_type": "code",
   "execution_count": 58,
   "metadata": {},
   "outputs": [
    {
     "name": "stdout",
     "output_type": "stream",
     "text": [
      "Iteration 10 : Loss 20980.5876\n",
      "Iteration 20 : Loss 15576.1012\n",
      "Iteration 30 : Loss 11927.5410\n",
      "Iteration 40 : Loss 9454.0024\n",
      "Iteration 50 : Loss 7767.6523\n",
      "Iteration 60 : Loss 6609.4846\n",
      "Iteration 70 : Loss 5806.4565\n",
      "Iteration 80 : Loss 5242.8911\n",
      "Iteration 90 : Loss 4841.3971\n",
      "Iteration 100 : Loss 4550.1401\n",
      "Iteration 110 : Loss 4334.3506\n",
      "Iteration 120 : Loss 4170.6577\n",
      "Iteration 130 : Loss 4043.3092\n",
      "Iteration 140 : Loss 3941.6488\n",
      "Iteration 150 : Loss 3858.4330\n",
      "Iteration 160 : Loss 3788.7072\n",
      "Iteration 170 : Loss 3729.0546\n",
      "Iteration 180 : Loss 3677.0958\n",
      "Iteration 190 : Loss 3631.1522\n",
      "Iteration 200 : Loss 3590.0224\n",
      "Iteration 210 : Loss 3552.8311\n",
      "Iteration 220 : Loss 3518.9281\n",
      "Iteration 230 : Loss 3487.8199\n",
      "Iteration 240 : Loss 3459.1239\n",
      "Iteration 250 : Loss 3432.5365\n",
      "Iteration 260 : Loss 3407.8123\n",
      "Iteration 270 : Loss 3384.7486\n",
      "Iteration 280 : Loss 3363.1752\n",
      "Iteration 290 : Loss 3342.9474\n",
      "Iteration 300 : Loss 3323.9405\n",
      "Iteration 310 : Loss 3306.0457\n",
      "Iteration 320 : Loss 3289.1679\n",
      "Iteration 330 : Loss 3273.2227\n",
      "Iteration 340 : Loss 3258.1355\n",
      "Iteration 350 : Loss 3243.8394\n",
      "Iteration 360 : Loss 3230.2748\n",
      "Iteration 370 : Loss 3217.3879\n",
      "Iteration 380 : Loss 3205.1303\n",
      "Iteration 390 : Loss 3193.4584\n",
      "Iteration 400 : Loss 3182.3327\n",
      "Iteration 410 : Loss 3171.7172\n",
      "Iteration 420 : Loss 3161.5793\n",
      "Iteration 430 : Loss 3151.8893\n",
      "Iteration 440 : Loss 3142.6200\n",
      "Iteration 450 : Loss 3133.7466\n",
      "Iteration 460 : Loss 3125.2462\n",
      "Iteration 470 : Loss 3117.0981\n",
      "Iteration 480 : Loss 3109.2828\n",
      "Iteration 490 : Loss 3101.7827\n",
      "Iteration 500 : Loss 3094.5813\n",
      "Iteration 510 : Loss 3087.6633\n",
      "Iteration 520 : Loss 3081.0147\n",
      "Iteration 530 : Loss 3074.6223\n",
      "Iteration 540 : Loss 3068.4739\n",
      "Iteration 550 : Loss 3062.5580\n",
      "Iteration 560 : Loss 3056.8641\n",
      "Iteration 570 : Loss 3051.3819\n",
      "Iteration 580 : Loss 3046.1022\n",
      "Iteration 590 : Loss 3041.0162\n",
      "Iteration 600 : Loss 3036.1154\n",
      "Iteration 610 : Loss 3031.3921\n",
      "Iteration 620 : Loss 3026.8388\n",
      "Iteration 630 : Loss 3022.4487\n",
      "Iteration 640 : Loss 3018.2149\n",
      "Iteration 650 : Loss 3014.1312\n",
      "Iteration 660 : Loss 3010.1917\n",
      "Iteration 670 : Loss 3006.3906\n",
      "Iteration 680 : Loss 3002.7227\n",
      "Iteration 690 : Loss 2999.1826\n",
      "Iteration 700 : Loss 2995.7656\n",
      "Iteration 710 : Loss 2992.4669\n",
      "Iteration 720 : Loss 2989.2821\n",
      "Iteration 730 : Loss 2986.2069\n",
      "Iteration 740 : Loss 2983.2372\n",
      "Iteration 750 : Loss 2980.3691\n",
      "Iteration 760 : Loss 2977.5989\n",
      "Iteration 770 : Loss 2974.9230\n",
      "Iteration 780 : Loss 2972.3380\n",
      "Iteration 790 : Loss 2969.8405\n",
      "Iteration 800 : Loss 2967.4274\n",
      "Iteration 810 : Loss 2965.0957\n",
      "Iteration 820 : Loss 2962.8425\n",
      "Iteration 830 : Loss 2960.6649\n",
      "Iteration 840 : Loss 2958.5602\n",
      "Iteration 850 : Loss 2956.5260\n",
      "Iteration 860 : Loss 2954.5596\n",
      "Iteration 870 : Loss 2952.6587\n",
      "Iteration 880 : Loss 2950.8211\n",
      "Iteration 890 : Loss 2949.0444\n",
      "Iteration 900 : Loss 2947.3265\n",
      "Iteration 910 : Loss 2945.6655\n",
      "Iteration 920 : Loss 2944.0593\n",
      "Iteration 930 : Loss 2942.5061\n",
      "Iteration 940 : Loss 2941.0039\n",
      "Iteration 950 : Loss 2939.5511\n",
      "Iteration 960 : Loss 2938.1459\n",
      "Iteration 970 : Loss 2936.7867\n",
      "Iteration 980 : Loss 2935.4719\n",
      "Iteration 990 : Loss 2934.2000\n",
      "Iteration 1000 : Loss 2932.9696\n"
     ]
    }
   ],
   "source": [
    "losses3 = []\n",
    "\n",
    "for i in range(1, 1001):\n",
    "    dW, db = gradient(X_train, W3, b3, y_train)\n",
    "    W3 -= lr3 * dW\n",
    "    b3 -= lr3 * db\n",
    "    L = loss(df_X, W3, b3, df_y)\n",
    "    losses3.append(L)\n",
    "    if i % 10 == 0:\n",
    "        print('Iteration %d : Loss %0.4f' % (i, L))"
   ]
  },
  {
   "cell_type": "code",
   "execution_count": 59,
   "metadata": {},
   "outputs": [
    {
     "data": {
      "text/plain": [
       "[<matplotlib.lines.Line2D at 0x7ff6d44a67d0>]"
      ]
     },
     "execution_count": 59,
     "metadata": {},
     "output_type": "execute_result"
    },
    {
     "data": {
      "image/png": "[encoded data removed]",
      "text/plain": [
       "<Figure size 432x288 with 1 Axes>"
      ]
     },
     "metadata": {
      "needs_background": "light"
     },
     "output_type": "display_data"
    }
   ],
   "source": [
    "plt.plot(losses3)"
   ]
  },
  {
   "cell_type": "code",
   "execution_count": 60,
   "metadata": {},
   "outputs": [
    {
     "data": {
      "text/plain": [
       "(array([  45.97719896, -181.02926153,  483.70490785,  312.55650471,\n",
       "         -58.26385179, -106.9345046 , -212.14735851,  144.33993117,\n",
       "         358.91892971,  128.48408754]),\n",
       " 151.44948814717796)"
      ]
     },
     "execution_count": 60,
     "metadata": {},
     "output_type": "execute_result"
    }
   ],
   "source": [
    "W,b"
   ]
  },
  {
   "cell_type": "code",
   "execution_count": 61,
   "metadata": {},
   "outputs": [
    {
     "data": {
      "text/plain": [
       "2865.974315205513"
      ]
     },
     "execution_count": 61,
     "metadata": {},
     "output_type": "execute_result"
    }
   ],
   "source": [
    "predictions = model(X_test, W, b)\n",
    "mse = loss(X_test, W, b, y_test)\n",
    "mse"
   ]
  },
  {
   "cell_type": "code",
   "execution_count": 62,
   "metadata": {},
   "outputs": [
    {
     "data": {
      "image/png": "[encoded data removed]",
      "text/plain": [
       "<Figure size 432x288 with 1 Axes>"
      ]
     },
     "metadata": {
      "needs_background": "light"
     },
     "output_type": "display_data"
    }
   ],
   "source": [
    "plt.scatter(X_test[:, 0], y_test)\n",
    "plt.scatter(X_test[:, 0], predictions)\n",
    "plt.show()"
   ]
  },
  {
   "cell_type": "markdown",
   "metadata": {},
   "source": [
    "### 이 데이터 같은 경우 learning rate를 0.01까지 올려 진행했다. 직접 수동으로 작업하다보니 mse값도 커지게 된것 같다."
   ]
  },
  {
   "cell_type": "markdown",
   "metadata": {},
   "source": [
    "---"
   ]
  },
  {
   "cell_type": "markdown",
   "metadata": {},
   "source": [
    "# 2차 프로젝트 : bike-sharing-demand 데이터를 이용한 선형회귀"
   ]
  },
  {
   "cell_type": "code",
   "execution_count": 96,
   "metadata": {},
   "outputs": [
    {
     "name": "stdout",
     "output_type": "stream",
     "text": [
      "(10886, 12)\n"
     ]
    }
   ],
   "source": [
    "bike = pd.read_csv('~/aiffel/bike_regression/data/train.csv')\n",
    "print(bike.shape)"
   ]
  },
  {
   "cell_type": "code",
   "execution_count": 97,
   "metadata": {},
   "outputs": [
    {
     "data": {
      "text/html": [
       "<div>\n",
       "<style scoped>\n",
       "    .dataframe tbody tr th:only-of-type {\n",
       "        vertical-align: middle;\n",
       "    }\n",
       "\n",
       "    .dataframe tbody tr th {\n",
       "        vertical-align: top;\n",
       "    }\n",
       "\n",
       "    .dataframe thead th {\n",
       "        text-align: right;\n",
       "    }\n",
       "</style>\n",
       "<table border=\"1\" class=\"dataframe\">\n",
       "  <thead>\n",
       "    <tr style=\"text-align: right;\">\n",
       "      <th></th>\n",
       "      <th>datetime</th>\n",
       "      <th>season</th>\n",
       "      <th>holiday</th>\n",
       "      <th>workingday</th>\n",
       "      <th>weather</th>\n",
       "      <th>temp</th>\n",
       "      <th>atemp</th>\n",
       "      <th>humidity</th>\n",
       "      <th>windspeed</th>\n",
       "      <th>casual</th>\n",
       "      <th>registered</th>\n",
       "      <th>count</th>\n",
       "    </tr>\n",
       "  </thead>\n",
       "  <tbody>\n",
       "    <tr>\n",
       "      <th>0</th>\n",
       "      <td>2011-01-01 00:00:00</td>\n",
       "      <td>1</td>\n",
       "      <td>0</td>\n",
       "      <td>0</td>\n",
       "      <td>1</td>\n",
       "      <td>9.84</td>\n",
       "      <td>14.395</td>\n",
       "      <td>81</td>\n",
       "      <td>0.0</td>\n",
       "      <td>3</td>\n",
       "      <td>13</td>\n",
       "      <td>16</td>\n",
       "    </tr>\n",
       "    <tr>\n",
       "      <th>1</th>\n",
       "      <td>2011-01-01 01:00:00</td>\n",
       "      <td>1</td>\n",
       "      <td>0</td>\n",
       "      <td>0</td>\n",
       "      <td>1</td>\n",
       "      <td>9.02</td>\n",
       "      <td>13.635</td>\n",
       "      <td>80</td>\n",
       "      <td>0.0</td>\n",
       "      <td>8</td>\n",
       "      <td>32</td>\n",
       "      <td>40</td>\n",
       "    </tr>\n",
       "    <tr>\n",
       "      <th>2</th>\n",
       "      <td>2011-01-01 02:00:00</td>\n",
       "      <td>1</td>\n",
       "      <td>0</td>\n",
       "      <td>0</td>\n",
       "      <td>1</td>\n",
       "      <td>9.02</td>\n",
       "      <td>13.635</td>\n",
       "      <td>80</td>\n",
       "      <td>0.0</td>\n",
       "      <td>5</td>\n",
       "      <td>27</td>\n",
       "      <td>32</td>\n",
       "    </tr>\n",
       "    <tr>\n",
       "      <th>3</th>\n",
       "      <td>2011-01-01 03:00:00</td>\n",
       "      <td>1</td>\n",
       "      <td>0</td>\n",
       "      <td>0</td>\n",
       "      <td>1</td>\n",
       "      <td>9.84</td>\n",
       "      <td>14.395</td>\n",
       "      <td>75</td>\n",
       "      <td>0.0</td>\n",
       "      <td>3</td>\n",
       "      <td>10</td>\n",
       "      <td>13</td>\n",
       "    </tr>\n",
       "    <tr>\n",
       "      <th>4</th>\n",
       "      <td>2011-01-01 04:00:00</td>\n",
       "      <td>1</td>\n",
       "      <td>0</td>\n",
       "      <td>0</td>\n",
       "      <td>1</td>\n",
       "      <td>9.84</td>\n",
       "      <td>14.395</td>\n",
       "      <td>75</td>\n",
       "      <td>0.0</td>\n",
       "      <td>0</td>\n",
       "      <td>1</td>\n",
       "      <td>1</td>\n",
       "    </tr>\n",
       "  </tbody>\n",
       "</table>\n",
       "</div>"
      ],
      "text/plain": [
       "              datetime  season  holiday  workingday  weather  temp   atemp  \\\n",
       "0  2011-01-01 00:00:00       1        0           0        1  9.84  14.395   \n",
       "1  2011-01-01 01:00:00       1        0           0        1  9.02  13.635   \n",
       "2  2011-01-01 02:00:00       1        0           0        1  9.02  13.635   \n",
       "3  2011-01-01 03:00:00       1        0           0        1  9.84  14.395   \n",
       "4  2011-01-01 04:00:00       1        0           0        1  9.84  14.395   \n",
       "\n",
       "   humidity  windspeed  casual  registered  count  \n",
       "0        81        0.0       3          13     16  \n",
       "1        80        0.0       8          32     40  \n",
       "2        80        0.0       5          27     32  \n",
       "3        75        0.0       3          10     13  \n",
       "4        75        0.0       0           1      1  "
      ]
     },
     "execution_count": 97,
     "metadata": {},
     "output_type": "execute_result"
    }
   ],
   "source": [
    "bike.head()"
   ]
  },
  {
   "cell_type": "code",
   "execution_count": 98,
   "metadata": {},
   "outputs": [
    {
     "data": {
      "text/plain": [
       "datetime       object\n",
       "season          int64\n",
       "holiday         int64\n",
       "workingday      int64\n",
       "weather         int64\n",
       "temp          float64\n",
       "atemp         float64\n",
       "humidity        int64\n",
       "windspeed     float64\n",
       "casual          int64\n",
       "registered      int64\n",
       "count           int64\n",
       "dtype: object"
      ]
     },
     "execution_count": 98,
     "metadata": {},
     "output_type": "execute_result"
    }
   ],
   "source": [
    "bike.dtypes"
   ]
  },
  {
   "cell_type": "code",
   "execution_count": 99,
   "metadata": {},
   "outputs": [],
   "source": [
    "bike['datetime'] = pd.to_datetime(bike['datetime'])"
   ]
  },
  {
   "cell_type": "code",
   "execution_count": 100,
   "metadata": {},
   "outputs": [],
   "source": [
    "bike['year'] = pd.DatetimeIndex(bike['datetime']).year\n",
    "bike['month'] = pd.DatetimeIndex(bike['datetime']).month\n",
    "bike['day'] = pd.DatetimeIndex(bike['datetime']).day\n",
    "bike['hour'] = pd.DatetimeIndex(bike['datetime']).hour\n",
    "bike['minute'] = pd.DatetimeIndex(bike['datetime']).minute\n",
    "bike['second'] = pd.DatetimeIndex(bike['datetime']).second"
   ]
  },
  {
   "cell_type": "code",
   "execution_count": 101,
   "metadata": {},
   "outputs": [
    {
     "data": {
      "text/html": [
       "<div>\n",
       "<style scoped>\n",
       "    .dataframe tbody tr th:only-of-type {\n",
       "        vertical-align: middle;\n",
       "    }\n",
       "\n",
       "    .dataframe tbody tr th {\n",
       "        vertical-align: top;\n",
       "    }\n",
       "\n",
       "    .dataframe thead th {\n",
       "        text-align: right;\n",
       "    }\n",
       "</style>\n",
       "<table border=\"1\" class=\"dataframe\">\n",
       "  <thead>\n",
       "    <tr style=\"text-align: right;\">\n",
       "      <th></th>\n",
       "      <th>datetime</th>\n",
       "      <th>season</th>\n",
       "      <th>holiday</th>\n",
       "      <th>workingday</th>\n",
       "      <th>weather</th>\n",
       "      <th>temp</th>\n",
       "      <th>atemp</th>\n",
       "      <th>humidity</th>\n",
       "      <th>windspeed</th>\n",
       "      <th>casual</th>\n",
       "      <th>registered</th>\n",
       "      <th>count</th>\n",
       "      <th>year</th>\n",
       "      <th>month</th>\n",
       "      <th>day</th>\n",
       "      <th>hour</th>\n",
       "      <th>minute</th>\n",
       "      <th>second</th>\n",
       "    </tr>\n",
       "  </thead>\n",
       "  <tbody>\n",
       "    <tr>\n",
       "      <th>0</th>\n",
       "      <td>2011-01-01 00:00:00</td>\n",
       "      <td>1</td>\n",
       "      <td>0</td>\n",
       "      <td>0</td>\n",
       "      <td>1</td>\n",
       "      <td>9.84</td>\n",
       "      <td>14.395</td>\n",
       "      <td>81</td>\n",
       "      <td>0.0</td>\n",
       "      <td>3</td>\n",
       "      <td>13</td>\n",
       "      <td>16</td>\n",
       "      <td>2011</td>\n",
       "      <td>1</td>\n",
       "      <td>1</td>\n",
       "      <td>0</td>\n",
       "      <td>0</td>\n",
       "      <td>0</td>\n",
       "    </tr>\n",
       "    <tr>\n",
       "      <th>1</th>\n",
       "      <td>2011-01-01 01:00:00</td>\n",
       "      <td>1</td>\n",
       "      <td>0</td>\n",
       "      <td>0</td>\n",
       "      <td>1</td>\n",
       "      <td>9.02</td>\n",
       "      <td>13.635</td>\n",
       "      <td>80</td>\n",
       "      <td>0.0</td>\n",
       "      <td>8</td>\n",
       "      <td>32</td>\n",
       "      <td>40</td>\n",
       "      <td>2011</td>\n",
       "      <td>1</td>\n",
       "      <td>1</td>\n",
       "      <td>1</td>\n",
       "      <td>0</td>\n",
       "      <td>0</td>\n",
       "    </tr>\n",
       "    <tr>\n",
       "      <th>2</th>\n",
       "      <td>2011-01-01 02:00:00</td>\n",
       "      <td>1</td>\n",
       "      <td>0</td>\n",
       "      <td>0</td>\n",
       "      <td>1</td>\n",
       "      <td>9.02</td>\n",
       "      <td>13.635</td>\n",
       "      <td>80</td>\n",
       "      <td>0.0</td>\n",
       "      <td>5</td>\n",
       "      <td>27</td>\n",
       "      <td>32</td>\n",
       "      <td>2011</td>\n",
       "      <td>1</td>\n",
       "      <td>1</td>\n",
       "      <td>2</td>\n",
       "      <td>0</td>\n",
       "      <td>0</td>\n",
       "    </tr>\n",
       "    <tr>\n",
       "      <th>3</th>\n",
       "      <td>2011-01-01 03:00:00</td>\n",
       "      <td>1</td>\n",
       "      <td>0</td>\n",
       "      <td>0</td>\n",
       "      <td>1</td>\n",
       "      <td>9.84</td>\n",
       "      <td>14.395</td>\n",
       "      <td>75</td>\n",
       "      <td>0.0</td>\n",
       "      <td>3</td>\n",
       "      <td>10</td>\n",
       "      <td>13</td>\n",
       "      <td>2011</td>\n",
       "      <td>1</td>\n",
       "      <td>1</td>\n",
       "      <td>3</td>\n",
       "      <td>0</td>\n",
       "      <td>0</td>\n",
       "    </tr>\n",
       "    <tr>\n",
       "      <th>4</th>\n",
       "      <td>2011-01-01 04:00:00</td>\n",
       "      <td>1</td>\n",
       "      <td>0</td>\n",
       "      <td>0</td>\n",
       "      <td>1</td>\n",
       "      <td>9.84</td>\n",
       "      <td>14.395</td>\n",
       "      <td>75</td>\n",
       "      <td>0.0</td>\n",
       "      <td>0</td>\n",
       "      <td>1</td>\n",
       "      <td>1</td>\n",
       "      <td>2011</td>\n",
       "      <td>1</td>\n",
       "      <td>1</td>\n",
       "      <td>4</td>\n",
       "      <td>0</td>\n",
       "      <td>0</td>\n",
       "    </tr>\n",
       "  </tbody>\n",
       "</table>\n",
       "</div>"
      ],
      "text/plain": [
       "             datetime  season  holiday  workingday  weather  temp   atemp  \\\n",
       "0 2011-01-01 00:00:00       1        0           0        1  9.84  14.395   \n",
       "1 2011-01-01 01:00:00       1        0           0        1  9.02  13.635   \n",
       "2 2011-01-01 02:00:00       1        0           0        1  9.02  13.635   \n",
       "3 2011-01-01 03:00:00       1        0           0        1  9.84  14.395   \n",
       "4 2011-01-01 04:00:00       1        0           0        1  9.84  14.395   \n",
       "\n",
       "   humidity  windspeed  casual  registered  count  year  month  day  hour  \\\n",
       "0        81        0.0       3          13     16  2011      1    1     0   \n",
       "1        80        0.0       8          32     40  2011      1    1     1   \n",
       "2        80        0.0       5          27     32  2011      1    1     2   \n",
       "3        75        0.0       3          10     13  2011      1    1     3   \n",
       "4        75        0.0       0           1      1  2011      1    1     4   \n",
       "\n",
       "   minute  second  \n",
       "0       0       0  \n",
       "1       0       0  \n",
       "2       0       0  \n",
       "3       0       0  \n",
       "4       0       0  "
      ]
     },
     "execution_count": 101,
     "metadata": {},
     "output_type": "execute_result"
    }
   ],
   "source": [
    "bike.head()"
   ]
  },
  {
   "cell_type": "code",
   "execution_count": 102,
   "metadata": {},
   "outputs": [
    {
     "data": {
      "text/plain": [
       "<matplotlib.axes._subplots.AxesSubplot at 0x7ff6bba7a110>"
      ]
     },
     "execution_count": 102,
     "metadata": {},
     "output_type": "execute_result"
    },
    {
     "data": {
      "image/png": "[encoded data removed]",
      "text/plain": [
       "<Figure size 936x720 with 6 Axes>"
      ]
     },
     "metadata": {
      "needs_background": "light"
     },
     "output_type": "display_data"
    }
   ],
   "source": [
    "import seaborn as sns\n",
    "fig = plt.figure(figsize = (13, 10))\n",
    "ax1 = fig.add_subplot(2,3,1)\n",
    "sns.countplot(data = bike, x = 'year')\n",
    "ax2 = fig.add_subplot(2,3,2)\n",
    "sns.countplot(data = bike, x = 'month')\n",
    "ax3 = fig.add_subplot(2,3,3)\n",
    "sns.countplot(data = bike, x = 'day')\n",
    "ax4 = fig.add_subplot(2,3,4)\n",
    "sns.countplot(data = bike, x = 'hour')\n",
    "ax5 = fig.add_subplot(2,3,5)\n",
    "sns.countplot(data = bike, x = 'minute')\n",
    "ax6 = fig.add_subplot(2,3,6)\n",
    "sns.countplot(data = bike, x = 'second')"
   ]
  },
  {
   "cell_type": "code",
   "execution_count": 138,
   "metadata": {},
   "outputs": [],
   "source": [
    "X = bike[['season', 'holiday', 'workingday', 'weather', 'temp', 'humidity', \n",
    "          'windspeed', 'year' ,'month']].values\n",
    "y = bike['count'].values"
   ]
  },
  {
   "cell_type": "code",
   "execution_count": 139,
   "metadata": {},
   "outputs": [
    {
     "data": {
      "text/plain": [
       "(2178, 9)"
      ]
     },
     "execution_count": 139,
     "metadata": {},
     "output_type": "execute_result"
    }
   ],
   "source": [
    "X_train, X_test, y_train, y_test = train_test_split(X,y, test_size = 0.2, random_state = 42)\n",
    "X_test.shape"
   ]
  },
  {
   "cell_type": "code",
   "execution_count": 140,
   "metadata": {},
   "outputs": [],
   "source": [
    "from sklearn.linear_model import LinearRegression\n",
    "\n",
    "model = LinearRegression()\n",
    "model.fit(X_train, y_train)\n",
    "predictions = model.predict(X_test)"
   ]
  },
  {
   "cell_type": "code",
   "execution_count": 141,
   "metadata": {},
   "outputs": [
    {
     "data": {
      "text/plain": [
       "22317.233012118562"
      ]
     },
     "execution_count": 141,
     "metadata": {},
     "output_type": "execute_result"
    }
   ],
   "source": [
    "from sklearn.metrics import mean_squared_error\n",
    "mse = mean_squared_error(y_test, predictions)\n",
    "mse"
   ]
  },
  {
   "cell_type": "code",
   "execution_count": 142,
   "metadata": {},
   "outputs": [
    {
     "data": {
      "text/plain": [
       "149.38953447989107"
      ]
     },
     "execution_count": 142,
     "metadata": {},
     "output_type": "execute_result"
    }
   ],
   "source": [
    "rmse = mean_squared_error(y_test, predictions, squared = False)\n",
    "rmse"
   ]
  },
  {
   "cell_type": "code",
   "execution_count": 145,
   "metadata": {},
   "outputs": [
    {
     "data": {
      "image/png": "[encoded data removed]",
      "text/plain": [
       "<Figure size 432x288 with 1 Axes>"
      ]
     },
     "metadata": {
      "needs_background": "light"
     },
     "output_type": "display_data"
    }
   ],
   "source": [
    "plt.scatter(X_test[:,4], y_test, label=\"true\")\n",
    "plt.scatter(X_test[:, 4], predictions, label = 'pred')\n",
    "plt.legend()\n",
    "plt.show()"
   ]
  },
  {
   "cell_type": "code",
   "execution_count": 146,
   "metadata": {},
   "outputs": [
    {
     "data": {
      "image/png": "[encoded data removed]",
      "text/plain": [
       "<Figure size 432x288 with 1 Axes>"
      ]
     },
     "metadata": {
      "needs_background": "light"
     },
     "output_type": "display_data"
    }
   ],
   "source": [
    "plt.scatter(X_test[:,5], y_test, label=\"true\")\n",
    "plt.scatter(X_test[:, 5], predictions, label = 'pred')\n",
    "plt.legend()\n",
    "plt.show()"
   ]
  },
  {
   "cell_type": "markdown",
   "metadata": {},
   "source": [
    "### scikit-learn 패키지를 이용한 선형회귀를 처음 돌렸을때 RMSE가 0에 수렴했다. 나중에 찾아보니 필요없는 변수까지 선형회귀를 하면서 나온 결과였다. 이에 독립변수를 줄이고 선형회귀를 시도하니 RMSE가 149정도로 비교적 정확한 선형회귀가 나왔다."
   ]
  },
  {
   "cell_type": "code",
   "execution_count": null,
   "metadata": {},
   "outputs": [],
   "source": []
  }
 ],
 "metadata": {
  "kernelspec": {
   "display_name": "aiffel",
   "language": "python",
   "name": "aiffel"
  },
  "language_info": {
   "codemirror_mode": {
    "name": "ipython",
    "version": 3
   },
   "file_extension": ".py",
   "mimetype": "text/x-python",
   "name": "python",
   "nbconvert_exporter": "python",
   "pygments_lexer": "ipython3",
   "version": "3.7.6"
  }
 },
 "nbformat": 4,
 "nbformat_minor": 4
}
