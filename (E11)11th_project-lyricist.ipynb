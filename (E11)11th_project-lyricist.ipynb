{
 "cells": [
  {
   "cell_type": "markdown",
   "metadata": {},
   "source": [
    "# 인공지능 작사가 만들기"
   ]
  },
  {
   "cell_type": "code",
   "execution_count": 1,
   "metadata": {},
   "outputs": [
    {
     "name": "stdout",
     "output_type": "stream",
     "text": [
      "데이터 크기: 187088\n",
      "Examples:\n",
      " ['[:Nicki Minaj]', 'Young money [Verse 1: Jason Derulo] (?) thousand different favors', 'I wish that I could (?)']\n"
     ]
    }
   ],
   "source": [
    "import glob\n",
    "import re                  \n",
    "import numpy as np         \n",
    "import tensorflow as tf  \n",
    "import os\n",
    "from sklearn.model_selection import train_test_split\n",
    "\n",
    "txt_file_path = os.getenv('HOME')+'/aiffel//lyricist/data/lyrics/*'\n",
    "\n",
    "txt_list = glob.glob(txt_file_path)\n",
    "\n",
    "raw_corpus = []\n",
    "\n",
    "# 여러개의 txt 파일을 모두 읽어서 raw_corpus 에 담습니다.\n",
    "for txt_file in txt_list:\n",
    "    with open(txt_file, \"r\") as f:\n",
    "        raw = f.read().splitlines()\n",
    "        raw_corpus.extend(raw)\n",
    "\n",
    "print(\"데이터 크기:\", len(raw_corpus))\n",
    "print(\"Examples:\\n\", raw_corpus[:3])"
   ]
  },
  {
   "cell_type": "code",
   "execution_count": 2,
   "metadata": {},
   "outputs": [
    {
     "name": "stdout",
     "output_type": "stream",
     "text": [
      "[:Nicki Minaj]\n",
      "Young money [Verse 1: Jason Derulo] (?) thousand different favors\n",
      "I wish that I could (?)\n",
      "No i ain't got no dinner plans\n",
      "So you should bring all your friends\n",
      "I swear to (?) that you my type Noooo [Hook :Jason Derulo]\n",
      "Shimmy shimmy she, shimmy she, shimmy yah\n",
      "Swalla-la-la, swalla-la-la, swalla-la-la\n",
      "Shimmy shimmy she, shimmy she, shimmy yah\n",
      "Swalla-la-la, swalla-la-la, swalla-la-la\n"
     ]
    }
   ],
   "source": [
    "for idx, sentence in enumerate(raw_corpus):\n",
    "    if len(sentence) == 0: continue   # 길이가 0인 문장은 건너뜁니다.\n",
    "    if sentence[-1] == \":\": continue  # 문장의 끝이 : 인 문장은 건너뜁니다.\n",
    "\n",
    "    if idx > 9: break   # 일단 문장 10개만 확인해 볼 겁니다.\n",
    "        \n",
    "    print(sentence)"
   ]
  },
  {
   "cell_type": "code",
   "execution_count": 3,
   "metadata": {},
   "outputs": [],
   "source": [
    "def preprocess_sentence(sentence):\n",
    "    sentence = sentence.lower().strip()       # 소문자로 바꾸고 양쪽 공백을 삭제\n",
    "  \n",
    "    # 아래 3단계를 거쳐 sentence는 스페이스 1개를 delimeter로 하는 소문자 단어 시퀀스로 바뀝니다.\n",
    "    sentence = re.sub(r\"([?.!,¿])\", r\" \\1 \", sentence)        # 패턴의 특수문자를 만나면 특수문자 양쪽에 공백을 추가\n",
    "    sentence = re.sub(r'[\" \"]+', \" \", sentence)                  # 공백 패턴을 만나면 스페이스 1개로 치환\n",
    "    sentence = re.sub(r\"[^a-zA-Z?.!,¿]+\", \" \", sentence)  # a-zA-Z?.!,¿ 패턴을 제외한 모든 문자(공백문자까지도)를 스페이스 1개로 치환\n",
    "\n",
    "    sentence = sentence.strip()\n",
    "\n",
    "    sentence = '<start> ' + sentence + ' <end>'      # 이전 스텝에서 본 것처럼 문장 앞뒤로 <start>와 <end>를 단어처럼 붙여 줍니다\n",
    "    \n",
    "    return sentence"
   ]
  },
  {
   "cell_type": "code",
   "execution_count": 4,
   "metadata": {},
   "outputs": [
    {
     "data": {
      "text/plain": [
       "['<start> nicki minaj <end>',\n",
       " '<start> young money verse jason derulo ? thousand different favors <end>',\n",
       " '<start> i wish that i could ? <end>',\n",
       " '<start> no i ain t got no dinner plans <end>',\n",
       " '<start> so you should bring all your friends <end>',\n",
       " '<start> i swear to ? that you my type noooo hook jason derulo <end>',\n",
       " '<start> shimmy shimmy she , shimmy she , shimmy yah <end>',\n",
       " '<start> swalla la la , swalla la la , swalla la la <end>',\n",
       " '<start> shimmy shimmy she , shimmy she , shimmy yah <end>',\n",
       " '<start> swalla la la , swalla la la , swalla la la <end>']"
      ]
     },
     "execution_count": 4,
     "metadata": {},
     "output_type": "execute_result"
    }
   ],
   "source": [
    "corpus = []\n",
    "\n",
    "for sentence in raw_corpus:\n",
    "    if len(sentence) == 0: continue\n",
    "    if sentence[-1] == \":\": continue\n",
    "        \n",
    "    corpus.append(preprocess_sentence(sentence))\n",
    "        \n",
    "corpus[:10]"
   ]
  },
  {
   "cell_type": "code",
   "execution_count": 5,
   "metadata": {},
   "outputs": [
    {
     "name": "stdout",
     "output_type": "stream",
     "text": [
      "[[   0    0    0 ... 1202 2639    3]\n",
      " [   0    0    0 ...  635 3501    3]\n",
      " [   0    0    0 ...  104   43    3]\n",
      " ...\n",
      " [   5   22  713 ... 4178    4    3]\n",
      " [   5   22  713 ... 4178    4    3]\n",
      " [   5   22  713 ... 4178   20    3]] <keras_preprocessing.text.Tokenizer object at 0x7fb00d1d7dd0>\n"
     ]
    }
   ],
   "source": [
    "def tokenize(corpus):\n",
    "    # 텐서플로우에서 제공하는 Tokenizer 패키지를 생성\n",
    "    tokenizer = tf.keras.preprocessing.text.Tokenizer(\n",
    "        num_words=12000,  # 전체 단어의 개수 \n",
    "        filters=' ',    # 별도로 전처리 로직을 추가할 수 있습니다. 이번에는 사용하지 않겠습니다.\n",
    "        oov_token=\"<unk>\"  # out-of-vocabulary, 사전에 없었던 단어는 어떤 토큰으로 대체할지\n",
    "    )\n",
    "    tokenizer.fit_on_texts(corpus)   # 우리가 구축한 corpus로부터 Tokenizer가 사전을 자동구축하게 됩니다.\n",
    "\n",
    "    # 이후 tokenizer를 활용하여 모델에 입력할 데이터셋을 구축하게 됩니다.\n",
    "    tensor = tokenizer.texts_to_sequences(corpus)   # tokenizer는 구축한 사전으로부터 corpus를 해석해 Tensor로 변환합니다.\n",
    "\n",
    "    # 입력 데이터의 시퀀스 길이를 일정하게 맞추기 위한 padding  메소드를 제공합니다.\n",
    "    # maxlen의 디폴트값은 None입니다. 이 경우 corpus의 가장 긴 문장을 기준으로 시퀀스 길이가 맞춰집니다.\n",
    "    tensor = tf.keras.preprocessing.sequence.pad_sequences(tensor, padding='pre', maxlen = 15)  \n",
    "\n",
    "    print(tensor,tokenizer)\n",
    "    return tensor, tokenizer\n",
    "\n",
    "tensor, tokenizer = tokenize(corpus)"
   ]
  },
  {
   "cell_type": "code",
   "execution_count": 6,
   "metadata": {},
   "outputs": [
    {
     "name": "stdout",
     "output_type": "stream",
     "text": [
      "[[   0    0    0    0    0    0    0    0    0    0]\n",
      " [   0    0    0    0    2  278  144  520 3390 6042]\n",
      " [   0    0    0    0    0    0    0    2    5  259]]\n"
     ]
    }
   ],
   "source": [
    "print(tensor[:3, :10])"
   ]
  },
  {
   "cell_type": "code",
   "execution_count": 7,
   "metadata": {},
   "outputs": [
    {
     "name": "stdout",
     "output_type": "stream",
     "text": [
      "1 : <unk>\n",
      "2 : <start>\n",
      "3 : <end>\n",
      "4 : ,\n",
      "5 : i\n",
      "6 : the\n",
      "7 : you\n",
      "8 : and\n",
      "9 : a\n",
      "10 : to\n"
     ]
    }
   ],
   "source": [
    "for idx in tokenizer.index_word:\n",
    "    print(idx, \":\", tokenizer.index_word[idx])\n",
    "\n",
    "    if idx >= 10: break"
   ]
  },
  {
   "cell_type": "code",
   "execution_count": 8,
   "metadata": {},
   "outputs": [
    {
     "name": "stdout",
     "output_type": "stream",
     "text": [
      "[   0    0    0    0    0    0    0    0    0    0    0    2 1202 2639]\n",
      "[   0    0    0    0    0    0    0    0    0    0    2 1202 2639    3]\n"
     ]
    }
   ],
   "source": [
    "src_input = tensor[:, :-1]  # tensor에서 마지막 토큰을 잘라내서 소스 문장을 생성합니다. 마지막 토큰은 <END>가 아니라 <pad>일 가능성이 높습니다.\n",
    "tgt_input = tensor[:, 1:]    # tensor에서 <START>를 잘라내서 타겟 문장을 생성합니다.\n",
    "\n",
    "print(src_input[0])\n",
    "print(tgt_input[0])"
   ]
  },
  {
   "cell_type": "code",
   "execution_count": 9,
   "metadata": {},
   "outputs": [],
   "source": [
    "enc_train, enc_test, dec_train, dec_test = train_test_split(src_input, tgt_input, test_size = 0.2)"
   ]
  },
  {
   "cell_type": "code",
   "execution_count": 10,
   "metadata": {},
   "outputs": [
    {
     "name": "stdout",
     "output_type": "stream",
     "text": [
      "Source Train: (140599, 14)\n",
      "Target Train: (140599, 14)\n"
     ]
    }
   ],
   "source": [
    "print(\"Source Train:\", enc_train.shape)\n",
    "print(\"Target Train:\", dec_train.shape)"
   ]
  },
  {
   "cell_type": "code",
   "execution_count": 11,
   "metadata": {},
   "outputs": [
    {
     "data": {
      "text/plain": [
       "<BatchDataset shapes: ((256, 14), (256, 14)), types: (tf.int32, tf.int32)>"
      ]
     },
     "execution_count": 11,
     "metadata": {},
     "output_type": "execute_result"
    }
   ],
   "source": [
    "BUFFER_SIZE = len(enc_train)\n",
    "BATCH_SIZE = 256\n",
    "steps_per_epoch = len(enc_train) // BATCH_SIZE\n",
    "\n",
    "VOCAB_SIZE = tokenizer.num_words + 1    # tokenizer가 구축한 단어사전 내 7000개와, 여기 포함되지 않은 0:<pad>를 포함하여 7001개\n",
    "\n",
    "dataset = tf.data.Dataset.from_tensor_slices((enc_train, dec_train)).shuffle(BUFFER_SIZE)\n",
    "dataset = dataset.batch(BATCH_SIZE, drop_remainder=True)\n",
    "dataset"
   ]
  },
  {
   "cell_type": "code",
   "execution_count": 18,
   "metadata": {},
   "outputs": [],
   "source": [
    "class TextGenerator(tf.keras.Model):\n",
    "    def __init__(self, vocab_size, embedding_size, hidden_size_1, hidden_size_2):\n",
    "        super(TextGenerator, self).__init__()\n",
    "        \n",
    "        self.embedding = tf.keras.layers.Embedding(vocab_size, embedding_size)\n",
    "        self.rnn_1 = tf.keras.layers.LSTM(hidden_size_1, return_sequences=True)\n",
    "        self.rnn_2 = tf.keras.layers.LSTM(hidden_size_2, return_sequences=True)\n",
    "        self.linear = tf.keras.layers.Dense(vocab_size)\n",
    "        \n",
    "    def call(self, x):\n",
    "        out = self.embedding(x)\n",
    "        out = self.rnn_1(out)\n",
    "        out = self.rnn_2(out)\n",
    "        out = self.linear(out)\n",
    "        \n",
    "        return out\n",
    "    \n",
    "embedding_size = 512\n",
    "hidden_size_1 = 1024\n",
    "hidden_size_2 = 2048\n",
    "model = TextGenerator(tokenizer.num_words + 1, embedding_size , hidden_size_1, hidden_size_2)"
   ]
  },
  {
   "cell_type": "code",
   "execution_count": 19,
   "metadata": {},
   "outputs": [
    {
     "data": {
      "text/plain": [
       "<tf.Tensor: shape=(256, 14, 12001), dtype=float32, numpy=\n",
       "array([[[-2.82842549e-04, -2.64262722e-04,  1.11803049e-04, ...,\n",
       "         -2.01830233e-04, -1.64114768e-04, -2.10220343e-04],\n",
       "        [-6.39711448e-04, -6.53163763e-04,  2.88058829e-04, ...,\n",
       "         -4.49752202e-04, -4.11199435e-04, -5.05181844e-04],\n",
       "        [-9.69419489e-04, -1.08004035e-03,  4.88436781e-04, ...,\n",
       "         -6.71039452e-04, -6.77273725e-04, -8.11051170e-04],\n",
       "        ...,\n",
       "        [-1.96915629e-04, -2.08197488e-03,  2.24011983e-05, ...,\n",
       "         -4.81997413e-04,  9.84153477e-04,  3.36059952e-06],\n",
       "        [ 9.22939580e-05, -1.46578741e-03, -2.69355442e-05, ...,\n",
       "         -1.94685141e-04,  1.68212957e-03,  2.21399925e-04],\n",
       "        [ 2.07569203e-04, -1.00681616e-03, -3.11699077e-05, ...,\n",
       "         -7.82459174e-05,  1.82667549e-03,  6.90511733e-05]],\n",
       "\n",
       "       [[-2.82842549e-04, -2.64262722e-04,  1.11803049e-04, ...,\n",
       "         -2.01830233e-04, -1.64114768e-04, -2.10220343e-04],\n",
       "        [-6.39711448e-04, -6.53163763e-04,  2.88058829e-04, ...,\n",
       "         -4.49752202e-04, -4.11199435e-04, -5.05181844e-04],\n",
       "        [-1.09580462e-03, -7.81328825e-04,  1.27324049e-04, ...,\n",
       "         -4.89409547e-04, -4.32536792e-04, -7.25230901e-04],\n",
       "        ...,\n",
       "        [-2.58262753e-05, -1.16137450e-03,  6.69903471e-04, ...,\n",
       "         -3.31866060e-04, -1.28227155e-04,  1.01049594e-03],\n",
       "        [ 1.87944635e-04, -1.29327597e-03,  3.71786824e-04, ...,\n",
       "          1.84791625e-05, -6.28992915e-04,  1.37100695e-03],\n",
       "        [ 5.70645847e-04, -1.49434153e-03,  6.15435187e-04, ...,\n",
       "          3.28209979e-04, -7.03880622e-04,  1.35588541e-03]],\n",
       "\n",
       "       [[-2.82842549e-04, -2.64262722e-04,  1.11803049e-04, ...,\n",
       "         -2.01830233e-04, -1.64114768e-04, -2.10220343e-04],\n",
       "        [-6.39711448e-04, -6.53163763e-04,  2.88058829e-04, ...,\n",
       "         -4.49752202e-04, -4.11199435e-04, -5.05181844e-04],\n",
       "        [-9.69419489e-04, -1.08004035e-03,  4.88436781e-04, ...,\n",
       "         -6.71039452e-04, -6.77273725e-04, -8.11051170e-04],\n",
       "        ...,\n",
       "        [-1.25152862e-03, -6.19137718e-04, -6.58475910e-04, ...,\n",
       "         -1.89623085e-03,  1.23934506e-03, -3.76317650e-04],\n",
       "        [-1.01399713e-03, -4.35441994e-04, -6.24162931e-05, ...,\n",
       "         -2.19690241e-03,  1.33611052e-03, -4.39278956e-04],\n",
       "        [-6.07119291e-04, -7.01966928e-04,  2.26655320e-04, ...,\n",
       "         -2.18878826e-03,  1.43606088e-03, -4.06455569e-04]],\n",
       "\n",
       "       ...,\n",
       "\n",
       "       [[-1.30387984e-04,  2.19742127e-04,  2.15161082e-04, ...,\n",
       "         -2.30431324e-04,  1.68897968e-04, -3.35203629e-04],\n",
       "        [-1.86698642e-04,  5.78815700e-04,  2.14880580e-04, ...,\n",
       "         -3.25865520e-04,  1.53487883e-04, -9.80205601e-04],\n",
       "        [-4.05039813e-04,  6.25380606e-04,  1.04857383e-04, ...,\n",
       "          1.02033606e-04,  6.77773278e-05, -1.25175691e-03],\n",
       "        ...,\n",
       "        [ 1.40218541e-03, -1.26931453e-04,  3.85718158e-04, ...,\n",
       "          1.14463724e-03,  1.53152924e-03, -3.02154251e-04],\n",
       "        [ 1.49483327e-03, -4.04110440e-04,  5.62923087e-04, ...,\n",
       "          1.40188436e-03,  1.48682261e-03, -5.01458591e-04],\n",
       "        [ 1.45509327e-03, -3.00042186e-04,  6.75287214e-04, ...,\n",
       "          1.34095515e-03,  1.26615027e-03, -4.32545639e-04]],\n",
       "\n",
       "       [[ 2.25031239e-04, -1.70937579e-04,  2.78179577e-05, ...,\n",
       "         -1.76247777e-05,  1.48555628e-04,  2.77925137e-04],\n",
       "        [ 3.78176192e-04, -4.25062113e-04, -2.20967442e-04, ...,\n",
       "         -2.73183949e-04,  2.59423483e-04,  3.71450267e-04],\n",
       "        [ 2.84773210e-04, -2.61695997e-04, -5.84469642e-04, ...,\n",
       "         -3.59229307e-04, -1.33018752e-04,  4.71284555e-04],\n",
       "        ...,\n",
       "        [-8.17949825e-04,  2.90329073e-04,  2.10408471e-03, ...,\n",
       "         -1.53633975e-03, -4.51574248e-04, -3.80513986e-04],\n",
       "        [-3.72865383e-04, -2.54946790e-05,  1.92451011e-03, ...,\n",
       "         -1.92855799e-03, -3.81571270e-04,  5.74948317e-05],\n",
       "        [-4.21760342e-04, -1.27972162e-04,  1.53356360e-03, ...,\n",
       "         -2.44534877e-03,  1.02615813e-04,  1.49990534e-04]],\n",
       "\n",
       "       [[ 1.33740017e-04, -1.35689857e-04,  3.79651028e-04, ...,\n",
       "         -4.06194740e-04,  2.10072685e-04, -2.72406702e-04],\n",
       "        [ 4.39113996e-04, -3.83056147e-04,  8.38332810e-04, ...,\n",
       "         -5.64185844e-04,  7.86609075e-04, -4.00115969e-04],\n",
       "        [ 3.74267169e-04, -4.52034583e-04,  9.15894634e-04, ...,\n",
       "         -7.14641472e-04,  1.52345153e-03, -3.34410550e-04],\n",
       "        ...,\n",
       "        [ 1.01584638e-03,  1.50082889e-03,  7.07787229e-04, ...,\n",
       "         -9.01329156e-04, -2.91171571e-04, -1.31117669e-03],\n",
       "        [ 5.72924619e-04,  1.74189988e-03,  6.13063108e-04, ...,\n",
       "         -9.16055404e-04, -5.09981299e-04, -1.50251994e-03],\n",
       "        [ 3.42994579e-04,  1.44479272e-03,  1.30383298e-04, ...,\n",
       "         -8.69335257e-04, -6.32903888e-04, -1.41301076e-03]]],\n",
       "      dtype=float32)>"
      ]
     },
     "execution_count": 19,
     "metadata": {},
     "output_type": "execute_result"
    }
   ],
   "source": [
    "for src_sample, tgt_sample in dataset.take(1): break\n",
    "model(src_sample)"
   ]
  },
  {
   "cell_type": "code",
   "execution_count": 20,
   "metadata": {},
   "outputs": [
    {
     "name": "stdout",
     "output_type": "stream",
     "text": [
      "Model: \"text_generator_1\"\n",
      "_________________________________________________________________\n",
      "Layer (type)                 Output Shape              Param #   \n",
      "=================================================================\n",
      "embedding_1 (Embedding)      multiple                  6144512   \n",
      "_________________________________________________________________\n",
      "lstm_2 (LSTM)                multiple                  6295552   \n",
      "_________________________________________________________________\n",
      "lstm_3 (LSTM)                multiple                  25174016  \n",
      "_________________________________________________________________\n",
      "dense_1 (Dense)              multiple                  24590049  \n",
      "=================================================================\n",
      "Total params: 62,204,129\n",
      "Trainable params: 62,204,129\n",
      "Non-trainable params: 0\n",
      "_________________________________________________________________\n"
     ]
    }
   ],
   "source": [
    "model.summary()"
   ]
  },
  {
   "cell_type": "code",
   "execution_count": 21,
   "metadata": {},
   "outputs": [
    {
     "name": "stdout",
     "output_type": "stream",
     "text": [
      "Epoch 1/10\n",
      "549/549 [==============================] - 168s 306ms/step - loss: 3.6556\n",
      "Epoch 2/10\n",
      "549/549 [==============================] - 165s 301ms/step - loss: 3.1336\n",
      "Epoch 3/10\n",
      "549/549 [==============================] - 160s 291ms/step - loss: 2.8953\n",
      "Epoch 4/10\n",
      "549/549 [==============================] - 163s 298ms/step - loss: 2.6683\n",
      "Epoch 5/10\n",
      "549/549 [==============================] - 168s 306ms/step - loss: 2.5220\n",
      "Epoch 6/10\n",
      "549/549 [==============================] - 156s 284ms/step - loss: 2.2909\n",
      "Epoch 7/10\n",
      "549/549 [==============================] - 160s 292ms/step - loss: 2.1103\n",
      "Epoch 8/10\n",
      "549/549 [==============================] - 155s 282ms/step - loss: 1.9391\n",
      "Epoch 9/10\n",
      "549/549 [==============================] - 162s 295ms/step - loss: 1.7789\n",
      "Epoch 10/10\n",
      "549/549 [==============================] - 166s 303ms/step - loss: 1.6303\n"
     ]
    },
    {
     "data": {
      "text/plain": [
       "<tensorflow.python.keras.callbacks.History at 0x7faf88a8b510>"
      ]
     },
     "execution_count": 21,
     "metadata": {},
     "output_type": "execute_result"
    }
   ],
   "source": [
    "optimizer = tf.keras.optimizers.Adam()\n",
    "loss = tf.keras.losses.SparseCategoricalCrossentropy(\n",
    "    from_logits=True,\n",
    "    reduction='none'\n",
    ")\n",
    "\n",
    "model.compile(loss=loss, optimizer=optimizer)\n",
    "model.fit(dataset, epochs=10)"
   ]
  },
  {
   "cell_type": "code",
   "execution_count": 22,
   "metadata": {},
   "outputs": [],
   "source": [
    "def generate_text(model, tokenizer, init_sentence=\"<start>\", max_len=20):\n",
    "    # 테스트를 위해서 입력받은 init_sentence도 일단 텐서로 변환합니다.\n",
    "    test_input = tokenizer.texts_to_sequences([init_sentence])\n",
    "    test_tensor = tf.convert_to_tensor(test_input, dtype=tf.int64)\n",
    "    end_token = tokenizer.word_index[\"<end>\"]\n",
    "\n",
    "    # 텍스트를 실제로 생성할때는 루프를 돌면서 단어 하나씩 생성해야 합니다. \n",
    "    while True:\n",
    "        predict = model(test_tensor)  # 입력받은 문장의 텐서를 입력합니다. \n",
    "        predict_word = tf.argmax(tf.nn.softmax(predict, axis=-1), axis=-1)[:, -1]   # 우리 모델이 예측한 마지막 단어가 바로 새롭게 생성한 단어가 됩니다. \n",
    "\n",
    "        # 우리 모델이 새롭게 예측한 단어를 입력 문장의 뒤에 붙여 줍니다. \n",
    "        test_tensor = tf.concat([test_tensor, \n",
    "                                                                 tf.expand_dims(predict_word, axis=0)], axis=-1)\n",
    "\n",
    "        # 우리 모델이 <END>를 예측했거나, max_len에 도달하지 않았다면  while 루프를 또 돌면서 다음 단어를 예측해야 합니다.\n",
    "        if predict_word.numpy()[0] == end_token: break\n",
    "        if test_tensor.shape[1] >= max_len: break\n",
    "\n",
    "    generated = \"\"\n",
    "    # 생성된 tensor 안에 있는 word index를 tokenizer.index_word 사전을 통해 실제 단어로 하나씩 변환합니다. \n",
    "    for word_index in test_tensor[0].numpy():\n",
    "        generated += tokenizer.index_word[word_index] + \" \"\n",
    "\n",
    "    return generated   # 이것이 최종적으로 모델이 생성한 자연어 문장입니다."
   ]
  },
  {
   "cell_type": "code",
   "execution_count": 23,
   "metadata": {},
   "outputs": [
    {
     "data": {
      "text/plain": [
       "'<start> i love you , i need you , i need you , oh <end> '"
      ]
     },
     "execution_count": 23,
     "metadata": {},
     "output_type": "execute_result"
    }
   ],
   "source": [
    "generate_text(model, tokenizer, init_sentence=\"<start> i love\", max_len=20)"
   ]
  },
  {
   "cell_type": "markdown",
   "metadata": {},
   "source": [
    "저번에 배웠던 RNN의 연장선상에 있는 프로젝트였다. 이번에 느낀건 자연어를 tensor로 바꿔줘서 계산한다는 점이 더 많이 느끼게 되었다.     \n",
    "그리고 생각보다 model을 실행하는 시간이 꽤 걸렸다. 또한 가사 텍스트 전부를 넣고 돌리게 되면 OOM이 일어났었다. NLP라는 분야가 생각보다 GPU성능이 중요하다는 것을 다시금 깨달았다."
   ]
  },
  {
   "cell_type": "code",
   "execution_count": null,
   "metadata": {},
   "outputs": [],
   "source": []
  }
 ],
 "metadata": {
  "kernelspec": {
   "display_name": "aiffel",
   "language": "python",
   "name": "aiffel"
  },
  "language_info": {
   "codemirror_mode": {
    "name": "ipython",
    "version": 3
   },
   "file_extension": ".py",
   "mimetype": "text/x-python",
   "name": "python",
   "nbconvert_exporter": "python",
   "pygments_lexer": "ipython3",
   "version": "3.7.6"
  }
 },
 "nbformat": 4,
 "nbformat_minor": 4
}
