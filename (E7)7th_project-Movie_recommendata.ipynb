{
 "cells": [
  {
   "cell_type": "markdown",
   "metadata": {},
   "source": [
    "# 영화 추천 시스템 만들기"
   ]
  },
  {
   "cell_type": "code",
   "execution_count": 1,
   "metadata": {},
   "outputs": [
    {
     "data": {
      "text/html": [
       "<div>\n",
       "<style scoped>\n",
       "    .dataframe tbody tr th:only-of-type {\n",
       "        vertical-align: middle;\n",
       "    }\n",
       "\n",
       "    .dataframe tbody tr th {\n",
       "        vertical-align: top;\n",
       "    }\n",
       "\n",
       "    .dataframe thead th {\n",
       "        text-align: right;\n",
       "    }\n",
       "</style>\n",
       "<table border=\"1\" class=\"dataframe\">\n",
       "  <thead>\n",
       "    <tr style=\"text-align: right;\">\n",
       "      <th></th>\n",
       "      <th>user_id</th>\n",
       "      <th>movie_id</th>\n",
       "      <th>rating</th>\n",
       "      <th>timestamp</th>\n",
       "    </tr>\n",
       "  </thead>\n",
       "  <tbody>\n",
       "    <tr>\n",
       "      <th>0</th>\n",
       "      <td>1</td>\n",
       "      <td>1193</td>\n",
       "      <td>5</td>\n",
       "      <td>978300760</td>\n",
       "    </tr>\n",
       "    <tr>\n",
       "      <th>1</th>\n",
       "      <td>1</td>\n",
       "      <td>661</td>\n",
       "      <td>3</td>\n",
       "      <td>978302109</td>\n",
       "    </tr>\n",
       "    <tr>\n",
       "      <th>2</th>\n",
       "      <td>1</td>\n",
       "      <td>914</td>\n",
       "      <td>3</td>\n",
       "      <td>978301968</td>\n",
       "    </tr>\n",
       "    <tr>\n",
       "      <th>3</th>\n",
       "      <td>1</td>\n",
       "      <td>3408</td>\n",
       "      <td>4</td>\n",
       "      <td>978300275</td>\n",
       "    </tr>\n",
       "    <tr>\n",
       "      <th>4</th>\n",
       "      <td>1</td>\n",
       "      <td>2355</td>\n",
       "      <td>5</td>\n",
       "      <td>978824291</td>\n",
       "    </tr>\n",
       "  </tbody>\n",
       "</table>\n",
       "</div>"
      ],
      "text/plain": [
       "   user_id  movie_id  rating  timestamp\n",
       "0        1      1193       5  978300760\n",
       "1        1       661       3  978302109\n",
       "2        1       914       3  978301968\n",
       "3        1      3408       4  978300275\n",
       "4        1      2355       5  978824291"
      ]
     },
     "execution_count": 1,
     "metadata": {},
     "output_type": "execute_result"
    }
   ],
   "source": [
    "import os\n",
    "import pandas as pd\n",
    "import numpy as np\n",
    "import matplotlib.pyplot as plt\n",
    "rating_file_path=os.getenv('HOME') + '/aiffel/recommendata_iu/data/ml-1m/ratings.dat'\n",
    "ratings_cols = ['user_id', 'movie_id', 'rating', 'timestamp']\n",
    "ratings = pd.read_csv(rating_file_path, sep='::', names=ratings_cols, engine='python')\n",
    "orginal_data_size = len(ratings)\n",
    "ratings.head()"
   ]
  },
  {
   "cell_type": "code",
   "execution_count": 2,
   "metadata": {},
   "outputs": [
    {
     "name": "stdout",
     "output_type": "stream",
     "text": [
      "orginal_data_size: 1000209, filtered_data_size: 836478\n",
      "Ratio of Remaining Data is 83.63%\n"
     ]
    }
   ],
   "source": [
    "ratings = ratings[ratings['rating']>=3]\n",
    "filtered_data_size = len(ratings)\n",
    "\n",
    "print(f'orginal_data_size: {orginal_data_size}, filtered_data_size: {filtered_data_size}')\n",
    "print(f'Ratio of Remaining Data is {filtered_data_size / orginal_data_size:.2%}')"
   ]
  },
  {
   "cell_type": "code",
   "execution_count": 3,
   "metadata": {},
   "outputs": [],
   "source": [
    "ratings.rename(columns={'rating':'num'}, inplace=True)"
   ]
  },
  {
   "cell_type": "code",
   "execution_count": 4,
   "metadata": {},
   "outputs": [
    {
     "data": {
      "text/plain": [
       "array([5, 3, 4])"
      ]
     },
     "execution_count": 4,
     "metadata": {},
     "output_type": "execute_result"
    }
   ],
   "source": [
    "ratings.num.unique()"
   ]
  },
  {
   "cell_type": "code",
   "execution_count": 5,
   "metadata": {},
   "outputs": [
    {
     "data": {
      "text/html": [
       "<div>\n",
       "<style scoped>\n",
       "    .dataframe tbody tr th:only-of-type {\n",
       "        vertical-align: middle;\n",
       "    }\n",
       "\n",
       "    .dataframe tbody tr th {\n",
       "        vertical-align: top;\n",
       "    }\n",
       "\n",
       "    .dataframe thead th {\n",
       "        text-align: right;\n",
       "    }\n",
       "</style>\n",
       "<table border=\"1\" class=\"dataframe\">\n",
       "  <thead>\n",
       "    <tr style=\"text-align: right;\">\n",
       "      <th></th>\n",
       "      <th>movie_id</th>\n",
       "      <th>title</th>\n",
       "      <th>genre</th>\n",
       "    </tr>\n",
       "  </thead>\n",
       "  <tbody>\n",
       "    <tr>\n",
       "      <th>0</th>\n",
       "      <td>1</td>\n",
       "      <td>Toy Story (1995)</td>\n",
       "      <td>Animation|Children's|Comedy</td>\n",
       "    </tr>\n",
       "    <tr>\n",
       "      <th>1</th>\n",
       "      <td>2</td>\n",
       "      <td>Jumanji (1995)</td>\n",
       "      <td>Adventure|Children's|Fantasy</td>\n",
       "    </tr>\n",
       "    <tr>\n",
       "      <th>2</th>\n",
       "      <td>3</td>\n",
       "      <td>Grumpier Old Men (1995)</td>\n",
       "      <td>Comedy|Romance</td>\n",
       "    </tr>\n",
       "    <tr>\n",
       "      <th>3</th>\n",
       "      <td>4</td>\n",
       "      <td>Waiting to Exhale (1995)</td>\n",
       "      <td>Comedy|Drama</td>\n",
       "    </tr>\n",
       "    <tr>\n",
       "      <th>4</th>\n",
       "      <td>5</td>\n",
       "      <td>Father of the Bride Part II (1995)</td>\n",
       "      <td>Comedy</td>\n",
       "    </tr>\n",
       "  </tbody>\n",
       "</table>\n",
       "</div>"
      ],
      "text/plain": [
       "   movie_id                               title                         genre\n",
       "0         1                    Toy Story (1995)   Animation|Children's|Comedy\n",
       "1         2                      Jumanji (1995)  Adventure|Children's|Fantasy\n",
       "2         3             Grumpier Old Men (1995)                Comedy|Romance\n",
       "3         4            Waiting to Exhale (1995)                  Comedy|Drama\n",
       "4         5  Father of the Bride Part II (1995)                        Comedy"
      ]
     },
     "execution_count": 5,
     "metadata": {},
     "output_type": "execute_result"
    }
   ],
   "source": [
    "# 영화 제목을 보기 위해 메타 데이터를 읽어옵니다.\n",
    "movie_file_path=os.getenv('HOME') + '/aiffel/recommendata_iu/data/ml-1m/movies.dat'\n",
    "cols = ['movie_id', 'title', 'genre'] \n",
    "movies = pd.read_csv(movie_file_path, sep='::', names=cols, engine='python')\n",
    "movies.head()"
   ]
  },
  {
   "cell_type": "code",
   "execution_count": 6,
   "metadata": {},
   "outputs": [
    {
     "data": {
      "text/plain": [
       "0                      Toy Story (1995)\n",
       "1                        Jumanji (1995)\n",
       "2               Grumpier Old Men (1995)\n",
       "3              Waiting to Exhale (1995)\n",
       "4    Father of the Bride Part II (1995)\n",
       "5                           Heat (1995)\n",
       "6                        Sabrina (1995)\n",
       "7                   Tom and Huck (1995)\n",
       "8                   Sudden Death (1995)\n",
       "9                      GoldenEye (1995)\n",
       "Name: title, dtype: object"
      ]
     },
     "execution_count": 6,
     "metadata": {},
     "output_type": "execute_result"
    }
   ],
   "source": [
    "movies['title'].head(10)"
   ]
  },
  {
   "cell_type": "code",
   "execution_count": 8,
   "metadata": {},
   "outputs": [],
   "source": [
    "## 좋아하는 영화 : Blade, GoldenEye, Die Hard, Raiders of the Lost Ark, Matrix"
   ]
  },
  {
   "cell_type": "code",
   "execution_count": 9,
   "metadata": {},
   "outputs": [],
   "source": [
    "my_favorite = ['Blade (1998)', 'GoldenEye (1995)', 'Die Hard (1988)', 'Raiders of the Lost Ark (1981)', 'Matrix, The (1999)']"
   ]
  },
  {
   "cell_type": "code",
   "execution_count": 10,
   "metadata": {},
   "outputs": [
    {
     "name": "stdout",
     "output_type": "stream",
     "text": [
      "2098    2167\n",
      "Name: movie_id, dtype: int64\n",
      "9    10\n",
      "Name: movie_id, dtype: int64\n",
      "1023    1036\n",
      "Name: movie_id, dtype: int64\n",
      "1180    1198\n",
      "Name: movie_id, dtype: int64\n",
      "2502    2571\n",
      "Name: movie_id, dtype: int64\n"
     ]
    }
   ],
   "source": [
    "my_favorite_movie_id = []\n",
    "for a in my_favorite:\n",
    "    ans = movies[movies['title'] == a]['movie_id']\n",
    "    my_favorite_movie_id.append(ans)\n",
    "    print(ans)"
   ]
  },
  {
   "cell_type": "code",
   "execution_count": 11,
   "metadata": {},
   "outputs": [],
   "source": [
    "my_favorite_movie_id = [2167, 10, 1036, 1198, 2571]"
   ]
  },
  {
   "cell_type": "code",
   "execution_count": 12,
   "metadata": {},
   "outputs": [
    {
     "data": {
      "text/html": [
       "<div>\n",
       "<style scoped>\n",
       "    .dataframe tbody tr th:only-of-type {\n",
       "        vertical-align: middle;\n",
       "    }\n",
       "\n",
       "    .dataframe tbody tr th {\n",
       "        vertical-align: top;\n",
       "    }\n",
       "\n",
       "    .dataframe thead th {\n",
       "        text-align: right;\n",
       "    }\n",
       "</style>\n",
       "<table border=\"1\" class=\"dataframe\">\n",
       "  <thead>\n",
       "    <tr style=\"text-align: right;\">\n",
       "      <th></th>\n",
       "      <th>user_id</th>\n",
       "      <th>num</th>\n",
       "      <th>movie_id</th>\n",
       "    </tr>\n",
       "  </thead>\n",
       "  <tbody>\n",
       "    <tr>\n",
       "      <th>0</th>\n",
       "      <td>6041</td>\n",
       "      <td>5</td>\n",
       "      <td>2167</td>\n",
       "    </tr>\n",
       "    <tr>\n",
       "      <th>1</th>\n",
       "      <td>6041</td>\n",
       "      <td>5</td>\n",
       "      <td>10</td>\n",
       "    </tr>\n",
       "    <tr>\n",
       "      <th>2</th>\n",
       "      <td>6041</td>\n",
       "      <td>5</td>\n",
       "      <td>1036</td>\n",
       "    </tr>\n",
       "    <tr>\n",
       "      <th>3</th>\n",
       "      <td>6041</td>\n",
       "      <td>5</td>\n",
       "      <td>1198</td>\n",
       "    </tr>\n",
       "    <tr>\n",
       "      <th>4</th>\n",
       "      <td>6041</td>\n",
       "      <td>5</td>\n",
       "      <td>2571</td>\n",
       "    </tr>\n",
       "  </tbody>\n",
       "</table>\n",
       "</div>"
      ],
      "text/plain": [
       "   user_id  num  movie_id\n",
       "0     6041    5      2167\n",
       "1     6041    5        10\n",
       "2     6041    5      1036\n",
       "3     6041    5      1198\n",
       "4     6041    5      2571"
      ]
     },
     "execution_count": 12,
     "metadata": {},
     "output_type": "execute_result"
    }
   ],
   "source": [
    "my_playlist = pd.DataFrame({'user_id': [6041]*5, 'num': 5, 'movie_id' : my_favorite_movie_id})\n",
    "my_playlist"
   ]
  },
  {
   "cell_type": "code",
   "execution_count": 13,
   "metadata": {},
   "outputs": [],
   "source": [
    "matrix = pd.concat([ratings, my_playlist])\n",
    "matrix.tail(10)\n",
    "del matrix['timestamp']"
   ]
  },
  {
   "cell_type": "code",
   "execution_count": 14,
   "metadata": {},
   "outputs": [],
   "source": [
    "# 고유한 유저, 아티스트를 찾아내는 코드\n",
    "user_unique = matrix['user_id'].unique()\n",
    "movie_unique = matrix['movie_id'].unique()\n",
    "\n",
    "# 유저, 아티스트 indexing 하는 코드 idx는 index의 약자입니다.\n",
    "user_to_idx = {v:k for k,v in enumerate(user_unique)}\n",
    "movie_to_idx = {v:k for k,v in enumerate(movie_unique)}"
   ]
  },
  {
   "cell_type": "code",
   "execution_count": 15,
   "metadata": {},
   "outputs": [
    {
     "name": "stdout",
     "output_type": "stream",
     "text": [
      "user_id column indexing OK!!\n",
      "movie column indexing OK!!\n"
     ]
    },
    {
     "data": {
      "text/html": [
       "<div>\n",
       "<style scoped>\n",
       "    .dataframe tbody tr th:only-of-type {\n",
       "        vertical-align: middle;\n",
       "    }\n",
       "\n",
       "    .dataframe tbody tr th {\n",
       "        vertical-align: top;\n",
       "    }\n",
       "\n",
       "    .dataframe thead th {\n",
       "        text-align: right;\n",
       "    }\n",
       "</style>\n",
       "<table border=\"1\" class=\"dataframe\">\n",
       "  <thead>\n",
       "    <tr style=\"text-align: right;\">\n",
       "      <th></th>\n",
       "      <th>user_id</th>\n",
       "      <th>movie_id</th>\n",
       "      <th>num</th>\n",
       "    </tr>\n",
       "  </thead>\n",
       "  <tbody>\n",
       "    <tr>\n",
       "      <th>0</th>\n",
       "      <td>0</td>\n",
       "      <td>0</td>\n",
       "      <td>5</td>\n",
       "    </tr>\n",
       "    <tr>\n",
       "      <th>1</th>\n",
       "      <td>0</td>\n",
       "      <td>1</td>\n",
       "      <td>3</td>\n",
       "    </tr>\n",
       "    <tr>\n",
       "      <th>2</th>\n",
       "      <td>0</td>\n",
       "      <td>2</td>\n",
       "      <td>3</td>\n",
       "    </tr>\n",
       "    <tr>\n",
       "      <th>3</th>\n",
       "      <td>0</td>\n",
       "      <td>3</td>\n",
       "      <td>4</td>\n",
       "    </tr>\n",
       "    <tr>\n",
       "      <th>4</th>\n",
       "      <td>0</td>\n",
       "      <td>4</td>\n",
       "      <td>5</td>\n",
       "    </tr>\n",
       "    <tr>\n",
       "      <th>...</th>\n",
       "      <td>...</td>\n",
       "      <td>...</td>\n",
       "      <td>...</td>\n",
       "    </tr>\n",
       "    <tr>\n",
       "      <th>0</th>\n",
       "      <td>6039</td>\n",
       "      <td>174</td>\n",
       "      <td>5</td>\n",
       "    </tr>\n",
       "    <tr>\n",
       "      <th>1</th>\n",
       "      <td>6039</td>\n",
       "      <td>766</td>\n",
       "      <td>5</td>\n",
       "    </tr>\n",
       "    <tr>\n",
       "      <th>2</th>\n",
       "      <td>6039</td>\n",
       "      <td>194</td>\n",
       "      <td>5</td>\n",
       "    </tr>\n",
       "    <tr>\n",
       "      <th>3</th>\n",
       "      <td>6039</td>\n",
       "      <td>120</td>\n",
       "      <td>5</td>\n",
       "    </tr>\n",
       "    <tr>\n",
       "      <th>4</th>\n",
       "      <td>6039</td>\n",
       "      <td>124</td>\n",
       "      <td>5</td>\n",
       "    </tr>\n",
       "  </tbody>\n",
       "</table>\n",
       "<p>836483 rows × 3 columns</p>\n",
       "</div>"
      ],
      "text/plain": [
       "    user_id  movie_id  num\n",
       "0         0         0    5\n",
       "1         0         1    3\n",
       "2         0         2    3\n",
       "3         0         3    4\n",
       "4         0         4    5\n",
       "..      ...       ...  ...\n",
       "0      6039       174    5\n",
       "1      6039       766    5\n",
       "2      6039       194    5\n",
       "3      6039       120    5\n",
       "4      6039       124    5\n",
       "\n",
       "[836483 rows x 3 columns]"
      ]
     },
     "execution_count": 15,
     "metadata": {},
     "output_type": "execute_result"
    }
   ],
   "source": [
    "temp_user_data = matrix['user_id'].map(user_to_idx.get).dropna()\n",
    "if len(temp_user_data) == len(matrix):   # 모든 row가 정상적으로 인덱싱되었다면\n",
    "    print('user_id column indexing OK!!')\n",
    "    matrix['user_id'] = temp_user_data   # data['user_id']을 인덱싱된 Series로 교체해 줍니다. \n",
    "else:\n",
    "    print('user_id column indexing Fail!!')\n",
    "\n",
    "# artist_to_idx을 통해 artist 컬럼도 동일한 방식으로 인덱싱해 줍니다. \n",
    "temp_movie_data = matrix['movie_id'].map(movie_to_idx.get).dropna()\n",
    "if len(temp_movie_data) == len(matrix):\n",
    "    print('movie column indexing OK!!')\n",
    "    matrix['movie_id'] = temp_movie_data\n",
    "else:\n",
    "    print('artist column indexing Fail!!')\n",
    "\n",
    "matrix"
   ]
  },
  {
   "cell_type": "code",
   "execution_count": 16,
   "metadata": {},
   "outputs": [
    {
     "data": {
      "text/plain": [
       "<6040x3628 sparse matrix of type '<class 'numpy.int64'>'\n",
       "\twith 836483 stored elements in Compressed Sparse Row format>"
      ]
     },
     "execution_count": 16,
     "metadata": {},
     "output_type": "execute_result"
    }
   ],
   "source": [
    "from scipy.sparse import csr_matrix\n",
    "\n",
    "num_user = matrix['user_id'].nunique()\n",
    "num_movie = matrix['movie_id'].nunique()\n",
    "\n",
    "csr_data = csr_matrix((matrix.num, (matrix.user_id, matrix.movie_id)), shape= (num_user, num_movie))\n",
    "csr_data"
   ]
  },
  {
   "cell_type": "code",
   "execution_count": 17,
   "metadata": {},
   "outputs": [
    {
     "data": {
      "text/plain": [
       "<bound method DataFrame.count of     user_id  movie_id  num\n",
       "0         0         0    5\n",
       "1         0         1    3\n",
       "2         0         2    3\n",
       "3         0         3    4\n",
       "4         0         4    5\n",
       "..      ...       ...  ...\n",
       "0      6039       174    5\n",
       "1      6039       766    5\n",
       "2      6039       194    5\n",
       "3      6039       120    5\n",
       "4      6039       124    5\n",
       "\n",
       "[836483 rows x 3 columns]>"
      ]
     },
     "execution_count": 17,
     "metadata": {},
     "output_type": "execute_result"
    }
   ],
   "source": [
    "matrix.count"
   ]
  },
  {
   "cell_type": "code",
   "execution_count": 18,
   "metadata": {},
   "outputs": [
    {
     "name": "stdout",
     "output_type": "stream",
     "text": [
      "<class 'pandas.core.frame.DataFrame'>\n",
      "Int64Index: 836478 entries, 0 to 1000208\n",
      "Data columns (total 4 columns):\n",
      " #   Column     Non-Null Count   Dtype\n",
      "---  ------     --------------   -----\n",
      " 0   user_id    836478 non-null  int64\n",
      " 1   movie_id   836478 non-null  int64\n",
      " 2   num        836478 non-null  int64\n",
      " 3   timestamp  836478 non-null  int64\n",
      "dtypes: int64(4)\n",
      "memory usage: 31.9 MB\n"
     ]
    }
   ],
   "source": [
    "ratings.info()"
   ]
  },
  {
   "cell_type": "code",
   "execution_count": 19,
   "metadata": {},
   "outputs": [],
   "source": [
    "from implicit.als import AlternatingLeastSquares\n",
    "import os\n",
    "import numpy as np\n",
    "\n",
    "# implicit 라이브러리에서 권장하고 있는 부분입니다. 학습 내용과는 무관합니다.\n",
    "os.environ['OPENBLAS_NUM_THREADS']='1'\n",
    "os.environ['KMP_DUPLICATE_LIB_OK']='True'\n",
    "os.environ['MKL_NUM_THREADS']='1'"
   ]
  },
  {
   "cell_type": "code",
   "execution_count": 20,
   "metadata": {},
   "outputs": [],
   "source": [
    "als_model = AlternatingLeastSquares(factors=100, regularization=0.01, use_gpu=False, iterations=15, dtype=np.float32)"
   ]
  },
  {
   "cell_type": "code",
   "execution_count": 21,
   "metadata": {},
   "outputs": [
    {
     "data": {
      "text/plain": [
       "<3628x6040 sparse matrix of type '<class 'numpy.int64'>'\n",
       "\twith 836483 stored elements in Compressed Sparse Column format>"
      ]
     },
     "execution_count": 21,
     "metadata": {},
     "output_type": "execute_result"
    }
   ],
   "source": [
    "csr_data_transpose = csr_data.T\n",
    "csr_data_transpose"
   ]
  },
  {
   "cell_type": "code",
   "execution_count": 22,
   "metadata": {},
   "outputs": [
    {
     "data": {
      "application/vnd.jupyter.widget-view+json": {
       "model_id": "87d6a0c632254b3fa43a4f4957e0db00",
       "version_major": 2,
       "version_minor": 0
      },
      "text/plain": [
       "HBox(children=(FloatProgress(value=0.0, max=15.0), HTML(value='')))"
      ]
     },
     "metadata": {},
     "output_type": "display_data"
    },
    {
     "name": "stdout",
     "output_type": "stream",
     "text": [
      "\n"
     ]
    }
   ],
   "source": [
    "als_model.fit(csr_data_transpose)"
   ]
  },
  {
   "cell_type": "code",
   "execution_count": 23,
   "metadata": {},
   "outputs": [],
   "source": [
    "yb, DH = user_to_idx[6041], movie_to_idx[1036]\n",
    "yb_vector, DH_vector = als_model.user_factors[yb], als_model.item_factors[DH]\n"
   ]
  },
  {
   "cell_type": "code",
   "execution_count": 24,
   "metadata": {},
   "outputs": [
    {
     "data": {
      "text/plain": [
       "array([-0.29932597,  0.9283609 ,  1.023103  , -0.7722561 , -0.23729199,\n",
       "       -0.11008844, -0.1581727 ,  0.4342204 , -0.2744641 , -0.3557448 ,\n",
       "       -0.17221062, -0.00703315,  0.41097468,  0.818961  , -0.09599485,\n",
       "        0.60233444,  0.6443691 ,  0.89599794, -0.5419207 , -0.18859406,\n",
       "        0.15673783,  0.09297113,  0.04493131,  0.44475615, -0.099811  ,\n",
       "        0.35150024, -0.1513979 ,  0.23466541, -1.0120753 ,  0.88326097,\n",
       "        0.90294987,  0.6593593 , -0.34638086,  0.28650638, -0.33841744,\n",
       "        0.3312461 , -0.64576703, -0.11461654,  0.61357844, -0.4899233 ,\n",
       "        0.7843154 , -0.00468509, -0.10940877,  0.2331701 , -0.20803158,\n",
       "        0.22057885,  0.4990506 ,  0.30316976,  0.72897834,  0.5275617 ,\n",
       "        0.22241141, -0.59207946, -0.19727807, -0.5307408 , -0.9829467 ,\n",
       "       -1.2285731 , -0.65077376, -0.4243282 ,  0.6361243 , -0.7268025 ,\n",
       "        0.14457211, -0.01808147,  0.00589072,  0.10085419, -0.06238931,\n",
       "        0.9746168 ,  0.06978201,  0.14922017, -0.34038234,  0.44900778,\n",
       "        0.8455423 , -0.7649932 ,  0.24592607, -0.03367121,  0.085474  ,\n",
       "       -0.03770835, -0.4219595 , -0.45085084, -0.7981388 ,  0.36736092,\n",
       "        0.10448931,  0.18156064, -0.4950646 ,  0.20660919,  0.31138447,\n",
       "       -0.70289326, -0.3895353 , -0.15917848, -0.1130552 ,  0.87946796,\n",
       "       -1.1189609 , -0.73530203, -0.35766062,  0.31803995, -0.1652173 ,\n",
       "        0.2623762 ,  0.02799265, -0.10553981,  0.17469873,  0.54773504],\n",
       "      dtype=float32)"
      ]
     },
     "execution_count": 24,
     "metadata": {},
     "output_type": "execute_result"
    }
   ],
   "source": [
    "yb_vector"
   ]
  },
  {
   "cell_type": "code",
   "execution_count": 25,
   "metadata": {},
   "outputs": [
    {
     "data": {
      "text/plain": [
       "array([ 0.0131229 ,  0.02054163,  0.00252338, -0.01636476, -0.00355286,\n",
       "        0.00139825, -0.00743355,  0.02705442, -0.03189367, -0.01053684,\n",
       "       -0.01476574,  0.01684297,  0.01780818,  0.02739183, -0.01111834,\n",
       "        0.02907916,  0.01862744,  0.01065291, -0.01322952, -0.02443216,\n",
       "       -0.01088474,  0.01072131, -0.0053929 ,  0.01630711,  0.00824364,\n",
       "        0.01752654,  0.01039477,  0.00976697,  0.00029497, -0.00208213,\n",
       "        0.03434581,  0.03874246,  0.00336395,  0.00400394,  0.00279335,\n",
       "        0.01612006, -0.01566236,  0.00474388, -0.00146738, -0.00899119,\n",
       "        0.0084745 ,  0.01347997, -0.0022108 , -0.00107829,  0.01056064,\n",
       "       -0.00703388,  0.00413245,  0.02746085,  0.03508498,  0.02711458,\n",
       "        0.03246763,  0.0070092 ,  0.0133503 , -0.00931301, -0.02950811,\n",
       "        0.00107794, -0.01217131, -0.00487335,  0.0247417 ,  0.01243615,\n",
       "        0.02711762,  0.0052835 ,  0.00784851,  0.02754832, -0.00671674,\n",
       "       -0.00336301, -0.00021953, -0.00571869,  0.00252665,  0.00862449,\n",
       "        0.02154185, -0.00741971,  0.0130767 , -0.00604786,  0.00749456,\n",
       "        0.00661136,  0.01290065, -0.00114309, -0.00135713,  0.00279641,\n",
       "       -0.00737791,  0.02597095, -0.01486138, -0.01701528, -0.00845835,\n",
       "       -0.03308761,  0.02668045, -0.00524674,  0.01173796,  0.02216337,\n",
       "       -0.01087674, -0.00790809,  0.01390498,  0.01741073, -0.00186498,\n",
       "        0.02150695,  0.02968288,  0.00845786, -0.00083463,  0.00427172],\n",
       "      dtype=float32)"
      ]
     },
     "execution_count": 25,
     "metadata": {},
     "output_type": "execute_result"
    }
   ],
   "source": [
    "DH_vector"
   ]
  },
  {
   "cell_type": "code",
   "execution_count": 26,
   "metadata": {},
   "outputs": [
    {
     "data": {
      "text/plain": [
       "0.42209977"
      ]
     },
     "execution_count": 26,
     "metadata": {},
     "output_type": "execute_result"
    }
   ],
   "source": [
    "np.dot(yb_vector, DH_vector)"
   ]
  },
  {
   "cell_type": "markdown",
   "metadata": {},
   "source": [
    "### 내가 좋아하는 영화 5개를 넣고 돌렸으며 그 중 다이하드의 csr_matrix를 구하고 내적하지 42.2%의 일치율이 나타났다."
   ]
  },
  {
   "cell_type": "markdown",
   "metadata": {},
   "source": [
    "## Matrix와 비슷한 영화 찾기"
   ]
  },
  {
   "cell_type": "code",
   "execution_count": 31,
   "metadata": {},
   "outputs": [
    {
     "data": {
      "text/plain": [
       "[(124, 0.16781338),\n",
       " (92, 0.13310587),\n",
       " (62, 0.116115786),\n",
       " (141, 0.098923795),\n",
       " (200, 0.09786876),\n",
       " (145, 0.09153855),\n",
       " (107, 0.09082525),\n",
       " (175, 0.08515513),\n",
       " (375, 0.08288437),\n",
       " (317, 0.07596511),\n",
       " (75, 0.07295919),\n",
       " (44, 0.06591252),\n",
       " (117, 0.06336731),\n",
       " (236, 0.06109853),\n",
       " (372, 0.060823444)]"
      ]
     },
     "execution_count": 31,
     "metadata": {},
     "output_type": "execute_result"
    }
   ],
   "source": [
    "favorite_movie = 2571 # Matrix, The (1999)\n",
    "movie_id = movie_to_idx[favorite_movie]\n",
    "similar_movie = als_model.similar_items(movie_id, N=15)\n",
    "similar_movie"
   ]
  },
  {
   "cell_type": "code",
   "execution_count": 39,
   "metadata": {},
   "outputs": [
    {
     "name": "stdout",
     "output_type": "stream",
     "text": [
      "[2571, 589, 2916, 457, 1240, 1527, 480, 1580, 1573, 32, 1610, 260, 1196, 377, 3793]\n"
     ]
    }
   ],
   "source": [
    "idx_to_movie = {v:k for k,v in movie_to_idx.items()}\n",
    "movie_ids = [idx_to_movie[i[0]] for i in similar_movie]\n",
    "print(movie_ids)"
   ]
  },
  {
   "cell_type": "code",
   "execution_count": 38,
   "metadata": {},
   "outputs": [
    {
     "name": "stdout",
     "output_type": "stream",
     "text": [
      "2502    Matrix, The (1999)\n",
      "Name: title, dtype: object\n",
      "585    Terminator 2: Judgment Day (1991)\n",
      "Name: title, dtype: object\n",
      "2847    Total Recall (1990)\n",
      "Name: title, dtype: object\n",
      "453    Fugitive, The (1993)\n",
      "Name: title, dtype: object\n",
      "1220    Terminator, The (1984)\n",
      "Name: title, dtype: object\n",
      "1491    Fifth Element, The (1997)\n",
      "Name: title, dtype: object\n",
      "476    Jurassic Park (1993)\n",
      "Name: title, dtype: object\n",
      "1539    Men in Black (1997)\n",
      "Name: title, dtype: object\n",
      "1533    Face/Off (1997)\n",
      "Name: title, dtype: object\n",
      "31    Twelve Monkeys (1995)\n",
      "Name: title, dtype: object\n",
      "1568    Hunt for Red October, The (1990)\n",
      "Name: title, dtype: object\n",
      "257    Star Wars: Episode IV - A New Hope (1977)\n",
      "Name: title, dtype: object\n",
      "1178    Star Wars: Episode V - The Empire Strikes Back...\n",
      "Name: title, dtype: object\n",
      "373    Speed (1994)\n",
      "Name: title, dtype: object\n",
      "3724    X-Men (2000)\n",
      "Name: title, dtype: object\n"
     ]
    }
   ],
   "source": [
    "for a in movie_ids:\n",
    "    print(movies[movies['movie_id'] == a]['title'])"
   ]
  },
  {
   "cell_type": "markdown",
   "metadata": {},
   "source": [
    "### Matrix와 비슷한 영화를 찾으니 터미네이터2, 토탈리콜이 가장 유사하게 나왔다. 세 영화를 다 본 사람으로써 상당히 일리가 있는 결과값이라는 생각이 든다."
   ]
  },
  {
   "cell_type": "markdown",
   "metadata": {},
   "source": [
    "## 내 취향 저격인 영화 추천하기"
   ]
  },
  {
   "cell_type": "code",
   "execution_count": 40,
   "metadata": {},
   "outputs": [
    {
     "data": {
      "text/plain": [
       "[(172, 0.4966699),\n",
       " (200, 0.44015968),\n",
       " (117, 0.43875682),\n",
       " (44, 0.4122848),\n",
       " (92, 0.37262183),\n",
       " (141, 0.3459295),\n",
       " (64, 0.34288064),\n",
       " (179, 0.2914965),\n",
       " (62, 0.29137012),\n",
       " (651, 0.28643247),\n",
       " (75, 0.26272985),\n",
       " (710, 0.2610611),\n",
       " (193, 0.25360742),\n",
       " (378, 0.24068141),\n",
       " (188, 0.22846916),\n",
       " (5, 0.22176623),\n",
       " (111, 0.2124521),\n",
       " (156, 0.20870017),\n",
       " (48, 0.20754719),\n",
       " (197, 0.20518497)]"
      ]
     },
     "execution_count": 40,
     "metadata": {},
     "output_type": "execute_result"
    }
   ],
   "source": [
    "user = user_to_idx[6041]\n",
    "movie_recommended = als_model.recommend(user, csr_data, N=20, filter_already_liked_items=True)\n",
    "movie_recommended"
   ]
  },
  {
   "cell_type": "code",
   "execution_count": 42,
   "metadata": {},
   "outputs": [
    {
     "name": "stdout",
     "output_type": "stream",
     "text": [
      "1271    Indiana Jones and the Last Crusade (1989)\n",
      "Name: title, dtype: object\n",
      "1220    Terminator, The (1984)\n",
      "Name: title, dtype: object\n",
      "1178    Star Wars: Episode V - The Empire Strikes Back...\n",
      "Name: title, dtype: object\n",
      "257    Star Wars: Episode IV - A New Hope (1977)\n",
      "Name: title, dtype: object\n",
      "585    Terminator 2: Judgment Day (1991)\n",
      "Name: title, dtype: object\n",
      "453    Fugitive, The (1993)\n",
      "Name: title, dtype: object\n",
      "1192    Star Wars: Episode VI - Return of the Jedi (1983)\n",
      "Name: title, dtype: object\n",
      "724    Rock, The (1996)\n",
      "Name: title, dtype: object\n",
      "2847    Total Recall (1990)\n",
      "Name: title, dtype: object\n",
      "1182    Aliens (1986)\n",
      "Name: title, dtype: object\n",
      "1568    Hunt for Red October, The (1990)\n",
      "Name: title, dtype: object\n",
      "2548    Mummy, The (1999)\n",
      "Name: title, dtype: object\n",
      "1196    Alien (1979)\n",
      "Name: title, dtype: object\n",
      "1673    Tomorrow Never Dies (1997)\n",
      "Name: title, dtype: object\n",
      "2046    Indiana Jones and the Temple of Doom (1984)\n",
      "Name: title, dtype: object\n",
      "1179    Princess Bride, The (1987)\n",
      "Name: title, dtype: object\n",
      "1349    Die Hard 2 (1990)\n",
      "Name: title, dtype: object\n",
      "1937    Mask of Zorro, The (1998)\n",
      "Name: title, dtype: object\n",
      "1959    Saving Private Ryan (1998)\n",
      "Name: title, dtype: object\n",
      "1366    Jaws (1975)\n",
      "Name: title, dtype: object\n"
     ]
    }
   ],
   "source": [
    "movie_keys = [idx_to_movie[i[0]] for i in artist_recommended]\n",
    "for a in movie_keys:\n",
    "    print(movies[movies['movie_id'] == a]['title'])"
   ]
  },
  {
   "cell_type": "markdown",
   "metadata": {},
   "source": [
    "### 나에게 추천해준 영화는 인디아나존스2, 스타워즈 시리즈, 터미네티어시리즈, 더 록 토탈리콜, 에일리언 등을 추천했다. 개인적으로 다 재미이쎅 본 영화들이었고 추천 알고리즘이 잘 돌아간것 같아 뿌듯하다."
   ]
  },
  {
   "cell_type": "markdown",
   "metadata": {},
   "source": []
  }
 ],
 "metadata": {
  "kernelspec": {
   "display_name": "aiffel",
   "language": "python",
   "name": "aiffel"
  },
  "language_info": {
   "codemirror_mode": {
    "name": "ipython",
    "version": 3
   },
   "file_extension": ".py",
   "mimetype": "text/x-python",
   "name": "python",
   "nbconvert_exporter": "python",
   "pygments_lexer": "ipython3",
   "version": "3.7.6"
  }
 },
 "nbformat": 4,
 "nbformat_minor": 4
}
